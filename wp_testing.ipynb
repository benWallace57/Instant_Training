{
 "cells": [
  {
   "attachments": {},
   "cell_type": "markdown",
   "metadata": {},
   "source": [
    "# AI, Machine Learning and Python"
   ]
  },
  {
   "attachments": {},
   "cell_type": "markdown",
   "metadata": {},
   "source": [
    "To learn about AI and machine learning, first we want to remind everyone of how functions work in python"
   ]
  },
  {
   "cell_type": "code",
   "execution_count": 1,
   "metadata": {},
   "outputs": [],
   "source": [
    "# This is a very simple function that works out percentages.\n",
    "# You pass it in two numbers, called parameters. These represent the numerator and denominator of a fraction.\n",
    "# Some simple maths is done, and the fraction is returned.  \n",
    "\n",
    "def calculate_percentage(numerator, denominator):\n",
    "    fraction = numerator / denominator\n",
    "    return fraction * 100\n",
    "\n",
    "# When you run this code snippet nothing will happen, you need to call the function for it to return you something."
   ]
  },
  {
   "cell_type": "code",
   "execution_count": 2,
   "metadata": {},
   "outputs": [
    {
     "data": {
      "text/plain": [
       "10.0"
      ]
     },
     "execution_count": 2,
     "metadata": {},
     "output_type": "execute_result"
    }
   ],
   "source": [
    "calculate_percentage(20,200)"
   ]
  },
  {
   "attachments": {},
   "cell_type": "markdown",
   "metadata": {},
   "source": [
    "A lot of the code we are about to use uses functions. We get these functions from libraries which we can import."
   ]
  },
  {
   "cell_type": "code",
   "execution_count": 3,
   "metadata": {},
   "outputs": [],
   "source": [
    "from sklearn.datasets import load_breast_cancer\n",
    "import pandas as pd\n",
    "import matplotlib.pyplot as plt\n",
    "import plotly.express as px\n"
   ]
  },
  {
   "cell_type": "code",
   "execution_count": 4,
   "metadata": {},
   "outputs": [],
   "source": [
    "# We are about to use the load_breast_cancer function from sklearn to learn about \n",
    "# This line calls the function to return:\n",
    "\n",
    "#breast_cancer_inputs  - This is the raw data containing information about different breast cancer screenings\n",
    "#breast_cancer_outputs - This contains the classification of whether each screening is identified as being breast cancer\n",
    "\n",
    "breast_cancer_inputs, breast_cancer_outputs = load_breast_cancer(return_X_y=True, as_frame=True) "
   ]
  },
  {
   "cell_type": "code",
   "execution_count": 5,
   "metadata": {},
   "outputs": [
    {
     "data": {
      "text/html": [
       "<div>\n",
       "<style scoped>\n",
       "    .dataframe tbody tr th:only-of-type {\n",
       "        vertical-align: middle;\n",
       "    }\n",
       "\n",
       "    .dataframe tbody tr th {\n",
       "        vertical-align: top;\n",
       "    }\n",
       "\n",
       "    .dataframe thead th {\n",
       "        text-align: right;\n",
       "    }\n",
       "</style>\n",
       "<table border=\"1\" class=\"dataframe\">\n",
       "  <thead>\n",
       "    <tr style=\"text-align: right;\">\n",
       "      <th></th>\n",
       "      <th>mean radius</th>\n",
       "      <th>mean texture</th>\n",
       "      <th>mean perimeter</th>\n",
       "      <th>mean area</th>\n",
       "      <th>mean smoothness</th>\n",
       "      <th>mean compactness</th>\n",
       "      <th>mean concavity</th>\n",
       "      <th>mean concave points</th>\n",
       "      <th>mean symmetry</th>\n",
       "      <th>mean fractal dimension</th>\n",
       "      <th>...</th>\n",
       "      <th>worst radius</th>\n",
       "      <th>worst texture</th>\n",
       "      <th>worst perimeter</th>\n",
       "      <th>worst area</th>\n",
       "      <th>worst smoothness</th>\n",
       "      <th>worst compactness</th>\n",
       "      <th>worst concavity</th>\n",
       "      <th>worst concave points</th>\n",
       "      <th>worst symmetry</th>\n",
       "      <th>worst fractal dimension</th>\n",
       "    </tr>\n",
       "  </thead>\n",
       "  <tbody>\n",
       "    <tr>\n",
       "      <th>0</th>\n",
       "      <td>17.99</td>\n",
       "      <td>10.38</td>\n",
       "      <td>122.80</td>\n",
       "      <td>1001.0</td>\n",
       "      <td>0.11840</td>\n",
       "      <td>0.27760</td>\n",
       "      <td>0.30010</td>\n",
       "      <td>0.14710</td>\n",
       "      <td>0.2419</td>\n",
       "      <td>0.07871</td>\n",
       "      <td>...</td>\n",
       "      <td>25.380</td>\n",
       "      <td>17.33</td>\n",
       "      <td>184.60</td>\n",
       "      <td>2019.0</td>\n",
       "      <td>0.16220</td>\n",
       "      <td>0.66560</td>\n",
       "      <td>0.7119</td>\n",
       "      <td>0.2654</td>\n",
       "      <td>0.4601</td>\n",
       "      <td>0.11890</td>\n",
       "    </tr>\n",
       "    <tr>\n",
       "      <th>1</th>\n",
       "      <td>20.57</td>\n",
       "      <td>17.77</td>\n",
       "      <td>132.90</td>\n",
       "      <td>1326.0</td>\n",
       "      <td>0.08474</td>\n",
       "      <td>0.07864</td>\n",
       "      <td>0.08690</td>\n",
       "      <td>0.07017</td>\n",
       "      <td>0.1812</td>\n",
       "      <td>0.05667</td>\n",
       "      <td>...</td>\n",
       "      <td>24.990</td>\n",
       "      <td>23.41</td>\n",
       "      <td>158.80</td>\n",
       "      <td>1956.0</td>\n",
       "      <td>0.12380</td>\n",
       "      <td>0.18660</td>\n",
       "      <td>0.2416</td>\n",
       "      <td>0.1860</td>\n",
       "      <td>0.2750</td>\n",
       "      <td>0.08902</td>\n",
       "    </tr>\n",
       "    <tr>\n",
       "      <th>2</th>\n",
       "      <td>19.69</td>\n",
       "      <td>21.25</td>\n",
       "      <td>130.00</td>\n",
       "      <td>1203.0</td>\n",
       "      <td>0.10960</td>\n",
       "      <td>0.15990</td>\n",
       "      <td>0.19740</td>\n",
       "      <td>0.12790</td>\n",
       "      <td>0.2069</td>\n",
       "      <td>0.05999</td>\n",
       "      <td>...</td>\n",
       "      <td>23.570</td>\n",
       "      <td>25.53</td>\n",
       "      <td>152.50</td>\n",
       "      <td>1709.0</td>\n",
       "      <td>0.14440</td>\n",
       "      <td>0.42450</td>\n",
       "      <td>0.4504</td>\n",
       "      <td>0.2430</td>\n",
       "      <td>0.3613</td>\n",
       "      <td>0.08758</td>\n",
       "    </tr>\n",
       "    <tr>\n",
       "      <th>3</th>\n",
       "      <td>11.42</td>\n",
       "      <td>20.38</td>\n",
       "      <td>77.58</td>\n",
       "      <td>386.1</td>\n",
       "      <td>0.14250</td>\n",
       "      <td>0.28390</td>\n",
       "      <td>0.24140</td>\n",
       "      <td>0.10520</td>\n",
       "      <td>0.2597</td>\n",
       "      <td>0.09744</td>\n",
       "      <td>...</td>\n",
       "      <td>14.910</td>\n",
       "      <td>26.50</td>\n",
       "      <td>98.87</td>\n",
       "      <td>567.7</td>\n",
       "      <td>0.20980</td>\n",
       "      <td>0.86630</td>\n",
       "      <td>0.6869</td>\n",
       "      <td>0.2575</td>\n",
       "      <td>0.6638</td>\n",
       "      <td>0.17300</td>\n",
       "    </tr>\n",
       "    <tr>\n",
       "      <th>4</th>\n",
       "      <td>20.29</td>\n",
       "      <td>14.34</td>\n",
       "      <td>135.10</td>\n",
       "      <td>1297.0</td>\n",
       "      <td>0.10030</td>\n",
       "      <td>0.13280</td>\n",
       "      <td>0.19800</td>\n",
       "      <td>0.10430</td>\n",
       "      <td>0.1809</td>\n",
       "      <td>0.05883</td>\n",
       "      <td>...</td>\n",
       "      <td>22.540</td>\n",
       "      <td>16.67</td>\n",
       "      <td>152.20</td>\n",
       "      <td>1575.0</td>\n",
       "      <td>0.13740</td>\n",
       "      <td>0.20500</td>\n",
       "      <td>0.4000</td>\n",
       "      <td>0.1625</td>\n",
       "      <td>0.2364</td>\n",
       "      <td>0.07678</td>\n",
       "    </tr>\n",
       "    <tr>\n",
       "      <th>...</th>\n",
       "      <td>...</td>\n",
       "      <td>...</td>\n",
       "      <td>...</td>\n",
       "      <td>...</td>\n",
       "      <td>...</td>\n",
       "      <td>...</td>\n",
       "      <td>...</td>\n",
       "      <td>...</td>\n",
       "      <td>...</td>\n",
       "      <td>...</td>\n",
       "      <td>...</td>\n",
       "      <td>...</td>\n",
       "      <td>...</td>\n",
       "      <td>...</td>\n",
       "      <td>...</td>\n",
       "      <td>...</td>\n",
       "      <td>...</td>\n",
       "      <td>...</td>\n",
       "      <td>...</td>\n",
       "      <td>...</td>\n",
       "      <td>...</td>\n",
       "    </tr>\n",
       "    <tr>\n",
       "      <th>564</th>\n",
       "      <td>21.56</td>\n",
       "      <td>22.39</td>\n",
       "      <td>142.00</td>\n",
       "      <td>1479.0</td>\n",
       "      <td>0.11100</td>\n",
       "      <td>0.11590</td>\n",
       "      <td>0.24390</td>\n",
       "      <td>0.13890</td>\n",
       "      <td>0.1726</td>\n",
       "      <td>0.05623</td>\n",
       "      <td>...</td>\n",
       "      <td>25.450</td>\n",
       "      <td>26.40</td>\n",
       "      <td>166.10</td>\n",
       "      <td>2027.0</td>\n",
       "      <td>0.14100</td>\n",
       "      <td>0.21130</td>\n",
       "      <td>0.4107</td>\n",
       "      <td>0.2216</td>\n",
       "      <td>0.2060</td>\n",
       "      <td>0.07115</td>\n",
       "    </tr>\n",
       "    <tr>\n",
       "      <th>565</th>\n",
       "      <td>20.13</td>\n",
       "      <td>28.25</td>\n",
       "      <td>131.20</td>\n",
       "      <td>1261.0</td>\n",
       "      <td>0.09780</td>\n",
       "      <td>0.10340</td>\n",
       "      <td>0.14400</td>\n",
       "      <td>0.09791</td>\n",
       "      <td>0.1752</td>\n",
       "      <td>0.05533</td>\n",
       "      <td>...</td>\n",
       "      <td>23.690</td>\n",
       "      <td>38.25</td>\n",
       "      <td>155.00</td>\n",
       "      <td>1731.0</td>\n",
       "      <td>0.11660</td>\n",
       "      <td>0.19220</td>\n",
       "      <td>0.3215</td>\n",
       "      <td>0.1628</td>\n",
       "      <td>0.2572</td>\n",
       "      <td>0.06637</td>\n",
       "    </tr>\n",
       "    <tr>\n",
       "      <th>566</th>\n",
       "      <td>16.60</td>\n",
       "      <td>28.08</td>\n",
       "      <td>108.30</td>\n",
       "      <td>858.1</td>\n",
       "      <td>0.08455</td>\n",
       "      <td>0.10230</td>\n",
       "      <td>0.09251</td>\n",
       "      <td>0.05302</td>\n",
       "      <td>0.1590</td>\n",
       "      <td>0.05648</td>\n",
       "      <td>...</td>\n",
       "      <td>18.980</td>\n",
       "      <td>34.12</td>\n",
       "      <td>126.70</td>\n",
       "      <td>1124.0</td>\n",
       "      <td>0.11390</td>\n",
       "      <td>0.30940</td>\n",
       "      <td>0.3403</td>\n",
       "      <td>0.1418</td>\n",
       "      <td>0.2218</td>\n",
       "      <td>0.07820</td>\n",
       "    </tr>\n",
       "    <tr>\n",
       "      <th>567</th>\n",
       "      <td>20.60</td>\n",
       "      <td>29.33</td>\n",
       "      <td>140.10</td>\n",
       "      <td>1265.0</td>\n",
       "      <td>0.11780</td>\n",
       "      <td>0.27700</td>\n",
       "      <td>0.35140</td>\n",
       "      <td>0.15200</td>\n",
       "      <td>0.2397</td>\n",
       "      <td>0.07016</td>\n",
       "      <td>...</td>\n",
       "      <td>25.740</td>\n",
       "      <td>39.42</td>\n",
       "      <td>184.60</td>\n",
       "      <td>1821.0</td>\n",
       "      <td>0.16500</td>\n",
       "      <td>0.86810</td>\n",
       "      <td>0.9387</td>\n",
       "      <td>0.2650</td>\n",
       "      <td>0.4087</td>\n",
       "      <td>0.12400</td>\n",
       "    </tr>\n",
       "    <tr>\n",
       "      <th>568</th>\n",
       "      <td>7.76</td>\n",
       "      <td>24.54</td>\n",
       "      <td>47.92</td>\n",
       "      <td>181.0</td>\n",
       "      <td>0.05263</td>\n",
       "      <td>0.04362</td>\n",
       "      <td>0.00000</td>\n",
       "      <td>0.00000</td>\n",
       "      <td>0.1587</td>\n",
       "      <td>0.05884</td>\n",
       "      <td>...</td>\n",
       "      <td>9.456</td>\n",
       "      <td>30.37</td>\n",
       "      <td>59.16</td>\n",
       "      <td>268.6</td>\n",
       "      <td>0.08996</td>\n",
       "      <td>0.06444</td>\n",
       "      <td>0.0000</td>\n",
       "      <td>0.0000</td>\n",
       "      <td>0.2871</td>\n",
       "      <td>0.07039</td>\n",
       "    </tr>\n",
       "  </tbody>\n",
       "</table>\n",
       "<p>569 rows × 30 columns</p>\n",
       "</div>"
      ],
      "text/plain": [
       "     mean radius  mean texture  mean perimeter  mean area  mean smoothness  \\\n",
       "0          17.99         10.38          122.80     1001.0          0.11840   \n",
       "1          20.57         17.77          132.90     1326.0          0.08474   \n",
       "2          19.69         21.25          130.00     1203.0          0.10960   \n",
       "3          11.42         20.38           77.58      386.1          0.14250   \n",
       "4          20.29         14.34          135.10     1297.0          0.10030   \n",
       "..           ...           ...             ...        ...              ...   \n",
       "564        21.56         22.39          142.00     1479.0          0.11100   \n",
       "565        20.13         28.25          131.20     1261.0          0.09780   \n",
       "566        16.60         28.08          108.30      858.1          0.08455   \n",
       "567        20.60         29.33          140.10     1265.0          0.11780   \n",
       "568         7.76         24.54           47.92      181.0          0.05263   \n",
       "\n",
       "     mean compactness  mean concavity  mean concave points  mean symmetry  \\\n",
       "0             0.27760         0.30010              0.14710         0.2419   \n",
       "1             0.07864         0.08690              0.07017         0.1812   \n",
       "2             0.15990         0.19740              0.12790         0.2069   \n",
       "3             0.28390         0.24140              0.10520         0.2597   \n",
       "4             0.13280         0.19800              0.10430         0.1809   \n",
       "..                ...             ...                  ...            ...   \n",
       "564           0.11590         0.24390              0.13890         0.1726   \n",
       "565           0.10340         0.14400              0.09791         0.1752   \n",
       "566           0.10230         0.09251              0.05302         0.1590   \n",
       "567           0.27700         0.35140              0.15200         0.2397   \n",
       "568           0.04362         0.00000              0.00000         0.1587   \n",
       "\n",
       "     mean fractal dimension  ...  worst radius  worst texture  \\\n",
       "0                   0.07871  ...        25.380          17.33   \n",
       "1                   0.05667  ...        24.990          23.41   \n",
       "2                   0.05999  ...        23.570          25.53   \n",
       "3                   0.09744  ...        14.910          26.50   \n",
       "4                   0.05883  ...        22.540          16.67   \n",
       "..                      ...  ...           ...            ...   \n",
       "564                 0.05623  ...        25.450          26.40   \n",
       "565                 0.05533  ...        23.690          38.25   \n",
       "566                 0.05648  ...        18.980          34.12   \n",
       "567                 0.07016  ...        25.740          39.42   \n",
       "568                 0.05884  ...         9.456          30.37   \n",
       "\n",
       "     worst perimeter  worst area  worst smoothness  worst compactness  \\\n",
       "0             184.60      2019.0           0.16220            0.66560   \n",
       "1             158.80      1956.0           0.12380            0.18660   \n",
       "2             152.50      1709.0           0.14440            0.42450   \n",
       "3              98.87       567.7           0.20980            0.86630   \n",
       "4             152.20      1575.0           0.13740            0.20500   \n",
       "..               ...         ...               ...                ...   \n",
       "564           166.10      2027.0           0.14100            0.21130   \n",
       "565           155.00      1731.0           0.11660            0.19220   \n",
       "566           126.70      1124.0           0.11390            0.30940   \n",
       "567           184.60      1821.0           0.16500            0.86810   \n",
       "568            59.16       268.6           0.08996            0.06444   \n",
       "\n",
       "     worst concavity  worst concave points  worst symmetry  \\\n",
       "0             0.7119                0.2654          0.4601   \n",
       "1             0.2416                0.1860          0.2750   \n",
       "2             0.4504                0.2430          0.3613   \n",
       "3             0.6869                0.2575          0.6638   \n",
       "4             0.4000                0.1625          0.2364   \n",
       "..               ...                   ...             ...   \n",
       "564           0.4107                0.2216          0.2060   \n",
       "565           0.3215                0.1628          0.2572   \n",
       "566           0.3403                0.1418          0.2218   \n",
       "567           0.9387                0.2650          0.4087   \n",
       "568           0.0000                0.0000          0.2871   \n",
       "\n",
       "     worst fractal dimension  \n",
       "0                    0.11890  \n",
       "1                    0.08902  \n",
       "2                    0.08758  \n",
       "3                    0.17300  \n",
       "4                    0.07678  \n",
       "..                       ...  \n",
       "564                  0.07115  \n",
       "565                  0.06637  \n",
       "566                  0.07820  \n",
       "567                  0.12400  \n",
       "568                  0.07039  \n",
       "\n",
       "[569 rows x 30 columns]"
      ]
     },
     "metadata": {},
     "output_type": "display_data"
    }
   ],
   "source": [
    "# What does the data look like?\n",
    "display(breast_cancer_inputs)"
   ]
  },
  {
   "attachments": {},
   "cell_type": "markdown",
   "metadata": {},
   "source": [
    "### This data is quite confusing to look at, are there better ways to visualise it?\n",
    "\n",
    "Lets create a plotting function to help us spot any trends..."
   ]
  },
  {
   "cell_type": "code",
   "execution_count": 19,
   "metadata": {},
   "outputs": [],
   "source": [
    "def produce_scatter_plot(input_dataframe: pd.DataFrame,\n",
    "                         output_series: pd.Series,\n",
    "                         columns:list):\n",
    "    \"\"\"Produces a 2D or 3D scatter plot based on columns from dataframe.\n",
    "\n",
    "    Args:\n",
    "        input_dataframe (pd.DataFrame): The dataframe containing breast cancer information\n",
    "        output_series (pd.Series): The dataframe containing diagnosis information\n",
    "        columns (list): The columns to plot.\n",
    "    \"\"\"\n",
    "    \n",
    "    # Generate a series of strings to use as a colour key\n",
    "    colours = pd.Series(\"True\" if  value else False for value in output_series)\n",
    "    \n",
    "    #Check the length of the columns\n",
    "    if len(columns) == 3:\n",
    "        fig = px.scatter_3d(input_dataframe, x='worst concave points', y='worst area', z='compactness error', color=colours, symbol =colours, labels={\"color\": \"Diagnosis\", \"Symbol\": \"Diagnosis\"})\n",
    "    elif len(columns) == 2:\n",
    "        fig = px.scatter(input_dataframe, x='worst concave points', y='worst area', color=colours, symbol =colours, labels={\"color\": \"Diagnosis\", \"Symbol\": \"Diagnosis\"})\n",
    "    elif len(columns) != (2 or 3):\n",
    "        print(\"Please only use 2 or 3 columns\")\n",
    "\n",
    "    # Update graphics\n",
    "    fig.update_traces(marker=dict(size = 4 if len(columns) == 3 else 10,\n",
    "                              line=dict(width=2,\n",
    "                                        color='DarkSlateGrey')),\n",
    "    \n",
    "                  selector=dict(mode='markers'))\n",
    "    \n",
    "    fig.show()\n",
    "    return None"
   ]
  },
  {
   "attachments": {},
   "cell_type": "markdown",
   "metadata": {},
   "source": [
    "#TASK\n",
    "\n",
    "This plotting function can be called by passing into it breast_cancer_inputs, breast_cancer_outputs, and an array of column names.\n",
    "\n",
    "Try using the column names to generate some 2D and 3D plots, see if you see any trends. "
   ]
  },
  {
   "cell_type": "code",
   "execution_count": 21,
   "metadata": {},
   "outputs": [
    {
     "name": "stdout",
     "output_type": "stream",
     "text": [
      "Index(['mean radius', 'mean texture', 'mean perimeter', 'mean area',\n",
      "       'mean smoothness', 'mean compactness', 'mean concavity',\n",
      "       'mean concave points', 'mean symmetry', 'mean fractal dimension',\n",
      "       'radius error', 'texture error', 'perimeter error', 'area error',\n",
      "       'smoothness error', 'compactness error', 'concavity error',\n",
      "       'concave points error', 'symmetry error', 'fractal dimension error',\n",
      "       'worst radius', 'worst texture', 'worst perimeter', 'worst area',\n",
      "       'worst smoothness', 'worst compactness', 'worst concavity',\n",
      "       'worst concave points', 'worst symmetry', 'worst fractal dimension'],\n",
      "      dtype='object')\n"
     ]
    }
   ],
   "source": [
    "# Remind ourselves of the column names\n",
    "print(breast_cancer_inputs.columns)"
   ]
  },
  {
   "cell_type": "code",
   "execution_count": 22,
   "metadata": {},
   "outputs": [
    {
     "data": {
      "application/vnd.plotly.v1+json": {
       "config": {
        "plotlyServerURL": "https://plot.ly"
       },
       "data": [
        {
         "hovertemplate": "Diagnosis=False<br>symbol=False<br>worst concave points=%{x}<br>worst area=%{y}<extra></extra>",
         "legendgroup": "False, False",
         "marker": {
          "color": "#636efa",
          "line": {
           "color": "DarkSlateGrey",
           "width": 2
          },
          "size": 10,
          "symbol": "circle"
         },
         "mode": "markers",
         "name": "False, False",
         "orientation": "v",
         "showlegend": true,
         "type": "scatter",
         "x": [
          0.2654,
          0.186,
          0.243,
          0.2575,
          0.1625,
          0.1741,
          0.1932,
          0.1556,
          0.206,
          0.221,
          0.09975,
          0.181,
          0.1767,
          0.1119,
          0.2208,
          0.1712,
          0.1609,
          0.2073,
          0.2388,
          0.2393,
          0.2009,
          0.2095,
          0.255,
          0.2701,
          0.149,
          0.2024,
          0.1456,
          0.1848,
          0.1546,
          0.1847,
          0.1785,
          0.1864,
          0.1813,
          0.1447,
          0.02899,
          0.2258,
          0.1112,
          0.1424,
          0.2493,
          0.1492,
          0.1607,
          0.2378,
          0.2088,
          0.1325,
          0.153,
          0.2091,
          0.1834,
          0.1785,
          0.1716,
          0.1614,
          0.1789,
          0.1899,
          0.1383,
          0.152,
          0.2102,
          0.2508,
          0.2867,
          0.1841,
          0.1642,
          0.1225,
          0.1956,
          0.1476,
          0.2115,
          0.1573,
          0.1565,
          0.1184,
          0.1986,
          0.291,
          0.2027,
          0.2034,
          0.1185,
          0.1674,
          0.2248,
          0.1329,
          0.1218,
          0.1732,
          0.1514,
          0.1312,
          0.1379,
          0.09331,
          0.1667,
          0.1216,
          0.1865,
          0.1515,
          0.1777,
          0.2247,
          0.2346,
          0.1474,
          0.1721,
          0.116,
          0.1827,
          0.2035,
          0.2688,
          0.2903,
          0.1541,
          0.1226,
          0.1571,
          0.1772,
          0.1459,
          0.1727,
          0.1673,
          0.09181,
          0.1708,
          0.1838,
          0.1939,
          0.2733,
          0.2013,
          0.1252,
          0.1096,
          0.192,
          0.1595,
          0.1099,
          0.1772,
          0.1654,
          0.182,
          0.1625,
          0.1479,
          0.1977,
          0.2543,
          0.1563,
          0.2593,
          0.1445,
          0.2066,
          0.1564,
          0.2105,
          0.2507,
          0.1857,
          0.1999,
          0.1374,
          0.1941,
          0.2229,
          0.2462,
          0.2014,
          0.1697,
          0.08235,
          0.1528,
          0.08568,
          0.1984,
          0.1659,
          0.1841,
          0.1136,
          0.1294,
          0.1872,
          0.2252,
          0.1732,
          0.0716,
          0.198,
          0.1923,
          0.1776,
          0.1425,
          0.2685,
          0.1583,
          0.1047,
          0.1981,
          0.1827,
          0.2048,
          0.2089,
          0.2255,
          0.2135,
          0.2756,
          0.1526,
          0.1765,
          0.2152,
          0.182,
          0.2432,
          0.2248,
          0.1966,
          0.2112,
          0.2524,
          0.1359,
          0.1825,
          0.2121,
          0.2422,
          0.1964,
          0.1974,
          0.06575,
          0.2134,
          0.2475,
          0.2173,
          0.1708,
          0.1827,
          0.1739,
          0.1535,
          0.197,
          0.228,
          0.1466,
          0.1555,
          0.2625,
          0.1996,
          0.1775,
          0.206,
          0.08737,
          0.1489,
          0.1663,
          0.2113,
          0.1521,
          0.2264,
          0.2163,
          0.2051,
          0.112,
          0.151,
          0.1613,
          0.2475,
          0.1613,
          0.2148,
          0.1362,
          0.2356,
          0.2542,
          0.2216,
          0.1628,
          0.1418,
          0.265
         ],
         "xaxis": "x",
         "y": [
          2019,
          1956,
          1709,
          567.7,
          1575,
          741.6,
          1606,
          897,
          739.3,
          711.4,
          1150,
          1299,
          1332,
          876.5,
          697.7,
          943.2,
          1138,
          1315,
          2398,
          980.9,
          2615,
          2215,
          1461,
          896.9,
          1403,
          1269,
          1227,
          1670,
          888.7,
          1344,
          1813,
          1261,
          1229,
          799.6,
          698.8,
          740.4,
          787.9,
          514,
          1651,
          907.2,
          740.7,
          1567,
          759.4,
          1321,
          1030,
          2145,
          985.5,
          959.5,
          888.3,
          925.1,
          1866,
          1681,
          812.4,
          1223,
          1610,
          1623,
          2562,
          1298,
          1603,
          808.9,
          1623,
          830.9,
          1025,
          1750,
          826.4,
          906.5,
          827.2,
          2360,
          1095,
          1272,
          1261,
          1549,
          2073,
          848.7,
          1538,
          1589,
          1156,
          1175,
          1590,
          653.6,
          971.4,
          1233,
          591.7,
          1302,
          1495,
          2232,
          2403,
          1260,
          1660,
          993.6,
          1102,
          981.2,
          3216,
          2089,
          1269,
          973.1,
          1410,
          762.4,
          768.9,
          784.7,
          806.9,
          1228,
          1688,
          1044,
          1239,
          1986,
          1153,
          989.5,
          1210,
          1656,
          2499,
          1021,
          811.3,
          750.1,
          2009,
          2477,
          1088,
          706,
          1189,
          1872,
          2944,
          1750,
          1408,
          1417,
          2010,
          1933,
          1222,
          1972,
          826,
          1926,
          928.8,
          1226,
          1035,
          1844,
          1218,
          1295,
          988.6,
          1436,
          3432,
          2384,
          1320,
          1236,
          1724,
          1628,
          1031,
          553.6,
          2053,
          1696,
          1485,
          1657,
          1938,
          1121,
          975.2,
          1070,
          1362,
          1873,
          2906,
          1540,
          915.3,
          3234,
          1050,
          1780,
          1671,
          3143,
          2227,
          1165,
          1535,
          1946,
          508.1,
          758.2,
          1313,
          1359,
          2081,
          1304,
          1349,
          931.4,
          1748,
          832.7,
          1479,
          1603,
          869.3,
          1284,
          1292,
          1437,
          2022,
          1421,
          1648,
          4254,
          1437,
          939.7,
          1740,
          1084,
          1426,
          1600,
          1760,
          788,
          2782,
          909.4,
          844.4,
          967,
          1493,
          1646,
          2642,
          1645,
          1809,
          728.3,
          915,
          1819,
          2027,
          1731,
          1124,
          1821
         ],
         "yaxis": "y"
        },
        {
         "hovertemplate": "Diagnosis=True<br>symbol=True<br>worst concave points=%{x}<br>worst area=%{y}<extra></extra>",
         "legendgroup": "True, True",
         "marker": {
          "color": "#EF553B",
          "line": {
           "color": "DarkSlateGrey",
           "width": 2
          },
          "size": 10,
          "symbol": "diamond"
         },
         "mode": "markers",
         "name": "True, True",
         "orientation": "v",
         "showlegend": true,
         "type": "scatter",
         "x": [
          0.1288,
          0.07283,
          0.06227,
          0.05013,
          0.02564,
          0.06548,
          0.1282,
          0.03715,
          0.08586,
          0.06296,
          0.06316,
          0.01111,
          0.04419,
          0.02579,
          0.02778,
          0.05087,
          0.06517,
          0.06961,
          0.175,
          0.05882,
          0.04786,
          0.0866,
          0.07407,
          0.07926,
          0.06127,
          0.1708,
          0.07632,
          0.1205,
          0.1397,
          0.06946,
          0.1001,
          0.07911,
          0.05882,
          0.02381,
          0.08449,
          0,
          0.07431,
          0.09749,
          0.03203,
          0.1218,
          0.08442,
          0.08278,
          0.05334,
          0.1105,
          0.1505,
          0.06136,
          0.105,
          0.07247,
          0.03846,
          0.08958,
          0.1221,
          0.08978,
          0.05104,
          0.1423,
          0.08187,
          0.1374,
          0.06968,
          0.08476,
          0.08611,
          0,
          0.06402,
          0.1012,
          0.03413,
          0.06042,
          0.08405,
          0.1599,
          0.06019,
          0.06296,
          0.07879,
          0.1571,
          0.05506,
          0.09722,
          0.08211,
          0.08436,
          0.07025,
          0.03953,
          0.07909,
          0.08194,
          0.05754,
          0.04603,
          0.08485,
          0.09391,
          0.04306,
          0,
          0,
          0.0991,
          0.009259,
          0.0399,
          0.06296,
          0.01042,
          0.1099,
          0.04306,
          0.04815,
          0.04773,
          0,
          0.08235,
          0.108,
          0.1015,
          0.05588,
          0.1126,
          0.1035,
          0.06913,
          0.1138,
          0.03571,
          0.08056,
          0.0909,
          0.05575,
          0.09678,
          0.1087,
          0.04464,
          0.1379,
          0.118,
          0.02083,
          0.03002,
          0.07222,
          0.07963,
          0.08219,
          0.09222,
          0.04052,
          0.1218,
          0.06106,
          0.06736,
          0.0497,
          0.1561,
          0.06136,
          0.09608,
          0.06544,
          0.07926,
          0.06189,
          0.0578,
          0.086,
          0.03333,
          0.0875,
          0.05159,
          0.08946,
          0.01111,
          0.05185,
          0.09993,
          0.0829,
          0.1017,
          0.008772,
          0.1155,
          0.05366,
          0.09314,
          0.06203,
          0.1021,
          0.1489,
          0.1056,
          0.0914,
          0.06343,
          0.05802,
          0.03194,
          0.0753,
          0.03125,
          0.07625,
          0.06528,
          0.05509,
          0.04815,
          0.025,
          0.01389,
          0.0221,
          0.03532,
          0.05741,
          0.05813,
          0.08411,
          0.04715,
          0,
          0.02784,
          0.01852,
          0.1145,
          0.02832,
          0.09744,
          0.1155,
          0.05556,
          0.05602,
          0.0589,
          0.02796,
          0.09858,
          0.02022,
          0.01667,
          0.03983,
          0.0585,
          0.06499,
          0.1414,
          0.0812,
          0.1075,
          0.07864,
          0.04074,
          0.05093,
          0.1251,
          0.06548,
          0.04766,
          0.04262,
          0.03922,
          0.09265,
          0.1258,
          0.05556,
          0.04762,
          0.05052,
          0.01635,
          0.05614,
          0.08312,
          0.09123,
          0.06987,
          0.08829,
          0.08178,
          0.06987,
          0.1251,
          0.1465,
          0.05781,
          0.1054,
          0.1318,
          0.06754,
          0.1092,
          0.09804,
          0.09173,
          0.0914,
          0.04537,
          0.08272,
          0.06696,
          0,
          0.06266,
          0.07911,
          0.1453,
          0.08296,
          0.05556,
          0.05356,
          0.06876,
          0.06608,
          0.08388,
          0.04793,
          0.07887,
          0.1129,
          0.05601,
          0.09532,
          0.08698,
          0.07431,
          0.02564,
          0.1308,
          0.08263,
          0.0377,
          0.08224,
          0.04306,
          0.06664,
          0.1108,
          0.1105,
          0.1407,
          0.04589,
          0.02579,
          0.0931,
          0.07485,
          0.04044,
          0.03612,
          0.0737,
          0.07971,
          0.06384,
          0.07453,
          0.0589,
          0.08216,
          0.1555,
          0.03312,
          0.02222,
          0.1202,
          0.08308,
          0.09594,
          0.0875,
          0.07116,
          0.1069,
          0.09851,
          0.07763,
          0.06835,
          0.06005,
          0.05921,
          0.04866,
          0.05563,
          0.08288,
          0.1045,
          0.1357,
          0.1181,
          0.025,
          0.1416,
          0.0656,
          0.05547,
          0.1147,
          0,
          0.07966,
          0.09783,
          0.1339,
          0.06222,
          0.07431,
          0.0569,
          0.0815,
          0.1335,
          0.09077,
          0.1452,
          0.1342,
          0.07828,
          0.09815,
          0.06335,
          0.08341,
          0.0268,
          0.04195,
          0.1017,
          0.1407,
          0.1053,
          0.1018,
          0.08411,
          0.1025,
          0.1075,
          0.08088,
          0.09514,
          0.1357,
          0.1056,
          0.07955,
          0.09186,
          0.08542,
          0.1096,
          0.08045,
          0.07262,
          0.02832,
          0.1284,
          0.06528,
          0.08512,
          0.1427,
          0.107,
          0.1015,
          0.07393,
          0.101,
          0.0812,
          0.08704,
          0.09861,
          0.1308,
          0,
          0.05,
          0.06918,
          0.1205,
          0.1095,
          0.07958,
          0.06845,
          0.07174,
          0.02381,
          0.08333,
          0.03846,
          0.03264,
          0,
          0.06413,
          0.06498,
          0.02564,
          0.06493,
          0.09127,
          0.02232,
          0,
          0.1105,
          0.09653,
          0.1048,
          0,
          0
         ],
         "xaxis": "x",
         "y": [
          711.2,
          630.5,
          314.9,
          545.9,
          242.2,
          582.6,
          698.8,
          516.5,
          656.7,
          527.2,
          506.2,
          624.1,
          274.9,
          368.6,
          273.9,
          310.1,
          330.7,
          466.7,
          324.7,
          554.9,
          284.4,
          611.1,
          605.5,
          622.1,
          525.1,
          614.9,
          567.9,
          574.7,
          803.6,
          803.7,
          830.6,
          699.4,
          495.2,
          366.1,
          512.5,
          185.2,
          547.8,
          361.2,
          402.8,
          521.7,
          544.1,
          518.1,
          367,
          527.4,
          709,
          374.4,
          284.4,
          583,
          270,
          510.5,
          745.5,
          632.1,
          725.9,
          762.6,
          545.2,
          922.8,
          546.7,
          462,
          434,
          342.9,
          503,
          643.8,
          441.2,
          509.6,
          809.7,
          766.9,
          725.9,
          616.7,
          249.8,
          380.5,
          440.8,
          677.3,
          564.2,
          1032,
          532.8,
          470,
          543.9,
          553,
          782.1,
          414,
          793.7,
          549.1,
          396.5,
          408.3,
          259.2,
          390.2,
          608.8,
          570.7,
          467.2,
          437,
          521.5,
          489.5,
          546.7,
          579.5,
          303.8,
          600.6,
          638.4,
          677.9,
          331.6,
          639.3,
          932.7,
          546.3,
          531.2,
          403.7,
          706.2,
          686.6,
          375.6,
          708.8,
          873.2,
          395.4,
          808.2,
          624,
          452.3,
          470.9,
          335.9,
          715.5,
          764,
          683.4,
          543.4,
          472.9,
          706,
          402.8,
          602,
          639.1,
          455.7,
          491.8,
          508.9,
          424.8,
          661.5,
          597.5,
          410.4,
          684.6,
          457.5,
          355.2,
          472.4,
          458,
          739.1,
          670,
          533.7,
          595.6,
          564.1,
          546.1,
          577,
          437.6,
          459.3,
          767.3,
          809.8,
          585.4,
          517.8,
          553.7,
          661.1,
          392.2,
          819.7,
          362.7,
          551.3,
          375.4,
          489.8,
          476.5,
          636.9,
          285.5,
          698.7,
          672.4,
          483.1,
          840.8,
          618.8,
          467.8,
          240.1,
          544.2,
          513.1,
          297.1,
          515.9,
          390.4,
          599.5,
          583.1,
          574.4,
          749.9,
          523.4,
          634.3,
          436.1,
          492.7,
          544.3,
          576,
          384,
          862.1,
          353.6,
          440,
          516.4,
          357.1,
          562.6,
          880.8,
          475.8,
          496.2,
          542.5,
          453.5,
          547.4,
          591.2,
          694.4,
          302,
          439.6,
          585.7,
          621.2,
          579.7,
          1009,
          663.5,
          624.6,
          819.1,
          670.6,
          861.5,
          351.9,
          680.6,
          657,
          476.1,
          447.1,
          488.4,
          600.5,
          623.7,
          529.9,
          745.3,
          450,
          394.5,
          317,
          559.5,
          684.5,
          675.2,
          591,
          496.7,
          562,
          589.5,
          621.9,
          580.9,
          533.1,
          472.4,
          947.9,
          645.8,
          610.2,
          521.3,
          471.4,
          301,
          867.1,
          522.9,
          359.4,
          566.9,
          458,
          520.5,
          809.2,
          475.7,
          708.8,
          380.9,
          376.3,
          440.4,
          489.5,
          421.1,
          586.8,
          515.8,
          777.5,
          626.9,
          750,
          749.1,
          688.9,
          476.4,
          706.6,
          366.3,
          513.9,
          829.5,
          830.5,
          507.2,
          523.7,
          749.9,
          633.5,
          705.6,
          527.8,
          632.9,
          628.5,
          349.9,
          734.6,
          495.1,
          687.6,
          733.5,
          689.1,
          380.2,
          528.1,
          385.2,
          567.6,
          906.6,
          558.9,
          433.1,
          605.8,
          828.5,
          718.9,
          467.6,
          547.4,
          830.5,
          660.2,
          686.5,
          854.3,
          580.6,
          831,
          549.8,
          622.9,
          1210,
          534,
          648.3,
          783.6,
          633.7,
          607.3,
          856.9,
          552,
          300.2,
          328.1,
          515.3,
          411.1,
          928.2,
          473.8,
          760.2,
          862,
          478.6,
          674.7,
          624.1,
          326.6,
          435.9,
          701.9,
          376.5,
          275.6,
          719.8,
          564.9,
          653.3,
          549.9,
          552.3,
          550.6,
          773.4,
          407.5,
          487.7,
          248,
          223.6,
          457.8,
          808.9,
          826.4,
          629.6,
          688.6,
          729.8,
          384.9,
          357.4,
          364.2,
          505.6,
          412.3,
          436.6,
          594.7,
          295.8,
          595.7,
          357.6,
          347.3,
          330.6,
          733.5,
          474.2,
          706.7,
          439.6,
          268.6
         ],
         "yaxis": "y"
        }
       ],
       "layout": {
        "legend": {
         "title": {
          "text": "Diagnosis, symbol"
         },
         "tracegroupgap": 0
        },
        "margin": {
         "t": 60
        },
        "template": {
         "data": {
          "bar": [
           {
            "error_x": {
             "color": "#2a3f5f"
            },
            "error_y": {
             "color": "#2a3f5f"
            },
            "marker": {
             "line": {
              "color": "#E5ECF6",
              "width": 0.5
             },
             "pattern": {
              "fillmode": "overlay",
              "size": 10,
              "solidity": 0.2
             }
            },
            "type": "bar"
           }
          ],
          "barpolar": [
           {
            "marker": {
             "line": {
              "color": "#E5ECF6",
              "width": 0.5
             },
             "pattern": {
              "fillmode": "overlay",
              "size": 10,
              "solidity": 0.2
             }
            },
            "type": "barpolar"
           }
          ],
          "carpet": [
           {
            "aaxis": {
             "endlinecolor": "#2a3f5f",
             "gridcolor": "white",
             "linecolor": "white",
             "minorgridcolor": "white",
             "startlinecolor": "#2a3f5f"
            },
            "baxis": {
             "endlinecolor": "#2a3f5f",
             "gridcolor": "white",
             "linecolor": "white",
             "minorgridcolor": "white",
             "startlinecolor": "#2a3f5f"
            },
            "type": "carpet"
           }
          ],
          "choropleth": [
           {
            "colorbar": {
             "outlinewidth": 0,
             "ticks": ""
            },
            "type": "choropleth"
           }
          ],
          "contour": [
           {
            "colorbar": {
             "outlinewidth": 0,
             "ticks": ""
            },
            "colorscale": [
             [
              0,
              "#0d0887"
             ],
             [
              0.1111111111111111,
              "#46039f"
             ],
             [
              0.2222222222222222,
              "#7201a8"
             ],
             [
              0.3333333333333333,
              "#9c179e"
             ],
             [
              0.4444444444444444,
              "#bd3786"
             ],
             [
              0.5555555555555556,
              "#d8576b"
             ],
             [
              0.6666666666666666,
              "#ed7953"
             ],
             [
              0.7777777777777778,
              "#fb9f3a"
             ],
             [
              0.8888888888888888,
              "#fdca26"
             ],
             [
              1,
              "#f0f921"
             ]
            ],
            "type": "contour"
           }
          ],
          "contourcarpet": [
           {
            "colorbar": {
             "outlinewidth": 0,
             "ticks": ""
            },
            "type": "contourcarpet"
           }
          ],
          "heatmap": [
           {
            "colorbar": {
             "outlinewidth": 0,
             "ticks": ""
            },
            "colorscale": [
             [
              0,
              "#0d0887"
             ],
             [
              0.1111111111111111,
              "#46039f"
             ],
             [
              0.2222222222222222,
              "#7201a8"
             ],
             [
              0.3333333333333333,
              "#9c179e"
             ],
             [
              0.4444444444444444,
              "#bd3786"
             ],
             [
              0.5555555555555556,
              "#d8576b"
             ],
             [
              0.6666666666666666,
              "#ed7953"
             ],
             [
              0.7777777777777778,
              "#fb9f3a"
             ],
             [
              0.8888888888888888,
              "#fdca26"
             ],
             [
              1,
              "#f0f921"
             ]
            ],
            "type": "heatmap"
           }
          ],
          "heatmapgl": [
           {
            "colorbar": {
             "outlinewidth": 0,
             "ticks": ""
            },
            "colorscale": [
             [
              0,
              "#0d0887"
             ],
             [
              0.1111111111111111,
              "#46039f"
             ],
             [
              0.2222222222222222,
              "#7201a8"
             ],
             [
              0.3333333333333333,
              "#9c179e"
             ],
             [
              0.4444444444444444,
              "#bd3786"
             ],
             [
              0.5555555555555556,
              "#d8576b"
             ],
             [
              0.6666666666666666,
              "#ed7953"
             ],
             [
              0.7777777777777778,
              "#fb9f3a"
             ],
             [
              0.8888888888888888,
              "#fdca26"
             ],
             [
              1,
              "#f0f921"
             ]
            ],
            "type": "heatmapgl"
           }
          ],
          "histogram": [
           {
            "marker": {
             "pattern": {
              "fillmode": "overlay",
              "size": 10,
              "solidity": 0.2
             }
            },
            "type": "histogram"
           }
          ],
          "histogram2d": [
           {
            "colorbar": {
             "outlinewidth": 0,
             "ticks": ""
            },
            "colorscale": [
             [
              0,
              "#0d0887"
             ],
             [
              0.1111111111111111,
              "#46039f"
             ],
             [
              0.2222222222222222,
              "#7201a8"
             ],
             [
              0.3333333333333333,
              "#9c179e"
             ],
             [
              0.4444444444444444,
              "#bd3786"
             ],
             [
              0.5555555555555556,
              "#d8576b"
             ],
             [
              0.6666666666666666,
              "#ed7953"
             ],
             [
              0.7777777777777778,
              "#fb9f3a"
             ],
             [
              0.8888888888888888,
              "#fdca26"
             ],
             [
              1,
              "#f0f921"
             ]
            ],
            "type": "histogram2d"
           }
          ],
          "histogram2dcontour": [
           {
            "colorbar": {
             "outlinewidth": 0,
             "ticks": ""
            },
            "colorscale": [
             [
              0,
              "#0d0887"
             ],
             [
              0.1111111111111111,
              "#46039f"
             ],
             [
              0.2222222222222222,
              "#7201a8"
             ],
             [
              0.3333333333333333,
              "#9c179e"
             ],
             [
              0.4444444444444444,
              "#bd3786"
             ],
             [
              0.5555555555555556,
              "#d8576b"
             ],
             [
              0.6666666666666666,
              "#ed7953"
             ],
             [
              0.7777777777777778,
              "#fb9f3a"
             ],
             [
              0.8888888888888888,
              "#fdca26"
             ],
             [
              1,
              "#f0f921"
             ]
            ],
            "type": "histogram2dcontour"
           }
          ],
          "mesh3d": [
           {
            "colorbar": {
             "outlinewidth": 0,
             "ticks": ""
            },
            "type": "mesh3d"
           }
          ],
          "parcoords": [
           {
            "line": {
             "colorbar": {
              "outlinewidth": 0,
              "ticks": ""
             }
            },
            "type": "parcoords"
           }
          ],
          "pie": [
           {
            "automargin": true,
            "type": "pie"
           }
          ],
          "scatter": [
           {
            "fillpattern": {
             "fillmode": "overlay",
             "size": 10,
             "solidity": 0.2
            },
            "type": "scatter"
           }
          ],
          "scatter3d": [
           {
            "line": {
             "colorbar": {
              "outlinewidth": 0,
              "ticks": ""
             }
            },
            "marker": {
             "colorbar": {
              "outlinewidth": 0,
              "ticks": ""
             }
            },
            "type": "scatter3d"
           }
          ],
          "scattercarpet": [
           {
            "marker": {
             "colorbar": {
              "outlinewidth": 0,
              "ticks": ""
             }
            },
            "type": "scattercarpet"
           }
          ],
          "scattergeo": [
           {
            "marker": {
             "colorbar": {
              "outlinewidth": 0,
              "ticks": ""
             }
            },
            "type": "scattergeo"
           }
          ],
          "scattergl": [
           {
            "marker": {
             "colorbar": {
              "outlinewidth": 0,
              "ticks": ""
             }
            },
            "type": "scattergl"
           }
          ],
          "scattermapbox": [
           {
            "marker": {
             "colorbar": {
              "outlinewidth": 0,
              "ticks": ""
             }
            },
            "type": "scattermapbox"
           }
          ],
          "scatterpolar": [
           {
            "marker": {
             "colorbar": {
              "outlinewidth": 0,
              "ticks": ""
             }
            },
            "type": "scatterpolar"
           }
          ],
          "scatterpolargl": [
           {
            "marker": {
             "colorbar": {
              "outlinewidth": 0,
              "ticks": ""
             }
            },
            "type": "scatterpolargl"
           }
          ],
          "scatterternary": [
           {
            "marker": {
             "colorbar": {
              "outlinewidth": 0,
              "ticks": ""
             }
            },
            "type": "scatterternary"
           }
          ],
          "surface": [
           {
            "colorbar": {
             "outlinewidth": 0,
             "ticks": ""
            },
            "colorscale": [
             [
              0,
              "#0d0887"
             ],
             [
              0.1111111111111111,
              "#46039f"
             ],
             [
              0.2222222222222222,
              "#7201a8"
             ],
             [
              0.3333333333333333,
              "#9c179e"
             ],
             [
              0.4444444444444444,
              "#bd3786"
             ],
             [
              0.5555555555555556,
              "#d8576b"
             ],
             [
              0.6666666666666666,
              "#ed7953"
             ],
             [
              0.7777777777777778,
              "#fb9f3a"
             ],
             [
              0.8888888888888888,
              "#fdca26"
             ],
             [
              1,
              "#f0f921"
             ]
            ],
            "type": "surface"
           }
          ],
          "table": [
           {
            "cells": {
             "fill": {
              "color": "#EBF0F8"
             },
             "line": {
              "color": "white"
             }
            },
            "header": {
             "fill": {
              "color": "#C8D4E3"
             },
             "line": {
              "color": "white"
             }
            },
            "type": "table"
           }
          ]
         },
         "layout": {
          "annotationdefaults": {
           "arrowcolor": "#2a3f5f",
           "arrowhead": 0,
           "arrowwidth": 1
          },
          "autotypenumbers": "strict",
          "coloraxis": {
           "colorbar": {
            "outlinewidth": 0,
            "ticks": ""
           }
          },
          "colorscale": {
           "diverging": [
            [
             0,
             "#8e0152"
            ],
            [
             0.1,
             "#c51b7d"
            ],
            [
             0.2,
             "#de77ae"
            ],
            [
             0.3,
             "#f1b6da"
            ],
            [
             0.4,
             "#fde0ef"
            ],
            [
             0.5,
             "#f7f7f7"
            ],
            [
             0.6,
             "#e6f5d0"
            ],
            [
             0.7,
             "#b8e186"
            ],
            [
             0.8,
             "#7fbc41"
            ],
            [
             0.9,
             "#4d9221"
            ],
            [
             1,
             "#276419"
            ]
           ],
           "sequential": [
            [
             0,
             "#0d0887"
            ],
            [
             0.1111111111111111,
             "#46039f"
            ],
            [
             0.2222222222222222,
             "#7201a8"
            ],
            [
             0.3333333333333333,
             "#9c179e"
            ],
            [
             0.4444444444444444,
             "#bd3786"
            ],
            [
             0.5555555555555556,
             "#d8576b"
            ],
            [
             0.6666666666666666,
             "#ed7953"
            ],
            [
             0.7777777777777778,
             "#fb9f3a"
            ],
            [
             0.8888888888888888,
             "#fdca26"
            ],
            [
             1,
             "#f0f921"
            ]
           ],
           "sequentialminus": [
            [
             0,
             "#0d0887"
            ],
            [
             0.1111111111111111,
             "#46039f"
            ],
            [
             0.2222222222222222,
             "#7201a8"
            ],
            [
             0.3333333333333333,
             "#9c179e"
            ],
            [
             0.4444444444444444,
             "#bd3786"
            ],
            [
             0.5555555555555556,
             "#d8576b"
            ],
            [
             0.6666666666666666,
             "#ed7953"
            ],
            [
             0.7777777777777778,
             "#fb9f3a"
            ],
            [
             0.8888888888888888,
             "#fdca26"
            ],
            [
             1,
             "#f0f921"
            ]
           ]
          },
          "colorway": [
           "#636efa",
           "#EF553B",
           "#00cc96",
           "#ab63fa",
           "#FFA15A",
           "#19d3f3",
           "#FF6692",
           "#B6E880",
           "#FF97FF",
           "#FECB52"
          ],
          "font": {
           "color": "#2a3f5f"
          },
          "geo": {
           "bgcolor": "white",
           "lakecolor": "white",
           "landcolor": "#E5ECF6",
           "showlakes": true,
           "showland": true,
           "subunitcolor": "white"
          },
          "hoverlabel": {
           "align": "left"
          },
          "hovermode": "closest",
          "mapbox": {
           "style": "light"
          },
          "paper_bgcolor": "white",
          "plot_bgcolor": "#E5ECF6",
          "polar": {
           "angularaxis": {
            "gridcolor": "white",
            "linecolor": "white",
            "ticks": ""
           },
           "bgcolor": "#E5ECF6",
           "radialaxis": {
            "gridcolor": "white",
            "linecolor": "white",
            "ticks": ""
           }
          },
          "scene": {
           "xaxis": {
            "backgroundcolor": "#E5ECF6",
            "gridcolor": "white",
            "gridwidth": 2,
            "linecolor": "white",
            "showbackground": true,
            "ticks": "",
            "zerolinecolor": "white"
           },
           "yaxis": {
            "backgroundcolor": "#E5ECF6",
            "gridcolor": "white",
            "gridwidth": 2,
            "linecolor": "white",
            "showbackground": true,
            "ticks": "",
            "zerolinecolor": "white"
           },
           "zaxis": {
            "backgroundcolor": "#E5ECF6",
            "gridcolor": "white",
            "gridwidth": 2,
            "linecolor": "white",
            "showbackground": true,
            "ticks": "",
            "zerolinecolor": "white"
           }
          },
          "shapedefaults": {
           "line": {
            "color": "#2a3f5f"
           }
          },
          "ternary": {
           "aaxis": {
            "gridcolor": "white",
            "linecolor": "white",
            "ticks": ""
           },
           "baxis": {
            "gridcolor": "white",
            "linecolor": "white",
            "ticks": ""
           },
           "bgcolor": "#E5ECF6",
           "caxis": {
            "gridcolor": "white",
            "linecolor": "white",
            "ticks": ""
           }
          },
          "title": {
           "x": 0.05
          },
          "xaxis": {
           "automargin": true,
           "gridcolor": "white",
           "linecolor": "white",
           "ticks": "",
           "title": {
            "standoff": 15
           },
           "zerolinecolor": "white",
           "zerolinewidth": 2
          },
          "yaxis": {
           "automargin": true,
           "gridcolor": "white",
           "linecolor": "white",
           "ticks": "",
           "title": {
            "standoff": 15
           },
           "zerolinecolor": "white",
           "zerolinewidth": 2
          }
         }
        },
        "xaxis": {
         "anchor": "y",
         "domain": [
          0,
          1
         ],
         "title": {
          "text": "worst concave points"
         }
        },
        "yaxis": {
         "anchor": "x",
         "domain": [
          0,
          1
         ],
         "title": {
          "text": "worst area"
         }
        }
       }
      }
     },
     "metadata": {},
     "output_type": "display_data"
    }
   ],
   "source": [
    "produce_scatter_plot(breast_cancer_inputs, breast_cancer_outputs,[\"mean area\",\"mean smoothness\"])"
   ]
  },
  {
   "cell_type": "code",
   "execution_count": 18,
   "metadata": {},
   "outputs": [
    {
     "name": "stdout",
     "output_type": "stream",
     "text": [
      "3\n"
     ]
    },
    {
     "data": {
      "application/vnd.plotly.v1+json": {
       "config": {
        "plotlyServerURL": "https://plot.ly"
       },
       "data": [
        {
         "hovertemplate": "Diagnosis=False<br>symbol=False<br>worst concave points=%{x}<br>worst area=%{y}<br>compactness error=%{z}<extra></extra>",
         "legendgroup": "False, False",
         "marker": {
          "color": "#636efa",
          "line": {
           "color": "DarkSlateGrey",
           "width": 2
          },
          "size": 4,
          "symbol": "circle"
         },
         "mode": "markers",
         "name": "False, False",
         "scene": "scene",
         "showlegend": true,
         "type": "scatter3d",
         "x": [
          0.2654,
          0.186,
          0.243,
          0.2575,
          0.1625,
          0.1741,
          0.1932,
          0.1556,
          0.206,
          0.221,
          0.09975,
          0.181,
          0.1767,
          0.1119,
          0.2208,
          0.1712,
          0.1609,
          0.2073,
          0.2388,
          0.2393,
          0.2009,
          0.2095,
          0.255,
          0.2701,
          0.149,
          0.2024,
          0.1456,
          0.1848,
          0.1546,
          0.1847,
          0.1785,
          0.1864,
          0.1813,
          0.1447,
          0.02899,
          0.2258,
          0.1112,
          0.1424,
          0.2493,
          0.1492,
          0.1607,
          0.2378,
          0.2088,
          0.1325,
          0.153,
          0.2091,
          0.1834,
          0.1785,
          0.1716,
          0.1614,
          0.1789,
          0.1899,
          0.1383,
          0.152,
          0.2102,
          0.2508,
          0.2867,
          0.1841,
          0.1642,
          0.1225,
          0.1956,
          0.1476,
          0.2115,
          0.1573,
          0.1565,
          0.1184,
          0.1986,
          0.291,
          0.2027,
          0.2034,
          0.1185,
          0.1674,
          0.2248,
          0.1329,
          0.1218,
          0.1732,
          0.1514,
          0.1312,
          0.1379,
          0.09331,
          0.1667,
          0.1216,
          0.1865,
          0.1515,
          0.1777,
          0.2247,
          0.2346,
          0.1474,
          0.1721,
          0.116,
          0.1827,
          0.2035,
          0.2688,
          0.2903,
          0.1541,
          0.1226,
          0.1571,
          0.1772,
          0.1459,
          0.1727,
          0.1673,
          0.09181,
          0.1708,
          0.1838,
          0.1939,
          0.2733,
          0.2013,
          0.1252,
          0.1096,
          0.192,
          0.1595,
          0.1099,
          0.1772,
          0.1654,
          0.182,
          0.1625,
          0.1479,
          0.1977,
          0.2543,
          0.1563,
          0.2593,
          0.1445,
          0.2066,
          0.1564,
          0.2105,
          0.2507,
          0.1857,
          0.1999,
          0.1374,
          0.1941,
          0.2229,
          0.2462,
          0.2014,
          0.1697,
          0.08235,
          0.1528,
          0.08568,
          0.1984,
          0.1659,
          0.1841,
          0.1136,
          0.1294,
          0.1872,
          0.2252,
          0.1732,
          0.0716,
          0.198,
          0.1923,
          0.1776,
          0.1425,
          0.2685,
          0.1583,
          0.1047,
          0.1981,
          0.1827,
          0.2048,
          0.2089,
          0.2255,
          0.2135,
          0.2756,
          0.1526,
          0.1765,
          0.2152,
          0.182,
          0.2432,
          0.2248,
          0.1966,
          0.2112,
          0.2524,
          0.1359,
          0.1825,
          0.2121,
          0.2422,
          0.1964,
          0.1974,
          0.06575,
          0.2134,
          0.2475,
          0.2173,
          0.1708,
          0.1827,
          0.1739,
          0.1535,
          0.197,
          0.228,
          0.1466,
          0.1555,
          0.2625,
          0.1996,
          0.1775,
          0.206,
          0.08737,
          0.1489,
          0.1663,
          0.2113,
          0.1521,
          0.2264,
          0.2163,
          0.2051,
          0.112,
          0.151,
          0.1613,
          0.2475,
          0.1613,
          0.2148,
          0.1362,
          0.2356,
          0.2542,
          0.2216,
          0.1628,
          0.1418,
          0.265
         ],
         "y": [
          2019,
          1956,
          1709,
          567.7,
          1575,
          741.6,
          1606,
          897,
          739.3,
          711.4,
          1150,
          1299,
          1332,
          876.5,
          697.7,
          943.2,
          1138,
          1315,
          2398,
          980.9,
          2615,
          2215,
          1461,
          896.9,
          1403,
          1269,
          1227,
          1670,
          888.7,
          1344,
          1813,
          1261,
          1229,
          799.6,
          698.8,
          740.4,
          787.9,
          514,
          1651,
          907.2,
          740.7,
          1567,
          759.4,
          1321,
          1030,
          2145,
          985.5,
          959.5,
          888.3,
          925.1,
          1866,
          1681,
          812.4,
          1223,
          1610,
          1623,
          2562,
          1298,
          1603,
          808.9,
          1623,
          830.9,
          1025,
          1750,
          826.4,
          906.5,
          827.2,
          2360,
          1095,
          1272,
          1261,
          1549,
          2073,
          848.7,
          1538,
          1589,
          1156,
          1175,
          1590,
          653.6,
          971.4,
          1233,
          591.7,
          1302,
          1495,
          2232,
          2403,
          1260,
          1660,
          993.6,
          1102,
          981.2,
          3216,
          2089,
          1269,
          973.1,
          1410,
          762.4,
          768.9,
          784.7,
          806.9,
          1228,
          1688,
          1044,
          1239,
          1986,
          1153,
          989.5,
          1210,
          1656,
          2499,
          1021,
          811.3,
          750.1,
          2009,
          2477,
          1088,
          706,
          1189,
          1872,
          2944,
          1750,
          1408,
          1417,
          2010,
          1933,
          1222,
          1972,
          826,
          1926,
          928.8,
          1226,
          1035,
          1844,
          1218,
          1295,
          988.6,
          1436,
          3432,
          2384,
          1320,
          1236,
          1724,
          1628,
          1031,
          553.6,
          2053,
          1696,
          1485,
          1657,
          1938,
          1121,
          975.2,
          1070,
          1362,
          1873,
          2906,
          1540,
          915.3,
          3234,
          1050,
          1780,
          1671,
          3143,
          2227,
          1165,
          1535,
          1946,
          508.1,
          758.2,
          1313,
          1359,
          2081,
          1304,
          1349,
          931.4,
          1748,
          832.7,
          1479,
          1603,
          869.3,
          1284,
          1292,
          1437,
          2022,
          1421,
          1648,
          4254,
          1437,
          939.7,
          1740,
          1084,
          1426,
          1600,
          1760,
          788,
          2782,
          909.4,
          844.4,
          967,
          1493,
          1646,
          2642,
          1645,
          1809,
          728.3,
          915,
          1819,
          2027,
          1731,
          1124,
          1821
         ],
         "z": [
          0.04904,
          0.01308,
          0.04006,
          0.07458,
          0.02461,
          0.03345,
          0.01382,
          0.03029,
          0.03502,
          0.07217,
          0.009269,
          0.04061,
          0.08297,
          0.03126,
          0.05936,
          0.0424,
          0.01162,
          0.02501,
          0.01893,
          0.05328,
          0.01259,
          0.01882,
          0.03799,
          0.03055,
          0.02722,
          0.03057,
          0.03033,
          0.03374,
          0.03414,
          0.03082,
          0.03318,
          0.02868,
          0.02499,
          0.02995,
          0.01094,
          0.02239,
          0.01102,
          0.01764,
          0.1006,
          0.02147,
          0.01384,
          0.03994,
          0.02336,
          0.02961,
          0.0103,
          0.02306,
          0.02855,
          0.07056,
          0.02648,
          0.0231,
          0.01652,
          0.05616,
          0.02065,
          0.02203,
          0.05839,
          0.06835,
          0.05693,
          0.0605,
          0.01649,
          0.02983,
          0.01842,
          0.02444,
          0.03715,
          0.03482,
          0.02895,
          0.01488,
          0.02912,
          0.08668,
          0.02563,
          0.03976,
          0.008422,
          0.02101,
          0.09806,
          0.01174,
          0.02731,
          0.03179,
          0.01484,
          0.01952,
          0.01422,
          0.01202,
          0.0348,
          0.01938,
          0.03633,
          0.04954,
          0.03055,
          0.02277,
          0.02544,
          0.0247,
          0.03634,
          0.01063,
          0.02321,
          0.04094,
          0.02537,
          0.04759,
          0.02263,
          0.01395,
          0.009181,
          0.1354,
          0.03845,
          0.05122,
          0.03348,
          0.05296,
          0.03698,
          0.01597,
          0.02569,
          0.05121,
          0.03108,
          0.01919,
          0.01503,
          0.03611,
          0.02772,
          0.08555,
          0.0371,
          0.03438,
          0.03169,
          0.02644,
          0.02374,
          0.03858,
          0.02008,
          0.02062,
          0.02863,
          0.03133,
          0.02785,
          0.03252,
          0.03908,
          0.05057,
          0.01503,
          0.018,
          0.02679,
          0.04765,
          0.04588,
          0.05995,
          0.02556,
          0.01578,
          0.01106,
          0.05981,
          0.009105,
          0.01206,
          0.01478,
          0.0496,
          0.01169,
          0.01114,
          0.02449,
          0.02199,
          0.03481,
          0.01005,
          0.03203,
          0.04732,
          0.01659,
          0.01376,
          0.02431,
          0.02083,
          0.03756,
          0.03245,
          0.01797,
          0.03897,
          0.01971,
          0.03368,
          0.06559,
          0.04243,
          0.02431,
          0.01906,
          0.04674,
          0.01112,
          0.02821,
          0.03917,
          0.02675,
          0.01895,
          0.04549,
          0.01742,
          0.04097,
          0.02928,
          0.03726,
          0.03718,
          0.02772,
          0.01427,
          0.03889,
          0.06213,
          0.02715,
          0.04088,
          0.01791,
          0.04308,
          0.0156,
          0.02015,
          0.02075,
          0.01929,
          0.02219,
          0.05374,
          0.07025,
          0.0547,
          0.02833,
          0.01446,
          0.027,
          0.03214,
          0.02791,
          0.03856,
          0.03356,
          0.0494,
          0.02265,
          0.0163,
          0.01877,
          0.02303,
          0.03212,
          0.03089,
          0.02616,
          0.02583,
          0.04844,
          0.0431,
          0.02891,
          0.02423,
          0.03731,
          0.06158
         ]
        },
        {
         "hovertemplate": "Diagnosis=True<br>symbol=True<br>worst concave points=%{x}<br>worst area=%{y}<br>compactness error=%{z}<extra></extra>",
         "legendgroup": "True, True",
         "marker": {
          "color": "#EF553B",
          "line": {
           "color": "DarkSlateGrey",
           "width": 2
          },
          "size": 4,
          "symbol": "diamond"
         },
         "mode": "markers",
         "name": "True, True",
         "scene": "scene",
         "showlegend": true,
         "type": "scatter3d",
         "x": [
          0.1288,
          0.07283,
          0.06227,
          0.05013,
          0.02564,
          0.06548,
          0.1282,
          0.03715,
          0.08586,
          0.06296,
          0.06316,
          0.01111,
          0.04419,
          0.02579,
          0.02778,
          0.05087,
          0.06517,
          0.06961,
          0.175,
          0.05882,
          0.04786,
          0.0866,
          0.07407,
          0.07926,
          0.06127,
          0.1708,
          0.07632,
          0.1205,
          0.1397,
          0.06946,
          0.1001,
          0.07911,
          0.05882,
          0.02381,
          0.08449,
          0,
          0.07431,
          0.09749,
          0.03203,
          0.1218,
          0.08442,
          0.08278,
          0.05334,
          0.1105,
          0.1505,
          0.06136,
          0.105,
          0.07247,
          0.03846,
          0.08958,
          0.1221,
          0.08978,
          0.05104,
          0.1423,
          0.08187,
          0.1374,
          0.06968,
          0.08476,
          0.08611,
          0,
          0.06402,
          0.1012,
          0.03413,
          0.06042,
          0.08405,
          0.1599,
          0.06019,
          0.06296,
          0.07879,
          0.1571,
          0.05506,
          0.09722,
          0.08211,
          0.08436,
          0.07025,
          0.03953,
          0.07909,
          0.08194,
          0.05754,
          0.04603,
          0.08485,
          0.09391,
          0.04306,
          0,
          0,
          0.0991,
          0.009259,
          0.0399,
          0.06296,
          0.01042,
          0.1099,
          0.04306,
          0.04815,
          0.04773,
          0,
          0.08235,
          0.108,
          0.1015,
          0.05588,
          0.1126,
          0.1035,
          0.06913,
          0.1138,
          0.03571,
          0.08056,
          0.0909,
          0.05575,
          0.09678,
          0.1087,
          0.04464,
          0.1379,
          0.118,
          0.02083,
          0.03002,
          0.07222,
          0.07963,
          0.08219,
          0.09222,
          0.04052,
          0.1218,
          0.06106,
          0.06736,
          0.0497,
          0.1561,
          0.06136,
          0.09608,
          0.06544,
          0.07926,
          0.06189,
          0.0578,
          0.086,
          0.03333,
          0.0875,
          0.05159,
          0.08946,
          0.01111,
          0.05185,
          0.09993,
          0.0829,
          0.1017,
          0.008772,
          0.1155,
          0.05366,
          0.09314,
          0.06203,
          0.1021,
          0.1489,
          0.1056,
          0.0914,
          0.06343,
          0.05802,
          0.03194,
          0.0753,
          0.03125,
          0.07625,
          0.06528,
          0.05509,
          0.04815,
          0.025,
          0.01389,
          0.0221,
          0.03532,
          0.05741,
          0.05813,
          0.08411,
          0.04715,
          0,
          0.02784,
          0.01852,
          0.1145,
          0.02832,
          0.09744,
          0.1155,
          0.05556,
          0.05602,
          0.0589,
          0.02796,
          0.09858,
          0.02022,
          0.01667,
          0.03983,
          0.0585,
          0.06499,
          0.1414,
          0.0812,
          0.1075,
          0.07864,
          0.04074,
          0.05093,
          0.1251,
          0.06548,
          0.04766,
          0.04262,
          0.03922,
          0.09265,
          0.1258,
          0.05556,
          0.04762,
          0.05052,
          0.01635,
          0.05614,
          0.08312,
          0.09123,
          0.06987,
          0.08829,
          0.08178,
          0.06987,
          0.1251,
          0.1465,
          0.05781,
          0.1054,
          0.1318,
          0.06754,
          0.1092,
          0.09804,
          0.09173,
          0.0914,
          0.04537,
          0.08272,
          0.06696,
          0,
          0.06266,
          0.07911,
          0.1453,
          0.08296,
          0.05556,
          0.05356,
          0.06876,
          0.06608,
          0.08388,
          0.04793,
          0.07887,
          0.1129,
          0.05601,
          0.09532,
          0.08698,
          0.07431,
          0.02564,
          0.1308,
          0.08263,
          0.0377,
          0.08224,
          0.04306,
          0.06664,
          0.1108,
          0.1105,
          0.1407,
          0.04589,
          0.02579,
          0.0931,
          0.07485,
          0.04044,
          0.03612,
          0.0737,
          0.07971,
          0.06384,
          0.07453,
          0.0589,
          0.08216,
          0.1555,
          0.03312,
          0.02222,
          0.1202,
          0.08308,
          0.09594,
          0.0875,
          0.07116,
          0.1069,
          0.09851,
          0.07763,
          0.06835,
          0.06005,
          0.05921,
          0.04866,
          0.05563,
          0.08288,
          0.1045,
          0.1357,
          0.1181,
          0.025,
          0.1416,
          0.0656,
          0.05547,
          0.1147,
          0,
          0.07966,
          0.09783,
          0.1339,
          0.06222,
          0.07431,
          0.0569,
          0.0815,
          0.1335,
          0.09077,
          0.1452,
          0.1342,
          0.07828,
          0.09815,
          0.06335,
          0.08341,
          0.0268,
          0.04195,
          0.1017,
          0.1407,
          0.1053,
          0.1018,
          0.08411,
          0.1025,
          0.1075,
          0.08088,
          0.09514,
          0.1357,
          0.1056,
          0.07955,
          0.09186,
          0.08542,
          0.1096,
          0.08045,
          0.07262,
          0.02832,
          0.1284,
          0.06528,
          0.08512,
          0.1427,
          0.107,
          0.1015,
          0.07393,
          0.101,
          0.0812,
          0.08704,
          0.09861,
          0.1308,
          0,
          0.05,
          0.06918,
          0.1205,
          0.1095,
          0.07958,
          0.06845,
          0.07174,
          0.02381,
          0.08333,
          0.03846,
          0.03264,
          0,
          0.06413,
          0.06498,
          0.02564,
          0.06493,
          0.09127,
          0.02232,
          0,
          0.1105,
          0.09653,
          0.1048,
          0,
          0
         ],
         "y": [
          711.2,
          630.5,
          314.9,
          545.9,
          242.2,
          582.6,
          698.8,
          516.5,
          656.7,
          527.2,
          506.2,
          624.1,
          274.9,
          368.6,
          273.9,
          310.1,
          330.7,
          466.7,
          324.7,
          554.9,
          284.4,
          611.1,
          605.5,
          622.1,
          525.1,
          614.9,
          567.9,
          574.7,
          803.6,
          803.7,
          830.6,
          699.4,
          495.2,
          366.1,
          512.5,
          185.2,
          547.8,
          361.2,
          402.8,
          521.7,
          544.1,
          518.1,
          367,
          527.4,
          709,
          374.4,
          284.4,
          583,
          270,
          510.5,
          745.5,
          632.1,
          725.9,
          762.6,
          545.2,
          922.8,
          546.7,
          462,
          434,
          342.9,
          503,
          643.8,
          441.2,
          509.6,
          809.7,
          766.9,
          725.9,
          616.7,
          249.8,
          380.5,
          440.8,
          677.3,
          564.2,
          1032,
          532.8,
          470,
          543.9,
          553,
          782.1,
          414,
          793.7,
          549.1,
          396.5,
          408.3,
          259.2,
          390.2,
          608.8,
          570.7,
          467.2,
          437,
          521.5,
          489.5,
          546.7,
          579.5,
          303.8,
          600.6,
          638.4,
          677.9,
          331.6,
          639.3,
          932.7,
          546.3,
          531.2,
          403.7,
          706.2,
          686.6,
          375.6,
          708.8,
          873.2,
          395.4,
          808.2,
          624,
          452.3,
          470.9,
          335.9,
          715.5,
          764,
          683.4,
          543.4,
          472.9,
          706,
          402.8,
          602,
          639.1,
          455.7,
          491.8,
          508.9,
          424.8,
          661.5,
          597.5,
          410.4,
          684.6,
          457.5,
          355.2,
          472.4,
          458,
          739.1,
          670,
          533.7,
          595.6,
          564.1,
          546.1,
          577,
          437.6,
          459.3,
          767.3,
          809.8,
          585.4,
          517.8,
          553.7,
          661.1,
          392.2,
          819.7,
          362.7,
          551.3,
          375.4,
          489.8,
          476.5,
          636.9,
          285.5,
          698.7,
          672.4,
          483.1,
          840.8,
          618.8,
          467.8,
          240.1,
          544.2,
          513.1,
          297.1,
          515.9,
          390.4,
          599.5,
          583.1,
          574.4,
          749.9,
          523.4,
          634.3,
          436.1,
          492.7,
          544.3,
          576,
          384,
          862.1,
          353.6,
          440,
          516.4,
          357.1,
          562.6,
          880.8,
          475.8,
          496.2,
          542.5,
          453.5,
          547.4,
          591.2,
          694.4,
          302,
          439.6,
          585.7,
          621.2,
          579.7,
          1009,
          663.5,
          624.6,
          819.1,
          670.6,
          861.5,
          351.9,
          680.6,
          657,
          476.1,
          447.1,
          488.4,
          600.5,
          623.7,
          529.9,
          745.3,
          450,
          394.5,
          317,
          559.5,
          684.5,
          675.2,
          591,
          496.7,
          562,
          589.5,
          621.9,
          580.9,
          533.1,
          472.4,
          947.9,
          645.8,
          610.2,
          521.3,
          471.4,
          301,
          867.1,
          522.9,
          359.4,
          566.9,
          458,
          520.5,
          809.2,
          475.7,
          708.8,
          380.9,
          376.3,
          440.4,
          489.5,
          421.1,
          586.8,
          515.8,
          777.5,
          626.9,
          750,
          749.1,
          688.9,
          476.4,
          706.6,
          366.3,
          513.9,
          829.5,
          830.5,
          507.2,
          523.7,
          749.9,
          633.5,
          705.6,
          527.8,
          632.9,
          628.5,
          349.9,
          734.6,
          495.1,
          687.6,
          733.5,
          689.1,
          380.2,
          528.1,
          385.2,
          567.6,
          906.6,
          558.9,
          433.1,
          605.8,
          828.5,
          718.9,
          467.6,
          547.4,
          830.5,
          660.2,
          686.5,
          854.3,
          580.6,
          831,
          549.8,
          622.9,
          1210,
          534,
          648.3,
          783.6,
          633.7,
          607.3,
          856.9,
          552,
          300.2,
          328.1,
          515.3,
          411.1,
          928.2,
          473.8,
          760.2,
          862,
          478.6,
          674.7,
          624.1,
          326.6,
          435.9,
          701.9,
          376.5,
          275.6,
          719.8,
          564.9,
          653.3,
          549.9,
          552.3,
          550.6,
          773.4,
          407.5,
          487.7,
          248,
          223.6,
          457.8,
          808.9,
          826.4,
          629.6,
          688.6,
          729.8,
          384.9,
          357.4,
          364.2,
          505.6,
          412.3,
          436.6,
          594.7,
          295.8,
          595.7,
          357.6,
          347.3,
          330.6,
          733.5,
          474.2,
          706.7,
          439.6,
          268.6
         ],
         "z": [
          0.0146,
          0.01898,
          0.01432,
          0.004899,
          0.01646,
          0.01427,
          0.01382,
          0.009758,
          0.01177,
          0.00838,
          0.008722,
          0.008593,
          0.01055,
          0.01099,
          0.03162,
          0.03938,
          0.01755,
          0.009216,
          0.08606,
          0.005612,
          0.09368,
          0.01819,
          0.02839,
          0.01661,
          0.01706,
          0.03575,
          0.01812,
          0.02493,
          0.04412,
          0.01818,
          0.01038,
          0.01491,
          0.01179,
          0.01463,
          0.0133,
          0.01084,
          0.006098,
          0.02196,
          0.02219,
          0.0231,
          0.01047,
          0.01557,
          0.02932,
          0.04042,
          0.07446,
          0.03747,
          0.02213,
          0.02507,
          0.0676,
          0.01529,
          0.01276,
          0.0327,
          0.009169,
          0.04185,
          0.02456,
          0.01515,
          0.0138,
          0.01521,
          0.03498,
          0.005656,
          0.01735,
          0.01563,
          0.01781,
          0.04741,
          0.04877,
          0.02297,
          0.01592,
          0.01142,
          0.05416,
          0.09586,
          0.008985,
          0.02017,
          0.01562,
          0.02661,
          0.009789,
          0.006134,
          0.02405,
          0.03175,
          0.007983,
          0.009816,
          0.0137,
          0.0118,
          0.02121,
          0.01017,
          0.008007,
          0.08808,
          0.002252,
          0.006364,
          0.03728,
          0.012,
          0.008704,
          0.008776,
          0.02212,
          0.0179,
          0.006736,
          0.01587,
          0.01779,
          0.01911,
          0.01249,
          0.03041,
          0.01236,
          0.01727,
          0.04192,
          0.0312,
          0.01695,
          0.02314,
          0.014,
          0.01104,
          0.01428,
          0.008061,
          0.03207,
          0.02294,
          0.01647,
          0.006813,
          0.0104,
          0.01383,
          0.02845,
          0.01248,
          0.00493,
          0.05914,
          0.02667,
          0.01386,
          0.01569,
          0.05592,
          0.01035,
          0.01228,
          0.01065,
          0.03581,
          0.02406,
          0.02178,
          0.04785,
          0.00371,
          0.01122,
          0.01067,
          0.01489,
          0.008998,
          0.005274,
          0.01541,
          0.01442,
          0.03961,
          0.008008,
          0.05156,
          0.01345,
          0.08262,
          0.01395,
          0.1064,
          0.02115,
          0.02003,
          0.015,
          0.0118,
          0.008153,
          0.01221,
          0.01377,
          0.01443,
          0.03369,
          0.009362,
          0.02652,
          0.02337,
          0.007861,
          0.004883,
          0.003746,
          0.004711,
          0.00911,
          0.006021,
          0.02768,
          0.0134,
          0.01403,
          0.003012,
          0.005767,
          0.0659,
          0.01079,
          0.04265,
          0.02016,
          0.01418,
          0.009514,
          0.01132,
          0.006887,
          0.03255,
          0.01104,
          0.007124,
          0.008432,
          0.02305,
          0.01449,
          0.03053,
          0.03471,
          0.01877,
          0.01097,
          0.04671,
          0.01096,
          0.01506,
          0.008548,
          0.02417,
          0.006991,
          0.03387,
          0.04235,
          0.03932,
          0.007939,
          0.02899,
          0.008982,
          0.004693,
          0.02045,
          0.01646,
          0.01805,
          0.0125,
          0.01388,
          0.01485,
          0.01587,
          0.01812,
          0.07643,
          0.01203,
          0.02984,
          0.01777,
          0.01903,
          0.0456,
          0.03705,
          0.02073,
          0.03026,
          0.01415,
          0.06669,
          0.01365,
          0.01966,
          0.01631,
          0.01273,
          0.01957,
          0.03477,
          0.01469,
          0.01964,
          0.01204,
          0.03713,
          0.01285,
          0.008491,
          0.02134,
          0.01246,
          0.0448,
          0.0231,
          0.009947,
          0.009355,
          0.02674,
          0.02808,
          0.03053,
          0.01674,
          0.01263,
          0.009442,
          0.02047,
          0.05244,
          0.02005,
          0.02809,
          0.01885,
          0.005697,
          0.03867,
          0.02148,
          0.006263,
          0.01174,
          0.03295,
          0.01665,
          0.01362,
          0.01295,
          0.01095,
          0.009238,
          0.04638,
          0.01156,
          0.01331,
          0.02025,
          0.01171,
          0.02048,
          0.06063,
          0.02589,
          0.01251,
          0.008539,
          0.01246,
          0.02418,
          0.008082,
          0.008974,
          0.0127,
          0.01679,
          0.01701,
          0.01493,
          0.06657,
          0.03179,
          0.01257,
          0.03206,
          0.01989,
          0.01555,
          0.0177,
          0.008243,
          0.03093,
          0.01796,
          0.03288,
          0.01315,
          0.02114,
          0.01666,
          0.01082,
          0.01452,
          0.008186,
          0.0182,
          0.07471,
          0.01393,
          0.01292,
          0.01205,
          0.008274,
          0.01003,
          0.02052,
          0.01371,
          0.02502,
          0.01371,
          0.01819,
          0.01567,
          0.04542,
          0.04888,
          0.02198,
          0.02348,
          0.01203,
          0.03916,
          0.01197,
          0.01812,
          0.01641,
          0.02329,
          0.01561,
          0.0254,
          0.0059,
          0.02251,
          0.02042,
          0.01762,
          0.01443,
          0.009169,
          0.03247,
          0.01153,
          0.01815,
          0.01727,
          0.007228,
          0.03378,
          0.03495,
          0.009692,
          0.06457,
          0.04112,
          0.04653,
          0.01172,
          0.01372,
          0.02172,
          0.02099,
          0.007247,
          0.03084,
          0.01123,
          0.0187,
          0.01104,
          0.03051,
          0.01233,
          0.01834,
          0.02153,
          0.02736,
          0.02222,
          0.01124,
          0.04639,
          0.02982,
          0.02678,
          0.008878,
          0.00466
         ]
        }
       ],
       "layout": {
        "legend": {
         "title": {
          "text": "Diagnosis, symbol"
         },
         "tracegroupgap": 0
        },
        "margin": {
         "t": 60
        },
        "scene": {
         "domain": {
          "x": [
           0,
           1
          ],
          "y": [
           0,
           1
          ]
         },
         "xaxis": {
          "title": {
           "text": "worst concave points"
          }
         },
         "yaxis": {
          "title": {
           "text": "worst area"
          }
         },
         "zaxis": {
          "title": {
           "text": "compactness error"
          }
         }
        },
        "template": {
         "data": {
          "bar": [
           {
            "error_x": {
             "color": "#2a3f5f"
            },
            "error_y": {
             "color": "#2a3f5f"
            },
            "marker": {
             "line": {
              "color": "#E5ECF6",
              "width": 0.5
             },
             "pattern": {
              "fillmode": "overlay",
              "size": 10,
              "solidity": 0.2
             }
            },
            "type": "bar"
           }
          ],
          "barpolar": [
           {
            "marker": {
             "line": {
              "color": "#E5ECF6",
              "width": 0.5
             },
             "pattern": {
              "fillmode": "overlay",
              "size": 10,
              "solidity": 0.2
             }
            },
            "type": "barpolar"
           }
          ],
          "carpet": [
           {
            "aaxis": {
             "endlinecolor": "#2a3f5f",
             "gridcolor": "white",
             "linecolor": "white",
             "minorgridcolor": "white",
             "startlinecolor": "#2a3f5f"
            },
            "baxis": {
             "endlinecolor": "#2a3f5f",
             "gridcolor": "white",
             "linecolor": "white",
             "minorgridcolor": "white",
             "startlinecolor": "#2a3f5f"
            },
            "type": "carpet"
           }
          ],
          "choropleth": [
           {
            "colorbar": {
             "outlinewidth": 0,
             "ticks": ""
            },
            "type": "choropleth"
           }
          ],
          "contour": [
           {
            "colorbar": {
             "outlinewidth": 0,
             "ticks": ""
            },
            "colorscale": [
             [
              0,
              "#0d0887"
             ],
             [
              0.1111111111111111,
              "#46039f"
             ],
             [
              0.2222222222222222,
              "#7201a8"
             ],
             [
              0.3333333333333333,
              "#9c179e"
             ],
             [
              0.4444444444444444,
              "#bd3786"
             ],
             [
              0.5555555555555556,
              "#d8576b"
             ],
             [
              0.6666666666666666,
              "#ed7953"
             ],
             [
              0.7777777777777778,
              "#fb9f3a"
             ],
             [
              0.8888888888888888,
              "#fdca26"
             ],
             [
              1,
              "#f0f921"
             ]
            ],
            "type": "contour"
           }
          ],
          "contourcarpet": [
           {
            "colorbar": {
             "outlinewidth": 0,
             "ticks": ""
            },
            "type": "contourcarpet"
           }
          ],
          "heatmap": [
           {
            "colorbar": {
             "outlinewidth": 0,
             "ticks": ""
            },
            "colorscale": [
             [
              0,
              "#0d0887"
             ],
             [
              0.1111111111111111,
              "#46039f"
             ],
             [
              0.2222222222222222,
              "#7201a8"
             ],
             [
              0.3333333333333333,
              "#9c179e"
             ],
             [
              0.4444444444444444,
              "#bd3786"
             ],
             [
              0.5555555555555556,
              "#d8576b"
             ],
             [
              0.6666666666666666,
              "#ed7953"
             ],
             [
              0.7777777777777778,
              "#fb9f3a"
             ],
             [
              0.8888888888888888,
              "#fdca26"
             ],
             [
              1,
              "#f0f921"
             ]
            ],
            "type": "heatmap"
           }
          ],
          "heatmapgl": [
           {
            "colorbar": {
             "outlinewidth": 0,
             "ticks": ""
            },
            "colorscale": [
             [
              0,
              "#0d0887"
             ],
             [
              0.1111111111111111,
              "#46039f"
             ],
             [
              0.2222222222222222,
              "#7201a8"
             ],
             [
              0.3333333333333333,
              "#9c179e"
             ],
             [
              0.4444444444444444,
              "#bd3786"
             ],
             [
              0.5555555555555556,
              "#d8576b"
             ],
             [
              0.6666666666666666,
              "#ed7953"
             ],
             [
              0.7777777777777778,
              "#fb9f3a"
             ],
             [
              0.8888888888888888,
              "#fdca26"
             ],
             [
              1,
              "#f0f921"
             ]
            ],
            "type": "heatmapgl"
           }
          ],
          "histogram": [
           {
            "marker": {
             "pattern": {
              "fillmode": "overlay",
              "size": 10,
              "solidity": 0.2
             }
            },
            "type": "histogram"
           }
          ],
          "histogram2d": [
           {
            "colorbar": {
             "outlinewidth": 0,
             "ticks": ""
            },
            "colorscale": [
             [
              0,
              "#0d0887"
             ],
             [
              0.1111111111111111,
              "#46039f"
             ],
             [
              0.2222222222222222,
              "#7201a8"
             ],
             [
              0.3333333333333333,
              "#9c179e"
             ],
             [
              0.4444444444444444,
              "#bd3786"
             ],
             [
              0.5555555555555556,
              "#d8576b"
             ],
             [
              0.6666666666666666,
              "#ed7953"
             ],
             [
              0.7777777777777778,
              "#fb9f3a"
             ],
             [
              0.8888888888888888,
              "#fdca26"
             ],
             [
              1,
              "#f0f921"
             ]
            ],
            "type": "histogram2d"
           }
          ],
          "histogram2dcontour": [
           {
            "colorbar": {
             "outlinewidth": 0,
             "ticks": ""
            },
            "colorscale": [
             [
              0,
              "#0d0887"
             ],
             [
              0.1111111111111111,
              "#46039f"
             ],
             [
              0.2222222222222222,
              "#7201a8"
             ],
             [
              0.3333333333333333,
              "#9c179e"
             ],
             [
              0.4444444444444444,
              "#bd3786"
             ],
             [
              0.5555555555555556,
              "#d8576b"
             ],
             [
              0.6666666666666666,
              "#ed7953"
             ],
             [
              0.7777777777777778,
              "#fb9f3a"
             ],
             [
              0.8888888888888888,
              "#fdca26"
             ],
             [
              1,
              "#f0f921"
             ]
            ],
            "type": "histogram2dcontour"
           }
          ],
          "mesh3d": [
           {
            "colorbar": {
             "outlinewidth": 0,
             "ticks": ""
            },
            "type": "mesh3d"
           }
          ],
          "parcoords": [
           {
            "line": {
             "colorbar": {
              "outlinewidth": 0,
              "ticks": ""
             }
            },
            "type": "parcoords"
           }
          ],
          "pie": [
           {
            "automargin": true,
            "type": "pie"
           }
          ],
          "scatter": [
           {
            "fillpattern": {
             "fillmode": "overlay",
             "size": 10,
             "solidity": 0.2
            },
            "type": "scatter"
           }
          ],
          "scatter3d": [
           {
            "line": {
             "colorbar": {
              "outlinewidth": 0,
              "ticks": ""
             }
            },
            "marker": {
             "colorbar": {
              "outlinewidth": 0,
              "ticks": ""
             }
            },
            "type": "scatter3d"
           }
          ],
          "scattercarpet": [
           {
            "marker": {
             "colorbar": {
              "outlinewidth": 0,
              "ticks": ""
             }
            },
            "type": "scattercarpet"
           }
          ],
          "scattergeo": [
           {
            "marker": {
             "colorbar": {
              "outlinewidth": 0,
              "ticks": ""
             }
            },
            "type": "scattergeo"
           }
          ],
          "scattergl": [
           {
            "marker": {
             "colorbar": {
              "outlinewidth": 0,
              "ticks": ""
             }
            },
            "type": "scattergl"
           }
          ],
          "scattermapbox": [
           {
            "marker": {
             "colorbar": {
              "outlinewidth": 0,
              "ticks": ""
             }
            },
            "type": "scattermapbox"
           }
          ],
          "scatterpolar": [
           {
            "marker": {
             "colorbar": {
              "outlinewidth": 0,
              "ticks": ""
             }
            },
            "type": "scatterpolar"
           }
          ],
          "scatterpolargl": [
           {
            "marker": {
             "colorbar": {
              "outlinewidth": 0,
              "ticks": ""
             }
            },
            "type": "scatterpolargl"
           }
          ],
          "scatterternary": [
           {
            "marker": {
             "colorbar": {
              "outlinewidth": 0,
              "ticks": ""
             }
            },
            "type": "scatterternary"
           }
          ],
          "surface": [
           {
            "colorbar": {
             "outlinewidth": 0,
             "ticks": ""
            },
            "colorscale": [
             [
              0,
              "#0d0887"
             ],
             [
              0.1111111111111111,
              "#46039f"
             ],
             [
              0.2222222222222222,
              "#7201a8"
             ],
             [
              0.3333333333333333,
              "#9c179e"
             ],
             [
              0.4444444444444444,
              "#bd3786"
             ],
             [
              0.5555555555555556,
              "#d8576b"
             ],
             [
              0.6666666666666666,
              "#ed7953"
             ],
             [
              0.7777777777777778,
              "#fb9f3a"
             ],
             [
              0.8888888888888888,
              "#fdca26"
             ],
             [
              1,
              "#f0f921"
             ]
            ],
            "type": "surface"
           }
          ],
          "table": [
           {
            "cells": {
             "fill": {
              "color": "#EBF0F8"
             },
             "line": {
              "color": "white"
             }
            },
            "header": {
             "fill": {
              "color": "#C8D4E3"
             },
             "line": {
              "color": "white"
             }
            },
            "type": "table"
           }
          ]
         },
         "layout": {
          "annotationdefaults": {
           "arrowcolor": "#2a3f5f",
           "arrowhead": 0,
           "arrowwidth": 1
          },
          "autotypenumbers": "strict",
          "coloraxis": {
           "colorbar": {
            "outlinewidth": 0,
            "ticks": ""
           }
          },
          "colorscale": {
           "diverging": [
            [
             0,
             "#8e0152"
            ],
            [
             0.1,
             "#c51b7d"
            ],
            [
             0.2,
             "#de77ae"
            ],
            [
             0.3,
             "#f1b6da"
            ],
            [
             0.4,
             "#fde0ef"
            ],
            [
             0.5,
             "#f7f7f7"
            ],
            [
             0.6,
             "#e6f5d0"
            ],
            [
             0.7,
             "#b8e186"
            ],
            [
             0.8,
             "#7fbc41"
            ],
            [
             0.9,
             "#4d9221"
            ],
            [
             1,
             "#276419"
            ]
           ],
           "sequential": [
            [
             0,
             "#0d0887"
            ],
            [
             0.1111111111111111,
             "#46039f"
            ],
            [
             0.2222222222222222,
             "#7201a8"
            ],
            [
             0.3333333333333333,
             "#9c179e"
            ],
            [
             0.4444444444444444,
             "#bd3786"
            ],
            [
             0.5555555555555556,
             "#d8576b"
            ],
            [
             0.6666666666666666,
             "#ed7953"
            ],
            [
             0.7777777777777778,
             "#fb9f3a"
            ],
            [
             0.8888888888888888,
             "#fdca26"
            ],
            [
             1,
             "#f0f921"
            ]
           ],
           "sequentialminus": [
            [
             0,
             "#0d0887"
            ],
            [
             0.1111111111111111,
             "#46039f"
            ],
            [
             0.2222222222222222,
             "#7201a8"
            ],
            [
             0.3333333333333333,
             "#9c179e"
            ],
            [
             0.4444444444444444,
             "#bd3786"
            ],
            [
             0.5555555555555556,
             "#d8576b"
            ],
            [
             0.6666666666666666,
             "#ed7953"
            ],
            [
             0.7777777777777778,
             "#fb9f3a"
            ],
            [
             0.8888888888888888,
             "#fdca26"
            ],
            [
             1,
             "#f0f921"
            ]
           ]
          },
          "colorway": [
           "#636efa",
           "#EF553B",
           "#00cc96",
           "#ab63fa",
           "#FFA15A",
           "#19d3f3",
           "#FF6692",
           "#B6E880",
           "#FF97FF",
           "#FECB52"
          ],
          "font": {
           "color": "#2a3f5f"
          },
          "geo": {
           "bgcolor": "white",
           "lakecolor": "white",
           "landcolor": "#E5ECF6",
           "showlakes": true,
           "showland": true,
           "subunitcolor": "white"
          },
          "hoverlabel": {
           "align": "left"
          },
          "hovermode": "closest",
          "mapbox": {
           "style": "light"
          },
          "paper_bgcolor": "white",
          "plot_bgcolor": "#E5ECF6",
          "polar": {
           "angularaxis": {
            "gridcolor": "white",
            "linecolor": "white",
            "ticks": ""
           },
           "bgcolor": "#E5ECF6",
           "radialaxis": {
            "gridcolor": "white",
            "linecolor": "white",
            "ticks": ""
           }
          },
          "scene": {
           "xaxis": {
            "backgroundcolor": "#E5ECF6",
            "gridcolor": "white",
            "gridwidth": 2,
            "linecolor": "white",
            "showbackground": true,
            "ticks": "",
            "zerolinecolor": "white"
           },
           "yaxis": {
            "backgroundcolor": "#E5ECF6",
            "gridcolor": "white",
            "gridwidth": 2,
            "linecolor": "white",
            "showbackground": true,
            "ticks": "",
            "zerolinecolor": "white"
           },
           "zaxis": {
            "backgroundcolor": "#E5ECF6",
            "gridcolor": "white",
            "gridwidth": 2,
            "linecolor": "white",
            "showbackground": true,
            "ticks": "",
            "zerolinecolor": "white"
           }
          },
          "shapedefaults": {
           "line": {
            "color": "#2a3f5f"
           }
          },
          "ternary": {
           "aaxis": {
            "gridcolor": "white",
            "linecolor": "white",
            "ticks": ""
           },
           "baxis": {
            "gridcolor": "white",
            "linecolor": "white",
            "ticks": ""
           },
           "bgcolor": "#E5ECF6",
           "caxis": {
            "gridcolor": "white",
            "linecolor": "white",
            "ticks": ""
           }
          },
          "title": {
           "x": 0.05
          },
          "xaxis": {
           "automargin": true,
           "gridcolor": "white",
           "linecolor": "white",
           "ticks": "",
           "title": {
            "standoff": 15
           },
           "zerolinecolor": "white",
           "zerolinewidth": 2
          },
          "yaxis": {
           "automargin": true,
           "gridcolor": "white",
           "linecolor": "white",
           "ticks": "",
           "title": {
            "standoff": 15
           },
           "zerolinecolor": "white",
           "zerolinewidth": 2
          }
         }
        }
       }
      }
     },
     "metadata": {},
     "output_type": "display_data"
    }
   ],
   "source": [
    "produce_scatter_plot(breast_cancer_inputs,breast_cancer_outputs,['worst concave points', 'worst area', 'compactness error'])"
   ]
  },
  {
   "attachments": {},
   "cell_type": "markdown",
   "metadata": {},
   "source": [
    "Whilst there are some trends between some variables, with others it is very hard to see.\n",
    "\n",
    "It would take days for a human to try and classify whether an individual has breast cancer.\n",
    "\n",
    "### Can we use machine learning to accurately predict whether someone has breast cancer? "
   ]
  },
  {
   "cell_type": "code",
   "execution_count": 10,
   "metadata": {},
   "outputs": [],
   "source": [
    "from sklearn.model_selection import train_test_split\n",
    "\n",
    "# When creating a machine learning model, it is important to have some training data and some testing data.\n",
    "\n",
    "# training data - this is data that is used to train the model.\n",
    "# testing data - this is data used to test the model.\n",
    "\n",
    "# The following function splits our data randomly to test and trainnig data.\n",
    "breast_cancer_inputs_training, breast_cancer_inputs_testing, breast_cancer_outputs_training, breast_cancer_outputs_testing = train_test_split(breast_cancer_inputs, breast_cancer_outputs)"
   ]
  },
  {
   "cell_type": "code",
   "execution_count": 11,
   "metadata": {},
   "outputs": [],
   "source": [
    "from sklearn.ensemble import RandomForestClassifier\n",
    "\n",
    "# This is one example of a classification model, called a random forest classifier.\n",
    "# Others are available\n",
    "classification_model = RandomForestClassifier()"
   ]
  },
  {
   "cell_type": "code",
   "execution_count": 12,
   "metadata": {},
   "outputs": [
    {
     "data": {
      "text/html": [
       "<style>#sk-container-id-1 {color: black;background-color: white;}#sk-container-id-1 pre{padding: 0;}#sk-container-id-1 div.sk-toggleable {background-color: white;}#sk-container-id-1 label.sk-toggleable__label {cursor: pointer;display: block;width: 100%;margin-bottom: 0;padding: 0.3em;box-sizing: border-box;text-align: center;}#sk-container-id-1 label.sk-toggleable__label-arrow:before {content: \"▸\";float: left;margin-right: 0.25em;color: #696969;}#sk-container-id-1 label.sk-toggleable__label-arrow:hover:before {color: black;}#sk-container-id-1 div.sk-estimator:hover label.sk-toggleable__label-arrow:before {color: black;}#sk-container-id-1 div.sk-toggleable__content {max-height: 0;max-width: 0;overflow: hidden;text-align: left;background-color: #f0f8ff;}#sk-container-id-1 div.sk-toggleable__content pre {margin: 0.2em;color: black;border-radius: 0.25em;background-color: #f0f8ff;}#sk-container-id-1 input.sk-toggleable__control:checked~div.sk-toggleable__content {max-height: 200px;max-width: 100%;overflow: auto;}#sk-container-id-1 input.sk-toggleable__control:checked~label.sk-toggleable__label-arrow:before {content: \"▾\";}#sk-container-id-1 div.sk-estimator input.sk-toggleable__control:checked~label.sk-toggleable__label {background-color: #d4ebff;}#sk-container-id-1 div.sk-label input.sk-toggleable__control:checked~label.sk-toggleable__label {background-color: #d4ebff;}#sk-container-id-1 input.sk-hidden--visually {border: 0;clip: rect(1px 1px 1px 1px);clip: rect(1px, 1px, 1px, 1px);height: 1px;margin: -1px;overflow: hidden;padding: 0;position: absolute;width: 1px;}#sk-container-id-1 div.sk-estimator {font-family: monospace;background-color: #f0f8ff;border: 1px dotted black;border-radius: 0.25em;box-sizing: border-box;margin-bottom: 0.5em;}#sk-container-id-1 div.sk-estimator:hover {background-color: #d4ebff;}#sk-container-id-1 div.sk-parallel-item::after {content: \"\";width: 100%;border-bottom: 1px solid gray;flex-grow: 1;}#sk-container-id-1 div.sk-label:hover label.sk-toggleable__label {background-color: #d4ebff;}#sk-container-id-1 div.sk-serial::before {content: \"\";position: absolute;border-left: 1px solid gray;box-sizing: border-box;top: 0;bottom: 0;left: 50%;z-index: 0;}#sk-container-id-1 div.sk-serial {display: flex;flex-direction: column;align-items: center;background-color: white;padding-right: 0.2em;padding-left: 0.2em;position: relative;}#sk-container-id-1 div.sk-item {position: relative;z-index: 1;}#sk-container-id-1 div.sk-parallel {display: flex;align-items: stretch;justify-content: center;background-color: white;position: relative;}#sk-container-id-1 div.sk-item::before, #sk-container-id-1 div.sk-parallel-item::before {content: \"\";position: absolute;border-left: 1px solid gray;box-sizing: border-box;top: 0;bottom: 0;left: 50%;z-index: -1;}#sk-container-id-1 div.sk-parallel-item {display: flex;flex-direction: column;z-index: 1;position: relative;background-color: white;}#sk-container-id-1 div.sk-parallel-item:first-child::after {align-self: flex-end;width: 50%;}#sk-container-id-1 div.sk-parallel-item:last-child::after {align-self: flex-start;width: 50%;}#sk-container-id-1 div.sk-parallel-item:only-child::after {width: 0;}#sk-container-id-1 div.sk-dashed-wrapped {border: 1px dashed gray;margin: 0 0.4em 0.5em 0.4em;box-sizing: border-box;padding-bottom: 0.4em;background-color: white;}#sk-container-id-1 div.sk-label label {font-family: monospace;font-weight: bold;display: inline-block;line-height: 1.2em;}#sk-container-id-1 div.sk-label-container {text-align: center;}#sk-container-id-1 div.sk-container {/* jupyter's `normalize.less` sets `[hidden] { display: none; }` but bootstrap.min.css set `[hidden] { display: none !important; }` so we also need the `!important` here to be able to override the default hidden behavior on the sphinx rendered scikit-learn.org. See: https://github.com/scikit-learn/scikit-learn/issues/21755 */display: inline-block !important;position: relative;}#sk-container-id-1 div.sk-text-repr-fallback {display: none;}</style><div id=\"sk-container-id-1\" class=\"sk-top-container\"><div class=\"sk-text-repr-fallback\"><pre>RandomForestClassifier()</pre><b>In a Jupyter environment, please rerun this cell to show the HTML representation or trust the notebook. <br />On GitHub, the HTML representation is unable to render, please try loading this page with nbviewer.org.</b></div><div class=\"sk-container\" hidden><div class=\"sk-item\"><div class=\"sk-estimator sk-toggleable\"><input class=\"sk-toggleable__control sk-hidden--visually\" id=\"sk-estimator-id-1\" type=\"checkbox\" checked><label for=\"sk-estimator-id-1\" class=\"sk-toggleable__label sk-toggleable__label-arrow\">RandomForestClassifier</label><div class=\"sk-toggleable__content\"><pre>RandomForestClassifier()</pre></div></div></div></div></div>"
      ],
      "text/plain": [
       "RandomForestClassifier()"
      ]
     },
     "execution_count": 12,
     "metadata": {},
     "output_type": "execute_result"
    }
   ],
   "source": [
    "classification_model.fit(breast_cancer_inputs_training,breast_cancer_outputs_training)"
   ]
  },
  {
   "cell_type": "code",
   "execution_count": 13,
   "metadata": {},
   "outputs": [],
   "source": [
    "predictions = classification_model.predict(breast_cancer_inputs_testing)"
   ]
  },
  {
   "attachments": {},
   "cell_type": "markdown",
   "metadata": {},
   "source": [
    "What do the predictions actually look like? Lets make another function"
   ]
  },
  {
   "cell_type": "code",
   "execution_count": 14,
   "metadata": {},
   "outputs": [
    {
     "name": "stdout",
     "output_type": "stream",
     "text": [
      "[1 1 0 1 1 1 1 0 1 1 1 1 0 1 1 1 1 0 1 1 1 0 1 1 1 1 1 0 0 0 1 0 1 1 0 0 1\n",
      " 0 1 1 0 1 0 1 1 0 0 1 1 1 0 0 1 0 1 0 0 1 0 0 1 1 0 1 1 1 0 0 0 0 0 1 1 0\n",
      " 1 0 1 0 0 1 1 1 1 0 0 1 0 0 0 1 0 0 0 0 1 1 1 0 0 1 1 0 0 1 0 0 1 1 1 0 1\n",
      " 0 1 1 1 0 1 0 0 1 0 1 1 1 0 1 1 1 1 1 1 1 1 1 0 1 0 1 1 1 0 1 0]\n"
     ]
    }
   ],
   "source": [
    "print(predictions)"
   ]
  },
  {
   "cell_type": "code",
   "execution_count": 15,
   "metadata": {},
   "outputs": [],
   "source": [
    "def plot_predictions(predictions, actual):\n",
    "\n",
    "    correct_predictions = 0\n",
    "    incorrect_predictions = 0\n",
    "\n",
    "    for prediction, value in zip(predictions, actual):\n",
    "        if prediction == value:\n",
    "            correct_predictions += 1\n",
    "        else:\n",
    "            incorrect_predictions += 1\n",
    "\n",
    "    total_predictions = len(predictions)\n",
    "\n",
    "    #Remember our function we made earlier!\n",
    "    correct_percentage = round( calculate_percentage(correct_predictions,total_predictions) ,1)\n",
    "    incorrect_percentage = round( calculate_percentage(incorrect_predictions,total_predictions), 1)\n",
    "\n",
    "    plt.pie([correct_predictions,incorrect_predictions],\n",
    "            labels=[f\"Correct Predictions\\n{correct_percentage}\",f\"Incorrect Predictions\\n{incorrect_percentage}%\"])\n",
    "             \n",
    "    plt.title(\"Percentage of Correct and Incorrect Predictions\")\n",
    "    \n",
    "    "
   ]
  },
  {
   "cell_type": "code",
   "execution_count": 16,
   "metadata": {},
   "outputs": [
    {
     "data": {
      "image/png": "[encoded data removed]",
      "text/plain": [
       "<Figure size 640x480 with 1 Axes>"
      ]
     },
     "metadata": {},
     "output_type": "display_data"
    }
   ],
   "source": [
    "plot_predictions(predictions, breast_cancer_outputs_testing)"
   ]
  }
 ],
 "metadata": {
  "kernelspec": {
   "display_name": "Python 3",
   "language": "python",
   "name": "python3"
  },
  "language_info": {
   "codemirror_mode": {
    "name": "ipython",
    "version": 3
   },
   "file_extension": ".py",
   "mimetype": "text/x-python",
   "name": "python",
   "nbconvert_exporter": "python",
   "pygments_lexer": "ipython3",
   "version": "3.11.3"
  },
  "orig_nbformat": 4
 },
 "nbformat": 4,
 "nbformat_minor": 2
}
