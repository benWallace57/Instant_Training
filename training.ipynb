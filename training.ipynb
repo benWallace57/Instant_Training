{
 "cells": [
  {
   "attachments": {},
   "cell_type": "markdown",
   "metadata": {},
   "source": [
    "# 🤖 Artificial Intelligence, Machine Learning and Python 🤖"
   ]
  },
  {
   "attachments": {},
   "cell_type": "markdown",
   "metadata": {},
   "source": [
    "## Why does it all matter? "
   ]
  },
  {
   "attachments": {},
   "cell_type": "markdown",
   "metadata": {},
   "source": [
    "Artificial Intelligence is becoming more and more prevalent in healthcare. Look at these recent headlines! \n"
   ]
  },
  {
   "attachments": {},
   "cell_type": "markdown",
   "metadata": {},
   "source": [
    "![image](.//headline_1.png)\n",
    "\n",
    "![image](.//headline_2.png)"
   ]
  },
  {
   "attachments": {},
   "cell_type": "markdown",
   "metadata": {},
   "source": [
    "Artificial Intelligence is going to become more and more prominent within the NHS."
   ]
  },
  {
   "attachments": {},
   "cell_type": "markdown",
   "metadata": {},
   "source": [
    "![image](.//headline_3.png)"
   ]
  },
  {
   "attachments": {},
   "cell_type": "markdown",
   "metadata": {},
   "source": [
    "Also, Artificial Intelligence is just really interesting! (And sometimes a bit scary!) It's here to stay, so understanding it is going to be important for those doing testing and assurance in the NHS. \n",
    "Here are a final selection of headlines to show just how **versatile**, **interesting**, and **important** AI is becoming."
   ]
  },
  {
   "attachments": {},
   "cell_type": "markdown",
   "metadata": {},
   "source": [
    "![image](.//headline_4.png)\n",
    "\n",
    "![image](.//headline_5.png)"
   ]
  },
  {
   "attachments": {},
   "cell_type": "markdown",
   "metadata": {},
   "source": [
    "## What is todays plan? \n",
    "\n",
    "##### **We will start by creating an Artificial Intelligence that can predict if an individual has breast cancer?**\n",
    "##### **We will then learn a few ways of testing and assuring Artificial intellegence models** \n"
   ]
  },
  {
   "attachments": {},
   "cell_type": "markdown",
   "metadata": {},
   "source": [
    "### Before we get into coding - let's go over some definitions.\n",
    "\n",
    "Firstly - what actually is Artificial Intelligence? \n",
    "\n",
    "Online Chatbots, Amazon Alexa, a self driving Tesla, these are all examples of **machine learning** and **artificial intelligence**. \n",
    "\n",
    "- Artificial Intelligence (often referred to as AI) is a general term used to describe computers completing task that we would consider clever or intelligent. \n",
    "\n",
    "- Machine Learning is a particular application of AI, it is where computers use data to learn patterns and make predictions without explicit instructions from developers. \n",
    "\n",
    "Today, our focus is going to be more closely aligned to machine learning. We are going to use a dataset to **train** a **machine learning model** (often just referred to as a model), so that it can make **predictions** that we can **test** and **assure**."
   ]
  },
  {
   "attachments": {},
   "cell_type": "markdown",
   "metadata": {},
   "source": [
    "## Python Recap"
   ]
  },
  {
   "attachments": {},
   "cell_type": "markdown",
   "metadata": {},
   "source": [
    "Firstly, let's give a quick recap of python and of functions. This will help us a lot later! "
   ]
  },
  {
   "cell_type": "code",
   "execution_count": null,
   "metadata": {},
   "outputs": [],
   "source": [
    "# This is a block of code written in python. It is written inside a box, known as a cell.\n",
    "# Every time you get to a piece of code in this notebook, you will need to run it.\n",
    "# There are two possible ways to do this.\n",
    "\n",
    "# 1 - Click the triangular play button in the top left corner of the cell. \n",
    "# 2 - If you are clicked inside the cell, you can hold shift and press enter.\n",
    "\n",
    "# Once the code has successfully ran, you will see a little blue tick.\n",
    "\n",
    "# Sometimes, the code will also give an output, which will also appear when you have ran the code. \n",
    "# Like this!\n",
    "print(\"Hello!\")"
   ]
  },
  {
   "cell_type": "code",
   "execution_count": null,
   "metadata": {},
   "outputs": [],
   "source": [
    "# This is a very simple function that works out percentages.\n",
    "# You pass it in two numbers, called parameters.\n",
    "# These represent the numerator and denominator of a fraction.\n",
    "# Some simple maths is done, and the fraction is returned.  \n",
    "\n",
    "def calculate_percentage(numerator, denominator):\n",
    "    fraction = numerator / denominator\n",
    "    return fraction * 100\n",
    "\n",
    "# When you run this code snippet nothing will happen, you need to call the function for it to return you something.\n",
    "# You should still see a little green tick!"
   ]
  },
  {
   "cell_type": "code",
   "execution_count": null,
   "metadata": {},
   "outputs": [],
   "source": [
    "# Call the function here:\n",
    "# You should see a output when you run this piece of code.\n",
    "# If you get an error, make sure you have entered two numbers without speech marks between the brackets separated by a comma. \n",
    "\n",
    "calculate_percentage(\"\"\"your value 1\"\"\", \"\"\"your value 2\"\"\")"
   ]
  },
  {
   "attachments": {},
   "cell_type": "markdown",
   "metadata": {},
   "source": [
    "## Lets look at some data! "
   ]
  },
  {
   "attachments": {},
   "cell_type": "markdown",
   "metadata": {},
   "source": [
    "Over the next few steps, we are going to follow the path of a data scientist creating a machine learning model.\n",
    "\n",
    "**Don't worry!** This is not something you will be expected to do after this course. It is just an opportunity to learn how a machine learning model is made, and this will help you understand why we test it in certain ways later in this course."
   ]
  },
  {
   "cell_type": "code",
   "execution_count": null,
   "metadata": {},
   "outputs": [],
   "source": [
    "# # These next few lines of code install certain packages. These contain lots and lots of functions which we can use in our code later.\n",
    "\n",
    "!pip install pandas\n",
    "!pip install plotly\n",
    "!pip install -U shap\n",
    "!pip install -U scikit-learn"
   ]
  },
  {
   "cell_type": "code",
   "execution_count": null,
   "metadata": {},
   "outputs": [],
   "source": [
    "#Now that we have installed them, we can import certain libraries and functions. \n",
    "\n",
    "# This first function is used to load a pre-existing breast cancer dataset\n",
    "from sklearn.datasets import load_breast_cancer\n",
    "\n",
    "# Pandas is a library containing lots of functions used to modify and navigate dataframes.\n",
    "import pandas as pd\n",
    "\n",
    "# Plotly is a library which helps us generate plots.\n",
    "import plotly.express as px"
   ]
  },
  {
   "cell_type": "code",
   "execution_count": null,
   "metadata": {},
   "outputs": [],
   "source": [
    "# We are about to use the load_breast_cancer function from sklearn \n",
    "# This calls the function to return:\n",
    "\n",
    "#breast_cancer_inputs  \n",
    "# - This is the raw data containing information about different breast cancer screenings\n",
    "\n",
    "#breast_cancer_outputs \n",
    "# - This contains the classification of whether each screening is identified as being breast cancer\n",
    "\n",
    "breast_cancer_inputs, breast_cancer_outputs = load_breast_cancer(return_X_y=True, as_frame=True) "
   ]
  },
  {
   "cell_type": "code",
   "execution_count": null,
   "metadata": {},
   "outputs": [],
   "source": [
    "# What does the data look like?\n",
    "display(breast_cancer_inputs)"
   ]
  },
  {
   "attachments": {},
   "cell_type": "markdown",
   "metadata": {},
   "source": [
    "Let's be honest, this data is really confusing and we cannot really tell anything from it!\n",
    "\n",
    "We can create a plotting function to help us spot some trends. "
   ]
  },
  {
   "cell_type": "code",
   "execution_count": null,
   "metadata": {},
   "outputs": [],
   "source": [
    "def produce_scatter_plot(input_dataframe: pd.DataFrame,\n",
    "                         output_series: pd.Series,\n",
    "                         columns:list):\n",
    "    \"\"\"Produces a 2D or 3D scatter plot based on columns from dataframe.\n",
    "\n",
    "    Args:\n",
    "        input_dataframe (pd.DataFrame): The dataframe containing breast cancer information\n",
    "        output_series (pd.Series): The dataframe containing diagnosis information\n",
    "        columns (list): The columns to plot.\n",
    "    \"\"\"\n",
    "    \n",
    "    # Generate a series of strings to use as a colour key\n",
    "    colours = pd.Series(str(value) for value in output_series)\n",
    "    \n",
    "    #Check the length of the columns.\n",
    "    # If length is 3, make a 3D plot.\n",
    "    # If length is 2, make a 2D plot.\n",
    "    if len(columns) == 3:\n",
    "        fig = px.scatter_3d(input_dataframe, x=columns[0], y=columns[1], z=columns[2], color=colours, labels={\"color\": \"Diagnosis\", \"Symbol\": \"Diagnosis\"})\n",
    "    elif len(columns) == 2:\n",
    "        fig = px.scatter(input_dataframe, x=columns[0], y=columns[1], color =colours, labels={\"color\": \"Diagnosis\", \"Symbol\": \"Diagnosis\"})\n",
    "    elif len(columns) != (2 or 3):\n",
    "        print(\"Please only use 2 or 3 columns\")\n",
    "        return None\n",
    "\n",
    "    # Update the graphics\n",
    "    fig.update_traces(marker=dict(size = 4 if len(columns) == 3 else 10,\n",
    "                              line=dict(width=2, color='DarkSlateGrey')),\n",
    "                              selector=dict(mode='markers'))\n",
    "    \n",
    "    fig.show()\n",
    "    return None"
   ]
  },
  {
   "attachments": {},
   "cell_type": "markdown",
   "metadata": {},
   "source": [
    "![image](.//task.png)\n",
    "\n",
    "This plotting function can be called by passing into it breast_cancer_inputs, breast_cancer_outputs, and an array of column names.\n",
    "\n",
    "Try using the column names to generate some 2D and 3D plots, see if you see any trends. "
   ]
  },
  {
   "cell_type": "code",
   "execution_count": null,
   "metadata": {},
   "outputs": [],
   "source": [
    "# Remind ourselves of the column names\n",
    "print(breast_cancer_inputs.columns)"
   ]
  },
  {
   "cell_type": "code",
   "execution_count": null,
   "metadata": {},
   "outputs": [],
   "source": [
    "produce_scatter_plot(breast_cancer_inputs,\n",
    "                     breast_cancer_outputs,\n",
    "                     ['mean radius','mean texture']) # <== Change these two column names to any two from the dataset"
   ]
  },
  {
   "cell_type": "code",
   "execution_count": null,
   "metadata": {},
   "outputs": [],
   "source": [
    "produce_scatter_plot(breast_cancer_inputs,\n",
    "                     breast_cancer_outputs,\n",
    "                     []) # Try putting in three column names here"
   ]
  },
  {
   "attachments": {},
   "cell_type": "markdown",
   "metadata": {},
   "source": [
    "There are 30 different columns within this dataset, meaning there are 439 different pairs you could plot in a 2D graph. Spotting patterns, or more importantly the most important patterns, is an incredibly complex task. \n",
    "\n",
    "Further to this, can you imagine having a 30 dimensional scatter plot to try and spot patterns. For us, it is completely impossible! But for a machine, this is something it can do easily. "
   ]
  },
  {
   "attachments": {},
   "cell_type": "markdown",
   "metadata": {},
   "source": [
    "#### Can we use this data in a machine learning model? Yes!"
   ]
  },
  {
   "cell_type": "code",
   "execution_count": null,
   "metadata": {},
   "outputs": [],
   "source": [
    "from sklearn.model_selection import train_test_split\n",
    "\n",
    "# When creating a machine learning model, it is important to have some training data and some testing data.\n",
    "\n",
    "# Training data - this is data that is used to train the model.\n",
    "# Testing data - this is data used to test the model, we will use this a lot later!\n",
    "\n",
    "# The following function splits our data randomly to test and training data.\n",
    "breast_cancer_inputs_training, breast_cancer_inputs_testing, breast_cancer_outputs_training, breast_cancer_outputs_testing = train_test_split(breast_cancer_inputs, breast_cancer_outputs, train_size=0.8)\n",
    "\n",
    "# train_size represents the proportion of data that should be used for training\n",
    "# we have gone for 80% by setting train_size to 0.8"
   ]
  },
  {
   "attachments": {},
   "cell_type": "markdown",
   "metadata": {},
   "source": [
    "#### There are multiple types of machine learning algorithms: \n",
    "\n",
    "**Classification algorithms** are machine learning techniques used to predict categorical labels or classes based on input data.\n",
    "\n",
    "**Regression algorithms** are machine learning techniques used to predict continuous numerical values based on input data.\n",
    "\n",
    "**Clustering algorithms** are machine learning techniques used to group similar data points together based on their inherent similarities, without any predefined labels."
   ]
  },
  {
   "attachments": {},
   "cell_type": "markdown",
   "metadata": {},
   "source": [
    "![image](.//task.png)\n",
    "\n",
    "#### Can you tell which type of algorithm we want to use?\n",
    "\n",
    "Uncomment (remove the #) the correct type of model we want to use for our training in the code below.\n",
    "Don't scroll down too far or you will see the answer!"
   ]
  },
  {
   "cell_type": "code",
   "execution_count": null,
   "metadata": {},
   "outputs": [],
   "source": [
    "# Import relevant models\n",
    "from sklearn.ensemble import RandomForestClassifier, RandomForestRegressor\n",
    "from sklearn.cluster import KMeans\n",
    "\n",
    "classification_model = RandomForestClassifier()\n",
    "# regression_model = RandomForestRegressor()\n",
    "# cluster_model = KMeans()"
   ]
  },
  {
   "attachments": {},
   "cell_type": "markdown",
   "metadata": {},
   "source": [
    "Once we have a model, our next step is to train it.\n",
    "\n",
    "sklearn has an incredibly useful function - `fit` \n",
    "\n",
    "The fit method trains the algorithm on the data.\n",
    "\n",
    "How it does this depends on the model. If you would like to know more about the random forest algorithm you can read about it here: https://www.turing.com/kb/random-forest-algorithm. But, a lot of this specific knowledge you wont need to know today.\n",
    "\n",
    "**Importantly**: All algorithms with labelled training data use a loss function to train a predictive function. They are all dependent on the quality of the labelled training data.\n",
    "\n",
    "\n"
   ]
  },
  {
   "cell_type": "code",
   "execution_count": null,
   "metadata": {},
   "outputs": [],
   "source": [
    "# The model we are using is a classification model, as we want to make predictions to put individuals into 1 of 2 categories. \n",
    "# This is one example of a classification model, called a random forest classifier.\n",
    "# Others are available, which you can look up if you would like to. \n",
    "\n",
    "classification_model.fit(breast_cancer_inputs_training,breast_cancer_outputs_training)"
   ]
  },
  {
   "cell_type": "markdown",
   "metadata": {},
   "source": [
    "And that is it, in just a few lines of code we have a machine learning model that can be used for predicting if someone has breast cancer!\n",
    "\n",
    "We can even try it out, using the actual use case of the model. In the future, doctors will likely use the model to put in information about 1 individual patient, and see whether they have a benign or cancerous tumour. "
   ]
  },
  {
   "cell_type": "code",
   "execution_count": null,
   "metadata": {},
   "outputs": [],
   "source": [
    "# Create a Dataframe containing the information of one randomly sampled individual.\n",
    "individual_1_data = breast_cancer_inputs_testing.sample(n=1)\n",
    "display(individual_1_data)\n",
    "\n",
    "prediction = classification_model.predict(individual_1_data)\n",
    "print(prediction)\n",
    "# A 0 is a benign prediction, and a 1 is a cancerous prediction"
   ]
  },
  {
   "attachments": {},
   "cell_type": "markdown",
   "metadata": {},
   "source": [
    "But is our prediction right? We can check the label of this particular test record by peeking at the test outputs. "
   ]
  },
  {
   "cell_type": "code",
   "execution_count": null,
   "metadata": {},
   "outputs": [],
   "source": [
    "\n",
    "\n",
    "# Find out the individuals diagnosis\n",
    "individual_1_diagnosis = breast_cancer_outputs_testing[(individual_1_data.index)[0]]\n",
    "\n",
    "print(\"Individual 1 has a diagnosis of:\",individual_1_diagnosis)\n",
    "# A 0 is benign, a 1 is a cancerous."
   ]
  },
  {
   "cell_type": "markdown",
   "metadata": {},
   "source": [
    "So, we now have the information for one individual. We also know what the actual outcome of the prediction should be.\n",
    "\n",
    "Next, we can use `predict`. This uses the model we have just trained to predict the results of our test set. It really is that simple!"
   ]
  },
  {
   "cell_type": "markdown",
   "metadata": {},
   "source": [
    "Did the model get it right? It might have? But how do we know whether it will be correct every time? "
   ]
  },
  {
   "cell_type": "markdown",
   "metadata": {},
   "source": [
    "\n",
    "\n",
    "##### It's time to switch on our testing brains and start evaluating just how good this model is!"
   ]
  },
  {
   "attachments": {},
   "cell_type": "markdown",
   "metadata": {},
   "source": [
    "Do you remember the testing data we separated from the training data earlier? This is about 20% of the total data we have access to, and we can use it to evaluate just how good our model is. We can use the same `predict` function as above, but this time we can pass it far more data. \n",
    "\n",
    "Typically, you want **about** 80% of your data to be used for training, although a bit of variation from this is fine!. This gives you lots of data to train your model on, but still leaves enough for accurate testing. \n",
    "\n",
    "**Importantly**, this data is **labelled**. The basic premise of testing with labelled data is as follows, make your predictions (as we have just done), and then compare them."
   ]
  },
  {
   "cell_type": "code",
   "execution_count": null,
   "metadata": {},
   "outputs": [],
   "source": [
    "predictions = classification_model.predict(breast_cancer_inputs_testing)"
   ]
  },
  {
   "attachments": {},
   "cell_type": "markdown",
   "metadata": {},
   "source": [
    "What do the predictions actually look like? "
   ]
  },
  {
   "cell_type": "code",
   "execution_count": null,
   "metadata": {},
   "outputs": [],
   "source": [
    "print(predictions)"
   ]
  },
  {
   "cell_type": "markdown",
   "metadata": {},
   "source": [
    "Let's start with a really simple piece of analysis. How many of our predictions were correct? A super simple way to look at this is using a pie chart. "
   ]
  },
  {
   "cell_type": "code",
   "execution_count": null,
   "metadata": {},
   "outputs": [],
   "source": [
    "# matplotlib is another plotting library similar to plotly.\n",
    "\n",
    "import matplotlib.pyplot as plt\n",
    "\n",
    "def plot_predictions(predictions, actual):\n",
    "    \"\"\"Creates a pie chart\n",
    "\n",
    "    Args:\n",
    "        predictions (Series): Predicted values by the model\n",
    "        actual (Series): Actual values\n",
    "    \"\"\"\n",
    "\n",
    "    correct_predictions = 0\n",
    "    incorrect_predictions = 0\n",
    "\n",
    "    for prediction, value in zip(predictions, actual):\n",
    "        if prediction == value:\n",
    "            correct_predictions += 1\n",
    "        else:\n",
    "            incorrect_predictions += 1\n",
    "\n",
    "    total_predictions = len(predictions)\n",
    "\n",
    "    # Remember our calculate_percentage function we made right at the start of the notebook!?\n",
    "    correct_percentage = round( calculate_percentage(correct_predictions,total_predictions) ,1)\n",
    "    incorrect_percentage = round( calculate_percentage(incorrect_predictions,total_predictions), 1)\n",
    "\n",
    "    # Plot the chart\n",
    "    plt.pie([correct_predictions,incorrect_predictions],\n",
    "            labels=[f\"Correct Predictions\\n{correct_percentage}\",f\"Incorrect Predictions\\n{incorrect_percentage}%\"])\n",
    "             \n",
    "    # Add a title\n",
    "    plt.title(\"Percentage of Correct and Incorrect Predictions\")\n",
    "    \n",
    "    return None\n",
    "    "
   ]
  },
  {
   "cell_type": "code",
   "execution_count": null,
   "metadata": {},
   "outputs": [],
   "source": [
    "plot_predictions(predictions, breast_cancer_outputs_testing)"
   ]
  },
  {
   "attachments": {},
   "cell_type": "markdown",
   "metadata": {},
   "source": [
    "There are other ways to analyse our results. For example using a confusion matrix. "
   ]
  },
  {
   "cell_type": "code",
   "execution_count": null,
   "metadata": {},
   "outputs": [],
   "source": [
    "from sklearn import metrics\n",
    "\n",
    "def generate_confusion_matrix(predicted, actual, axis_labels = [\"Benign\", \"Malignant\"]):\n",
    "    \"\"\"Creates a confusion matrix chart\n",
    "\n",
    "    Args:\n",
    "        predictions (Series): Predicted values by the model\n",
    "        actual (Series): Actual values\n",
    "        axis_labels (list[string]): axis labels \n",
    "    \"\"\"\n",
    "    confusion_matrix = metrics.confusion_matrix(actual, predicted)\n",
    "\n",
    "    cm_display = metrics.ConfusionMatrixDisplay(confusion_matrix = confusion_matrix, display_labels = axis_labels)\n",
    "\n",
    "    cm_display.plot()\n",
    "\n",
    "    plt.title(\"Confusion Matrix\")"
   ]
  },
  {
   "cell_type": "code",
   "execution_count": null,
   "metadata": {},
   "outputs": [],
   "source": [
    "generate_confusion_matrix(predictions, breast_cancer_outputs_testing)"
   ]
  },
  {
   "attachments": {},
   "cell_type": "markdown",
   "metadata": {},
   "source": [
    "### What does this actually show? \n",
    "\n",
    "The matrix has four squares, each representing a different combination of actual and predicted classifications. The squares are:\n",
    "\n",
    "- True Positive (TP): The model correctly predicted the positive diagnosis.\n",
    "- False Positive (FP): The model incorrectly predicted the positive diagnosis.\n",
    "- True Negative (TN): The model correctly predicted the negative diagnosis.\n",
    "- False Negative (FN): The model incorrectly predicted the negative diagnosis.\n",
    "\n",
    "The top left and bottom right boxes indicate correct predictions, but a confusion matrix allows us to see what kind of errors we're making. "
   ]
  },
  {
   "cell_type": "markdown",
   "metadata": {},
   "source": [
    "In some scenarios, an algorithm may want to be intentionally biased.\n",
    "\n",
    "- **Fire Alarms**: You would like a fire alarm to catch all fires. You would much rather a fire alarm go off when there is not a fire, than not go off when there is one. For this, we would like **high sensitivity** and **low specificity**. i.e. You want no false negatives but you'll accept some false positives.\n",
    "\n",
    "- **Spam Filters**: You do not want a spam filter to filter out important real emails! You care a lot about a **high specificity** and a **low sensitivity**. Therefore, you'll accept some false negatives but don't want any false positives.  \n",
    "\n",
    "![image](.//task.png)"
   ]
  },
  {
   "cell_type": "markdown",
   "metadata": {},
   "source": [
    "### Have a think - what bias would we prefer for this dataset and model?"
   ]
  },
  {
   "cell_type": "markdown",
   "metadata": {},
   "source": [
    "Lets go even further with our analysis and cover something called an AUC-ROC Curve. \n",
    "\n",
    "Firstly, what does AUC and ROC mean? \n",
    "\n",
    "- ROC: Receiver Operating Characteristics\n",
    "- AUC: Area Under Curve\n",
    "\n",
    "ROC essentially is a graphical representation of the effectiveness of a binary classification model.\n",
    "\n",
    "It plots the true positive rate (TPR) vs the false positive rate (FPR) at different classification thresholds.\n",
    "\n",
    "The AUC curve represents the area under the ROC curve. It measures the overall performance of the binary classification model. The\n",
    "\n",
    "The True Positive Rate (often called Recall or Sensitivity) is the ratio of positive examples that are correctly identified.\n",
    "\n",
    "`TPR = TP / TP + FN`\n",
    "\n",
    "FPR is the ratio of negative examples that are incorrectly classified.\n",
    "\n",
    "`FPR = FP / TN + FP`\n",
    "\n",
    "Lets make a plot to hopefully make more sense of all this!"
   ]
  },
  {
   "cell_type": "code",
   "execution_count": null,
   "metadata": {},
   "outputs": [],
   "source": [
    "x = metrics.RocCurveDisplay.from_estimator(classification_model, breast_cancer_inputs_testing, breast_cancer_outputs_testing)\n",
    "plt.plot([0,1],[0,1],\"--\",c=\"red\")\n",
    "plt.show()  "
   ]
  },
  {
   "cell_type": "markdown",
   "metadata": {},
   "source": [
    "The further to the top left corner the ROC curve is, the better the prediction.\n",
    "\n",
    "When the curve is perfectly in the top left corner, the area underneath it is 1. this means an AUC score of 1 is a perfect classifier, with 0 being the worse score."
   ]
  },
  {
   "attachments": {},
   "cell_type": "markdown",
   "metadata": {},
   "source": [
    "### **It doesn't always need to be so complicated! Sometimes we just want a single number to help our evaluation!**\n",
    "\n",
    "Another method of analysis is an **F1 Score**. This is a more general measurement for how good a classifier model is.\n",
    "\n",
    "This is given as:\n",
    "\n",
    "**F1 = 2 * (precision * recall) / (precision + recall)**\n",
    "\n",
    "Where:\n",
    "- **Precision** is a measure of how many predicted positive diagnosis' are actually positive. This is found by taking the number of true positives and dividing by the number of true and false positives.\n",
    "- **Recall** is the percentage of positive cases that are correctly predicted by the model.\n",
    "\n",
    "A perfect prediction would give an F1 score of 1, with the worst possible score being 0. \n",
    "\n",
    "The sklearn classification report is a very useful way of examining the precision, recall and f1 score of **each class** (i.e benign or malignant)."
   ]
  },
  {
   "cell_type": "code",
   "execution_count": null,
   "metadata": {},
   "outputs": [],
   "source": [
    "classification_report = metrics.classification_report(breast_cancer_outputs_testing, predictions)\n",
    "\n",
    "print(classification_report)"
   ]
  },
  {
   "attachments": {},
   "cell_type": "markdown",
   "metadata": {},
   "source": [
    "![image](.//task.png)\n",
    "\n",
    "**OPTIONAL**\n",
    "\n",
    "So you have made predictions using the random forest algorithm, but could you use something else instead?\n",
    "\n",
    "Head to https://scikit-learn.org/stable/supervised_learning.html and see what other models are available.\n",
    "\n",
    "Can you find any better classification models for our dataset?\n",
    "\n",
    "Feel free to go back and look at the previous code in this notebook."
   ]
  },
  {
   "cell_type": "code",
   "execution_count": null,
   "metadata": {},
   "outputs": [],
   "source": [
    "## OPTIONAL: Your code here!\n",
    "# import your model \n",
    "# fit to the training data\n",
    "# get predictions from the test data\n",
    "# test your model\n",
    "\n"
   ]
  },
  {
   "attachments": {},
   "cell_type": "markdown",
   "metadata": {},
   "source": [
    "# Interrogating Training Data"
   ]
  },
  {
   "attachments": {},
   "cell_type": "markdown",
   "metadata": {},
   "source": [
    "As a tester, it is very important to look at training data as well as the predictions of a model.\n",
    "\n",
    "##### Why should someone assuring a model care about checking the training data it came from?\n",
    "\n",
    "- Being able to check the training data of a model is a key way to spot any flaws in the data\n",
    "- Flaws in the training data will be reflected in the predictive model.\n",
    "- Models may make incorrect predictions based on bad quality training data. \n",
    "\n",
    "One particular method we can use to check the training data is to look at **correlation** between variables.\n",
    "\n",
    "#### Why do we care about correlation?\n",
    "\n",
    " - Highly correlated variables essentially contain the same information.\n",
    " - When this happens, it becomes difficult for the model to distinguish the individual effects of each variable during training. This can lead to unstable and unreliable predictions.\n",
    " - Highly correlated variables can dominate the machine learning model.\n",
    " - Data Scientists often remove highly correlated variables, this ensures that each  variable contributes unique and independent information to the model, allowing for more accurate and reliable predictions.\n",
    " - However, we can't assume data scientists always do this! So it is important to check for ourselves."
   ]
  },
  {
   "cell_type": "markdown",
   "metadata": {},
   "source": [
    "We have just been given the training data for a regression model that predicts the diabetic progression of an individual. The data scientist claims he checked the training data before making the model, but we want to be sure! "
   ]
  },
  {
   "cell_type": "code",
   "execution_count": null,
   "metadata": {},
   "outputs": [],
   "source": [
    "from sklearn.datasets import load_diabetes\n",
    "\n",
    "# Here, we load the diabetes inputs and outputs using the load diabetes function. \n",
    "\n",
    "# Earlier we used clear variables named breast_cancer_inputs and breast_cancer_outputs.\n",
    "\n",
    "# Sadly, data scientists often like to be more concise (and confusing), and like to use X and y.\n",
    "# You will likely see this a lot online, so it is good to practice this notation. \n",
    "\n",
    "diabetes_X, diabetes_y = load_diabetes(return_X_y=True, as_frame=True)\n",
    "# Here diabetes_X represents inputs, and diabetes_y represents outputs."
   ]
  },
  {
   "attachments": {},
   "cell_type": "markdown",
   "metadata": {},
   "source": [
    "Let's have a look at the training data."
   ]
  },
  {
   "cell_type": "code",
   "execution_count": null,
   "metadata": {},
   "outputs": [],
   "source": [
    "display(diabetes_X)"
   ]
  },
  {
   "attachments": {},
   "cell_type": "markdown",
   "metadata": {},
   "source": [
    "### Correlation Matrix"
   ]
  },
  {
   "cell_type": "code",
   "execution_count": null,
   "metadata": {},
   "outputs": [],
   "source": [
    "corr = diabetes_X.corr()\n",
    "corr.style.background_gradient(cmap='coolwarm')"
   ]
  },
  {
   "attachments": {},
   "cell_type": "markdown",
   "metadata": {},
   "source": [
    "![image](.//task.png)\n",
    "\n",
    "This correlation plot shows the correlation between each variable/column.\n",
    "- Values close to 1 show high positive correlation.\n",
    "- Values close to -1 show high negative correlation.\n",
    "\n",
    "\n",
    "**Looking at this plot, which 2 columns show the highest correlation?**"
   ]
  },
  {
   "attachments": {},
   "cell_type": "markdown",
   "metadata": {},
   "source": [
    "As a tester, you may want to report this finding back to the developers.\n",
    "\n",
    "A data scientist would often remove columns that are highly correlated.\n",
    "\n",
    "In the code below, remove one of the columns to reduce highly correlated features. "
   ]
  },
  {
   "cell_type": "code",
   "execution_count": null,
   "metadata": {},
   "outputs": [],
   "source": [
    "#remove a column\n",
    "# diabetes_X = diabetes_X.drop(\"put_the_name_of_a_column_here\", axis=1)\n",
    "#check the column is removed\n",
    "display(diabetes_X)"
   ]
  },
  {
   "attachments": {},
   "cell_type": "markdown",
   "metadata": {},
   "source": [
    "Is there anything else looking a bit odd with this data? Maybe you have noticed that the `sex` values are either 0.050680 or -0.044642?\n",
    "\n",
    "That could be a bit odd, let's do some exploring."
   ]
  },
  {
   "cell_type": "code",
   "execution_count": null,
   "metadata": {},
   "outputs": [],
   "source": [
    "sex_value_counts = diabetes_X[\"sex\"].value_counts()\n",
    "print(sex_value_counts)"
   ]
  },
  {
   "cell_type": "markdown",
   "metadata": {},
   "source": [
    "In this case, it all looks pretty  *normal* . Firstly, there are only 2 values, which is a good sign! Secondly, it is normal for data scientists to apply transformations to training data to make it all a similar size, i.e. between 1 and -1. In this case, there doesn't seem to be a problem with the data, but it is always a good idea to keep your eyes peeled on training data!"
   ]
  },
  {
   "cell_type": "markdown",
   "metadata": {},
   "source": [
    "### Regression Models\n",
    "\n",
    "A Data Scientist has used the above dataset to train a regression model. They have sent you the following code that they used to create a model to predict the progression of diabetes. "
   ]
  },
  {
   "cell_type": "code",
   "execution_count": null,
   "metadata": {},
   "outputs": [],
   "source": [
    "from sklearn.linear_model import LinearRegression\n",
    "\n",
    "X_training, X_testing, y_training, y_testing = train_test_split(diabetes_X, diabetes_y, train_size=0.03)\n",
    "\n",
    "regression_model = LinearRegression()\n",
    "regression_model.fit(X_training,y_training)\n",
    "\n",
    "y_predictions = regression_model.predict(X_testing)\n",
    "\n",
    "from sklearn.metrics import mean_absolute_percentage_error\n",
    "\n",
    "mape = mean_absolute_percentage_error(y_testing, y_predictions)\n",
    "\n",
    "print(f\"Mean Absolute Percentage Error for model 1: {round(mape,2) * 100}%\")\n",
    "print(\"See, my model is amazing!\")"
   ]
  },
  {
   "cell_type": "markdown",
   "metadata": {},
   "source": [
    "First up, we've introduced a new testing metric, what is the mean absolute percentage error (MAPE)? It represents the average of the absolute percentage errors of each entry in a dataset. \n",
    "\n",
    "This means that, for each data point in the testing data, the absolute percentage error is calculated. These are then all added up together and averaged to come up with the MAPE number. The closer to 0 the MAPE, the better the model."
   ]
  },
  {
   "cell_type": "markdown",
   "metadata": {},
   "source": [
    "![image](.//task.png)\n",
    "\n",
    "Look again at the above code form the data scientist. There is **1** mistake / piece of bad practice that will reduce the accuracy of their code. Can you spot it? 👀\n",
    "\n",
    "Fix the mistake and rerun the code, does the MAPE decrease?"
   ]
  },
  {
   "attachments": {},
   "cell_type": "markdown",
   "metadata": {},
   "source": [
    "#### Feature Importance\n",
    "\n",
    "Feature Importance Analysis reveals how much each feature (columns/fields/dimensions) contributes to the model prediction.\n",
    "\n",
    "This can be used as a diagnostic tool:\n",
    "\n",
    "It reveals which features are barely used or not used at all to make a decision.\n",
    "It shows if the model is relying mostly or entirely on one or two features, this could suggest an error, or perhaps that a simpler model might be just as effective.\n",
    "\n",
    "More complex feature importance analysis can reveal the qualities of information that each feature gives.\n",
    "\n",
    "All of this can be used to diagnose issues within the training data, and help understand and explain the model."
   ]
  },
  {
   "cell_type": "code",
   "execution_count": null,
   "metadata": {},
   "outputs": [],
   "source": [
    "# shap is the module we wll use to run feature importance\n",
    "import shap \n",
    "# from sklearn.preprocessing import Imputer\n",
    "\n",
    "# we pass shap our classification model, alongside the training data\n",
    "explainer = shap.LinearExplainer(regression_model,masker=shap.maskers.Impute(data=X_training))\n",
    "# we then pass shap our testing inputs.\n",
    "shap_values = explainer.shap_values(X_testing)\n",
    "# shap then creates a plot for us showing which features are the most important\n",
    "shap.summary_plot(shap_values, X_testing, plot_type=\"bar\")\n",
    "\n",
    "# In the plot_type parameter, you may wish to try out \"violin\", \"dot\" or \"bar\""
   ]
  },
  {
   "cell_type": "markdown",
   "metadata": {},
   "source": [
    "![image](.//task.png)\n",
    "\n",
    "Before we move onto something new, see if you can answer these questions. From this plot, can you tell:\n",
    "\n",
    "- Which feature has the greatest impact on the model?\n",
    "\n",
    "- Which feature has the smallest impact on the model?\n",
    "\n",
    "- Is this what we expect to see? "
   ]
  },
  {
   "cell_type": "markdown",
   "metadata": {},
   "source": [
    "## Deep Learning and Neural Networks!"
   ]
  },
  {
   "attachments": {},
   "cell_type": "markdown",
   "metadata": {},
   "source": [
    "**Deep learning: **\n",
    "\n",
    "So far we've discussed machine learning using structured data. This means data that is tabulated and has labelled feature names.\n",
    "\n",
    "**Deep learning** is a more complex form of machine learning which generally involves **unstructured data** like images and natural language.\n",
    "\n",
    "**Deep learning** involves **Neural Networks** - computational models inspired by the human brain's neural connections. They are made up of interconnected nodes formed into layers.\n",
    "\n",
    "But the important thing to recognise is that a **Neural Network**, like any model, is just a complicated function, with an input, a hidden process, and an output.\n",
    "\n",
    "And the way we test them is much the same as before.\n",
    "\n",
    " \n",
    "\n",
    "You can think of the nodes and connections within the neural network as small, simple mathematical functions.\n",
    "\n",
    "As the neural network is trained, the weights associated with these small component parts are adjusted using a **loss function.**\n",
    "\n",
    "If the training data is good enough, the neural network will gradually be able to tend towards the desired predictions."
   ]
  },
  {
   "cell_type": "markdown",
   "metadata": {},
   "source": [
    "![image](.//neural_network.png)\n",
    "\n",
    "### Let's make a dataset to try and classify with a neural network!"
   ]
  },
  {
   "cell_type": "code",
   "execution_count": null,
   "metadata": {},
   "outputs": [],
   "source": [
    "from sklearn.datasets import make_blobs, make_swiss_roll\n",
    "import numpy as np\n",
    "\n",
    "# Use make swiss rolls to get the coordinates for two swiss roll shaped clusters\n",
    "X1, y1 = make_swiss_roll(n_samples=2000,noise=0.2, random_state=1)\n",
    "X2, y2 = make_swiss_roll(n_samples=2000,noise=0.2, random_state=2)\n",
    "#Use make blobs to get a \"blob\" shaped cluster\n",
    "X_blob,y_blob = make_blobs(n_samples = 2000,n_features=3, centers = 1, center_box=(10,0,0), random_state=4, cluster_std= 0.4)\n",
    "\n",
    "new_X = []\n",
    "new_y = []\n",
    "#Iterate through one cluster\n",
    "for i in range(len(X1)):\n",
    "    # Add the points from each cluster to a new array\n",
    "    new_X.append( list(X1[i]))\n",
    "    new_y.append(1)\n",
    "    new_X.append( [X2[i][0] * -1,X2[i][1] ,X2[i][2]* -1] ) # Apply some transformations to the coordinates\n",
    "    new_y.append(2)\n",
    "    new_X.append( [X_blob[i][0],X_blob[i][1] * 4 * np.random.rand() ,X_blob[i][2]] ) # Apply some transformations to the coordinates\n",
    "    new_y.append(y_blob[i] + 3)\n",
    "\n",
    "\n",
    "X = (pd.DataFrame(new_X))\n",
    "y = new_y\n"
   ]
  },
  {
   "cell_type": "code",
   "execution_count": null,
   "metadata": {},
   "outputs": [],
   "source": [
    "# Use our old produce_scatter_plot function to visualise the data.\n",
    "produce_scatter_plot(X,y,[0,1,2])\n",
    "\n",
    "# Interesting, as a human, we can clearly see the different groups, and would be able to classify them easily without colours. \n"
   ]
  },
  {
   "cell_type": "code",
   "execution_count": null,
   "metadata": {},
   "outputs": [],
   "source": [
    "# Split the data into testing and training\n",
    "X_train, X_test, y_train, y_test = train_test_split(X, y, train_size=0.8)"
   ]
  },
  {
   "cell_type": "markdown",
   "metadata": {},
   "source": [
    "## How do we train a neural network?\n",
    "\n",
    "The full process for a training a neural network is very complicated, but it is useful to know a few key points. \n",
    "\n",
    "When training a neural network, you often pass the data to the model multiple times. Each time you pass the entire dataset to the model, this is called an **epoch**.\n",
    "\n",
    "A neural network measures it's training progress using a **loss function** that measures the difference between predicted outputs and actual targets. As you progress through multiple epochs, the loss function decreases\n",
    "\n",
    "During training, an **optimizer** algorithm to updates the model's parameters. The model updates the parameters based on methods called **gradient descent** and **back propagation** which are too complicated to go into today. But essentially, the model uses calculus to find the best possible value for each parameter in the model.  \n",
    "\n",
    "Often when training a model, we divide the dataset into smaller **batches** to process data efficiently.\n",
    "\n",
    "Let's see how we do this in code."
   ]
  },
  {
   "cell_type": "code",
   "execution_count": null,
   "metadata": {},
   "outputs": [],
   "source": [
    "from sklearn.neural_network import MLPClassifier\n",
    "\n",
    "# This line of code initialises a neural network called MLPClassifier\n",
    "# The max_iter parameter stands for the maximum number of iterations to go through.\n",
    "# This is the same as how many epochs to do, as we have set it to 1, we will go through all the data once.\n",
    "classifier = MLPClassifier(max_iter=1)\n",
    "\n",
    "# The fit function is the very clever bit of code that uses activation functions, gradient descent, an optimiser and back propagation to train the model.\n",
    "classifier.fit(X_train, y_train)\n",
    "\n",
    "# Very similar to before, we have a predict function. This takes the testing data and uses the model to make predictions\n",
    "predictions = classifier.predict(X_test)"
   ]
  },
  {
   "cell_type": "code",
   "execution_count": null,
   "metadata": {},
   "outputs": [],
   "source": [
    "# Lets see what our predictions look like after one epoch\n",
    "produce_scatter_plot(X_test,predictions,[0,1,2])"
   ]
  },
  {
   "cell_type": "markdown",
   "metadata": {},
   "source": [
    "Hmm, it doesn't look very good does it!\n",
    "\n",
    "Let's train the model over multiple epochs and see what happens."
   ]
  },
  {
   "cell_type": "code",
   "execution_count": null,
   "metadata": {},
   "outputs": [],
   "source": [
    "import numpy as np\n",
    "\n",
    "\n",
    "# This line of code initialises the same neural network called MLPClassifier\n",
    "# It is here that we can change certain aspects of the model. For example I have changed the activation function to something called \"relu\".\n",
    "# The batch size is also set to 20, meaning 20 coordinates will be processed at a time.\n",
    "classifier = MLPClassifier(random_state=1, max_iter=20, batch_size=20, activation='relu')\n",
    "\n",
    "# I dont want my model to keep training forever, if the loss is no longer decreasing.\n",
    "# When the loss is no longer decreasing, the model is already well trained.\n",
    "# I will set up some code so that if the loss is decreasing by less than the tolerance, the training will stop.\n",
    "tolerance = 0.0001\n",
    "\n",
    "#Loop through up to 500 epoch\n",
    "for epoch in range(500):\n",
    "\n",
    "    # For each epoch, train the model on all of the data\n",
    "    # Partial fit is the same as the fit function, but ensures only one epoch is trained\n",
    "    classifier.partial_fit(X_train, y_train, classes = np.unique(y_train))\n",
    "\n",
    "    # Calculate the loss\n",
    "    loss = classifier.loss_curve_\n",
    "\n",
    "    if epoch > 2: \n",
    "        # Calculate the change in loss over the last two epochs\n",
    "        change_in_loss = (loss[-2] - loss[-1])\n",
    "    \n",
    "        if change_in_loss < tolerance:\n",
    "            # Check how small the change in loss is. If it's too small, stop training.\n",
    "            print(\"Change in loss is\",'{:0.6f}'.format(change_in_loss), \"which is less than the tolerance of\", tolerance)\n",
    "            print(f\"Stopping at epoch\", epoch)\n",
    "            break # this line breaks out of the loop if triggered\n",
    "\n",
    "    \n",
    "\n"
   ]
  },
  {
   "cell_type": "code",
   "execution_count": null,
   "metadata": {},
   "outputs": [],
   "source": [
    "# Lets see how good our prediction is after multiple epochs. \n",
    "predictions = classifier.predict(X_test)"
   ]
  },
  {
   "cell_type": "code",
   "execution_count": null,
   "metadata": {},
   "outputs": [],
   "source": [
    "produce_scatter_plot(X_test,predictions,[0,1,2])"
   ]
  },
  {
   "cell_type": "markdown",
   "metadata": {},
   "source": [
    "Woah! It might not be perfect but it is a lot better than before. \n",
    "\n",
    "Let's have a look at our loss against epoch to see how it changed during training"
   ]
  },
  {
   "cell_type": "code",
   "execution_count": null,
   "metadata": {},
   "outputs": [],
   "source": [
    "plt.plot(loss)\n",
    "plt.xlabel(\"Epoch number\")\n",
    "plt.ylabel(\"Loss\")"
   ]
  },
  {
   "cell_type": "markdown",
   "metadata": {},
   "source": [
    "Remember, the loss is a calculation that measures the difference between predicted outputs and actual targets.\n",
    "\n",
    "As the epochs continue, the loss decreases, meaning that the model is getting better!"
   ]
  },
  {
   "cell_type": "markdown",
   "metadata": {},
   "source": [
    "![image](.//task.png)\n",
    "\n",
    "Remember, although this is a neural network, it is still a classifier model! Can you use the plot_predictions function and generate_confusion_matrix functions to analyse this model? Further to this, can you generate a classification report?"
   ]
  },
  {
   "cell_type": "code",
   "execution_count": null,
   "metadata": {},
   "outputs": [],
   "source": [
    "plot_predictions(predictions,y_test)"
   ]
  },
  {
   "cell_type": "code",
   "execution_count": null,
   "metadata": {},
   "outputs": [],
   "source": [
    "generate_confusion_matrix(predictions,y_test,[1,2,3])"
   ]
  },
  {
   "cell_type": "code",
   "execution_count": null,
   "metadata": {},
   "outputs": [],
   "source": [
    "# Your code here\n",
    "classification_report = metrics.classification_report(y_test, predictions)\n",
    "print(classification_report)"
   ]
  },
  {
   "cell_type": "markdown",
   "metadata": {},
   "source": [
    "### Unsupervised vs Supervised Learning\n",
    "\n",
    "**Supervised learning** is a machine learning approach where the algorithm learns from labeled training data. The training data consists of input features (also called independent variables) and their corresponding known output labels (also called dependent variables or target variables). The goal of supervised learning is to learn a mapping function that can predict the correct output label for new, unseen input data. In other words, the algorithm learns from examples where the desired outcome is already known.\n",
    "\n",
    "**Unsupervised Learning**\n",
    "Unsupervised learning, on the other hand, is a machine learning approach where the algorithm learns from unlabeled data. Unlike supervised learning, there are no predefined output labels or target variables in unsupervised learning. The algorithm's objective is to find patterns, structures, or relationships within the data without any prior knowledge of the outcomes. Unsupervised learning algorithms attempt to uncover hidden patterns, group similar data points together, or reduce the dimensionality of the data without being guided by explicit labels.\n",
    "\n",
    "So far we have only used supervised learning, which is far more common. For the example above, many clustering algorithms exist which can group clusters together without using labelled data. "
   ]
  },
  {
   "cell_type": "markdown",
   "metadata": {},
   "source": [
    "## Large Language Models\n",
    "\n",
    "Now these really are the talk of the town at the moment. The development of Large Language Models (LLM's) has exploded recently, leading to discussions of dystopian futures and robot overlords. Now whether this happens is quite debatable, but one thing for sure is that LLMs are going to change the way we work and our way of life in the future.\n",
    "\n",
    "Chat GPT is a LLM, and as I am sure you are all aware, it's very very impressive!\n",
    "\n",
    "Large Language Models are a type of Neural Network that are very good at processing language. \n",
    "\n",
    "One key aspect of LLM's is that they have a parameter called **temperature**. This essentially applies a sort of randomness to their answers. **LLM's can give multiple different answers to the same question**"
   ]
  }
 ],
 "metadata": {
  "kernelspec": {
   "display_name": "Python 3 (ipykernel)",
   "language": "python",
   "name": "python3"
  },
  "language_info": {
   "codemirror_mode": {
    "name": "ipython",
    "version": 3
   },
   "file_extension": ".py",
   "mimetype": "text/x-python",
   "name": "python",
   "nbconvert_exporter": "python",
   "pygments_lexer": "ipython3",
   "version": "3.10.0"
  },
  "orig_nbformat": 4
 },
 "nbformat": 4,
 "nbformat_minor": 2
}
