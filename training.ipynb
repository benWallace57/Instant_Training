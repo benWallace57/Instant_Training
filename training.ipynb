{
 "cells": [
  {
   "attachments": {},
   "cell_type": "markdown",
   "metadata": {},
   "source": [
    "# 🤖 Artificial Intelligence, MACHINE LEARNING & PYTHON 🤖"
   ]
  },
  {
   "attachments": {},
   "cell_type": "markdown",
   "metadata": {},
   "source": [
    "## Why does it all matter? "
   ]
  },
  {
   "attachments": {},
   "cell_type": "markdown",
   "metadata": {},
   "source": [
    "Artificial Intelligence is everywhere, particularly in healthcare.\n"
   ]
  },
  {
   "attachments": {},
   "cell_type": "markdown",
   "metadata": {},
   "source": [
    "![image](.//headline_1.png)\n",
    "\n",
    "![image](.//headline_2.png)"
   ]
  },
  {
   "attachments": {},
   "cell_type": "markdown",
   "metadata": {},
   "source": [
    "Artificial Intelligence is going to become more and more prominent within the NHS."
   ]
  },
  {
   "attachments": {},
   "cell_type": "markdown",
   "metadata": {},
   "source": [
    "![image](.//headline_3.png)"
   ]
  },
  {
   "attachments": {},
   "cell_type": "markdown",
   "metadata": {},
   "source": [
    "Also, Artificial Intelligence is just really interesting! (And sometimes a bit scary!) It's here to stay, so understanding it is going to be an incredibly useful skill.\n",
    "Here are a final selection of headlines to show just how **versatile**, **interesting**, and **important** AI is becoming."
   ]
  },
  {
   "attachments": {},
   "cell_type": "markdown",
   "metadata": {},
   "source": [
    "![image](.//headline_4.png)\n",
    "\n",
    "![image](.//headline_5.png)"
   ]
  },
  {
   "attachments": {},
   "cell_type": "markdown",
   "metadata": {},
   "source": [
    "## What is todays plan? \n",
    "\n",
    "##### **Can we create and test an Artificial Intelligence that can predict if an individual has breast cancer?**\n"
   ]
  },
  {
   "attachments": {},
   "cell_type": "markdown",
   "metadata": {},
   "source": [
    "### Before we get into coding - let's go over some definitions.\n",
    "\n",
    "Firstly - what actually is Artificial Intelligence? \n",
    "\n",
    "Online Chatbots, Amazon Alexa, a self driving Tesla, these are all examples of **machine learning** and **artificial intelligence**. \n",
    "\n",
    "- Artificial Intelligence (often referred to as AI) is a general term used to describe computers completing task that we would consider clever or intelligent. \n",
    "\n",
    "- Machine Learning is a particular application of AI, it is the idea that with data, computers can learn for themselves and make predictions. \n",
    "\n",
    "Today, our focus is going to be more closely aligned to machine learning. We are going to use a dataset to **train** a **machine learning model** (often just referred to as a model), so that it can make **predictions** that we can **test** and **assure**."
   ]
  },
  {
   "attachments": {},
   "cell_type": "markdown",
   "metadata": {},
   "source": [
    "## Python Recap"
   ]
  },
  {
   "attachments": {},
   "cell_type": "markdown",
   "metadata": {},
   "source": [
    "Firstly, let's give a quick recap of python and of functions. This will help us a lot later! "
   ]
  },
  {
   "cell_type": "code",
   "execution_count": 4,
   "metadata": {},
   "outputs": [
    {
     "name": "stdout",
     "output_type": "stream",
     "text": [
      "Hello!\n"
     ]
    }
   ],
   "source": [
    "# This is a block of code written in python. It is written inside a box, known as a cell.\n",
    "# Every time you get to a piece of code in this notebook, you will need to run it.\n",
    "# There are two possible ways to do this.\n",
    "\n",
    "# 1 - Click the triangular play button in the top left corner of the cell. \n",
    "# 2 - If you are clicked inside the cell, you can hold shift and press enter.\n",
    "\n",
    "# Once the code has successfully ran, you will see a little blue tick.\n",
    "\n",
    "# Sometimes, the code will also give an output, which will also appear when you have ran the code. \n",
    "# Like this!\n",
    "print(\"Hello!\")"
   ]
  },
  {
   "cell_type": "code",
   "execution_count": 5,
   "metadata": {},
   "outputs": [],
   "source": [
    "# This is a very simple function that works out percentages.\n",
    "# You pass it in two numbers, called parameters.\n",
    "# These represent the numerator and denominator of a fraction.\n",
    "# Some simple maths is done, and the fraction is returned.  \n",
    "\n",
    "def calculate_percentage(numerator, denominator):\n",
    "    fraction = numerator / denominator\n",
    "    return fraction * 100\n",
    "\n",
    "# When you run this code snippet nothing will happen, you need to call the function for it to return you something.\n",
    "# Yuo should still see a little green tick!"
   ]
  },
  {
   "cell_type": "code",
   "execution_count": null,
   "metadata": {},
   "outputs": [],
   "source": [
    "# Call the function here:\n",
    "# You should see a output when you run this piece of code.\n",
    "# If you get an error, make sure you have entered two numbers without speech marks between the brackets separated by a comma. \n",
    "\n",
    "calculate_percentage(\"\"\"your value 1\"\"\", \"\"\"your value 2\"\"\")"
   ]
  },
  {
   "attachments": {},
   "cell_type": "markdown",
   "metadata": {},
   "source": [
    "## Lets look at some data! "
   ]
  },
  {
   "attachments": {},
   "cell_type": "markdown",
   "metadata": {},
   "source": [
    "Over the next few steps, we are going to follow the path of a data scientist creating a machine learning model.\n",
    "\n",
    "**Don't worry!** This is not something you will be expected to do after this course. It is just an opportunity to learn how a machine learning model is made, and this will help you understand why we test it in certain ways later in this course."
   ]
  },
  {
   "cell_type": "code",
   "execution_count": 6,
   "metadata": {},
   "outputs": [],
   "source": [
    "# # These next few lines of code install certain packages. These contain lots and lots of functions which we can use in our coe later.\n",
    "\n",
    "# !pip install -U scikit-learn\n",
    "# !pip install pandas\n",
    "# !pip install plotly\n",
    "# !pip install shap"
   ]
  },
  {
   "cell_type": "code",
   "execution_count": 7,
   "metadata": {},
   "outputs": [],
   "source": [
    "#Now that we have installed them, we can import certain libraries and functions. \n",
    "\n",
    "# This first function is used to load a pre-existing breast cancer dataset\n",
    "from sklearn.datasets import load_breast_cancer\n",
    "\n",
    "# Pandas is a library containing lots of functions used to modify and navigate dataframes.\n",
    "import pandas as pd\n",
    "\n",
    "# Plotly is a library which helps us generate plots.\n",
    "import plotly.express as px"
   ]
  },
  {
   "cell_type": "code",
   "execution_count": 8,
   "metadata": {},
   "outputs": [],
   "source": [
    "# We are about to use the load_breast_cancer function from sklearn \n",
    "# This line calls the function to return:\n",
    "\n",
    "#breast_cancer_inputs  \n",
    "# - This is the raw data containing information about different breast cancer screenings\n",
    "\n",
    "#breast_cancer_outputs \n",
    "# - This contains the classification of whether each screening is identified as being breast cancer\n",
    "\n",
    "breast_cancer_inputs, breast_cancer_outputs = load_breast_cancer(return_X_y=True, as_frame=True) "
   ]
  },
  {
   "cell_type": "code",
   "execution_count": 9,
   "metadata": {},
   "outputs": [
    {
     "data": {
      "text/html": [
       "<div>\n",
       "<style scoped>\n",
       "    .dataframe tbody tr th:only-of-type {\n",
       "        vertical-align: middle;\n",
       "    }\n",
       "\n",
       "    .dataframe tbody tr th {\n",
       "        vertical-align: top;\n",
       "    }\n",
       "\n",
       "    .dataframe thead th {\n",
       "        text-align: right;\n",
       "    }\n",
       "</style>\n",
       "<table border=\"1\" class=\"dataframe\">\n",
       "  <thead>\n",
       "    <tr style=\"text-align: right;\">\n",
       "      <th></th>\n",
       "      <th>mean radius</th>\n",
       "      <th>mean texture</th>\n",
       "      <th>mean perimeter</th>\n",
       "      <th>mean area</th>\n",
       "      <th>mean smoothness</th>\n",
       "      <th>mean compactness</th>\n",
       "      <th>mean concavity</th>\n",
       "      <th>mean concave points</th>\n",
       "      <th>mean symmetry</th>\n",
       "      <th>mean fractal dimension</th>\n",
       "      <th>...</th>\n",
       "      <th>worst radius</th>\n",
       "      <th>worst texture</th>\n",
       "      <th>worst perimeter</th>\n",
       "      <th>worst area</th>\n",
       "      <th>worst smoothness</th>\n",
       "      <th>worst compactness</th>\n",
       "      <th>worst concavity</th>\n",
       "      <th>worst concave points</th>\n",
       "      <th>worst symmetry</th>\n",
       "      <th>worst fractal dimension</th>\n",
       "    </tr>\n",
       "  </thead>\n",
       "  <tbody>\n",
       "    <tr>\n",
       "      <th>0</th>\n",
       "      <td>17.99</td>\n",
       "      <td>10.38</td>\n",
       "      <td>122.80</td>\n",
       "      <td>1001.0</td>\n",
       "      <td>0.11840</td>\n",
       "      <td>0.27760</td>\n",
       "      <td>0.30010</td>\n",
       "      <td>0.14710</td>\n",
       "      <td>0.2419</td>\n",
       "      <td>0.07871</td>\n",
       "      <td>...</td>\n",
       "      <td>25.380</td>\n",
       "      <td>17.33</td>\n",
       "      <td>184.60</td>\n",
       "      <td>2019.0</td>\n",
       "      <td>0.16220</td>\n",
       "      <td>0.66560</td>\n",
       "      <td>0.7119</td>\n",
       "      <td>0.2654</td>\n",
       "      <td>0.4601</td>\n",
       "      <td>0.11890</td>\n",
       "    </tr>\n",
       "    <tr>\n",
       "      <th>1</th>\n",
       "      <td>20.57</td>\n",
       "      <td>17.77</td>\n",
       "      <td>132.90</td>\n",
       "      <td>1326.0</td>\n",
       "      <td>0.08474</td>\n",
       "      <td>0.07864</td>\n",
       "      <td>0.08690</td>\n",
       "      <td>0.07017</td>\n",
       "      <td>0.1812</td>\n",
       "      <td>0.05667</td>\n",
       "      <td>...</td>\n",
       "      <td>24.990</td>\n",
       "      <td>23.41</td>\n",
       "      <td>158.80</td>\n",
       "      <td>1956.0</td>\n",
       "      <td>0.12380</td>\n",
       "      <td>0.18660</td>\n",
       "      <td>0.2416</td>\n",
       "      <td>0.1860</td>\n",
       "      <td>0.2750</td>\n",
       "      <td>0.08902</td>\n",
       "    </tr>\n",
       "    <tr>\n",
       "      <th>2</th>\n",
       "      <td>19.69</td>\n",
       "      <td>21.25</td>\n",
       "      <td>130.00</td>\n",
       "      <td>1203.0</td>\n",
       "      <td>0.10960</td>\n",
       "      <td>0.15990</td>\n",
       "      <td>0.19740</td>\n",
       "      <td>0.12790</td>\n",
       "      <td>0.2069</td>\n",
       "      <td>0.05999</td>\n",
       "      <td>...</td>\n",
       "      <td>23.570</td>\n",
       "      <td>25.53</td>\n",
       "      <td>152.50</td>\n",
       "      <td>1709.0</td>\n",
       "      <td>0.14440</td>\n",
       "      <td>0.42450</td>\n",
       "      <td>0.4504</td>\n",
       "      <td>0.2430</td>\n",
       "      <td>0.3613</td>\n",
       "      <td>0.08758</td>\n",
       "    </tr>\n",
       "    <tr>\n",
       "      <th>3</th>\n",
       "      <td>11.42</td>\n",
       "      <td>20.38</td>\n",
       "      <td>77.58</td>\n",
       "      <td>386.1</td>\n",
       "      <td>0.14250</td>\n",
       "      <td>0.28390</td>\n",
       "      <td>0.24140</td>\n",
       "      <td>0.10520</td>\n",
       "      <td>0.2597</td>\n",
       "      <td>0.09744</td>\n",
       "      <td>...</td>\n",
       "      <td>14.910</td>\n",
       "      <td>26.50</td>\n",
       "      <td>98.87</td>\n",
       "      <td>567.7</td>\n",
       "      <td>0.20980</td>\n",
       "      <td>0.86630</td>\n",
       "      <td>0.6869</td>\n",
       "      <td>0.2575</td>\n",
       "      <td>0.6638</td>\n",
       "      <td>0.17300</td>\n",
       "    </tr>\n",
       "    <tr>\n",
       "      <th>4</th>\n",
       "      <td>20.29</td>\n",
       "      <td>14.34</td>\n",
       "      <td>135.10</td>\n",
       "      <td>1297.0</td>\n",
       "      <td>0.10030</td>\n",
       "      <td>0.13280</td>\n",
       "      <td>0.19800</td>\n",
       "      <td>0.10430</td>\n",
       "      <td>0.1809</td>\n",
       "      <td>0.05883</td>\n",
       "      <td>...</td>\n",
       "      <td>22.540</td>\n",
       "      <td>16.67</td>\n",
       "      <td>152.20</td>\n",
       "      <td>1575.0</td>\n",
       "      <td>0.13740</td>\n",
       "      <td>0.20500</td>\n",
       "      <td>0.4000</td>\n",
       "      <td>0.1625</td>\n",
       "      <td>0.2364</td>\n",
       "      <td>0.07678</td>\n",
       "    </tr>\n",
       "    <tr>\n",
       "      <th>...</th>\n",
       "      <td>...</td>\n",
       "      <td>...</td>\n",
       "      <td>...</td>\n",
       "      <td>...</td>\n",
       "      <td>...</td>\n",
       "      <td>...</td>\n",
       "      <td>...</td>\n",
       "      <td>...</td>\n",
       "      <td>...</td>\n",
       "      <td>...</td>\n",
       "      <td>...</td>\n",
       "      <td>...</td>\n",
       "      <td>...</td>\n",
       "      <td>...</td>\n",
       "      <td>...</td>\n",
       "      <td>...</td>\n",
       "      <td>...</td>\n",
       "      <td>...</td>\n",
       "      <td>...</td>\n",
       "      <td>...</td>\n",
       "      <td>...</td>\n",
       "    </tr>\n",
       "    <tr>\n",
       "      <th>564</th>\n",
       "      <td>21.56</td>\n",
       "      <td>22.39</td>\n",
       "      <td>142.00</td>\n",
       "      <td>1479.0</td>\n",
       "      <td>0.11100</td>\n",
       "      <td>0.11590</td>\n",
       "      <td>0.24390</td>\n",
       "      <td>0.13890</td>\n",
       "      <td>0.1726</td>\n",
       "      <td>0.05623</td>\n",
       "      <td>...</td>\n",
       "      <td>25.450</td>\n",
       "      <td>26.40</td>\n",
       "      <td>166.10</td>\n",
       "      <td>2027.0</td>\n",
       "      <td>0.14100</td>\n",
       "      <td>0.21130</td>\n",
       "      <td>0.4107</td>\n",
       "      <td>0.2216</td>\n",
       "      <td>0.2060</td>\n",
       "      <td>0.07115</td>\n",
       "    </tr>\n",
       "    <tr>\n",
       "      <th>565</th>\n",
       "      <td>20.13</td>\n",
       "      <td>28.25</td>\n",
       "      <td>131.20</td>\n",
       "      <td>1261.0</td>\n",
       "      <td>0.09780</td>\n",
       "      <td>0.10340</td>\n",
       "      <td>0.14400</td>\n",
       "      <td>0.09791</td>\n",
       "      <td>0.1752</td>\n",
       "      <td>0.05533</td>\n",
       "      <td>...</td>\n",
       "      <td>23.690</td>\n",
       "      <td>38.25</td>\n",
       "      <td>155.00</td>\n",
       "      <td>1731.0</td>\n",
       "      <td>0.11660</td>\n",
       "      <td>0.19220</td>\n",
       "      <td>0.3215</td>\n",
       "      <td>0.1628</td>\n",
       "      <td>0.2572</td>\n",
       "      <td>0.06637</td>\n",
       "    </tr>\n",
       "    <tr>\n",
       "      <th>566</th>\n",
       "      <td>16.60</td>\n",
       "      <td>28.08</td>\n",
       "      <td>108.30</td>\n",
       "      <td>858.1</td>\n",
       "      <td>0.08455</td>\n",
       "      <td>0.10230</td>\n",
       "      <td>0.09251</td>\n",
       "      <td>0.05302</td>\n",
       "      <td>0.1590</td>\n",
       "      <td>0.05648</td>\n",
       "      <td>...</td>\n",
       "      <td>18.980</td>\n",
       "      <td>34.12</td>\n",
       "      <td>126.70</td>\n",
       "      <td>1124.0</td>\n",
       "      <td>0.11390</td>\n",
       "      <td>0.30940</td>\n",
       "      <td>0.3403</td>\n",
       "      <td>0.1418</td>\n",
       "      <td>0.2218</td>\n",
       "      <td>0.07820</td>\n",
       "    </tr>\n",
       "    <tr>\n",
       "      <th>567</th>\n",
       "      <td>20.60</td>\n",
       "      <td>29.33</td>\n",
       "      <td>140.10</td>\n",
       "      <td>1265.0</td>\n",
       "      <td>0.11780</td>\n",
       "      <td>0.27700</td>\n",
       "      <td>0.35140</td>\n",
       "      <td>0.15200</td>\n",
       "      <td>0.2397</td>\n",
       "      <td>0.07016</td>\n",
       "      <td>...</td>\n",
       "      <td>25.740</td>\n",
       "      <td>39.42</td>\n",
       "      <td>184.60</td>\n",
       "      <td>1821.0</td>\n",
       "      <td>0.16500</td>\n",
       "      <td>0.86810</td>\n",
       "      <td>0.9387</td>\n",
       "      <td>0.2650</td>\n",
       "      <td>0.4087</td>\n",
       "      <td>0.12400</td>\n",
       "    </tr>\n",
       "    <tr>\n",
       "      <th>568</th>\n",
       "      <td>7.76</td>\n",
       "      <td>24.54</td>\n",
       "      <td>47.92</td>\n",
       "      <td>181.0</td>\n",
       "      <td>0.05263</td>\n",
       "      <td>0.04362</td>\n",
       "      <td>0.00000</td>\n",
       "      <td>0.00000</td>\n",
       "      <td>0.1587</td>\n",
       "      <td>0.05884</td>\n",
       "      <td>...</td>\n",
       "      <td>9.456</td>\n",
       "      <td>30.37</td>\n",
       "      <td>59.16</td>\n",
       "      <td>268.6</td>\n",
       "      <td>0.08996</td>\n",
       "      <td>0.06444</td>\n",
       "      <td>0.0000</td>\n",
       "      <td>0.0000</td>\n",
       "      <td>0.2871</td>\n",
       "      <td>0.07039</td>\n",
       "    </tr>\n",
       "  </tbody>\n",
       "</table>\n",
       "<p>569 rows × 30 columns</p>\n",
       "</div>"
      ],
      "text/plain": [
       "     mean radius  mean texture  mean perimeter  mean area  mean smoothness  \\\n",
       "0          17.99         10.38          122.80     1001.0          0.11840   \n",
       "1          20.57         17.77          132.90     1326.0          0.08474   \n",
       "2          19.69         21.25          130.00     1203.0          0.10960   \n",
       "3          11.42         20.38           77.58      386.1          0.14250   \n",
       "4          20.29         14.34          135.10     1297.0          0.10030   \n",
       "..           ...           ...             ...        ...              ...   \n",
       "564        21.56         22.39          142.00     1479.0          0.11100   \n",
       "565        20.13         28.25          131.20     1261.0          0.09780   \n",
       "566        16.60         28.08          108.30      858.1          0.08455   \n",
       "567        20.60         29.33          140.10     1265.0          0.11780   \n",
       "568         7.76         24.54           47.92      181.0          0.05263   \n",
       "\n",
       "     mean compactness  mean concavity  mean concave points  mean symmetry  \\\n",
       "0             0.27760         0.30010              0.14710         0.2419   \n",
       "1             0.07864         0.08690              0.07017         0.1812   \n",
       "2             0.15990         0.19740              0.12790         0.2069   \n",
       "3             0.28390         0.24140              0.10520         0.2597   \n",
       "4             0.13280         0.19800              0.10430         0.1809   \n",
       "..                ...             ...                  ...            ...   \n",
       "564           0.11590         0.24390              0.13890         0.1726   \n",
       "565           0.10340         0.14400              0.09791         0.1752   \n",
       "566           0.10230         0.09251              0.05302         0.1590   \n",
       "567           0.27700         0.35140              0.15200         0.2397   \n",
       "568           0.04362         0.00000              0.00000         0.1587   \n",
       "\n",
       "     mean fractal dimension  ...  worst radius  worst texture  \\\n",
       "0                   0.07871  ...        25.380          17.33   \n",
       "1                   0.05667  ...        24.990          23.41   \n",
       "2                   0.05999  ...        23.570          25.53   \n",
       "3                   0.09744  ...        14.910          26.50   \n",
       "4                   0.05883  ...        22.540          16.67   \n",
       "..                      ...  ...           ...            ...   \n",
       "564                 0.05623  ...        25.450          26.40   \n",
       "565                 0.05533  ...        23.690          38.25   \n",
       "566                 0.05648  ...        18.980          34.12   \n",
       "567                 0.07016  ...        25.740          39.42   \n",
       "568                 0.05884  ...         9.456          30.37   \n",
       "\n",
       "     worst perimeter  worst area  worst smoothness  worst compactness  \\\n",
       "0             184.60      2019.0           0.16220            0.66560   \n",
       "1             158.80      1956.0           0.12380            0.18660   \n",
       "2             152.50      1709.0           0.14440            0.42450   \n",
       "3              98.87       567.7           0.20980            0.86630   \n",
       "4             152.20      1575.0           0.13740            0.20500   \n",
       "..               ...         ...               ...                ...   \n",
       "564           166.10      2027.0           0.14100            0.21130   \n",
       "565           155.00      1731.0           0.11660            0.19220   \n",
       "566           126.70      1124.0           0.11390            0.30940   \n",
       "567           184.60      1821.0           0.16500            0.86810   \n",
       "568            59.16       268.6           0.08996            0.06444   \n",
       "\n",
       "     worst concavity  worst concave points  worst symmetry  \\\n",
       "0             0.7119                0.2654          0.4601   \n",
       "1             0.2416                0.1860          0.2750   \n",
       "2             0.4504                0.2430          0.3613   \n",
       "3             0.6869                0.2575          0.6638   \n",
       "4             0.4000                0.1625          0.2364   \n",
       "..               ...                   ...             ...   \n",
       "564           0.4107                0.2216          0.2060   \n",
       "565           0.3215                0.1628          0.2572   \n",
       "566           0.3403                0.1418          0.2218   \n",
       "567           0.9387                0.2650          0.4087   \n",
       "568           0.0000                0.0000          0.2871   \n",
       "\n",
       "     worst fractal dimension  \n",
       "0                    0.11890  \n",
       "1                    0.08902  \n",
       "2                    0.08758  \n",
       "3                    0.17300  \n",
       "4                    0.07678  \n",
       "..                       ...  \n",
       "564                  0.07115  \n",
       "565                  0.06637  \n",
       "566                  0.07820  \n",
       "567                  0.12400  \n",
       "568                  0.07039  \n",
       "\n",
       "[569 rows x 30 columns]"
      ]
     },
     "metadata": {},
     "output_type": "display_data"
    }
   ],
   "source": [
    "# What does the data look like?\n",
    "display(breast_cancer_inputs)"
   ]
  },
  {
   "attachments": {},
   "cell_type": "markdown",
   "metadata": {},
   "source": [
    "Let's be honest, this data is really confusing and we cannot really tell anything from it!\n",
    "\n",
    "We can create a plotting function to help us spot some trends. "
   ]
  },
  {
   "cell_type": "code",
   "execution_count": 10,
   "metadata": {},
   "outputs": [],
   "source": [
    "def produce_scatter_plot(input_dataframe: pd.DataFrame,\n",
    "                         output_series: pd.Series,\n",
    "                         columns:list):\n",
    "    \"\"\"Produces a 2D or 3D scatter plot based on columns from dataframe.\n",
    "\n",
    "    Args:\n",
    "        input_dataframe (pd.DataFrame): The dataframe containing breast cancer information\n",
    "        output_series (pd.Series): The dataframe containing diagnosis information\n",
    "        columns (list): The columns to plot.\n",
    "    \"\"\"\n",
    "    \n",
    "    # Generate a series of strings to use as a colour key\n",
    "    colours = pd.Series(\"True\" if  value else False for value in output_series)\n",
    "    \n",
    "    #Check the length of the columns.\n",
    "    # If length is 3, make a 3D plot.\n",
    "    # If length is 2, make a 2D plot.\n",
    "    if len(columns) == 3:\n",
    "        fig = px.scatter_3d(input_dataframe, x=columns[0], y=columns[1], z=columns[2], color=colours, symbol =colours, labels={\"color\": \"Diagnosis\", \"Symbol\": \"Diagnosis\"})\n",
    "    elif len(columns) == 2:\n",
    "        fig = px.scatter(input_dataframe, x=columns[0], y=columns[1], color=colours, symbol =colours, labels={\"color\": \"Diagnosis\", \"Symbol\": \"Diagnosis\"})\n",
    "    elif len(columns) != (2 or 3):\n",
    "        print(\"Please only use 2 or 3 columns\")\n",
    "        return None\n",
    "\n",
    "    # Update the graphics\n",
    "    fig.update_traces(marker=dict(size = 4 if len(columns) == 3 else 10,\n",
    "                              line=dict(width=2, color='DarkSlateGrey')),\n",
    "                              selector=dict(mode='markers'))\n",
    "    \n",
    "    fig.show()\n",
    "    return None"
   ]
  },
  {
   "attachments": {},
   "cell_type": "markdown",
   "metadata": {},
   "source": [
    "![image](.//task.png)\n",
    "\n",
    "This plotting function can be called by passing into it breast_cancer_inputs, breast_cancer_outputs, and an array of column names.\n",
    "\n",
    "Try using the column names to generate some 2D and 3D plots, see if you see any trends. "
   ]
  },
  {
   "cell_type": "code",
   "execution_count": 11,
   "metadata": {},
   "outputs": [
    {
     "name": "stdout",
     "output_type": "stream",
     "text": [
      "Index(['mean radius', 'mean texture', 'mean perimeter', 'mean area',\n",
      "       'mean smoothness', 'mean compactness', 'mean concavity',\n",
      "       'mean concave points', 'mean symmetry', 'mean fractal dimension',\n",
      "       'radius error', 'texture error', 'perimeter error', 'area error',\n",
      "       'smoothness error', 'compactness error', 'concavity error',\n",
      "       'concave points error', 'symmetry error', 'fractal dimension error',\n",
      "       'worst radius', 'worst texture', 'worst perimeter', 'worst area',\n",
      "       'worst smoothness', 'worst compactness', 'worst concavity',\n",
      "       'worst concave points', 'worst symmetry', 'worst fractal dimension'],\n",
      "      dtype='object')\n"
     ]
    }
   ],
   "source": [
    "# Remind ourselves of the column names\n",
    "print(breast_cancer_inputs.columns)"
   ]
  },
  {
   "cell_type": "code",
   "execution_count": null,
   "metadata": {},
   "outputs": [],
   "source": [
    "produce_scatter_plot(breast_cancer_inputs,\n",
    "                     breast_cancer_outputs,\n",
    "                     ['mean radius','mean texture'])"
   ]
  },
  {
   "cell_type": "code",
   "execution_count": null,
   "metadata": {},
   "outputs": [],
   "source": [
    "produce_scatter_plot(breast_cancer_inputs,\n",
    "                     breast_cancer_outputs,\n",
    "                     ['mean radius','mean texture', 'mean perimeter'])"
   ]
  },
  {
   "attachments": {},
   "cell_type": "markdown",
   "metadata": {},
   "source": [
    "There are 30 different columns within this dataset, meaning there are 439 different pairs you could plot in a 2D graph. Spotting patterns, or more importantly the most important patterns, is an incredibly complex task. \n",
    "\n",
    "Further to this, can you imagine having a 30 dimensional scatter plot to try and spot patterns. For us, it is completely impossible! But for a machine, this is something it can do easily. "
   ]
  },
  {
   "attachments": {},
   "cell_type": "markdown",
   "metadata": {},
   "source": [
    "#### Can we use this data in a machine learning model? Yes!"
   ]
  },
  {
   "cell_type": "code",
   "execution_count": 12,
   "metadata": {},
   "outputs": [],
   "source": [
    "from sklearn.model_selection import train_test_split\n",
    "\n",
    "# When creating a machine learning model, it is important to have some training data and some testing data.\n",
    "\n",
    "# Training data - this is data that is used to train the model.\n",
    "# Testing data - this is data used to test the model, we will use this a lot later!\n",
    "\n",
    "# The following function splits our data randomly to test and training data.\n",
    "breast_cancer_inputs_training, breast_cancer_inputs_testing, breast_cancer_outputs_training, breast_cancer_outputs_testing = train_test_split(breast_cancer_inputs, breast_cancer_outputs, train_size=0.8)\n",
    "\n",
    "# train_size represents the proportion of data that should be used for training\n",
    "# - we have gone for 80%"
   ]
  },
  {
   "attachments": {},
   "cell_type": "markdown",
   "metadata": {},
   "source": [
    "#### There are multiple types of machine learning algorithms: \n",
    "\n",
    "**Classification algorithms** are machine learning techniques used to predict categorical labels or classes based on input data.\n",
    "\n",
    "**Regression algorithms** are machine learning techniques used to predict continuous numerical values based on input data.\n",
    "\n",
    "**Clustering algorithms** are machine learning techniques used to group similar data points together based on their inherent similarities, without any predefined labels."
   ]
  },
  {
   "attachments": {},
   "cell_type": "markdown",
   "metadata": {},
   "source": [
    "#### Can you tell which type of algorithm we want to use?"
   ]
  },
  {
   "cell_type": "code",
   "execution_count": 13,
   "metadata": {},
   "outputs": [],
   "source": [
    "from sklearn.ensemble import RandomForestClassifier\n",
    "\n",
    "# This is one example of a classification model, called a random forest classifier.\n",
    "# Others are available, which you can look up if you would like to. \n",
    "\n",
    "classification_model = RandomForestClassifier()"
   ]
  },
  {
   "attachments": {},
   "cell_type": "markdown",
   "metadata": {},
   "source": [
    "Once we have a model, our next step is to train it.\n",
    "\n",
    "sklearn has an incredibly useful function - `fit` \n",
    "\n",
    "The fit method trains the algorithm on the data.\n",
    "\n",
    "How it does this depends on the model. If you would like to know more about the random forest algorithm you can read about it here: https://www.turing.com/kb/random-forest-algorithm. But, a lot of this specific knowledge you wont need to know today. What is important is that we are using a model that can be trained -  it can use data we feed it to create a predictive algorithm.\n",
    "\n",
    "\n"
   ]
  },
  {
   "cell_type": "code",
   "execution_count": 14,
   "metadata": {},
   "outputs": [
    {
     "data": {
      "text/html": [
       "<style>#sk-container-id-1 {color: black;}#sk-container-id-1 pre{padding: 0;}#sk-container-id-1 div.sk-toggleable {background-color: white;}#sk-container-id-1 label.sk-toggleable__label {cursor: pointer;display: block;width: 100%;margin-bottom: 0;padding: 0.3em;box-sizing: border-box;text-align: center;}#sk-container-id-1 label.sk-toggleable__label-arrow:before {content: \"▸\";float: left;margin-right: 0.25em;color: #696969;}#sk-container-id-1 label.sk-toggleable__label-arrow:hover:before {color: black;}#sk-container-id-1 div.sk-estimator:hover label.sk-toggleable__label-arrow:before {color: black;}#sk-container-id-1 div.sk-toggleable__content {max-height: 0;max-width: 0;overflow: hidden;text-align: left;background-color: #f0f8ff;}#sk-container-id-1 div.sk-toggleable__content pre {margin: 0.2em;color: black;border-radius: 0.25em;background-color: #f0f8ff;}#sk-container-id-1 input.sk-toggleable__control:checked~div.sk-toggleable__content {max-height: 200px;max-width: 100%;overflow: auto;}#sk-container-id-1 input.sk-toggleable__control:checked~label.sk-toggleable__label-arrow:before {content: \"▾\";}#sk-container-id-1 div.sk-estimator input.sk-toggleable__control:checked~label.sk-toggleable__label {background-color: #d4ebff;}#sk-container-id-1 div.sk-label input.sk-toggleable__control:checked~label.sk-toggleable__label {background-color: #d4ebff;}#sk-container-id-1 input.sk-hidden--visually {border: 0;clip: rect(1px 1px 1px 1px);clip: rect(1px, 1px, 1px, 1px);height: 1px;margin: -1px;overflow: hidden;padding: 0;position: absolute;width: 1px;}#sk-container-id-1 div.sk-estimator {font-family: monospace;background-color: #f0f8ff;border: 1px dotted black;border-radius: 0.25em;box-sizing: border-box;margin-bottom: 0.5em;}#sk-container-id-1 div.sk-estimator:hover {background-color: #d4ebff;}#sk-container-id-1 div.sk-parallel-item::after {content: \"\";width: 100%;border-bottom: 1px solid gray;flex-grow: 1;}#sk-container-id-1 div.sk-label:hover label.sk-toggleable__label {background-color: #d4ebff;}#sk-container-id-1 div.sk-serial::before {content: \"\";position: absolute;border-left: 1px solid gray;box-sizing: border-box;top: 0;bottom: 0;left: 50%;z-index: 0;}#sk-container-id-1 div.sk-serial {display: flex;flex-direction: column;align-items: center;background-color: white;padding-right: 0.2em;padding-left: 0.2em;position: relative;}#sk-container-id-1 div.sk-item {position: relative;z-index: 1;}#sk-container-id-1 div.sk-parallel {display: flex;align-items: stretch;justify-content: center;background-color: white;position: relative;}#sk-container-id-1 div.sk-item::before, #sk-container-id-1 div.sk-parallel-item::before {content: \"\";position: absolute;border-left: 1px solid gray;box-sizing: border-box;top: 0;bottom: 0;left: 50%;z-index: -1;}#sk-container-id-1 div.sk-parallel-item {display: flex;flex-direction: column;z-index: 1;position: relative;background-color: white;}#sk-container-id-1 div.sk-parallel-item:first-child::after {align-self: flex-end;width: 50%;}#sk-container-id-1 div.sk-parallel-item:last-child::after {align-self: flex-start;width: 50%;}#sk-container-id-1 div.sk-parallel-item:only-child::after {width: 0;}#sk-container-id-1 div.sk-dashed-wrapped {border: 1px dashed gray;margin: 0 0.4em 0.5em 0.4em;box-sizing: border-box;padding-bottom: 0.4em;background-color: white;}#sk-container-id-1 div.sk-label label {font-family: monospace;font-weight: bold;display: inline-block;line-height: 1.2em;}#sk-container-id-1 div.sk-label-container {text-align: center;}#sk-container-id-1 div.sk-container {/* jupyter's `normalize.less` sets `[hidden] { display: none; }` but bootstrap.min.css set `[hidden] { display: none !important; }` so we also need the `!important` here to be able to override the default hidden behavior on the sphinx rendered scikit-learn.org. See: https://github.com/scikit-learn/scikit-learn/issues/21755 */display: inline-block !important;position: relative;}#sk-container-id-1 div.sk-text-repr-fallback {display: none;}</style><div id=\"sk-container-id-1\" class=\"sk-top-container\"><div class=\"sk-text-repr-fallback\"><pre>RandomForestClassifier()</pre><b>In a Jupyter environment, please rerun this cell to show the HTML representation or trust the notebook. <br />On GitHub, the HTML representation is unable to render, please try loading this page with nbviewer.org.</b></div><div class=\"sk-container\" hidden><div class=\"sk-item\"><div class=\"sk-estimator sk-toggleable\"><input class=\"sk-toggleable__control sk-hidden--visually\" id=\"sk-estimator-id-1\" type=\"checkbox\" checked><label for=\"sk-estimator-id-1\" class=\"sk-toggleable__label sk-toggleable__label-arrow\">RandomForestClassifier</label><div class=\"sk-toggleable__content\"><pre>RandomForestClassifier()</pre></div></div></div></div></div>"
      ],
      "text/plain": [
       "RandomForestClassifier()"
      ]
     },
     "execution_count": 14,
     "metadata": {},
     "output_type": "execute_result"
    }
   ],
   "source": [
    "classification_model.fit(breast_cancer_inputs_training,breast_cancer_outputs_training)"
   ]
  },
  {
   "cell_type": "markdown",
   "metadata": {},
   "source": [
    "And that is it, in just a few lines of code we have a machine learning model that can be used for predicting if someone has breast cancer!\n",
    "\n",
    "We can even try it out, let's look at an individual and see what our machine learning mode predicts. "
   ]
  },
  {
   "cell_type": "code",
   "execution_count": 15,
   "metadata": {},
   "outputs": [],
   "source": [
    "# Create a Dataframe containing the information of one individual.\n",
    "\n",
    "individual_1 = pd.DataFrame(\n",
    "    [[21.56,22.39,142.0,1479.0,0.111,0.1159,0.2439,0.1389,0.1726,0.05623,0.02,0.4,0.045,20.5,4.6,120,12.95,13.45,0.005,0.067,25.45,26.4,166.1,2027.0,0.141,0.2113,0.4107,0.2216,0.206,0.07115]],\n",
    "    columns = ['mean radius', 'mean texture', 'mean perimeter', 'mean area',\n",
    "       'mean smoothness', 'mean compactness', 'mean concavity',\n",
    "       'mean concave points', 'mean symmetry', 'mean fractal dimension',\n",
    "       'radius error', 'texture error', 'perimeter error', 'area error',\n",
    "       'smoothness error', 'compactness error', 'concavity error',\n",
    "       'concave points error', 'symmetry error', 'fractal dimension error',\n",
    "       'worst radius', 'worst texture', 'worst perimeter', 'worst area',\n",
    "       'worst smoothness', 'worst compactness', 'worst concavity',\n",
    "       'worst concave points', 'worst symmetry', 'worst fractal dimension'])"
   ]
  },
  {
   "cell_type": "markdown",
   "metadata": {},
   "source": [
    "Next, we can use `predict`. This uses the model we have just trained to predict the results of our test set. It really is that simple!"
   ]
  },
  {
   "cell_type": "code",
   "execution_count": 16,
   "metadata": {},
   "outputs": [
    {
     "name": "stdout",
     "output_type": "stream",
     "text": [
      "[0]\n"
     ]
    }
   ],
   "source": [
    "prediction = classification_model.predict(individual_1)\n",
    "print(prediction)\n",
    "# A 0 is a benign prediction, and a 1 is a cancerous prediction"
   ]
  },
  {
   "cell_type": "markdown",
   "metadata": {},
   "source": [
    "So how helpful is this? Sure - we have a model, and it makes predictions. But do we actually know whether this is correct? \n",
    "\n",
    "Not really...\n",
    "\n",
    "##### It's time to switch on our testing brains and start evaluating just how good this model is!"
   ]
  },
  {
   "attachments": {},
   "cell_type": "markdown",
   "metadata": {},
   "source": [
    "Do you remember the testing data we separated from the training data earlier? This is about 20% of the total data we have access to, and we can use it to evaluate just how good our model is. We can use the same `predict` function as above, but this time we can pass it far more data. \n",
    "\n",
    "**Importantly**, this data is **labelled**. The basic premise of testing with labelled data is as follows, make your predictions (as we have just done), and then compare them."
   ]
  },
  {
   "cell_type": "code",
   "execution_count": 17,
   "metadata": {},
   "outputs": [],
   "source": [
    "predictions = classification_model.predict(breast_cancer_inputs_testing)"
   ]
  },
  {
   "attachments": {},
   "cell_type": "markdown",
   "metadata": {},
   "source": [
    "What do the predictions actually look like? "
   ]
  },
  {
   "cell_type": "code",
   "execution_count": 18,
   "metadata": {},
   "outputs": [
    {
     "name": "stdout",
     "output_type": "stream",
     "text": [
      "[0 1 0 1 0 1 1 1 1 1 1 1 0 1 0 0 1 0 0 1 1 1 0 0 1 1 0 1 1 1 0 0 1 0 0 1 1\n",
      " 1 1 0 1 1 0 0 1 1 1 1 0 1 1 1 1 0 1 1 0 1 1 1 1 1 1 0 0 1 1 1 0 0 0 1 1 0\n",
      " 1 0 1 1 1 1 0 1 1 1 1 1 1 1 0 1 0 1 1 1 0 0 0 1 0 1 1 1 1 1 1 0 1 1 1 1 1\n",
      " 1 1 1]\n"
     ]
    }
   ],
   "source": [
    "print(predictions)"
   ]
  },
  {
   "cell_type": "markdown",
   "metadata": {},
   "source": [
    "Let's start with a really simple piece of analysis. How many of our predictions were correct? A super simple way to look at this is using a pie chart. "
   ]
  },
  {
   "cell_type": "code",
   "execution_count": 19,
   "metadata": {},
   "outputs": [],
   "source": [
    "# matplotlib is another plotting library similar to plotly.\n",
    "\n",
    "import matplotlib.pyplot as plt\n",
    "\n",
    "def plot_predictions(predictions, actual):\n",
    "    \"\"\"Creates a pie chart\n",
    "\n",
    "    Args:\n",
    "        predictions (Series): Predicted values by the model\n",
    "        actual (Series): Actual values\n",
    "    \"\"\"\n",
    "\n",
    "    correct_predictions = 0\n",
    "    incorrect_predictions = 0\n",
    "\n",
    "    for prediction, value in zip(predictions, actual):\n",
    "        if prediction == value:\n",
    "            correct_predictions += 1\n",
    "        else:\n",
    "            incorrect_predictions += 1\n",
    "\n",
    "    total_predictions = len(predictions)\n",
    "\n",
    "    # Remember our function we made earlier!\n",
    "    correct_percentage = round( calculate_percentage(correct_predictions,total_predictions) ,1)\n",
    "    incorrect_percentage = round( calculate_percentage(incorrect_predictions,total_predictions), 1)\n",
    "\n",
    "    # Plot the chart\n",
    "    plt.pie([correct_predictions,incorrect_predictions],\n",
    "            labels=[f\"Correct Predictions\\n{correct_percentage}\",f\"Incorrect Predictions\\n{incorrect_percentage}%\"])\n",
    "             \n",
    "    # Add a title\n",
    "    plt.title(\"Percentage of Correct and Incorrect Predictions\")\n",
    "    \n",
    "    return None\n",
    "    "
   ]
  },
  {
   "cell_type": "code",
   "execution_count": 20,
   "metadata": {},
   "outputs": [
    {
     "data": {
      "image/png": "[encoded data removed]",
      "text/plain": [
       "<Figure size 640x480 with 1 Axes>"
      ]
     },
     "metadata": {},
     "output_type": "display_data"
    }
   ],
   "source": [
    "plot_predictions(predictions, breast_cancer_outputs_testing)"
   ]
  },
  {
   "attachments": {},
   "cell_type": "markdown",
   "metadata": {},
   "source": [
    "There are other ways to analyse our results. For example using a confusion matrix. "
   ]
  },
  {
   "cell_type": "code",
   "execution_count": 21,
   "metadata": {},
   "outputs": [],
   "source": [
    "from sklearn import metrics\n",
    "\n",
    "def generate_confusion_matrix(predicted, actual):\n",
    "    \"\"\"Creates a confusion matrix chart\n",
    "\n",
    "    Args:\n",
    "        predictions (Series): Predicted values by the model\n",
    "        actual (Series): Actual values\n",
    "    \"\"\"\n",
    "    confusion_matrix = metrics.confusion_matrix(actual, predicted)\n",
    "\n",
    "    cm_display = metrics.ConfusionMatrixDisplay(confusion_matrix = confusion_matrix, display_labels = [\"Benign\", \"Malignant\"])\n",
    "\n",
    "    cm_display.plot()\n",
    "\n",
    "    plt.title(\"Confusion Matrix\")"
   ]
  },
  {
   "cell_type": "code",
   "execution_count": 22,
   "metadata": {},
   "outputs": [
    {
     "data": {
      "image/png": "[encoded data removed]",
      "text/plain": [
       "<Figure size 640x480 with 2 Axes>"
      ]
     },
     "metadata": {},
     "output_type": "display_data"
    }
   ],
   "source": [
    "generate_confusion_matrix(predictions, breast_cancer_outputs_testing)"
   ]
  },
  {
   "attachments": {},
   "cell_type": "markdown",
   "metadata": {},
   "source": [
    "### What does this actually show? \n",
    "\n",
    "The matrix has four squares, each representing a different combination of actual and predicted classifications. The squares are:\n",
    "\n",
    "- True Positive (TP): The model correctly predicted the positive diagnosis.\n",
    "- False Positive (FP): The model incorrectly predicted the positive diagnosis.\n",
    "- True Negative (TN): The model correctly predicted the negative diagnosis.\n",
    "- False Negative (FN): The model incorrectly predicted the negative diagnosis.\n"
   ]
  },
  {
   "cell_type": "markdown",
   "metadata": {},
   "source": [
    "In some scenarios, an algorithm may want to be intentionally biased.\n",
    "\n",
    "- **Fire Alarms**: You would like a fire alarm to catch all fires. You would much rather a fire alarm go off when there is not a fire, than not go off when there is one. For this, we would like **high sensitivity** and **low specificity**. i.e. low false negatives and high false positives.\n",
    "\n",
    "- **Spam Filters**: You do not want a spam filter to filter out important real emails! You care a lot about a **high specificity** and a **low sensitivity**. Therefore, you want higher false negatives and lower true positives.  \n",
    "\n",
    "![image](.//task.png)"
   ]
  },
  {
   "cell_type": "markdown",
   "metadata": {},
   "source": [
    "### Have a think - what bias would we prefer for this dataset and model?"
   ]
  },
  {
   "attachments": {},
   "cell_type": "markdown",
   "metadata": {},
   "source": [
    "Another method of analysis is an **F1 Score**\n",
    "\n",
    "This is given as:\n",
    "\n",
    "**F1 = 2 * (precision * recall) / (precision + recall)**\n",
    "\n",
    "Where:\n",
    "- **Precision** is a measure of how many predicted positive diagnosis' are actually positive. This is found by taking the number of true positives and dividing by the number of true and false positives.\n",
    "- **Recall** is the percentage of positive cases that are correctly predicted by the model.\n",
    "\n",
    "A perfect prediction would give an F1 score of 1, with the worst possible score being 0. \n",
    "\n",
    "The sklearn classification report is a very useful way of examining the precision, recall and f1 score of **each class** (i.e benign or malignant)."
   ]
  },
  {
   "cell_type": "code",
   "execution_count": 25,
   "metadata": {},
   "outputs": [
    {
     "name": "stdout",
     "output_type": "stream",
     "text": [
      "              precision    recall  f1-score   support\n",
      "\n",
      "           0       1.00      0.90      0.95        40\n",
      "           1       0.95      1.00      0.97        74\n",
      "\n",
      "    accuracy                           0.96       114\n",
      "   macro avg       0.97      0.95      0.96       114\n",
      "weighted avg       0.97      0.96      0.96       114\n",
      "\n"
     ]
    }
   ],
   "source": [
    "classification_report = metrics.classification_report(breast_cancer_outputs_testing, predictions)\n",
    "\n",
    "print(classification_report)"
   ]
  },
  {
   "cell_type": "markdown",
   "metadata": {},
   "source": [
    "Something else that is important to consider is feature importance.\n",
    "\n",
    "This is an exploration into which features of the model (these are your column names or variables), have the greatest impact on the outcome of the model. \n",
    "\n",
    "There are many reason why this is an important step for testers. 2 important ones are:\n",
    "- By understanding which columns are the most important, you can narrow down your search for bugs or bad input data.\n",
    "- Certain columns may be dominating the predictions, for example, a model could be making predictions almost entirely based off the value of one column. In this case we can ask - do we need a machine learning model at all?\n",
    " "
   ]
  },
  {
   "cell_type": "code",
   "execution_count": 28,
   "metadata": {},
   "outputs": [
    {
     "data": {
      "image/png": "[encoded data removed]",
      "text/plain": [
       "<Figure size 800x950 with 1 Axes>"
      ]
     },
     "metadata": {},
     "output_type": "display_data"
    }
   ],
   "source": [
    "# shap is the module we wll use to run feature importance\n",
    "import shap \n",
    "\n",
    "# we pass shap our classification model\n",
    "explainer = shap.TreeExplainer(classification_model)\n",
    "# we then pass shap our testing inputs.\n",
    "shap_values = explainer.shap_values(breast_cancer_inputs_testing)\n",
    "# shap then creates a plot for us showing which features are the most important\n",
    "shap.summary_plot(shap_values[1], breast_cancer_inputs_testing, plot_type=\"bar\")\n",
    "\n",
    "# In the plot_type parameter, you may wish to try out \"violin\" or \"dot\" instead of \"bar\""
   ]
  },
  {
   "cell_type": "markdown",
   "metadata": {},
   "source": [
    "Interesting, we can now see which features have the greatest impact on predictions. If we wanted to be really thorough with our testing, we could have a look at some of the data in the most important columns to see whether it all makes sense and is sensible."
   ]
  },
  {
   "attachments": {},
   "cell_type": "markdown",
   "metadata": {},
   "source": [
    "![image](.//task.png)\n",
    "\n",
    "**OPTIONAL**\n",
    "\n",
    "So you have made predictions using the random forest algorithm, but could you use something else instead?\n",
    "\n",
    "Head to https://scikit-learn.org/stable/supervised_learning.html and see what other models are available.\n",
    "\n",
    "Can you find any better classification models for our dataset?\n",
    "\n",
    "Feel free to go back and look at the previous code in this notebook."
   ]
  },
  {
   "cell_type": "code",
   "execution_count": null,
   "metadata": {},
   "outputs": [],
   "source": [
    "## Your code here!\n",
    "\n",
    "#classification_model = \n"
   ]
  },
  {
   "attachments": {},
   "cell_type": "markdown",
   "metadata": {},
   "source": [
    "# Regression"
   ]
  },
  {
   "attachments": {},
   "cell_type": "markdown",
   "metadata": {},
   "source": [
    "So we have seen an example of using machine learning for classification, but what about regression? As a reminder:\n",
    "\n",
    "**Regression algorithms** are machine learning techniques used to predict continuous numerical values based on input data.\n",
    "\n",
    "That means, we want to use a dataset to train a model to make a prediction, and that prediction can be any value.\n",
    "\n",
    "Luckily, sklearn has anotehr useful dataset we can use!\n"
   ]
  },
  {
   "attachments": {},
   "cell_type": "markdown",
   "metadata": {},
   "source": [
    "We are going to be using a diabetes dataset."
   ]
  },
  {
   "cell_type": "code",
   "execution_count": null,
   "metadata": {},
   "outputs": [],
   "source": [
    "from sklearn.datasets import load_diabetes\n",
    "\n",
    "# Here, we load the diabetes inputs and outputs using the load diabetes function. \n",
    "\n",
    "# Earlier we used clear variables named breast_cancer_inputs and breast_cancer_outputs.\n",
    "\n",
    "# Sadly, data scientists often like to be more concise (and confusing), and like to use X and y.\n",
    "# You will likely see this a lot online, so it is good to practice this notation. \n",
    "\n",
    "diabetes_X, diabetes_y = load_diabetes(return_X_y=True, as_frame=True)\n",
    "# Here diabetes_X represents inputs, and diabetes_y represents outputs."
   ]
  },
  {
   "attachments": {},
   "cell_type": "markdown",
   "metadata": {},
   "source": [
    "Let's have a look at the data"
   ]
  },
  {
   "cell_type": "code",
   "execution_count": null,
   "metadata": {},
   "outputs": [],
   "source": [
    "display(diabetes_X)\n",
    "display(diabetes_y)"
   ]
  },
  {
   "attachments": {},
   "cell_type": "markdown",
   "metadata": {},
   "source": [
    "Hmm, pretty similar to before. We have a large dataset containing lots of information, and a series containing the progression. Unlike the classification problem we have dealt with before, the values in the output all look different! We are not classifying the data into groups, we want to be able to predict numbers!\n",
    "\n",
    "Let us explore the data a bit more to see what we are dealing with. "
   ]
  },
  {
   "attachments": {},
   "cell_type": "markdown",
   "metadata": {},
   "source": [
    "### Correlation Matrix"
   ]
  },
  {
   "attachments": {},
   "cell_type": "markdown",
   "metadata": {},
   "source": [
    "Something we didn't do in our last example was data cleaning. \n",
    "\n",
    "There are countless examples of things you can do to check and clean your data - in this example we are going to use a correlation matrix to check how correlated each of our variables are.\n",
    "\n",
    "But first:\n",
    "\n",
    "#### Why do we care about correlation?\n",
    "\n",
    " - Removing highly correlated variables before creating a regression machine learning model is important because it helps avoid multicollinearity. Multicollinearity occurs when two or more predictor variables in a regression model are strongly correlated with each other.\n",
    "\n",
    " - When variables are highly correlated, it becomes difficult for the model to distinguish the individual effects of each variable on the target variable. This can lead to unstable and unreliable estimates of the regression coefficients. Additionally, multicollinearity can make the model overly complex and may affect its interpretability.\n",
    "\n",
    " - By removing highly correlated variables, you ensure that each predictor variable contributes unique and independent information to the model, allowing for more accurate and reliable predictions."
   ]
  },
  {
   "cell_type": "code",
   "execution_count": null,
   "metadata": {},
   "outputs": [],
   "source": [
    "corr = diabetes_X.corr()\n",
    "corr.style.background_gradient(cmap='coolwarm')\n"
   ]
  },
  {
   "attachments": {},
   "cell_type": "markdown",
   "metadata": {},
   "source": [
    "![image](.//task.png)\n",
    "\n",
    "This correlation plot shows the correlation between each variable/column.\n",
    "- Values close to 1 show high positive correlation.\n",
    "- Values close to -1 show high negative correlation.\n",
    "\n",
    "Looking at this plot, which 2 columns show the highest correlation?"
   ]
  },
  {
   "attachments": {},
   "cell_type": "markdown",
   "metadata": {},
   "source": [
    "Remove one of the columns to reduce highly correlated features. "
   ]
  },
  {
   "cell_type": "code",
   "execution_count": null,
   "metadata": {},
   "outputs": [],
   "source": [
    "\n",
    "diabetes_X = diabetes_X.drop('s1', axis=1)\n",
    "display(diabetes_X)"
   ]
  },
  {
   "attachments": {},
   "cell_type": "markdown",
   "metadata": {},
   "source": [
    "Now that we have done that, let's do some familiar steps from earlier and split our data. If you have forgotten why we do this, feel free to scroll up and have a look at our last example. "
   ]
  },
  {
   "cell_type": "code",
   "execution_count": null,
   "metadata": {},
   "outputs": [],
   "source": [
    "from sklearn.model_selection import train_test_split\n",
    "\n",
    "# The following function splits our data randomly to test and training data.\n",
    "X_training, X_testing, y_training, y_testing = train_test_split(diabetes_X, diabetes_y, train_size=0.8)\n"
   ]
  },
  {
   "attachments": {},
   "cell_type": "markdown",
   "metadata": {},
   "source": [
    "Next up, some even more familiar steps! It really is this easy with sklearn.\n",
    "\n",
    "![image](.//task.png)\n",
    "\n",
    "An incredibly useful skill in machine learning is being able to use multiple models, and compare their effectiveness. \n",
    "For the following example, find another regression model and follow the same steps. \n",
    "\n",
    "You can find other models here: https://scikit-learn.org/stable/supervised_learning.html\n",
    "\n"
   ]
  },
  {
   "cell_type": "code",
   "execution_count": null,
   "metadata": {},
   "outputs": [],
   "source": [
    "from sklearn.linear_model import LinearRegression\n",
    "from sklearn.tree import DecisionTreeRegressor\n",
    "\n",
    "regression_model_1 = LinearRegression()\n",
    "# regression_model_2 = <your_model_here>\n",
    "\n",
    "regression_model_1.fit(X_training,y_training)\n",
    "# regression_model_2.fit(<what goes in here?>)"
   ]
  },
  {
   "cell_type": "code",
   "execution_count": null,
   "metadata": {},
   "outputs": [],
   "source": [
    "y_predictions_1 = regression_model_1.predict(X_testing)\n",
    "#y_predictions_2 = <what goes here?>"
   ]
  },
  {
   "attachments": {},
   "cell_type": "markdown",
   "metadata": {},
   "source": [
    "So we have our predictions, like last time - we want to know how well we have actually done! \n",
    "\n",
    "Let us start first with the mean absolute percentage error from sklearn https://scikit-learn.org/stable/modules/generated/sklearn.metrics.mean_absolute_percentage_error.html\n",
    "\n",
    "Here, a value of 0 is a perfect prediction, with larger values resulting in worse predictions. "
   ]
  },
  {
   "cell_type": "code",
   "execution_count": null,
   "metadata": {},
   "outputs": [],
   "source": [
    "from sklearn.metrics import mean_absolute_percentage_error\n",
    "\n",
    "mape1 = mean_absolute_percentage_error(y_testing, y_predictions_1)\n",
    "#mape2 = mean_absolute_percentage_error(y_testing, y_predictions_2)\n",
    "\n",
    "print(f\"Mean Absolute Percentage Error for model 1: {mape1:.2f}\")\n",
    "#print(f\"Mean Absolute Percentage Error for model 2: {mape2:.2f}\")"
   ]
  },
  {
   "attachments": {},
   "cell_type": "markdown",
   "metadata": {},
   "source": [
    "Interesting, but this still doesn't tell us much. \n",
    "\n",
    "First let us plot the predicted values against the actual values for diabetes progression."
   ]
  },
  {
   "cell_type": "code",
   "execution_count": null,
   "metadata": {},
   "outputs": [],
   "source": [
    "def plot_regression_scatter(actual,pred):\n",
    "    \"\"\"Creates a scatter plot\n",
    "\n",
    "    Args:\n",
    "        actual: the actual regression values\n",
    "        pred: the predicted regression values\n",
    "\n",
    "    Returns:\n",
    "        None\n",
    "    \"\"\"\n",
    "\n",
    "    plt.scatter(actual, pred)\n",
    "    plt.plot(actual, actual,color='red')\n",
    "    plt.xlabel(\"Predicted Progression\")\n",
    "    plt.ylabel(\"Actual Progression\")\n",
    "    plt.title(\"Predicted Values vs Actual Values of Progression\")\n",
    "\n",
    "    return None"
   ]
  },
  {
   "cell_type": "code",
   "execution_count": null,
   "metadata": {},
   "outputs": [],
   "source": [
    "plot_regression_scatter(y_testing,y_predictions_1)"
   ]
  },
  {
   "cell_type": "code",
   "execution_count": null,
   "metadata": {},
   "outputs": [],
   "source": [
    "#plot_regression_scatter(y_testing,y_predictions_2)"
   ]
  },
  {
   "attachments": {},
   "cell_type": "markdown",
   "metadata": {},
   "source": [
    "What does this plot show us? Well for a start - our predictions don't look great. Only a few points lie on the red line (a perfect prediction).\n",
    "\n",
    "Let us create another plot, this time called a Kernel Density Plot. This provides an estimate of the probability density function of the data. In simpler terms, it shows how likely different values are to occur within the dataset."
   ]
  },
  {
   "cell_type": "code",
   "execution_count": null,
   "metadata": {},
   "outputs": [],
   "source": [
    "import seaborn as sns\n",
    "\n",
    "def plot_kernel_density(actual,pred):\n",
    "    \"\"\"Creates Kernel Density Estimation plot\n",
    "\n",
    "    Args:\n",
    "        actual: the actual regression values\n",
    "        pred: the predicted regression values\n",
    "\n",
    "    Returns:\n",
    "        None\n",
    "    \"\"\"\n",
    "    \n",
    "    plt.figure(figsize=(10, 7))\n",
    "    # Kernel Density Estimation plot\n",
    "    ax = sns.kdeplot(actual, color=\"r\", label=\"Actual Value\") #actual values\n",
    "    sns.kdeplot(pred, color=\"b\", label=\"Predicted Values\", ax=ax) #predicted values\n",
    "\n",
    "    plt.title('Actual vs Precited values')\n",
    "    plt.legend()\n",
    "    plt.show()\n",
    "\n",
    "    return None"
   ]
  },
  {
   "cell_type": "code",
   "execution_count": null,
   "metadata": {},
   "outputs": [],
   "source": [
    "plot_kernel_density(y_testing,y_predictions_1)"
   ]
  },
  {
   "cell_type": "code",
   "execution_count": null,
   "metadata": {},
   "outputs": [],
   "source": [
    "#plot_kernel_density(y_testing,y_predictions_2)"
   ]
  },
  {
   "attachments": {},
   "cell_type": "markdown",
   "metadata": {},
   "source": [
    "### Good job getting this far!\n",
    "\n",
    "![image](.//task.png)\n",
    "\n",
    "You're clearly becoming a bit of an expert now. What other metrics are there to compare each model? \n",
    "\n",
    "Hint - here is a good website https://www.datacourses.com/evaluation-of-regression-models-in-scikit-learn-846/\n",
    "\n",
    "Find **atleast** 1 other metric and implement it into this notebook to further compare your models. "
   ]
  },
  {
   "cell_type": "code",
   "execution_count": null,
   "metadata": {},
   "outputs": [],
   "source": [
    "# Your code here"
   ]
  },
  {
   "attachments": {},
   "cell_type": "markdown",
   "metadata": {},
   "source": [
    "### Unsupervised vs Supervised Learning\n",
    "\n",
    "**Supervised learning** is a machine learning approach where the algorithm learns from labeled training data. The training data consists of input features (also called independent variables) and their corresponding known output labels (also called dependent variables or target variables). The goal of supervised learning is to learn a mapping function that can predict the correct output label for new, unseen input data. In other words, the algorithm learns from examples where the desired outcome is already known.\n",
    "\n",
    "**Unsupervised Learning**\n",
    "Unsupervised learning, on the other hand, is a machine learning approach where the algorithm learns from unlabeled data. Unlike supervised learning, there are no predefined output labels or target variables in unsupervised learning. The algorithm's objective is to find patterns, structures, or relationships within the data without any prior knowledge of the outcomes. Unsupervised learning algorithms attempt to uncover hidden patterns, group similar data points together, or reduce the dimensionality of the data without being guided by explicit labels.\n",
    "\n",
    "In summary, supervised learning uses labeled data to learn the relationship between input features and output labels, whereas unsupervised learning works with unlabeled data to discover patterns or structures in the data without any predefined target variables."
   ]
  },
  {
   "attachments": {},
   "cell_type": "markdown",
   "metadata": {},
   "source": [
    "![image](.//task.png)"
   ]
  },
  {
   "attachments": {},
   "cell_type": "markdown",
   "metadata": {},
   "source": [
    "So far we have only used one type of supervised/unsupervised learning - can you tell which one we used?\n",
    "\n",
    "Our next task will use a clustering algorithm. This is a type of... ah I almost gave the answer to the above question!\n",
    "\n",
    "In the below code, some data has been generated using the `make_blobs` function. \n",
    "\n",
    "This has created some data in 'clusters'. The task - can you use a clustering algorithm to group this data?\n",
    "\n",
    "This may help - https://scikit-learn.org/stable/modules/clustering\n",
    "\n",
    "Now, you may be thinking that this looks like a classification problem, and you would be correct, you could solve this using a classification model. However, as we are investigating unsupervised learning, we want to complete this task without using the output values / y values! \n",
    "\n",
    "A graph has been created so that you can analyse the input data, but once you have had a look, try not to use the y values again! You may wish to steal some code from the below plot to analyse your results later though!"
   ]
  },
  {
   "cell_type": "code",
   "execution_count": null,
   "metadata": {},
   "outputs": [],
   "source": [
    "from sklearn.datasets import make_blobs\n",
    "\n",
    "# Use the make_blobs function to generate inputs and outputs\n",
    "X, y = make_blobs(n_samples=2000, centers=5, n_features=3, random_state=1, cluster_std = 1)"
   ]
  },
  {
   "cell_type": "code",
   "execution_count": null,
   "metadata": {},
   "outputs": [],
   "source": [
    "# The following code helps visualise the initial data. \n",
    "\n",
    "# Turn X into a dataframe \n",
    "X = pd.DataFrame(X).astype(float)\n",
    "\n",
    "# Create a dictionary to add colours to the plot\n",
    "colours_dict = {\n",
    "    0:\"red\",\n",
    "    1:\"blue\",\n",
    "    2:\"green\",\n",
    "    3:\"orange\",\n",
    "    4:\"purple\",\n",
    "    5:\"black\"\n",
    "}\n",
    "# Iterate through the outputs to create an array of colours\n",
    "colour_map = [colours_dict[int(num)] for num in y]\n",
    "\n",
    "\n",
    "# Create a scatter plot\n",
    "fig = px.scatter_3d(X,x=0,y=1,z=2,color=colour_map)\n",
    "\n",
    "# Update the graphics\n",
    "fig.update_traces(marker=dict(size = 4,\n",
    "                              line=dict(width=2,color='DarkSlateGrey')),\n",
    "                              selector=dict(mode='markers'))"
   ]
  },
  {
   "cell_type": "code",
   "execution_count": null,
   "metadata": {},
   "outputs": [],
   "source": [
    "# Your code here - good luck!"
   ]
  }
 ],
 "metadata": {
  "kernelspec": {
   "display_name": "Python 3",
   "language": "python",
   "name": "python3"
  },
  "language_info": {
   "codemirror_mode": {
    "name": "ipython",
    "version": 3
   },
   "file_extension": ".py",
   "mimetype": "text/x-python",
   "name": "python",
   "nbconvert_exporter": "python",
   "pygments_lexer": "ipython3",
   "version": "3.11.3"
  },
  "orig_nbformat": 4
 },
 "nbformat": 4,
 "nbformat_minor": 2
}
