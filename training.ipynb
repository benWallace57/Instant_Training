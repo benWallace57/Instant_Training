{
 "cells": [
  {
   "attachments": {},
   "cell_type": "markdown",
   "metadata": {},
   "source": [
    "# 🤖 Artificial Intelligence, MACHINE LEARNING & PYTHON 🤖"
   ]
  },
  {
   "attachments": {},
   "cell_type": "markdown",
   "metadata": {},
   "source": [
    "## Why does it all matter? "
   ]
  },
  {
   "attachments": {},
   "cell_type": "markdown",
   "metadata": {},
   "source": [
    "Artificial Intelligence is everywhere, particularly in healthcare.\n"
   ]
  },
  {
   "attachments": {},
   "cell_type": "markdown",
   "metadata": {},
   "source": [
    "![image](.//headline_1.png)\n",
    "\n",
    "![image](.//headline_2.png)"
   ]
  },
  {
   "attachments": {},
   "cell_type": "markdown",
   "metadata": {},
   "source": [
    "Artificial Intelligence is going to become more and more prominent within the NHS."
   ]
  },
  {
   "attachments": {},
   "cell_type": "markdown",
   "metadata": {},
   "source": [
    "![image](.//headline_3.png)"
   ]
  },
  {
   "attachments": {},
   "cell_type": "markdown",
   "metadata": {},
   "source": [
    "Also, Artificial Intelligence is just really interesting! (And sometimes a bit scary!) It's here to stay, so understanding it is going to be an incredibly useful skill.\n",
    "Here are a final selection of headlines to show just how **versatile**, **interesting**, and **important** AI is becoming."
   ]
  },
  {
   "attachments": {},
   "cell_type": "markdown",
   "metadata": {},
   "source": [
    "![image](.//headline_4.png)\n",
    "\n",
    "![image](.//headline_5.png)"
   ]
  },
  {
   "attachments": {},
   "cell_type": "markdown",
   "metadata": {},
   "source": [
    "## What is todays plan? \n",
    "\n",
    "##### **Can we create and test an Artificial Intelligence that can predict if an individual has breast cancer?**\n"
   ]
  },
  {
   "attachments": {},
   "cell_type": "markdown",
   "metadata": {},
   "source": [
    "### Before we get into coding - let's go over some definitions.\n",
    "\n",
    "Firstly - what actually is Artificial Intelligence? \n",
    "\n",
    "Online Chatbots, Amazon Alexa, a self driving Tesla, these are all examples of **machine learning** and **artificial intelligence**. \n",
    "\n",
    "- Artificial Intelligence (often referred to as AI) is a general term used to describe computers completing task that we would consider clever or intelligent. \n",
    "\n",
    "- Machine Learning is a particular application of AI, it is the idea that with data, computers can learn for themselves and make predictions. \n",
    "\n",
    "Today, our focus is going to be more closely aligned to machine learning. We are going to use a dataset to **train** a **machine learning model** (often just referred to as a model), so that it can make **predictions** that we can **test** and **assure**."
   ]
  },
  {
   "attachments": {},
   "cell_type": "markdown",
   "metadata": {},
   "source": [
    "## Python Recap"
   ]
  },
  {
   "attachments": {},
   "cell_type": "markdown",
   "metadata": {},
   "source": [
    "Firstly, let's give a quick recap of python and of functions. This will help us a lot later! "
   ]
  },
  {
   "cell_type": "code",
   "execution_count": 3,
   "metadata": {},
   "outputs": [
    {
     "name": "stdout",
     "output_type": "stream",
     "text": [
      "Hello!\n"
     ]
    }
   ],
   "source": [
    "# This is a block of code written in python. It is written inside a box, known as a cell.\n",
    "# Every time you get to a piece of code in this notebook, you will need to run it.\n",
    "# There are two possible ways to do this.\n",
    "\n",
    "# 1 - Click the triangular play button in the top left corner of the cell. \n",
    "# 2 - If you are clicked inside the cell, you can hold shift and press enter.\n",
    "\n",
    "# Once the code has successfully ran, you will see a little blue tick.\n",
    "\n",
    "# Sometimes, the code will also give an output, which will also appear when you have ran the code. \n",
    "# Like this!\n",
    "print(\"Hello!\")"
   ]
  },
  {
   "cell_type": "code",
   "execution_count": 1,
   "metadata": {},
   "outputs": [],
   "source": [
    "# This is a very simple function that works out percentages.\n",
    "# You pass it in two numbers, called parameters.\n",
    "# These represent the numerator and denominator of a fraction.\n",
    "# Some simple maths is done, and the fraction is returned.  \n",
    "\n",
    "def calculate_percentage(numerator, denominator):\n",
    "    fraction = numerator / denominator\n",
    "    return fraction * 100\n",
    "\n",
    "# When you run this code snippet nothing will happen, you need to call the function for it to return you something.\n",
    "# Yuo should still see a little green tick!"
   ]
  },
  {
   "cell_type": "code",
   "execution_count": 6,
   "metadata": {},
   "outputs": [
    {
     "ename": "TypeError",
     "evalue": "unsupported operand type(s) for /: 'str' and 'str'",
     "output_type": "error",
     "traceback": [
      "\u001b[1;31m---------------------------------------------------------------------------\u001b[0m",
      "\u001b[1;31mTypeError\u001b[0m                                 Traceback (most recent call last)",
      "Cell \u001b[1;32mIn[6], line 5\u001b[0m\n\u001b[0;32m      1\u001b[0m \u001b[39m# Call the function here:\u001b[39;00m\n\u001b[0;32m      2\u001b[0m \u001b[39m# You should see a output when you run this piece of code.\u001b[39;00m\n\u001b[0;32m      3\u001b[0m \u001b[39m# If you get an error, make sure you have entered two numbers without speech marks between the brackets separated by a comma. \u001b[39;00m\n\u001b[1;32m----> 5\u001b[0m calculate_percentage(\u001b[39m\"\"\"\u001b[39;49m\u001b[39myour value 1\u001b[39;49m\u001b[39m\"\"\"\u001b[39;49m, \u001b[39m\"\"\"\u001b[39;49m\u001b[39myour value 2\u001b[39;49m\u001b[39m\"\"\"\u001b[39;49m)\n",
      "Cell \u001b[1;32mIn[4], line 7\u001b[0m, in \u001b[0;36mcalculate_percentage\u001b[1;34m(numerator, denominator)\u001b[0m\n\u001b[0;32m      6\u001b[0m \u001b[39mdef\u001b[39;00m \u001b[39mcalculate_percentage\u001b[39m(numerator, denominator):\n\u001b[1;32m----> 7\u001b[0m     fraction \u001b[39m=\u001b[39m numerator \u001b[39m/\u001b[39;49m denominator\n\u001b[0;32m      8\u001b[0m     \u001b[39mreturn\u001b[39;00m fraction \u001b[39m*\u001b[39m \u001b[39m100\u001b[39m\n",
      "\u001b[1;31mTypeError\u001b[0m: unsupported operand type(s) for /: 'str' and 'str'"
     ]
    }
   ],
   "source": [
    "# Call the function here:\n",
    "# You should see a output when you run this piece of code.\n",
    "# If you get an error, make sure you have entered two numbers without speech marks between the brackets separated by a comma. \n",
    "\n",
    "calculate_percentage(\"\"\"your value 1\"\"\", \"\"\"your value 2\"\"\")"
   ]
  },
  {
   "attachments": {},
   "cell_type": "markdown",
   "metadata": {},
   "source": [
    "## Lets look at some data! "
   ]
  },
  {
   "attachments": {},
   "cell_type": "markdown",
   "metadata": {},
   "source": [
    "Over the next few steps, we are going to follow the path of a data scientist creating a machine learning model.\n",
    "\n",
    "**Don't worry!** This is not something you will be expected to do after this course. It is just an opportunity to learn how a machine learning model is made, and this will help you understand why we test it in certain ways later in this course."
   ]
  },
  {
   "cell_type": "code",
   "execution_count": 7,
   "metadata": {},
   "outputs": [],
   "source": [
    "# # These next few lines of code install certain packages. These contain lots and lots of functions which we can use in our coe later.\n",
    "\n",
    "# !pip install -U scikit-learn\n",
    "# !pip install pandas\n",
    "# !pip install plotly\n",
    "# !pip install shap"
   ]
  },
  {
   "cell_type": "code",
   "execution_count": 2,
   "metadata": {},
   "outputs": [],
   "source": [
    "#Now that we have installed them, we can import certain libraries and functions. \n",
    "\n",
    "# This first function is used to load a pre-existing breast cancer dataset\n",
    "from sklearn.datasets import load_breast_cancer\n",
    "\n",
    "# Pandas is a library containing lots of functions used to modify and navigate dataframes.\n",
    "import pandas as pd\n",
    "\n",
    "# Plotly is a library which helps us generate plots.\n",
    "import plotly.express as px"
   ]
  },
  {
   "cell_type": "code",
   "execution_count": 3,
   "metadata": {},
   "outputs": [],
   "source": [
    "# We are about to use the load_breast_cancer function from sklearn \n",
    "# This line calls the function to return:\n",
    "\n",
    "#breast_cancer_inputs  \n",
    "# - This is the raw data containing information about different breast cancer screenings\n",
    "\n",
    "#breast_cancer_outputs \n",
    "# - This contains the classification of whether each screening is identified as being breast cancer\n",
    "\n",
    "breast_cancer_inputs, breast_cancer_outputs = load_breast_cancer(return_X_y=True, as_frame=True) "
   ]
  },
  {
   "cell_type": "code",
   "execution_count": 4,
   "metadata": {},
   "outputs": [
    {
     "data": {
      "text/html": [
       "<div>\n",
       "<style scoped>\n",
       "    .dataframe tbody tr th:only-of-type {\n",
       "        vertical-align: middle;\n",
       "    }\n",
       "\n",
       "    .dataframe tbody tr th {\n",
       "        vertical-align: top;\n",
       "    }\n",
       "\n",
       "    .dataframe thead th {\n",
       "        text-align: right;\n",
       "    }\n",
       "</style>\n",
       "<table border=\"1\" class=\"dataframe\">\n",
       "  <thead>\n",
       "    <tr style=\"text-align: right;\">\n",
       "      <th></th>\n",
       "      <th>mean radius</th>\n",
       "      <th>mean texture</th>\n",
       "      <th>mean perimeter</th>\n",
       "      <th>mean area</th>\n",
       "      <th>mean smoothness</th>\n",
       "      <th>mean compactness</th>\n",
       "      <th>mean concavity</th>\n",
       "      <th>mean concave points</th>\n",
       "      <th>mean symmetry</th>\n",
       "      <th>mean fractal dimension</th>\n",
       "      <th>...</th>\n",
       "      <th>worst radius</th>\n",
       "      <th>worst texture</th>\n",
       "      <th>worst perimeter</th>\n",
       "      <th>worst area</th>\n",
       "      <th>worst smoothness</th>\n",
       "      <th>worst compactness</th>\n",
       "      <th>worst concavity</th>\n",
       "      <th>worst concave points</th>\n",
       "      <th>worst symmetry</th>\n",
       "      <th>worst fractal dimension</th>\n",
       "    </tr>\n",
       "  </thead>\n",
       "  <tbody>\n",
       "    <tr>\n",
       "      <th>0</th>\n",
       "      <td>17.99</td>\n",
       "      <td>10.38</td>\n",
       "      <td>122.80</td>\n",
       "      <td>1001.0</td>\n",
       "      <td>0.11840</td>\n",
       "      <td>0.27760</td>\n",
       "      <td>0.30010</td>\n",
       "      <td>0.14710</td>\n",
       "      <td>0.2419</td>\n",
       "      <td>0.07871</td>\n",
       "      <td>...</td>\n",
       "      <td>25.380</td>\n",
       "      <td>17.33</td>\n",
       "      <td>184.60</td>\n",
       "      <td>2019.0</td>\n",
       "      <td>0.16220</td>\n",
       "      <td>0.66560</td>\n",
       "      <td>0.7119</td>\n",
       "      <td>0.2654</td>\n",
       "      <td>0.4601</td>\n",
       "      <td>0.11890</td>\n",
       "    </tr>\n",
       "    <tr>\n",
       "      <th>1</th>\n",
       "      <td>20.57</td>\n",
       "      <td>17.77</td>\n",
       "      <td>132.90</td>\n",
       "      <td>1326.0</td>\n",
       "      <td>0.08474</td>\n",
       "      <td>0.07864</td>\n",
       "      <td>0.08690</td>\n",
       "      <td>0.07017</td>\n",
       "      <td>0.1812</td>\n",
       "      <td>0.05667</td>\n",
       "      <td>...</td>\n",
       "      <td>24.990</td>\n",
       "      <td>23.41</td>\n",
       "      <td>158.80</td>\n",
       "      <td>1956.0</td>\n",
       "      <td>0.12380</td>\n",
       "      <td>0.18660</td>\n",
       "      <td>0.2416</td>\n",
       "      <td>0.1860</td>\n",
       "      <td>0.2750</td>\n",
       "      <td>0.08902</td>\n",
       "    </tr>\n",
       "    <tr>\n",
       "      <th>2</th>\n",
       "      <td>19.69</td>\n",
       "      <td>21.25</td>\n",
       "      <td>130.00</td>\n",
       "      <td>1203.0</td>\n",
       "      <td>0.10960</td>\n",
       "      <td>0.15990</td>\n",
       "      <td>0.19740</td>\n",
       "      <td>0.12790</td>\n",
       "      <td>0.2069</td>\n",
       "      <td>0.05999</td>\n",
       "      <td>...</td>\n",
       "      <td>23.570</td>\n",
       "      <td>25.53</td>\n",
       "      <td>152.50</td>\n",
       "      <td>1709.0</td>\n",
       "      <td>0.14440</td>\n",
       "      <td>0.42450</td>\n",
       "      <td>0.4504</td>\n",
       "      <td>0.2430</td>\n",
       "      <td>0.3613</td>\n",
       "      <td>0.08758</td>\n",
       "    </tr>\n",
       "    <tr>\n",
       "      <th>3</th>\n",
       "      <td>11.42</td>\n",
       "      <td>20.38</td>\n",
       "      <td>77.58</td>\n",
       "      <td>386.1</td>\n",
       "      <td>0.14250</td>\n",
       "      <td>0.28390</td>\n",
       "      <td>0.24140</td>\n",
       "      <td>0.10520</td>\n",
       "      <td>0.2597</td>\n",
       "      <td>0.09744</td>\n",
       "      <td>...</td>\n",
       "      <td>14.910</td>\n",
       "      <td>26.50</td>\n",
       "      <td>98.87</td>\n",
       "      <td>567.7</td>\n",
       "      <td>0.20980</td>\n",
       "      <td>0.86630</td>\n",
       "      <td>0.6869</td>\n",
       "      <td>0.2575</td>\n",
       "      <td>0.6638</td>\n",
       "      <td>0.17300</td>\n",
       "    </tr>\n",
       "    <tr>\n",
       "      <th>4</th>\n",
       "      <td>20.29</td>\n",
       "      <td>14.34</td>\n",
       "      <td>135.10</td>\n",
       "      <td>1297.0</td>\n",
       "      <td>0.10030</td>\n",
       "      <td>0.13280</td>\n",
       "      <td>0.19800</td>\n",
       "      <td>0.10430</td>\n",
       "      <td>0.1809</td>\n",
       "      <td>0.05883</td>\n",
       "      <td>...</td>\n",
       "      <td>22.540</td>\n",
       "      <td>16.67</td>\n",
       "      <td>152.20</td>\n",
       "      <td>1575.0</td>\n",
       "      <td>0.13740</td>\n",
       "      <td>0.20500</td>\n",
       "      <td>0.4000</td>\n",
       "      <td>0.1625</td>\n",
       "      <td>0.2364</td>\n",
       "      <td>0.07678</td>\n",
       "    </tr>\n",
       "    <tr>\n",
       "      <th>...</th>\n",
       "      <td>...</td>\n",
       "      <td>...</td>\n",
       "      <td>...</td>\n",
       "      <td>...</td>\n",
       "      <td>...</td>\n",
       "      <td>...</td>\n",
       "      <td>...</td>\n",
       "      <td>...</td>\n",
       "      <td>...</td>\n",
       "      <td>...</td>\n",
       "      <td>...</td>\n",
       "      <td>...</td>\n",
       "      <td>...</td>\n",
       "      <td>...</td>\n",
       "      <td>...</td>\n",
       "      <td>...</td>\n",
       "      <td>...</td>\n",
       "      <td>...</td>\n",
       "      <td>...</td>\n",
       "      <td>...</td>\n",
       "      <td>...</td>\n",
       "    </tr>\n",
       "    <tr>\n",
       "      <th>564</th>\n",
       "      <td>21.56</td>\n",
       "      <td>22.39</td>\n",
       "      <td>142.00</td>\n",
       "      <td>1479.0</td>\n",
       "      <td>0.11100</td>\n",
       "      <td>0.11590</td>\n",
       "      <td>0.24390</td>\n",
       "      <td>0.13890</td>\n",
       "      <td>0.1726</td>\n",
       "      <td>0.05623</td>\n",
       "      <td>...</td>\n",
       "      <td>25.450</td>\n",
       "      <td>26.40</td>\n",
       "      <td>166.10</td>\n",
       "      <td>2027.0</td>\n",
       "      <td>0.14100</td>\n",
       "      <td>0.21130</td>\n",
       "      <td>0.4107</td>\n",
       "      <td>0.2216</td>\n",
       "      <td>0.2060</td>\n",
       "      <td>0.07115</td>\n",
       "    </tr>\n",
       "    <tr>\n",
       "      <th>565</th>\n",
       "      <td>20.13</td>\n",
       "      <td>28.25</td>\n",
       "      <td>131.20</td>\n",
       "      <td>1261.0</td>\n",
       "      <td>0.09780</td>\n",
       "      <td>0.10340</td>\n",
       "      <td>0.14400</td>\n",
       "      <td>0.09791</td>\n",
       "      <td>0.1752</td>\n",
       "      <td>0.05533</td>\n",
       "      <td>...</td>\n",
       "      <td>23.690</td>\n",
       "      <td>38.25</td>\n",
       "      <td>155.00</td>\n",
       "      <td>1731.0</td>\n",
       "      <td>0.11660</td>\n",
       "      <td>0.19220</td>\n",
       "      <td>0.3215</td>\n",
       "      <td>0.1628</td>\n",
       "      <td>0.2572</td>\n",
       "      <td>0.06637</td>\n",
       "    </tr>\n",
       "    <tr>\n",
       "      <th>566</th>\n",
       "      <td>16.60</td>\n",
       "      <td>28.08</td>\n",
       "      <td>108.30</td>\n",
       "      <td>858.1</td>\n",
       "      <td>0.08455</td>\n",
       "      <td>0.10230</td>\n",
       "      <td>0.09251</td>\n",
       "      <td>0.05302</td>\n",
       "      <td>0.1590</td>\n",
       "      <td>0.05648</td>\n",
       "      <td>...</td>\n",
       "      <td>18.980</td>\n",
       "      <td>34.12</td>\n",
       "      <td>126.70</td>\n",
       "      <td>1124.0</td>\n",
       "      <td>0.11390</td>\n",
       "      <td>0.30940</td>\n",
       "      <td>0.3403</td>\n",
       "      <td>0.1418</td>\n",
       "      <td>0.2218</td>\n",
       "      <td>0.07820</td>\n",
       "    </tr>\n",
       "    <tr>\n",
       "      <th>567</th>\n",
       "      <td>20.60</td>\n",
       "      <td>29.33</td>\n",
       "      <td>140.10</td>\n",
       "      <td>1265.0</td>\n",
       "      <td>0.11780</td>\n",
       "      <td>0.27700</td>\n",
       "      <td>0.35140</td>\n",
       "      <td>0.15200</td>\n",
       "      <td>0.2397</td>\n",
       "      <td>0.07016</td>\n",
       "      <td>...</td>\n",
       "      <td>25.740</td>\n",
       "      <td>39.42</td>\n",
       "      <td>184.60</td>\n",
       "      <td>1821.0</td>\n",
       "      <td>0.16500</td>\n",
       "      <td>0.86810</td>\n",
       "      <td>0.9387</td>\n",
       "      <td>0.2650</td>\n",
       "      <td>0.4087</td>\n",
       "      <td>0.12400</td>\n",
       "    </tr>\n",
       "    <tr>\n",
       "      <th>568</th>\n",
       "      <td>7.76</td>\n",
       "      <td>24.54</td>\n",
       "      <td>47.92</td>\n",
       "      <td>181.0</td>\n",
       "      <td>0.05263</td>\n",
       "      <td>0.04362</td>\n",
       "      <td>0.00000</td>\n",
       "      <td>0.00000</td>\n",
       "      <td>0.1587</td>\n",
       "      <td>0.05884</td>\n",
       "      <td>...</td>\n",
       "      <td>9.456</td>\n",
       "      <td>30.37</td>\n",
       "      <td>59.16</td>\n",
       "      <td>268.6</td>\n",
       "      <td>0.08996</td>\n",
       "      <td>0.06444</td>\n",
       "      <td>0.0000</td>\n",
       "      <td>0.0000</td>\n",
       "      <td>0.2871</td>\n",
       "      <td>0.07039</td>\n",
       "    </tr>\n",
       "  </tbody>\n",
       "</table>\n",
       "<p>569 rows × 30 columns</p>\n",
       "</div>"
      ],
      "text/plain": [
       "     mean radius  mean texture  mean perimeter  mean area  mean smoothness  \\\n",
       "0          17.99         10.38          122.80     1001.0          0.11840   \n",
       "1          20.57         17.77          132.90     1326.0          0.08474   \n",
       "2          19.69         21.25          130.00     1203.0          0.10960   \n",
       "3          11.42         20.38           77.58      386.1          0.14250   \n",
       "4          20.29         14.34          135.10     1297.0          0.10030   \n",
       "..           ...           ...             ...        ...              ...   \n",
       "564        21.56         22.39          142.00     1479.0          0.11100   \n",
       "565        20.13         28.25          131.20     1261.0          0.09780   \n",
       "566        16.60         28.08          108.30      858.1          0.08455   \n",
       "567        20.60         29.33          140.10     1265.0          0.11780   \n",
       "568         7.76         24.54           47.92      181.0          0.05263   \n",
       "\n",
       "     mean compactness  mean concavity  mean concave points  mean symmetry  \\\n",
       "0             0.27760         0.30010              0.14710         0.2419   \n",
       "1             0.07864         0.08690              0.07017         0.1812   \n",
       "2             0.15990         0.19740              0.12790         0.2069   \n",
       "3             0.28390         0.24140              0.10520         0.2597   \n",
       "4             0.13280         0.19800              0.10430         0.1809   \n",
       "..                ...             ...                  ...            ...   \n",
       "564           0.11590         0.24390              0.13890         0.1726   \n",
       "565           0.10340         0.14400              0.09791         0.1752   \n",
       "566           0.10230         0.09251              0.05302         0.1590   \n",
       "567           0.27700         0.35140              0.15200         0.2397   \n",
       "568           0.04362         0.00000              0.00000         0.1587   \n",
       "\n",
       "     mean fractal dimension  ...  worst radius  worst texture  \\\n",
       "0                   0.07871  ...        25.380          17.33   \n",
       "1                   0.05667  ...        24.990          23.41   \n",
       "2                   0.05999  ...        23.570          25.53   \n",
       "3                   0.09744  ...        14.910          26.50   \n",
       "4                   0.05883  ...        22.540          16.67   \n",
       "..                      ...  ...           ...            ...   \n",
       "564                 0.05623  ...        25.450          26.40   \n",
       "565                 0.05533  ...        23.690          38.25   \n",
       "566                 0.05648  ...        18.980          34.12   \n",
       "567                 0.07016  ...        25.740          39.42   \n",
       "568                 0.05884  ...         9.456          30.37   \n",
       "\n",
       "     worst perimeter  worst area  worst smoothness  worst compactness  \\\n",
       "0             184.60      2019.0           0.16220            0.66560   \n",
       "1             158.80      1956.0           0.12380            0.18660   \n",
       "2             152.50      1709.0           0.14440            0.42450   \n",
       "3              98.87       567.7           0.20980            0.86630   \n",
       "4             152.20      1575.0           0.13740            0.20500   \n",
       "..               ...         ...               ...                ...   \n",
       "564           166.10      2027.0           0.14100            0.21130   \n",
       "565           155.00      1731.0           0.11660            0.19220   \n",
       "566           126.70      1124.0           0.11390            0.30940   \n",
       "567           184.60      1821.0           0.16500            0.86810   \n",
       "568            59.16       268.6           0.08996            0.06444   \n",
       "\n",
       "     worst concavity  worst concave points  worst symmetry  \\\n",
       "0             0.7119                0.2654          0.4601   \n",
       "1             0.2416                0.1860          0.2750   \n",
       "2             0.4504                0.2430          0.3613   \n",
       "3             0.6869                0.2575          0.6638   \n",
       "4             0.4000                0.1625          0.2364   \n",
       "..               ...                   ...             ...   \n",
       "564           0.4107                0.2216          0.2060   \n",
       "565           0.3215                0.1628          0.2572   \n",
       "566           0.3403                0.1418          0.2218   \n",
       "567           0.9387                0.2650          0.4087   \n",
       "568           0.0000                0.0000          0.2871   \n",
       "\n",
       "     worst fractal dimension  \n",
       "0                    0.11890  \n",
       "1                    0.08902  \n",
       "2                    0.08758  \n",
       "3                    0.17300  \n",
       "4                    0.07678  \n",
       "..                       ...  \n",
       "564                  0.07115  \n",
       "565                  0.06637  \n",
       "566                  0.07820  \n",
       "567                  0.12400  \n",
       "568                  0.07039  \n",
       "\n",
       "[569 rows x 30 columns]"
      ]
     },
     "metadata": {},
     "output_type": "display_data"
    }
   ],
   "source": [
    "# What does the data look like?\n",
    "display(breast_cancer_inputs)"
   ]
  },
  {
   "attachments": {},
   "cell_type": "markdown",
   "metadata": {},
   "source": [
    "Let's be honest, this data is really confusing and we cannot really tell anything from it!\n",
    "\n",
    "We can create a plotting function to help us spot some trends. "
   ]
  },
  {
   "cell_type": "code",
   "execution_count": 5,
   "metadata": {},
   "outputs": [],
   "source": [
    "def produce_scatter_plot(input_dataframe: pd.DataFrame,\n",
    "                         output_series: pd.Series,\n",
    "                         columns:list):\n",
    "    \"\"\"Produces a 2D or 3D scatter plot based on columns from dataframe.\n",
    "\n",
    "    Args:\n",
    "        input_dataframe (pd.DataFrame): The dataframe containing breast cancer information\n",
    "        output_series (pd.Series): The dataframe containing diagnosis information\n",
    "        columns (list): The columns to plot.\n",
    "    \"\"\"\n",
    "    \n",
    "    # Generate a series of strings to use as a colour key\n",
    "    colours = pd.Series(\"True\" if  value else False for value in output_series)\n",
    "    \n",
    "    #Check the length of the columns.\n",
    "    # If length is 3, make a 3D plot.\n",
    "    # If length is 2, make a 2D plot.\n",
    "    if len(columns) == 3:\n",
    "        fig = px.scatter_3d(input_dataframe, x=columns[0], y=columns[1], z=columns[2], color=colours, symbol =colours, labels={\"color\": \"Diagnosis\", \"Symbol\": \"Diagnosis\"})\n",
    "    elif len(columns) == 2:\n",
    "        fig = px.scatter(input_dataframe, x=columns[0], y=columns[1], color=colours, symbol =colours, labels={\"color\": \"Diagnosis\", \"Symbol\": \"Diagnosis\"})\n",
    "    elif len(columns) != (2 or 3):\n",
    "        print(\"Please only use 2 or 3 columns\")\n",
    "        return None\n",
    "\n",
    "    # Update the graphics\n",
    "    fig.update_traces(marker=dict(size = 4 if len(columns) == 3 else 10,\n",
    "                              line=dict(width=2, color='DarkSlateGrey')),\n",
    "                              selector=dict(mode='markers'))\n",
    "    \n",
    "    fig.show()\n",
    "    return None"
   ]
  },
  {
   "attachments": {},
   "cell_type": "markdown",
   "metadata": {},
   "source": [
    "![image](.//task.png)\n",
    "\n",
    "This plotting function can be called by passing into it breast_cancer_inputs, breast_cancer_outputs, and an array of column names.\n",
    "\n",
    "Try using the column names to generate some 2D and 3D plots, see if you see any trends. "
   ]
  },
  {
   "cell_type": "code",
   "execution_count": 6,
   "metadata": {},
   "outputs": [
    {
     "name": "stdout",
     "output_type": "stream",
     "text": [
      "Index(['mean radius', 'mean texture', 'mean perimeter', 'mean area',\n",
      "       'mean smoothness', 'mean compactness', 'mean concavity',\n",
      "       'mean concave points', 'mean symmetry', 'mean fractal dimension',\n",
      "       'radius error', 'texture error', 'perimeter error', 'area error',\n",
      "       'smoothness error', 'compactness error', 'concavity error',\n",
      "       'concave points error', 'symmetry error', 'fractal dimension error',\n",
      "       'worst radius', 'worst texture', 'worst perimeter', 'worst area',\n",
      "       'worst smoothness', 'worst compactness', 'worst concavity',\n",
      "       'worst concave points', 'worst symmetry', 'worst fractal dimension'],\n",
      "      dtype='object')\n"
     ]
    }
   ],
   "source": [
    "# Remind ourselves of the column names\n",
    "print(breast_cancer_inputs.columns)"
   ]
  },
  {
   "cell_type": "code",
   "execution_count": 7,
   "metadata": {},
   "outputs": [
    {
     "data": {
      "application/vnd.plotly.v1+json": {
       "config": {
        "plotlyServerURL": "https://plot.ly"
       },
       "data": [
        {
         "hovertemplate": "Diagnosis=False<br>symbol=False<br>mean radius=%{x}<br>mean texture=%{y}<extra></extra>",
         "legendgroup": "False, False",
         "marker": {
          "color": "#636efa",
          "line": {
           "color": "DarkSlateGrey",
           "width": 2
          },
          "size": 10,
          "symbol": "circle"
         },
         "mode": "markers",
         "name": "False, False",
         "orientation": "v",
         "showlegend": true,
         "type": "scatter",
         "x": [
          17.99,
          20.57,
          19.69,
          11.42,
          20.29,
          12.45,
          18.25,
          13.71,
          13,
          12.46,
          16.02,
          15.78,
          19.17,
          15.85,
          13.73,
          14.54,
          14.68,
          16.13,
          19.81,
          15.34,
          21.16,
          16.65,
          17.14,
          14.58,
          18.61,
          15.3,
          17.57,
          18.63,
          11.84,
          17.02,
          19.27,
          16.13,
          16.74,
          14.25,
          14.99,
          13.48,
          13.44,
          10.95,
          19.07,
          13.28,
          13.17,
          18.65,
          13.17,
          18.22,
          15.1,
          19.21,
          14.71,
          14.25,
          12.68,
          14.78,
          18.94,
          17.2,
          13.8,
          16.07,
          18.05,
          20.18,
          25.22,
          19.1,
          18.46,
          14.48,
          19.02,
          15.37,
          15.06,
          20.26,
          14.42,
          13.61,
          13.11,
          22.27,
          14.87,
          15.78,
          17.95,
          18.66,
          24.25,
          13.61,
          19,
          19.79,
          15.46,
          16.16,
          18.45,
          12.77,
          14.95,
          16.11,
          11.8,
          17.68,
          19.19,
          19.59,
          23.27,
          16.78,
          17.47,
          13.43,
          15.46,
          16.46,
          27.22,
          21.09,
          15.7,
          15.28,
          18.31,
          14.22,
          12.34,
          14.86,
          13.77,
          18.08,
          19.18,
          14.45,
          17.54,
          23.29,
          13.81,
          15.12,
          17.01,
          20.58,
          28.11,
          17.42,
          14.19,
          13.86,
          19.8,
          19.53,
          15.75,
          12.83,
          17.05,
          20.51,
          23.21,
          20.48,
          17.46,
          19.4,
          20.94,
          19.73,
          17.3,
          19.45,
          13.96,
          19.55,
          15.32,
          15.66,
          15.53,
          20.31,
          17.35,
          17.29,
          15.61,
          17.19,
          20.73,
          21.75,
          17.93,
          18.81,
          19.16,
          19.4,
          16.24,
          11.76,
          19.53,
          20.09,
          18.22,
          20.16,
          20.34,
          16.27,
          16.26,
          16.03,
          17.06,
          18.77,
          23.51,
          19.68,
          15.75,
          25.73,
          15.08,
          20.44,
          20.2,
          21.71,
          22.01,
          16.35,
          21.37,
          20.64,
          11.08,
          14.6,
          19.55,
          15.49,
          21.61,
          17.91,
          17.99,
          15.13,
          15.5,
          14.9,
          20.18,
          18.82,
          13.98,
          17.27,
          18.03,
          17.75,
          21.1,
          19.59,
          17.08,
          27.42,
          17.6,
          16.25,
          19.44,
          16.69,
          18.01,
          18.49,
          20.59,
          13.82,
          23.09,
          15.46,
          13.4,
          15.05,
          18.31,
          19.89,
          24.63,
          20.47,
          20.55,
          14.27,
          15.22,
          20.92,
          21.56,
          20.13,
          16.6,
          20.6
         ],
         "xaxis": "x",
         "y": [
          10.38,
          17.77,
          21.25,
          20.38,
          14.34,
          15.7,
          19.98,
          20.83,
          21.82,
          24.04,
          23.24,
          17.89,
          24.8,
          23.95,
          22.61,
          27.54,
          20.13,
          20.68,
          22.15,
          14.26,
          23.04,
          21.38,
          16.4,
          21.53,
          20.25,
          25.27,
          15.05,
          25.11,
          18.7,
          23.98,
          26.47,
          17.88,
          21.59,
          21.72,
          25.2,
          20.82,
          21.58,
          21.35,
          24.81,
          20.28,
          21.81,
          17.6,
          18.66,
          18.7,
          22.02,
          18.57,
          21.59,
          22.15,
          23.84,
          23.94,
          21.31,
          24.52,
          15.79,
          19.65,
          16.15,
          23.97,
          24.91,
          26.29,
          18.52,
          21.46,
          24.59,
          22.76,
          19.83,
          23.03,
          19.77,
          24.98,
          15.56,
          19.67,
          16.67,
          22.91,
          20.01,
          17.12,
          20.2,
          24.69,
          18.91,
          25.12,
          19.48,
          21.54,
          21.91,
          22.47,
          17.57,
          18.05,
          16.58,
          20.74,
          15.94,
          18.15,
          22.04,
          18.8,
          24.68,
          19.63,
          11.89,
          20.11,
          21.87,
          26.57,
          20.31,
          22.41,
          18.58,
          23.12,
          26.86,
          23.21,
          22.29,
          21.84,
          22.49,
          20.22,
          19.32,
          26.67,
          23.75,
          16.68,
          20.26,
          22.14,
          18.47,
          25.56,
          23.81,
          16.93,
          21.56,
          32.47,
          20.25,
          22.33,
          19.08,
          27.81,
          26.97,
          21.46,
          39.28,
          23.5,
          23.56,
          19.82,
          17.08,
          19.33,
          17.05,
          28.77,
          17.27,
          23.2,
          33.56,
          27.06,
          23.06,
          22.13,
          19.38,
          22.07,
          31.12,
          20.99,
          24.48,
          19.98,
          26.6,
          18.18,
          18.77,
          18.14,
          18.9,
          23.86,
          18.87,
          19.66,
          21.51,
          20.71,
          21.88,
          15.51,
          21,
          21.43,
          24.27,
          21.68,
          19.22,
          17.46,
          25.74,
          21.78,
          26.83,
          17.25,
          21.9,
          23.29,
          15.1,
          17.35,
          18.83,
          23.29,
          23.21,
          19.97,
          22.28,
          21.02,
          20.66,
          29.81,
          21.08,
          22.53,
          19.54,
          21.97,
          19.62,
          25.42,
          16.85,
          28.03,
          20.52,
          25,
          27.15,
          26.27,
          23.33,
          19.51,
          18.82,
          20.2,
          20.56,
          17.52,
          21.24,
          24.49,
          19.83,
          23.95,
          20.52,
          19.07,
          20.58,
          20.26,
          21.6,
          20.67,
          20.86,
          22.55,
          30.62,
          25.09,
          22.39,
          28.25,
          28.08,
          29.33
         ],
         "yaxis": "y"
        },
        {
         "hovertemplate": "Diagnosis=True<br>symbol=True<br>mean radius=%{x}<br>mean texture=%{y}<extra></extra>",
         "legendgroup": "True, True",
         "marker": {
          "color": "#EF553B",
          "line": {
           "color": "DarkSlateGrey",
           "width": 2
          },
          "size": 10,
          "symbol": "diamond"
         },
         "mode": "markers",
         "name": "True, True",
         "orientation": "v",
         "showlegend": true,
         "type": "scatter",
         "x": [
          13.54,
          13.08,
          9.504,
          13.03,
          8.196,
          12.05,
          13.49,
          11.76,
          13.64,
          11.94,
          11.52,
          13.05,
          8.618,
          10.17,
          8.598,
          9.173,
          9.465,
          11.31,
          9.029,
          12.78,
          8.888,
          12.31,
          13.53,
          12.86,
          11.45,
          13.34,
          12,
          12.36,
          14.64,
          14.62,
          13.27,
          13.45,
          12.18,
          9.787,
          11.6,
          6.981,
          12.18,
          9.876,
          10.49,
          11.64,
          12.36,
          11.34,
          9.777,
          12.63,
          14.26,
          10.51,
          8.726,
          11.93,
          8.95,
          11.41,
          14.5,
          13.37,
          13.85,
          15.1,
          12.19,
          15.71,
          11.71,
          11.43,
          11.28,
          9.738,
          11.43,
          12.9,
          10.75,
          11.9,
          14.95,
          14.44,
          13.74,
          13,
          8.219,
          9.731,
          11.15,
          13.15,
          12.25,
          16.84,
          12.06,
          10.9,
          11.75,
          12.34,
          14.97,
          10.8,
          14.97,
          12.32,
          11.08,
          10.66,
          8.671,
          9.904,
          13.01,
          12.81,
          11.41,
          10.08,
          11.71,
          11.81,
          12.3,
          12.77,
          9.72,
          12.91,
          12.23,
          12.47,
          9.876,
          13.11,
          15.27,
          11.84,
          11.89,
          10.2,
          13.65,
          13.56,
          10.18,
          13.27,
          14.34,
          10.44,
          15,
          12.62,
          11.32,
          11.22,
          9.567,
          14.03,
          14.22,
          13.64,
          12.42,
          11.3,
          13.75,
          10.48,
          13.2,
          12.89,
          10.65,
          11.52,
          11.5,
          10.6,
          13.59,
          12.87,
          10.71,
          14.29,
          11.29,
          9.742,
          11.89,
          11.33,
          13.59,
          13.85,
          11.74,
          12.89,
          12.58,
          11.94,
          12.89,
          11.26,
          11.37,
          14.41,
          14.96,
          12.95,
          11.85,
          12.72,
          13.77,
          10.91,
          14.26,
          10.51,
          12.46,
          10.49,
          11.46,
          11.6,
          13.2,
          9,
          13.5,
          13.05,
          11.7,
          14.61,
          12.76,
          11.54,
          8.597,
          12.49,
          12.18,
          9.042,
          12.43,
          10.25,
          12.86,
          12.2,
          12.67,
          14.11,
          12.03,
          12.98,
          11.22,
          11.25,
          12.3,
          12.99,
          10.05,
          14.42,
          9.606,
          11.06,
          11.71,
          10.26,
          12.06,
          14.76,
          11.47,
          11.95,
          11.66,
          11.14,
          12.56,
          13.05,
          13.87,
          8.878,
          9.436,
          12.54,
          13.3,
          12.76,
          16.5,
          13.4,
          12.21,
          15.19,
          13.69,
          16.17,
          10.57,
          13.46,
          13.66,
          11.27,
          11.04,
          12.05,
          12.39,
          13.28,
          12.21,
          13.88,
          11.27,
          10.26,
          8.734,
          12.1,
          14.06,
          13.51,
          12.8,
          11.06,
          11.8,
          11.93,
          12.96,
          12.94,
          12.34,
          10.94,
          16.14,
          12.85,
          12.27,
          11.36,
          11.04,
          9.397,
          14.99,
          11.89,
          9.405,
          12.7,
          11.16,
          11.57,
          14.69,
          11.61,
          13.66,
          9.742,
          10.03,
          10.48,
          10.8,
          11.13,
          12.72,
          12.4,
          14.86,
          12.87,
          14.04,
          13.85,
          14.02,
          10.97,
          13.78,
          10.57,
          11.99,
          14.8,
          14.53,
          11.87,
          12,
          14.53,
          12.62,
          13.38,
          11.63,
          13.21,
          13,
          9.755,
          14.4,
          11.6,
          13.17,
          13.24,
          13.14,
          9.668,
          11.62,
          9.667,
          12.04,
          14.92,
          12.27,
          10.88,
          12.83,
          14.2,
          13.9,
          11.49,
          12.16,
          13.9,
          13.47,
          13.7,
          15.73,
          12.45,
          14.64,
          11.68,
          12.25,
          17.85,
          12.46,
          13.16,
          14.87,
          12.65,
          12.47,
          15.04,
          12.54,
          9.268,
          9.676,
          12.22,
          11.06,
          16.3,
          11.74,
          14.81,
          14.58,
          11.34,
          12.88,
          12.75,
          9.295,
          11.26,
          13.71,
          9.847,
          8.571,
          13.46,
          12.34,
          13.94,
          12.07,
          11.75,
          11.67,
          13.68,
          10.96,
          11.69,
          7.729,
          7.691,
          11.54,
          14.47,
          14.74,
          13.21,
          13.87,
          13.62,
          10.32,
          10.26,
          9.683,
          10.82,
          10.86,
          11.13,
          12.77,
          9.333,
          12.88,
          10.29,
          10.16,
          9.423,
          14.59,
          11.51,
          14.05,
          11.2,
          7.76
         ],
         "xaxis": "x",
         "y": [
          14.36,
          15.71,
          12.44,
          18.42,
          16.84,
          14.63,
          22.3,
          21.6,
          16.34,
          18.24,
          18.75,
          19.31,
          11.79,
          14.88,
          20.98,
          13.86,
          21.01,
          19.04,
          17.33,
          16.49,
          14.64,
          16.52,
          10.94,
          18,
          20.97,
          15.86,
          15.65,
          21.8,
          15.24,
          24.02,
          14.76,
          18.3,
          17.84,
          19.94,
          12.84,
          13.43,
          20.52,
          19.4,
          19.29,
          18.33,
          18.54,
          21.26,
          16.99,
          20.76,
          19.65,
          20.19,
          15.83,
          21.53,
          15.76,
          10.82,
          10.89,
          16.39,
          17.21,
          16.39,
          13.29,
          13.93,
          16.67,
          15.39,
          13.39,
          11.97,
          17.31,
          15.92,
          14.97,
          14.65,
          18.77,
          15.18,
          17.91,
          20.78,
          20.7,
          15.34,
          13.08,
          15.34,
          17.94,
          19.46,
          12.74,
          12.96,
          20.18,
          22.22,
          19.76,
          9.71,
          16.95,
          12.39,
          14.71,
          15.15,
          14.45,
          18.06,
          22.22,
          13.06,
          14.92,
          15.11,
          17.19,
          17.39,
          15.9,
          21.41,
          18.22,
          16.33,
          19.56,
          18.6,
          17.27,
          22.54,
          12.91,
          18.94,
          18.35,
          17.48,
          13.16,
          13.9,
          17.53,
          17.02,
          13.47,
          15.46,
          15.51,
          23.97,
          27.08,
          33.81,
          15.91,
          21.25,
          27.85,
          15.6,
          15.04,
          18.19,
          23.77,
          19.86,
          17.43,
          14.11,
          25.22,
          14.93,
          18.45,
          18.95,
          21.84,
          16.21,
          20.39,
          16.82,
          13.04,
          15.67,
          17.36,
          14.16,
          17.84,
          15.18,
          14.02,
          15.7,
          18.4,
          20.76,
          13.12,
          19.96,
          18.89,
          19.73,
          19.1,
          16.02,
          17.46,
          13.78,
          13.27,
          12.35,
          18.17,
          23.09,
          19.89,
          18.61,
          18.16,
          24.49,
          15.82,
          14.4,
          12.71,
          13.84,
          19.11,
          15.69,
          13.37,
          10.72,
          18.6,
          16.85,
          14.08,
          18.9,
          17,
          16.18,
          13.32,
          15.21,
          17.3,
          12.88,
          17.93,
          19.35,
          19.86,
          14.78,
          19.02,
          14.23,
          17.53,
          16.54,
          16.84,
          14.96,
          15.45,
          14.71,
          18.9,
          14.74,
          16.03,
          14.96,
          17.07,
          14.07,
          19.07,
          18.59,
          16.21,
          15.49,
          18.32,
          18.07,
          21.57,
          18.84,
          18.29,
          16.95,
          18.02,
          13.21,
          16.07,
          16.07,
          20.22,
          28.21,
          15.15,
          12.96,
          14.93,
          22.72,
          17.48,
          13.72,
          14.09,
          16.16,
          15.5,
          12.22,
          16.84,
          17.72,
          17.18,
          18.89,
          17.46,
          14.83,
          17.26,
          10.91,
          18.29,
          16.17,
          14.95,
          18.59,
          14.86,
          21.37,
          17.92,
          17.57,
          16.83,
          21.68,
          22.11,
          21.17,
          21.7,
          12.17,
          21.41,
          19.04,
          13.98,
          16.02,
          19.13,
          19.12,
          21.28,
          14.98,
          21.98,
          16.62,
          17.67,
          17.68,
          16.94,
          19.54,
          15.98,
          19.6,
          15.66,
          17.2,
          15.79,
          18.32,
          24.89,
          17.66,
          19.34,
          21.54,
          28.23,
          13.98,
          17.15,
          30.72,
          29.29,
          25.25,
          25.13,
          28.2,
          26.99,
          18.36,
          18.22,
          20.13,
          20.74,
          18.1,
          18.18,
          18.49,
          28.14,
          14.93,
          29.97,
          15.62,
          15.73,
          20.53,
          16.62,
          14.59,
          18.03,
          19.24,
          14.06,
          17.64,
          11.28,
          16.41,
          16.85,
          16.17,
          22.44,
          13.23,
          12.83,
          20.54,
          20.21,
          18.17,
          17.31,
          16.74,
          16.32,
          12.87,
          13.14,
          20.04,
          17.12,
          15.7,
          14.69,
          14.7,
          13.66,
          18.61,
          18.22,
          16.7,
          13.9,
          19.83,
          18.68,
          15.68,
          13.1,
          18.75,
          12.27,
          13.17,
          13.44,
          17.56,
          20.02,
          16.33,
          17.62,
          24.44,
          25.49,
          25.44,
          14.44,
          24.99,
          25.42,
          28.06,
          20.7,
          23.23,
          16.35,
          16.58,
          19.34,
          24.21,
          21.48,
          22.44,
          29.43,
          21.94,
          28.92,
          27.61,
          19.59,
          27.88,
          22.68,
          23.93,
          27.15,
          29.37,
          24.54
         ],
         "yaxis": "y"
        }
       ],
       "layout": {
        "legend": {
         "title": {
          "text": "Diagnosis, symbol"
         },
         "tracegroupgap": 0
        },
        "margin": {
         "t": 60
        },
        "template": {
         "data": {
          "bar": [
           {
            "error_x": {
             "color": "#2a3f5f"
            },
            "error_y": {
             "color": "#2a3f5f"
            },
            "marker": {
             "line": {
              "color": "#E5ECF6",
              "width": 0.5
             },
             "pattern": {
              "fillmode": "overlay",
              "size": 10,
              "solidity": 0.2
             }
            },
            "type": "bar"
           }
          ],
          "barpolar": [
           {
            "marker": {
             "line": {
              "color": "#E5ECF6",
              "width": 0.5
             },
             "pattern": {
              "fillmode": "overlay",
              "size": 10,
              "solidity": 0.2
             }
            },
            "type": "barpolar"
           }
          ],
          "carpet": [
           {
            "aaxis": {
             "endlinecolor": "#2a3f5f",
             "gridcolor": "white",
             "linecolor": "white",
             "minorgridcolor": "white",
             "startlinecolor": "#2a3f5f"
            },
            "baxis": {
             "endlinecolor": "#2a3f5f",
             "gridcolor": "white",
             "linecolor": "white",
             "minorgridcolor": "white",
             "startlinecolor": "#2a3f5f"
            },
            "type": "carpet"
           }
          ],
          "choropleth": [
           {
            "colorbar": {
             "outlinewidth": 0,
             "ticks": ""
            },
            "type": "choropleth"
           }
          ],
          "contour": [
           {
            "colorbar": {
             "outlinewidth": 0,
             "ticks": ""
            },
            "colorscale": [
             [
              0,
              "#0d0887"
             ],
             [
              0.1111111111111111,
              "#46039f"
             ],
             [
              0.2222222222222222,
              "#7201a8"
             ],
             [
              0.3333333333333333,
              "#9c179e"
             ],
             [
              0.4444444444444444,
              "#bd3786"
             ],
             [
              0.5555555555555556,
              "#d8576b"
             ],
             [
              0.6666666666666666,
              "#ed7953"
             ],
             [
              0.7777777777777778,
              "#fb9f3a"
             ],
             [
              0.8888888888888888,
              "#fdca26"
             ],
             [
              1,
              "#f0f921"
             ]
            ],
            "type": "contour"
           }
          ],
          "contourcarpet": [
           {
            "colorbar": {
             "outlinewidth": 0,
             "ticks": ""
            },
            "type": "contourcarpet"
           }
          ],
          "heatmap": [
           {
            "colorbar": {
             "outlinewidth": 0,
             "ticks": ""
            },
            "colorscale": [
             [
              0,
              "#0d0887"
             ],
             [
              0.1111111111111111,
              "#46039f"
             ],
             [
              0.2222222222222222,
              "#7201a8"
             ],
             [
              0.3333333333333333,
              "#9c179e"
             ],
             [
              0.4444444444444444,
              "#bd3786"
             ],
             [
              0.5555555555555556,
              "#d8576b"
             ],
             [
              0.6666666666666666,
              "#ed7953"
             ],
             [
              0.7777777777777778,
              "#fb9f3a"
             ],
             [
              0.8888888888888888,
              "#fdca26"
             ],
             [
              1,
              "#f0f921"
             ]
            ],
            "type": "heatmap"
           }
          ],
          "heatmapgl": [
           {
            "colorbar": {
             "outlinewidth": 0,
             "ticks": ""
            },
            "colorscale": [
             [
              0,
              "#0d0887"
             ],
             [
              0.1111111111111111,
              "#46039f"
             ],
             [
              0.2222222222222222,
              "#7201a8"
             ],
             [
              0.3333333333333333,
              "#9c179e"
             ],
             [
              0.4444444444444444,
              "#bd3786"
             ],
             [
              0.5555555555555556,
              "#d8576b"
             ],
             [
              0.6666666666666666,
              "#ed7953"
             ],
             [
              0.7777777777777778,
              "#fb9f3a"
             ],
             [
              0.8888888888888888,
              "#fdca26"
             ],
             [
              1,
              "#f0f921"
             ]
            ],
            "type": "heatmapgl"
           }
          ],
          "histogram": [
           {
            "marker": {
             "pattern": {
              "fillmode": "overlay",
              "size": 10,
              "solidity": 0.2
             }
            },
            "type": "histogram"
           }
          ],
          "histogram2d": [
           {
            "colorbar": {
             "outlinewidth": 0,
             "ticks": ""
            },
            "colorscale": [
             [
              0,
              "#0d0887"
             ],
             [
              0.1111111111111111,
              "#46039f"
             ],
             [
              0.2222222222222222,
              "#7201a8"
             ],
             [
              0.3333333333333333,
              "#9c179e"
             ],
             [
              0.4444444444444444,
              "#bd3786"
             ],
             [
              0.5555555555555556,
              "#d8576b"
             ],
             [
              0.6666666666666666,
              "#ed7953"
             ],
             [
              0.7777777777777778,
              "#fb9f3a"
             ],
             [
              0.8888888888888888,
              "#fdca26"
             ],
             [
              1,
              "#f0f921"
             ]
            ],
            "type": "histogram2d"
           }
          ],
          "histogram2dcontour": [
           {
            "colorbar": {
             "outlinewidth": 0,
             "ticks": ""
            },
            "colorscale": [
             [
              0,
              "#0d0887"
             ],
             [
              0.1111111111111111,
              "#46039f"
             ],
             [
              0.2222222222222222,
              "#7201a8"
             ],
             [
              0.3333333333333333,
              "#9c179e"
             ],
             [
              0.4444444444444444,
              "#bd3786"
             ],
             [
              0.5555555555555556,
              "#d8576b"
             ],
             [
              0.6666666666666666,
              "#ed7953"
             ],
             [
              0.7777777777777778,
              "#fb9f3a"
             ],
             [
              0.8888888888888888,
              "#fdca26"
             ],
             [
              1,
              "#f0f921"
             ]
            ],
            "type": "histogram2dcontour"
           }
          ],
          "mesh3d": [
           {
            "colorbar": {
             "outlinewidth": 0,
             "ticks": ""
            },
            "type": "mesh3d"
           }
          ],
          "parcoords": [
           {
            "line": {
             "colorbar": {
              "outlinewidth": 0,
              "ticks": ""
             }
            },
            "type": "parcoords"
           }
          ],
          "pie": [
           {
            "automargin": true,
            "type": "pie"
           }
          ],
          "scatter": [
           {
            "fillpattern": {
             "fillmode": "overlay",
             "size": 10,
             "solidity": 0.2
            },
            "type": "scatter"
           }
          ],
          "scatter3d": [
           {
            "line": {
             "colorbar": {
              "outlinewidth": 0,
              "ticks": ""
             }
            },
            "marker": {
             "colorbar": {
              "outlinewidth": 0,
              "ticks": ""
             }
            },
            "type": "scatter3d"
           }
          ],
          "scattercarpet": [
           {
            "marker": {
             "colorbar": {
              "outlinewidth": 0,
              "ticks": ""
             }
            },
            "type": "scattercarpet"
           }
          ],
          "scattergeo": [
           {
            "marker": {
             "colorbar": {
              "outlinewidth": 0,
              "ticks": ""
             }
            },
            "type": "scattergeo"
           }
          ],
          "scattergl": [
           {
            "marker": {
             "colorbar": {
              "outlinewidth": 0,
              "ticks": ""
             }
            },
            "type": "scattergl"
           }
          ],
          "scattermapbox": [
           {
            "marker": {
             "colorbar": {
              "outlinewidth": 0,
              "ticks": ""
             }
            },
            "type": "scattermapbox"
           }
          ],
          "scatterpolar": [
           {
            "marker": {
             "colorbar": {
              "outlinewidth": 0,
              "ticks": ""
             }
            },
            "type": "scatterpolar"
           }
          ],
          "scatterpolargl": [
           {
            "marker": {
             "colorbar": {
              "outlinewidth": 0,
              "ticks": ""
             }
            },
            "type": "scatterpolargl"
           }
          ],
          "scatterternary": [
           {
            "marker": {
             "colorbar": {
              "outlinewidth": 0,
              "ticks": ""
             }
            },
            "type": "scatterternary"
           }
          ],
          "surface": [
           {
            "colorbar": {
             "outlinewidth": 0,
             "ticks": ""
            },
            "colorscale": [
             [
              0,
              "#0d0887"
             ],
             [
              0.1111111111111111,
              "#46039f"
             ],
             [
              0.2222222222222222,
              "#7201a8"
             ],
             [
              0.3333333333333333,
              "#9c179e"
             ],
             [
              0.4444444444444444,
              "#bd3786"
             ],
             [
              0.5555555555555556,
              "#d8576b"
             ],
             [
              0.6666666666666666,
              "#ed7953"
             ],
             [
              0.7777777777777778,
              "#fb9f3a"
             ],
             [
              0.8888888888888888,
              "#fdca26"
             ],
             [
              1,
              "#f0f921"
             ]
            ],
            "type": "surface"
           }
          ],
          "table": [
           {
            "cells": {
             "fill": {
              "color": "#EBF0F8"
             },
             "line": {
              "color": "white"
             }
            },
            "header": {
             "fill": {
              "color": "#C8D4E3"
             },
             "line": {
              "color": "white"
             }
            },
            "type": "table"
           }
          ]
         },
         "layout": {
          "annotationdefaults": {
           "arrowcolor": "#2a3f5f",
           "arrowhead": 0,
           "arrowwidth": 1
          },
          "autotypenumbers": "strict",
          "coloraxis": {
           "colorbar": {
            "outlinewidth": 0,
            "ticks": ""
           }
          },
          "colorscale": {
           "diverging": [
            [
             0,
             "#8e0152"
            ],
            [
             0.1,
             "#c51b7d"
            ],
            [
             0.2,
             "#de77ae"
            ],
            [
             0.3,
             "#f1b6da"
            ],
            [
             0.4,
             "#fde0ef"
            ],
            [
             0.5,
             "#f7f7f7"
            ],
            [
             0.6,
             "#e6f5d0"
            ],
            [
             0.7,
             "#b8e186"
            ],
            [
             0.8,
             "#7fbc41"
            ],
            [
             0.9,
             "#4d9221"
            ],
            [
             1,
             "#276419"
            ]
           ],
           "sequential": [
            [
             0,
             "#0d0887"
            ],
            [
             0.1111111111111111,
             "#46039f"
            ],
            [
             0.2222222222222222,
             "#7201a8"
            ],
            [
             0.3333333333333333,
             "#9c179e"
            ],
            [
             0.4444444444444444,
             "#bd3786"
            ],
            [
             0.5555555555555556,
             "#d8576b"
            ],
            [
             0.6666666666666666,
             "#ed7953"
            ],
            [
             0.7777777777777778,
             "#fb9f3a"
            ],
            [
             0.8888888888888888,
             "#fdca26"
            ],
            [
             1,
             "#f0f921"
            ]
           ],
           "sequentialminus": [
            [
             0,
             "#0d0887"
            ],
            [
             0.1111111111111111,
             "#46039f"
            ],
            [
             0.2222222222222222,
             "#7201a8"
            ],
            [
             0.3333333333333333,
             "#9c179e"
            ],
            [
             0.4444444444444444,
             "#bd3786"
            ],
            [
             0.5555555555555556,
             "#d8576b"
            ],
            [
             0.6666666666666666,
             "#ed7953"
            ],
            [
             0.7777777777777778,
             "#fb9f3a"
            ],
            [
             0.8888888888888888,
             "#fdca26"
            ],
            [
             1,
             "#f0f921"
            ]
           ]
          },
          "colorway": [
           "#636efa",
           "#EF553B",
           "#00cc96",
           "#ab63fa",
           "#FFA15A",
           "#19d3f3",
           "#FF6692",
           "#B6E880",
           "#FF97FF",
           "#FECB52"
          ],
          "font": {
           "color": "#2a3f5f"
          },
          "geo": {
           "bgcolor": "white",
           "lakecolor": "white",
           "landcolor": "#E5ECF6",
           "showlakes": true,
           "showland": true,
           "subunitcolor": "white"
          },
          "hoverlabel": {
           "align": "left"
          },
          "hovermode": "closest",
          "mapbox": {
           "style": "light"
          },
          "paper_bgcolor": "white",
          "plot_bgcolor": "#E5ECF6",
          "polar": {
           "angularaxis": {
            "gridcolor": "white",
            "linecolor": "white",
            "ticks": ""
           },
           "bgcolor": "#E5ECF6",
           "radialaxis": {
            "gridcolor": "white",
            "linecolor": "white",
            "ticks": ""
           }
          },
          "scene": {
           "xaxis": {
            "backgroundcolor": "#E5ECF6",
            "gridcolor": "white",
            "gridwidth": 2,
            "linecolor": "white",
            "showbackground": true,
            "ticks": "",
            "zerolinecolor": "white"
           },
           "yaxis": {
            "backgroundcolor": "#E5ECF6",
            "gridcolor": "white",
            "gridwidth": 2,
            "linecolor": "white",
            "showbackground": true,
            "ticks": "",
            "zerolinecolor": "white"
           },
           "zaxis": {
            "backgroundcolor": "#E5ECF6",
            "gridcolor": "white",
            "gridwidth": 2,
            "linecolor": "white",
            "showbackground": true,
            "ticks": "",
            "zerolinecolor": "white"
           }
          },
          "shapedefaults": {
           "line": {
            "color": "#2a3f5f"
           }
          },
          "ternary": {
           "aaxis": {
            "gridcolor": "white",
            "linecolor": "white",
            "ticks": ""
           },
           "baxis": {
            "gridcolor": "white",
            "linecolor": "white",
            "ticks": ""
           },
           "bgcolor": "#E5ECF6",
           "caxis": {
            "gridcolor": "white",
            "linecolor": "white",
            "ticks": ""
           }
          },
          "title": {
           "x": 0.05
          },
          "xaxis": {
           "automargin": true,
           "gridcolor": "white",
           "linecolor": "white",
           "ticks": "",
           "title": {
            "standoff": 15
           },
           "zerolinecolor": "white",
           "zerolinewidth": 2
          },
          "yaxis": {
           "automargin": true,
           "gridcolor": "white",
           "linecolor": "white",
           "ticks": "",
           "title": {
            "standoff": 15
           },
           "zerolinecolor": "white",
           "zerolinewidth": 2
          }
         }
        },
        "xaxis": {
         "anchor": "y",
         "domain": [
          0,
          1
         ],
         "title": {
          "text": "mean radius"
         }
        },
        "yaxis": {
         "anchor": "x",
         "domain": [
          0,
          1
         ],
         "title": {
          "text": "mean texture"
         }
        }
       }
      }
     },
     "metadata": {},
     "output_type": "display_data"
    }
   ],
   "source": [
    "produce_scatter_plot(breast_cancer_inputs,\n",
    "                     breast_cancer_outputs,\n",
    "                     ['mean radius','mean texture'])"
   ]
  },
  {
   "cell_type": "code",
   "execution_count": 8,
   "metadata": {},
   "outputs": [
    {
     "data": {
      "application/vnd.plotly.v1+json": {
       "config": {
        "plotlyServerURL": "https://plot.ly"
       },
       "data": [
        {
         "hovertemplate": "Diagnosis=False<br>symbol=False<br>mean radius=%{x}<br>mean texture=%{y}<br>mean perimeter=%{z}<extra></extra>",
         "legendgroup": "False, False",
         "marker": {
          "color": "#636efa",
          "line": {
           "color": "DarkSlateGrey",
           "width": 2
          },
          "size": 4,
          "symbol": "circle"
         },
         "mode": "markers",
         "name": "False, False",
         "scene": "scene",
         "showlegend": true,
         "type": "scatter3d",
         "x": [
          17.99,
          20.57,
          19.69,
          11.42,
          20.29,
          12.45,
          18.25,
          13.71,
          13,
          12.46,
          16.02,
          15.78,
          19.17,
          15.85,
          13.73,
          14.54,
          14.68,
          16.13,
          19.81,
          15.34,
          21.16,
          16.65,
          17.14,
          14.58,
          18.61,
          15.3,
          17.57,
          18.63,
          11.84,
          17.02,
          19.27,
          16.13,
          16.74,
          14.25,
          14.99,
          13.48,
          13.44,
          10.95,
          19.07,
          13.28,
          13.17,
          18.65,
          13.17,
          18.22,
          15.1,
          19.21,
          14.71,
          14.25,
          12.68,
          14.78,
          18.94,
          17.2,
          13.8,
          16.07,
          18.05,
          20.18,
          25.22,
          19.1,
          18.46,
          14.48,
          19.02,
          15.37,
          15.06,
          20.26,
          14.42,
          13.61,
          13.11,
          22.27,
          14.87,
          15.78,
          17.95,
          18.66,
          24.25,
          13.61,
          19,
          19.79,
          15.46,
          16.16,
          18.45,
          12.77,
          14.95,
          16.11,
          11.8,
          17.68,
          19.19,
          19.59,
          23.27,
          16.78,
          17.47,
          13.43,
          15.46,
          16.46,
          27.22,
          21.09,
          15.7,
          15.28,
          18.31,
          14.22,
          12.34,
          14.86,
          13.77,
          18.08,
          19.18,
          14.45,
          17.54,
          23.29,
          13.81,
          15.12,
          17.01,
          20.58,
          28.11,
          17.42,
          14.19,
          13.86,
          19.8,
          19.53,
          15.75,
          12.83,
          17.05,
          20.51,
          23.21,
          20.48,
          17.46,
          19.4,
          20.94,
          19.73,
          17.3,
          19.45,
          13.96,
          19.55,
          15.32,
          15.66,
          15.53,
          20.31,
          17.35,
          17.29,
          15.61,
          17.19,
          20.73,
          21.75,
          17.93,
          18.81,
          19.16,
          19.4,
          16.24,
          11.76,
          19.53,
          20.09,
          18.22,
          20.16,
          20.34,
          16.27,
          16.26,
          16.03,
          17.06,
          18.77,
          23.51,
          19.68,
          15.75,
          25.73,
          15.08,
          20.44,
          20.2,
          21.71,
          22.01,
          16.35,
          21.37,
          20.64,
          11.08,
          14.6,
          19.55,
          15.49,
          21.61,
          17.91,
          17.99,
          15.13,
          15.5,
          14.9,
          20.18,
          18.82,
          13.98,
          17.27,
          18.03,
          17.75,
          21.1,
          19.59,
          17.08,
          27.42,
          17.6,
          16.25,
          19.44,
          16.69,
          18.01,
          18.49,
          20.59,
          13.82,
          23.09,
          15.46,
          13.4,
          15.05,
          18.31,
          19.89,
          24.63,
          20.47,
          20.55,
          14.27,
          15.22,
          20.92,
          21.56,
          20.13,
          16.6,
          20.6
         ],
         "y": [
          10.38,
          17.77,
          21.25,
          20.38,
          14.34,
          15.7,
          19.98,
          20.83,
          21.82,
          24.04,
          23.24,
          17.89,
          24.8,
          23.95,
          22.61,
          27.54,
          20.13,
          20.68,
          22.15,
          14.26,
          23.04,
          21.38,
          16.4,
          21.53,
          20.25,
          25.27,
          15.05,
          25.11,
          18.7,
          23.98,
          26.47,
          17.88,
          21.59,
          21.72,
          25.2,
          20.82,
          21.58,
          21.35,
          24.81,
          20.28,
          21.81,
          17.6,
          18.66,
          18.7,
          22.02,
          18.57,
          21.59,
          22.15,
          23.84,
          23.94,
          21.31,
          24.52,
          15.79,
          19.65,
          16.15,
          23.97,
          24.91,
          26.29,
          18.52,
          21.46,
          24.59,
          22.76,
          19.83,
          23.03,
          19.77,
          24.98,
          15.56,
          19.67,
          16.67,
          22.91,
          20.01,
          17.12,
          20.2,
          24.69,
          18.91,
          25.12,
          19.48,
          21.54,
          21.91,
          22.47,
          17.57,
          18.05,
          16.58,
          20.74,
          15.94,
          18.15,
          22.04,
          18.8,
          24.68,
          19.63,
          11.89,
          20.11,
          21.87,
          26.57,
          20.31,
          22.41,
          18.58,
          23.12,
          26.86,
          23.21,
          22.29,
          21.84,
          22.49,
          20.22,
          19.32,
          26.67,
          23.75,
          16.68,
          20.26,
          22.14,
          18.47,
          25.56,
          23.81,
          16.93,
          21.56,
          32.47,
          20.25,
          22.33,
          19.08,
          27.81,
          26.97,
          21.46,
          39.28,
          23.5,
          23.56,
          19.82,
          17.08,
          19.33,
          17.05,
          28.77,
          17.27,
          23.2,
          33.56,
          27.06,
          23.06,
          22.13,
          19.38,
          22.07,
          31.12,
          20.99,
          24.48,
          19.98,
          26.6,
          18.18,
          18.77,
          18.14,
          18.9,
          23.86,
          18.87,
          19.66,
          21.51,
          20.71,
          21.88,
          15.51,
          21,
          21.43,
          24.27,
          21.68,
          19.22,
          17.46,
          25.74,
          21.78,
          26.83,
          17.25,
          21.9,
          23.29,
          15.1,
          17.35,
          18.83,
          23.29,
          23.21,
          19.97,
          22.28,
          21.02,
          20.66,
          29.81,
          21.08,
          22.53,
          19.54,
          21.97,
          19.62,
          25.42,
          16.85,
          28.03,
          20.52,
          25,
          27.15,
          26.27,
          23.33,
          19.51,
          18.82,
          20.2,
          20.56,
          17.52,
          21.24,
          24.49,
          19.83,
          23.95,
          20.52,
          19.07,
          20.58,
          20.26,
          21.6,
          20.67,
          20.86,
          22.55,
          30.62,
          25.09,
          22.39,
          28.25,
          28.08,
          29.33
         ],
         "z": [
          122.8,
          132.9,
          130,
          77.58,
          135.1,
          82.57,
          119.6,
          90.2,
          87.5,
          83.97,
          102.7,
          103.6,
          132.4,
          103.7,
          93.6,
          96.73,
          94.74,
          108.1,
          130,
          102.5,
          137.2,
          110,
          116,
          97.41,
          122.1,
          102.4,
          115,
          124.8,
          77.93,
          112.8,
          127.9,
          107,
          110.1,
          93.63,
          95.54,
          88.4,
          86.18,
          71.9,
          128.3,
          87.32,
          85.42,
          123.7,
          85.98,
          120.3,
          97.26,
          125.5,
          95.55,
          96.42,
          82.69,
          97.4,
          123.6,
          114.2,
          90.43,
          104.1,
          120.2,
          143.7,
          171.5,
          129.1,
          121.1,
          94.25,
          122,
          100.2,
          100.3,
          132.4,
          94.48,
          88.05,
          87.21,
          152.8,
          98.64,
          105.7,
          114.2,
          121.4,
          166.2,
          87.76,
          123.4,
          130.4,
          101.7,
          106.2,
          120.2,
          81.72,
          96.85,
          105.1,
          78.99,
          117.4,
          126.3,
          130.7,
          152.1,
          109.3,
          116.1,
          85.84,
          102.5,
          109.3,
          182.1,
          142.7,
          101.2,
          98.92,
          118.6,
          94.37,
          81.15,
          100.4,
          90.63,
          117.4,
          127.5,
          94.49,
          115.1,
          158.9,
          91.56,
          98.78,
          109.7,
          134.7,
          188.5,
          114.5,
          92.87,
          90.96,
          129.7,
          128,
          102.6,
          85.26,
          113.4,
          134.4,
          153.5,
          132.5,
          113.4,
          129.1,
          138.9,
          130.7,
          113,
          126.5,
          91.43,
          133.6,
          103.2,
          110.2,
          103.7,
          132.9,
          111,
          114.4,
          100,
          111.6,
          135.7,
          147.3,
          115.2,
          120.9,
          126.2,
          127.2,
          108.8,
          75,
          129.5,
          134.7,
          118.7,
          131.1,
          135.9,
          106.9,
          107.5,
          105.8,
          111.8,
          122.9,
          155.1,
          129.9,
          107.1,
          174.2,
          98,
          133.8,
          133.7,
          140.9,
          147.2,
          109,
          141.3,
          134.8,
          73.3,
          93.97,
          128.9,
          102.4,
          144.4,
          124.4,
          117.8,
          96.71,
          102.9,
          102.1,
          133.8,
          123.7,
          91.12,
          112.4,
          117.5,
          117.3,
          138.1,
          127.7,
          111.2,
          186.9,
          119,
          109.8,
          128.1,
          107.1,
          118.4,
          121.3,
          137.8,
          92.33,
          152.1,
          103.8,
          88.64,
          97.26,
          120.8,
          130.5,
          165.5,
          134.7,
          137.8,
          93.77,
          103.4,
          143,
          142,
          131.2,
          108.3,
          140.1
         ]
        },
        {
         "hovertemplate": "Diagnosis=True<br>symbol=True<br>mean radius=%{x}<br>mean texture=%{y}<br>mean perimeter=%{z}<extra></extra>",
         "legendgroup": "True, True",
         "marker": {
          "color": "#EF553B",
          "line": {
           "color": "DarkSlateGrey",
           "width": 2
          },
          "size": 4,
          "symbol": "diamond"
         },
         "mode": "markers",
         "name": "True, True",
         "scene": "scene",
         "showlegend": true,
         "type": "scatter3d",
         "x": [
          13.54,
          13.08,
          9.504,
          13.03,
          8.196,
          12.05,
          13.49,
          11.76,
          13.64,
          11.94,
          11.52,
          13.05,
          8.618,
          10.17,
          8.598,
          9.173,
          9.465,
          11.31,
          9.029,
          12.78,
          8.888,
          12.31,
          13.53,
          12.86,
          11.45,
          13.34,
          12,
          12.36,
          14.64,
          14.62,
          13.27,
          13.45,
          12.18,
          9.787,
          11.6,
          6.981,
          12.18,
          9.876,
          10.49,
          11.64,
          12.36,
          11.34,
          9.777,
          12.63,
          14.26,
          10.51,
          8.726,
          11.93,
          8.95,
          11.41,
          14.5,
          13.37,
          13.85,
          15.1,
          12.19,
          15.71,
          11.71,
          11.43,
          11.28,
          9.738,
          11.43,
          12.9,
          10.75,
          11.9,
          14.95,
          14.44,
          13.74,
          13,
          8.219,
          9.731,
          11.15,
          13.15,
          12.25,
          16.84,
          12.06,
          10.9,
          11.75,
          12.34,
          14.97,
          10.8,
          14.97,
          12.32,
          11.08,
          10.66,
          8.671,
          9.904,
          13.01,
          12.81,
          11.41,
          10.08,
          11.71,
          11.81,
          12.3,
          12.77,
          9.72,
          12.91,
          12.23,
          12.47,
          9.876,
          13.11,
          15.27,
          11.84,
          11.89,
          10.2,
          13.65,
          13.56,
          10.18,
          13.27,
          14.34,
          10.44,
          15,
          12.62,
          11.32,
          11.22,
          9.567,
          14.03,
          14.22,
          13.64,
          12.42,
          11.3,
          13.75,
          10.48,
          13.2,
          12.89,
          10.65,
          11.52,
          11.5,
          10.6,
          13.59,
          12.87,
          10.71,
          14.29,
          11.29,
          9.742,
          11.89,
          11.33,
          13.59,
          13.85,
          11.74,
          12.89,
          12.58,
          11.94,
          12.89,
          11.26,
          11.37,
          14.41,
          14.96,
          12.95,
          11.85,
          12.72,
          13.77,
          10.91,
          14.26,
          10.51,
          12.46,
          10.49,
          11.46,
          11.6,
          13.2,
          9,
          13.5,
          13.05,
          11.7,
          14.61,
          12.76,
          11.54,
          8.597,
          12.49,
          12.18,
          9.042,
          12.43,
          10.25,
          12.86,
          12.2,
          12.67,
          14.11,
          12.03,
          12.98,
          11.22,
          11.25,
          12.3,
          12.99,
          10.05,
          14.42,
          9.606,
          11.06,
          11.71,
          10.26,
          12.06,
          14.76,
          11.47,
          11.95,
          11.66,
          11.14,
          12.56,
          13.05,
          13.87,
          8.878,
          9.436,
          12.54,
          13.3,
          12.76,
          16.5,
          13.4,
          12.21,
          15.19,
          13.69,
          16.17,
          10.57,
          13.46,
          13.66,
          11.27,
          11.04,
          12.05,
          12.39,
          13.28,
          12.21,
          13.88,
          11.27,
          10.26,
          8.734,
          12.1,
          14.06,
          13.51,
          12.8,
          11.06,
          11.8,
          11.93,
          12.96,
          12.94,
          12.34,
          10.94,
          16.14,
          12.85,
          12.27,
          11.36,
          11.04,
          9.397,
          14.99,
          11.89,
          9.405,
          12.7,
          11.16,
          11.57,
          14.69,
          11.61,
          13.66,
          9.742,
          10.03,
          10.48,
          10.8,
          11.13,
          12.72,
          12.4,
          14.86,
          12.87,
          14.04,
          13.85,
          14.02,
          10.97,
          13.78,
          10.57,
          11.99,
          14.8,
          14.53,
          11.87,
          12,
          14.53,
          12.62,
          13.38,
          11.63,
          13.21,
          13,
          9.755,
          14.4,
          11.6,
          13.17,
          13.24,
          13.14,
          9.668,
          11.62,
          9.667,
          12.04,
          14.92,
          12.27,
          10.88,
          12.83,
          14.2,
          13.9,
          11.49,
          12.16,
          13.9,
          13.47,
          13.7,
          15.73,
          12.45,
          14.64,
          11.68,
          12.25,
          17.85,
          12.46,
          13.16,
          14.87,
          12.65,
          12.47,
          15.04,
          12.54,
          9.268,
          9.676,
          12.22,
          11.06,
          16.3,
          11.74,
          14.81,
          14.58,
          11.34,
          12.88,
          12.75,
          9.295,
          11.26,
          13.71,
          9.847,
          8.571,
          13.46,
          12.34,
          13.94,
          12.07,
          11.75,
          11.67,
          13.68,
          10.96,
          11.69,
          7.729,
          7.691,
          11.54,
          14.47,
          14.74,
          13.21,
          13.87,
          13.62,
          10.32,
          10.26,
          9.683,
          10.82,
          10.86,
          11.13,
          12.77,
          9.333,
          12.88,
          10.29,
          10.16,
          9.423,
          14.59,
          11.51,
          14.05,
          11.2,
          7.76
         ],
         "y": [
          14.36,
          15.71,
          12.44,
          18.42,
          16.84,
          14.63,
          22.3,
          21.6,
          16.34,
          18.24,
          18.75,
          19.31,
          11.79,
          14.88,
          20.98,
          13.86,
          21.01,
          19.04,
          17.33,
          16.49,
          14.64,
          16.52,
          10.94,
          18,
          20.97,
          15.86,
          15.65,
          21.8,
          15.24,
          24.02,
          14.76,
          18.3,
          17.84,
          19.94,
          12.84,
          13.43,
          20.52,
          19.4,
          19.29,
          18.33,
          18.54,
          21.26,
          16.99,
          20.76,
          19.65,
          20.19,
          15.83,
          21.53,
          15.76,
          10.82,
          10.89,
          16.39,
          17.21,
          16.39,
          13.29,
          13.93,
          16.67,
          15.39,
          13.39,
          11.97,
          17.31,
          15.92,
          14.97,
          14.65,
          18.77,
          15.18,
          17.91,
          20.78,
          20.7,
          15.34,
          13.08,
          15.34,
          17.94,
          19.46,
          12.74,
          12.96,
          20.18,
          22.22,
          19.76,
          9.71,
          16.95,
          12.39,
          14.71,
          15.15,
          14.45,
          18.06,
          22.22,
          13.06,
          14.92,
          15.11,
          17.19,
          17.39,
          15.9,
          21.41,
          18.22,
          16.33,
          19.56,
          18.6,
          17.27,
          22.54,
          12.91,
          18.94,
          18.35,
          17.48,
          13.16,
          13.9,
          17.53,
          17.02,
          13.47,
          15.46,
          15.51,
          23.97,
          27.08,
          33.81,
          15.91,
          21.25,
          27.85,
          15.6,
          15.04,
          18.19,
          23.77,
          19.86,
          17.43,
          14.11,
          25.22,
          14.93,
          18.45,
          18.95,
          21.84,
          16.21,
          20.39,
          16.82,
          13.04,
          15.67,
          17.36,
          14.16,
          17.84,
          15.18,
          14.02,
          15.7,
          18.4,
          20.76,
          13.12,
          19.96,
          18.89,
          19.73,
          19.1,
          16.02,
          17.46,
          13.78,
          13.27,
          12.35,
          18.17,
          23.09,
          19.89,
          18.61,
          18.16,
          24.49,
          15.82,
          14.4,
          12.71,
          13.84,
          19.11,
          15.69,
          13.37,
          10.72,
          18.6,
          16.85,
          14.08,
          18.9,
          17,
          16.18,
          13.32,
          15.21,
          17.3,
          12.88,
          17.93,
          19.35,
          19.86,
          14.78,
          19.02,
          14.23,
          17.53,
          16.54,
          16.84,
          14.96,
          15.45,
          14.71,
          18.9,
          14.74,
          16.03,
          14.96,
          17.07,
          14.07,
          19.07,
          18.59,
          16.21,
          15.49,
          18.32,
          18.07,
          21.57,
          18.84,
          18.29,
          16.95,
          18.02,
          13.21,
          16.07,
          16.07,
          20.22,
          28.21,
          15.15,
          12.96,
          14.93,
          22.72,
          17.48,
          13.72,
          14.09,
          16.16,
          15.5,
          12.22,
          16.84,
          17.72,
          17.18,
          18.89,
          17.46,
          14.83,
          17.26,
          10.91,
          18.29,
          16.17,
          14.95,
          18.59,
          14.86,
          21.37,
          17.92,
          17.57,
          16.83,
          21.68,
          22.11,
          21.17,
          21.7,
          12.17,
          21.41,
          19.04,
          13.98,
          16.02,
          19.13,
          19.12,
          21.28,
          14.98,
          21.98,
          16.62,
          17.67,
          17.68,
          16.94,
          19.54,
          15.98,
          19.6,
          15.66,
          17.2,
          15.79,
          18.32,
          24.89,
          17.66,
          19.34,
          21.54,
          28.23,
          13.98,
          17.15,
          30.72,
          29.29,
          25.25,
          25.13,
          28.2,
          26.99,
          18.36,
          18.22,
          20.13,
          20.74,
          18.1,
          18.18,
          18.49,
          28.14,
          14.93,
          29.97,
          15.62,
          15.73,
          20.53,
          16.62,
          14.59,
          18.03,
          19.24,
          14.06,
          17.64,
          11.28,
          16.41,
          16.85,
          16.17,
          22.44,
          13.23,
          12.83,
          20.54,
          20.21,
          18.17,
          17.31,
          16.74,
          16.32,
          12.87,
          13.14,
          20.04,
          17.12,
          15.7,
          14.69,
          14.7,
          13.66,
          18.61,
          18.22,
          16.7,
          13.9,
          19.83,
          18.68,
          15.68,
          13.1,
          18.75,
          12.27,
          13.17,
          13.44,
          17.56,
          20.02,
          16.33,
          17.62,
          24.44,
          25.49,
          25.44,
          14.44,
          24.99,
          25.42,
          28.06,
          20.7,
          23.23,
          16.35,
          16.58,
          19.34,
          24.21,
          21.48,
          22.44,
          29.43,
          21.94,
          28.92,
          27.61,
          19.59,
          27.88,
          22.68,
          23.93,
          27.15,
          29.37,
          24.54
         ],
         "z": [
          87.46,
          85.63,
          60.34,
          82.61,
          51.71,
          78.04,
          86.91,
          74.72,
          87.21,
          75.71,
          73.34,
          82.61,
          54.34,
          64.55,
          54.66,
          59.2,
          60.11,
          71.8,
          58.79,
          81.37,
          58.79,
          79.19,
          87.91,
          83.19,
          73.81,
          86.49,
          76.95,
          79.78,
          95.77,
          94.57,
          84.74,
          86.6,
          77.79,
          62.11,
          74.34,
          43.79,
          77.22,
          63.95,
          67.41,
          75.17,
          79.01,
          72.48,
          62.5,
          82.15,
          97.83,
          68.64,
          55.84,
          76.53,
          58.74,
          73.34,
          94.28,
          86.1,
          88.44,
          99.58,
          79.08,
          102,
          74.72,
          73.06,
          73,
          61.24,
          73.66,
          83.74,
          68.26,
          78.11,
          97.84,
          93.97,
          88.12,
          83.51,
          53.27,
          63.78,
          70.87,
          85.31,
          78.27,
          108.4,
          76.84,
          68.69,
          76.1,
          79.85,
          95.5,
          68.77,
          96.22,
          78.85,
          70.21,
          67.49,
          54.42,
          64.6,
          82.01,
          81.29,
          73.53,
          63.76,
          74.68,
          75.27,
          78.83,
          82.02,
          60.73,
          82.53,
          78.54,
          81.09,
          62.92,
          87.02,
          98.17,
          75.51,
          77.32,
          65.05,
          87.88,
          88.59,
          65.12,
          84.55,
          92.51,
          66.62,
          97.45,
          81.35,
          71.76,
          70.79,
          60.21,
          89.79,
          92.55,
          87.38,
          78.61,
          73.93,
          88.54,
          66.72,
          84.13,
          84.95,
          68.01,
          73.87,
          73.28,
          69.28,
          87.16,
          82.38,
          69.5,
          90.3,
          72.23,
          61.5,
          76.2,
          71.79,
          86.24,
          88.99,
          74.24,
          84.08,
          79.83,
          77.87,
          81.89,
          73.72,
          72.17,
          96.03,
          97.03,
          83.14,
          75.54,
          81.78,
          88.06,
          69.14,
          91.22,
          66.85,
          80.43,
          66.86,
          73.59,
          74.23,
          84.07,
          56.36,
          85.69,
          82.71,
          74.33,
          92.68,
          82.29,
          73.73,
          54.09,
          79.19,
          77.25,
          60.07,
          78.6,
          66.52,
          82.82,
          78.01,
          81.25,
          90.03,
          76.09,
          84.52,
          71.94,
          71.38,
          77.88,
          84.08,
          64.41,
          94.15,
          61.64,
          71.49,
          75.03,
          66.2,
          76.66,
          94.87,
          73.02,
          77.23,
          73.7,
          71.24,
          81.92,
          85.09,
          88.52,
          56.74,
          59.82,
          79.42,
          85.24,
          81.87,
          106.6,
          85.48,
          78.31,
          97.65,
          87.84,
          106.3,
          70.15,
          85.89,
          88.27,
          73.16,
          70.67,
          78.75,
          80.64,
          85.79,
          78.78,
          88.37,
          73.38,
          65.75,
          55.27,
          78.07,
          89.75,
          88.1,
          83.05,
          70.31,
          75.26,
          76.14,
          84.18,
          83.18,
          78.29,
          70.39,
          104.3,
          82.63,
          78.41,
          72.49,
          70.92,
          59.75,
          97.53,
          76.39,
          59.6,
          80.88,
          70.95,
          74.2,
          98.22,
          75.46,
          89.46,
          61.93,
          63.19,
          67.49,
          68.79,
          70.47,
          80.98,
          81.47,
          94.89,
          82.67,
          89.78,
          88.68,
          89.59,
          71.73,
          88.37,
          66.82,
          77.61,
          95.88,
          94.25,
          76.83,
          76.77,
          93.86,
          80.62,
          86.34,
          74.87,
          84.1,
          82.61,
          61.68,
          92.25,
          73.88,
          84.28,
          86.87,
          85.98,
          61.06,
          76.38,
          61.49,
          76.85,
          96.45,
          77.42,
          70.41,
          82.89,
          92.41,
          88.97,
          73.99,
          78.29,
          88.73,
          87.32,
          87.76,
          102.8,
          82.85,
          94.21,
          75.49,
          78.18,
          114.6,
          78.83,
          84.06,
          96.12,
          82.69,
          80.45,
          98.73,
          81.25,
          61.49,
          64.12,
          79.47,
          71.25,
          104.7,
          76.31,
          94.66,
          94.29,
          72.76,
          84.45,
          82.51,
          59.96,
          71.3,
          88.73,
          63,
          54.53,
          87.44,
          78.94,
          90.31,
          77.83,
          75.89,
          75.21,
          87.76,
          70.79,
          76.37,
          47.98,
          48.34,
          74.65,
          95.81,
          94.7,
          84.88,
          89.77,
          87.19,
          65.31,
          65.85,
          61.05,
          68.89,
          68.51,
          71.49,
          81.35,
          59.01,
          82.5,
          65.67,
          64.73,
          59.26,
          96.39,
          74.52,
          91.38,
          70.67,
          47.92
         ]
        }
       ],
       "layout": {
        "legend": {
         "title": {
          "text": "Diagnosis, symbol"
         },
         "tracegroupgap": 0
        },
        "margin": {
         "t": 60
        },
        "scene": {
         "domain": {
          "x": [
           0,
           1
          ],
          "y": [
           0,
           1
          ]
         },
         "xaxis": {
          "title": {
           "text": "mean radius"
          }
         },
         "yaxis": {
          "title": {
           "text": "mean texture"
          }
         },
         "zaxis": {
          "title": {
           "text": "mean perimeter"
          }
         }
        },
        "template": {
         "data": {
          "bar": [
           {
            "error_x": {
             "color": "#2a3f5f"
            },
            "error_y": {
             "color": "#2a3f5f"
            },
            "marker": {
             "line": {
              "color": "#E5ECF6",
              "width": 0.5
             },
             "pattern": {
              "fillmode": "overlay",
              "size": 10,
              "solidity": 0.2
             }
            },
            "type": "bar"
           }
          ],
          "barpolar": [
           {
            "marker": {
             "line": {
              "color": "#E5ECF6",
              "width": 0.5
             },
             "pattern": {
              "fillmode": "overlay",
              "size": 10,
              "solidity": 0.2
             }
            },
            "type": "barpolar"
           }
          ],
          "carpet": [
           {
            "aaxis": {
             "endlinecolor": "#2a3f5f",
             "gridcolor": "white",
             "linecolor": "white",
             "minorgridcolor": "white",
             "startlinecolor": "#2a3f5f"
            },
            "baxis": {
             "endlinecolor": "#2a3f5f",
             "gridcolor": "white",
             "linecolor": "white",
             "minorgridcolor": "white",
             "startlinecolor": "#2a3f5f"
            },
            "type": "carpet"
           }
          ],
          "choropleth": [
           {
            "colorbar": {
             "outlinewidth": 0,
             "ticks": ""
            },
            "type": "choropleth"
           }
          ],
          "contour": [
           {
            "colorbar": {
             "outlinewidth": 0,
             "ticks": ""
            },
            "colorscale": [
             [
              0,
              "#0d0887"
             ],
             [
              0.1111111111111111,
              "#46039f"
             ],
             [
              0.2222222222222222,
              "#7201a8"
             ],
             [
              0.3333333333333333,
              "#9c179e"
             ],
             [
              0.4444444444444444,
              "#bd3786"
             ],
             [
              0.5555555555555556,
              "#d8576b"
             ],
             [
              0.6666666666666666,
              "#ed7953"
             ],
             [
              0.7777777777777778,
              "#fb9f3a"
             ],
             [
              0.8888888888888888,
              "#fdca26"
             ],
             [
              1,
              "#f0f921"
             ]
            ],
            "type": "contour"
           }
          ],
          "contourcarpet": [
           {
            "colorbar": {
             "outlinewidth": 0,
             "ticks": ""
            },
            "type": "contourcarpet"
           }
          ],
          "heatmap": [
           {
            "colorbar": {
             "outlinewidth": 0,
             "ticks": ""
            },
            "colorscale": [
             [
              0,
              "#0d0887"
             ],
             [
              0.1111111111111111,
              "#46039f"
             ],
             [
              0.2222222222222222,
              "#7201a8"
             ],
             [
              0.3333333333333333,
              "#9c179e"
             ],
             [
              0.4444444444444444,
              "#bd3786"
             ],
             [
              0.5555555555555556,
              "#d8576b"
             ],
             [
              0.6666666666666666,
              "#ed7953"
             ],
             [
              0.7777777777777778,
              "#fb9f3a"
             ],
             [
              0.8888888888888888,
              "#fdca26"
             ],
             [
              1,
              "#f0f921"
             ]
            ],
            "type": "heatmap"
           }
          ],
          "heatmapgl": [
           {
            "colorbar": {
             "outlinewidth": 0,
             "ticks": ""
            },
            "colorscale": [
             [
              0,
              "#0d0887"
             ],
             [
              0.1111111111111111,
              "#46039f"
             ],
             [
              0.2222222222222222,
              "#7201a8"
             ],
             [
              0.3333333333333333,
              "#9c179e"
             ],
             [
              0.4444444444444444,
              "#bd3786"
             ],
             [
              0.5555555555555556,
              "#d8576b"
             ],
             [
              0.6666666666666666,
              "#ed7953"
             ],
             [
              0.7777777777777778,
              "#fb9f3a"
             ],
             [
              0.8888888888888888,
              "#fdca26"
             ],
             [
              1,
              "#f0f921"
             ]
            ],
            "type": "heatmapgl"
           }
          ],
          "histogram": [
           {
            "marker": {
             "pattern": {
              "fillmode": "overlay",
              "size": 10,
              "solidity": 0.2
             }
            },
            "type": "histogram"
           }
          ],
          "histogram2d": [
           {
            "colorbar": {
             "outlinewidth": 0,
             "ticks": ""
            },
            "colorscale": [
             [
              0,
              "#0d0887"
             ],
             [
              0.1111111111111111,
              "#46039f"
             ],
             [
              0.2222222222222222,
              "#7201a8"
             ],
             [
              0.3333333333333333,
              "#9c179e"
             ],
             [
              0.4444444444444444,
              "#bd3786"
             ],
             [
              0.5555555555555556,
              "#d8576b"
             ],
             [
              0.6666666666666666,
              "#ed7953"
             ],
             [
              0.7777777777777778,
              "#fb9f3a"
             ],
             [
              0.8888888888888888,
              "#fdca26"
             ],
             [
              1,
              "#f0f921"
             ]
            ],
            "type": "histogram2d"
           }
          ],
          "histogram2dcontour": [
           {
            "colorbar": {
             "outlinewidth": 0,
             "ticks": ""
            },
            "colorscale": [
             [
              0,
              "#0d0887"
             ],
             [
              0.1111111111111111,
              "#46039f"
             ],
             [
              0.2222222222222222,
              "#7201a8"
             ],
             [
              0.3333333333333333,
              "#9c179e"
             ],
             [
              0.4444444444444444,
              "#bd3786"
             ],
             [
              0.5555555555555556,
              "#d8576b"
             ],
             [
              0.6666666666666666,
              "#ed7953"
             ],
             [
              0.7777777777777778,
              "#fb9f3a"
             ],
             [
              0.8888888888888888,
              "#fdca26"
             ],
             [
              1,
              "#f0f921"
             ]
            ],
            "type": "histogram2dcontour"
           }
          ],
          "mesh3d": [
           {
            "colorbar": {
             "outlinewidth": 0,
             "ticks": ""
            },
            "type": "mesh3d"
           }
          ],
          "parcoords": [
           {
            "line": {
             "colorbar": {
              "outlinewidth": 0,
              "ticks": ""
             }
            },
            "type": "parcoords"
           }
          ],
          "pie": [
           {
            "automargin": true,
            "type": "pie"
           }
          ],
          "scatter": [
           {
            "fillpattern": {
             "fillmode": "overlay",
             "size": 10,
             "solidity": 0.2
            },
            "type": "scatter"
           }
          ],
          "scatter3d": [
           {
            "line": {
             "colorbar": {
              "outlinewidth": 0,
              "ticks": ""
             }
            },
            "marker": {
             "colorbar": {
              "outlinewidth": 0,
              "ticks": ""
             }
            },
            "type": "scatter3d"
           }
          ],
          "scattercarpet": [
           {
            "marker": {
             "colorbar": {
              "outlinewidth": 0,
              "ticks": ""
             }
            },
            "type": "scattercarpet"
           }
          ],
          "scattergeo": [
           {
            "marker": {
             "colorbar": {
              "outlinewidth": 0,
              "ticks": ""
             }
            },
            "type": "scattergeo"
           }
          ],
          "scattergl": [
           {
            "marker": {
             "colorbar": {
              "outlinewidth": 0,
              "ticks": ""
             }
            },
            "type": "scattergl"
           }
          ],
          "scattermapbox": [
           {
            "marker": {
             "colorbar": {
              "outlinewidth": 0,
              "ticks": ""
             }
            },
            "type": "scattermapbox"
           }
          ],
          "scatterpolar": [
           {
            "marker": {
             "colorbar": {
              "outlinewidth": 0,
              "ticks": ""
             }
            },
            "type": "scatterpolar"
           }
          ],
          "scatterpolargl": [
           {
            "marker": {
             "colorbar": {
              "outlinewidth": 0,
              "ticks": ""
             }
            },
            "type": "scatterpolargl"
           }
          ],
          "scatterternary": [
           {
            "marker": {
             "colorbar": {
              "outlinewidth": 0,
              "ticks": ""
             }
            },
            "type": "scatterternary"
           }
          ],
          "surface": [
           {
            "colorbar": {
             "outlinewidth": 0,
             "ticks": ""
            },
            "colorscale": [
             [
              0,
              "#0d0887"
             ],
             [
              0.1111111111111111,
              "#46039f"
             ],
             [
              0.2222222222222222,
              "#7201a8"
             ],
             [
              0.3333333333333333,
              "#9c179e"
             ],
             [
              0.4444444444444444,
              "#bd3786"
             ],
             [
              0.5555555555555556,
              "#d8576b"
             ],
             [
              0.6666666666666666,
              "#ed7953"
             ],
             [
              0.7777777777777778,
              "#fb9f3a"
             ],
             [
              0.8888888888888888,
              "#fdca26"
             ],
             [
              1,
              "#f0f921"
             ]
            ],
            "type": "surface"
           }
          ],
          "table": [
           {
            "cells": {
             "fill": {
              "color": "#EBF0F8"
             },
             "line": {
              "color": "white"
             }
            },
            "header": {
             "fill": {
              "color": "#C8D4E3"
             },
             "line": {
              "color": "white"
             }
            },
            "type": "table"
           }
          ]
         },
         "layout": {
          "annotationdefaults": {
           "arrowcolor": "#2a3f5f",
           "arrowhead": 0,
           "arrowwidth": 1
          },
          "autotypenumbers": "strict",
          "coloraxis": {
           "colorbar": {
            "outlinewidth": 0,
            "ticks": ""
           }
          },
          "colorscale": {
           "diverging": [
            [
             0,
             "#8e0152"
            ],
            [
             0.1,
             "#c51b7d"
            ],
            [
             0.2,
             "#de77ae"
            ],
            [
             0.3,
             "#f1b6da"
            ],
            [
             0.4,
             "#fde0ef"
            ],
            [
             0.5,
             "#f7f7f7"
            ],
            [
             0.6,
             "#e6f5d0"
            ],
            [
             0.7,
             "#b8e186"
            ],
            [
             0.8,
             "#7fbc41"
            ],
            [
             0.9,
             "#4d9221"
            ],
            [
             1,
             "#276419"
            ]
           ],
           "sequential": [
            [
             0,
             "#0d0887"
            ],
            [
             0.1111111111111111,
             "#46039f"
            ],
            [
             0.2222222222222222,
             "#7201a8"
            ],
            [
             0.3333333333333333,
             "#9c179e"
            ],
            [
             0.4444444444444444,
             "#bd3786"
            ],
            [
             0.5555555555555556,
             "#d8576b"
            ],
            [
             0.6666666666666666,
             "#ed7953"
            ],
            [
             0.7777777777777778,
             "#fb9f3a"
            ],
            [
             0.8888888888888888,
             "#fdca26"
            ],
            [
             1,
             "#f0f921"
            ]
           ],
           "sequentialminus": [
            [
             0,
             "#0d0887"
            ],
            [
             0.1111111111111111,
             "#46039f"
            ],
            [
             0.2222222222222222,
             "#7201a8"
            ],
            [
             0.3333333333333333,
             "#9c179e"
            ],
            [
             0.4444444444444444,
             "#bd3786"
            ],
            [
             0.5555555555555556,
             "#d8576b"
            ],
            [
             0.6666666666666666,
             "#ed7953"
            ],
            [
             0.7777777777777778,
             "#fb9f3a"
            ],
            [
             0.8888888888888888,
             "#fdca26"
            ],
            [
             1,
             "#f0f921"
            ]
           ]
          },
          "colorway": [
           "#636efa",
           "#EF553B",
           "#00cc96",
           "#ab63fa",
           "#FFA15A",
           "#19d3f3",
           "#FF6692",
           "#B6E880",
           "#FF97FF",
           "#FECB52"
          ],
          "font": {
           "color": "#2a3f5f"
          },
          "geo": {
           "bgcolor": "white",
           "lakecolor": "white",
           "landcolor": "#E5ECF6",
           "showlakes": true,
           "showland": true,
           "subunitcolor": "white"
          },
          "hoverlabel": {
           "align": "left"
          },
          "hovermode": "closest",
          "mapbox": {
           "style": "light"
          },
          "paper_bgcolor": "white",
          "plot_bgcolor": "#E5ECF6",
          "polar": {
           "angularaxis": {
            "gridcolor": "white",
            "linecolor": "white",
            "ticks": ""
           },
           "bgcolor": "#E5ECF6",
           "radialaxis": {
            "gridcolor": "white",
            "linecolor": "white",
            "ticks": ""
           }
          },
          "scene": {
           "xaxis": {
            "backgroundcolor": "#E5ECF6",
            "gridcolor": "white",
            "gridwidth": 2,
            "linecolor": "white",
            "showbackground": true,
            "ticks": "",
            "zerolinecolor": "white"
           },
           "yaxis": {
            "backgroundcolor": "#E5ECF6",
            "gridcolor": "white",
            "gridwidth": 2,
            "linecolor": "white",
            "showbackground": true,
            "ticks": "",
            "zerolinecolor": "white"
           },
           "zaxis": {
            "backgroundcolor": "#E5ECF6",
            "gridcolor": "white",
            "gridwidth": 2,
            "linecolor": "white",
            "showbackground": true,
            "ticks": "",
            "zerolinecolor": "white"
           }
          },
          "shapedefaults": {
           "line": {
            "color": "#2a3f5f"
           }
          },
          "ternary": {
           "aaxis": {
            "gridcolor": "white",
            "linecolor": "white",
            "ticks": ""
           },
           "baxis": {
            "gridcolor": "white",
            "linecolor": "white",
            "ticks": ""
           },
           "bgcolor": "#E5ECF6",
           "caxis": {
            "gridcolor": "white",
            "linecolor": "white",
            "ticks": ""
           }
          },
          "title": {
           "x": 0.05
          },
          "xaxis": {
           "automargin": true,
           "gridcolor": "white",
           "linecolor": "white",
           "ticks": "",
           "title": {
            "standoff": 15
           },
           "zerolinecolor": "white",
           "zerolinewidth": 2
          },
          "yaxis": {
           "automargin": true,
           "gridcolor": "white",
           "linecolor": "white",
           "ticks": "",
           "title": {
            "standoff": 15
           },
           "zerolinecolor": "white",
           "zerolinewidth": 2
          }
         }
        }
       }
      }
     },
     "metadata": {},
     "output_type": "display_data"
    }
   ],
   "source": [
    "produce_scatter_plot(breast_cancer_inputs,\n",
    "                     breast_cancer_outputs,\n",
    "                     ['mean radius','mean texture', 'mean perimeter'])"
   ]
  },
  {
   "attachments": {},
   "cell_type": "markdown",
   "metadata": {},
   "source": [
    "There are 30 different columns within this dataset, meaning there are 439 different pairs you could plot in a 2D graph. Spotting patterns, or more importantly the most important patterns, is an incredibly complex task. \n",
    "\n",
    "Further to this, can you imagine having a 30 dimensional scatter plot to try and spot patterns. For us, it is completely impossible! But for a machine, this is something it can do easily. "
   ]
  },
  {
   "attachments": {},
   "cell_type": "markdown",
   "metadata": {},
   "source": [
    "#### Can we use this data in a machine learning model? Yes!"
   ]
  },
  {
   "cell_type": "code",
   "execution_count": 9,
   "metadata": {},
   "outputs": [],
   "source": [
    "from sklearn.model_selection import train_test_split\n",
    "\n",
    "# When creating a machine learning model, it is important to have some training data and some testing data.\n",
    "\n",
    "# Training data - this is data that is used to train the model.\n",
    "# Testing data - this is data used to test the model, we will use this a lot later!\n",
    "\n",
    "# The following function splits our data randomly to test and training data.\n",
    "breast_cancer_inputs_training, breast_cancer_inputs_testing, breast_cancer_outputs_training, breast_cancer_outputs_testing = train_test_split(breast_cancer_inputs, breast_cancer_outputs, train_size=0.8)\n",
    "\n",
    "# train_size represents the proportion of data that should be used for training\n",
    "# we have gone for 80% by setting train_size to 0.8"
   ]
  },
  {
   "attachments": {},
   "cell_type": "markdown",
   "metadata": {},
   "source": [
    "#### There are multiple types of machine learning algorithms: \n",
    "\n",
    "**Classification algorithms** are machine learning techniques used to predict categorical labels or classes based on input data.\n",
    "\n",
    "**Regression algorithms** are machine learning techniques used to predict continuous numerical values based on input data.\n",
    "\n",
    "**Clustering algorithms** are machine learning techniques used to group similar data points together based on their inherent similarities, without any predefined labels."
   ]
  },
  {
   "attachments": {},
   "cell_type": "markdown",
   "metadata": {},
   "source": [
    "![image](.//task.png)\n",
    "\n",
    "#### Can you tell which type of algorithm we want to use?\n",
    "\n",
    "Uncomment (remove the #) the correct type of model we want to use for our training in the code below.\n",
    "Don't scroll down too far or you will see the answer!"
   ]
  },
  {
   "cell_type": "code",
   "execution_count": 10,
   "metadata": {},
   "outputs": [],
   "source": [
    "# Import relevant models\n",
    "from sklearn.ensemble import RandomForestClassifier, RandomForestRegressor\n",
    "from sklearn.cluster import KMeans\n",
    "\n",
    "classification_model = RandomForestClassifier()\n",
    "#regression_model = RandomForestRegressor()\n",
    "#cluster_model = KMeans()"
   ]
  },
  {
   "attachments": {},
   "cell_type": "markdown",
   "metadata": {},
   "source": [
    "Once we have a model, our next step is to train it.\n",
    "\n",
    "sklearn has an incredibly useful function - `fit` \n",
    "\n",
    "The fit method trains the algorithm on the data.\n",
    "\n",
    "How it does this depends on the model. If you would like to know more about the random forest algorithm you can read about it here: https://www.turing.com/kb/random-forest-algorithm. But, a lot of this specific knowledge you wont need to know today. What is important is that we are using a model that can be trained -  it can use data we feed it to create a predictive algorithm.\n",
    "\n",
    "\n"
   ]
  },
  {
   "cell_type": "code",
   "execution_count": 11,
   "metadata": {},
   "outputs": [
    {
     "data": {
      "text/html": [
       "<style>#sk-container-id-1 {color: black;}#sk-container-id-1 pre{padding: 0;}#sk-container-id-1 div.sk-toggleable {background-color: white;}#sk-container-id-1 label.sk-toggleable__label {cursor: pointer;display: block;width: 100%;margin-bottom: 0;padding: 0.3em;box-sizing: border-box;text-align: center;}#sk-container-id-1 label.sk-toggleable__label-arrow:before {content: \"▸\";float: left;margin-right: 0.25em;color: #696969;}#sk-container-id-1 label.sk-toggleable__label-arrow:hover:before {color: black;}#sk-container-id-1 div.sk-estimator:hover label.sk-toggleable__label-arrow:before {color: black;}#sk-container-id-1 div.sk-toggleable__content {max-height: 0;max-width: 0;overflow: hidden;text-align: left;background-color: #f0f8ff;}#sk-container-id-1 div.sk-toggleable__content pre {margin: 0.2em;color: black;border-radius: 0.25em;background-color: #f0f8ff;}#sk-container-id-1 input.sk-toggleable__control:checked~div.sk-toggleable__content {max-height: 200px;max-width: 100%;overflow: auto;}#sk-container-id-1 input.sk-toggleable__control:checked~label.sk-toggleable__label-arrow:before {content: \"▾\";}#sk-container-id-1 div.sk-estimator input.sk-toggleable__control:checked~label.sk-toggleable__label {background-color: #d4ebff;}#sk-container-id-1 div.sk-label input.sk-toggleable__control:checked~label.sk-toggleable__label {background-color: #d4ebff;}#sk-container-id-1 input.sk-hidden--visually {border: 0;clip: rect(1px 1px 1px 1px);clip: rect(1px, 1px, 1px, 1px);height: 1px;margin: -1px;overflow: hidden;padding: 0;position: absolute;width: 1px;}#sk-container-id-1 div.sk-estimator {font-family: monospace;background-color: #f0f8ff;border: 1px dotted black;border-radius: 0.25em;box-sizing: border-box;margin-bottom: 0.5em;}#sk-container-id-1 div.sk-estimator:hover {background-color: #d4ebff;}#sk-container-id-1 div.sk-parallel-item::after {content: \"\";width: 100%;border-bottom: 1px solid gray;flex-grow: 1;}#sk-container-id-1 div.sk-label:hover label.sk-toggleable__label {background-color: #d4ebff;}#sk-container-id-1 div.sk-serial::before {content: \"\";position: absolute;border-left: 1px solid gray;box-sizing: border-box;top: 0;bottom: 0;left: 50%;z-index: 0;}#sk-container-id-1 div.sk-serial {display: flex;flex-direction: column;align-items: center;background-color: white;padding-right: 0.2em;padding-left: 0.2em;position: relative;}#sk-container-id-1 div.sk-item {position: relative;z-index: 1;}#sk-container-id-1 div.sk-parallel {display: flex;align-items: stretch;justify-content: center;background-color: white;position: relative;}#sk-container-id-1 div.sk-item::before, #sk-container-id-1 div.sk-parallel-item::before {content: \"\";position: absolute;border-left: 1px solid gray;box-sizing: border-box;top: 0;bottom: 0;left: 50%;z-index: -1;}#sk-container-id-1 div.sk-parallel-item {display: flex;flex-direction: column;z-index: 1;position: relative;background-color: white;}#sk-container-id-1 div.sk-parallel-item:first-child::after {align-self: flex-end;width: 50%;}#sk-container-id-1 div.sk-parallel-item:last-child::after {align-self: flex-start;width: 50%;}#sk-container-id-1 div.sk-parallel-item:only-child::after {width: 0;}#sk-container-id-1 div.sk-dashed-wrapped {border: 1px dashed gray;margin: 0 0.4em 0.5em 0.4em;box-sizing: border-box;padding-bottom: 0.4em;background-color: white;}#sk-container-id-1 div.sk-label label {font-family: monospace;font-weight: bold;display: inline-block;line-height: 1.2em;}#sk-container-id-1 div.sk-label-container {text-align: center;}#sk-container-id-1 div.sk-container {/* jupyter's `normalize.less` sets `[hidden] { display: none; }` but bootstrap.min.css set `[hidden] { display: none !important; }` so we also need the `!important` here to be able to override the default hidden behavior on the sphinx rendered scikit-learn.org. See: https://github.com/scikit-learn/scikit-learn/issues/21755 */display: inline-block !important;position: relative;}#sk-container-id-1 div.sk-text-repr-fallback {display: none;}</style><div id=\"sk-container-id-1\" class=\"sk-top-container\"><div class=\"sk-text-repr-fallback\"><pre>RandomForestClassifier()</pre><b>In a Jupyter environment, please rerun this cell to show the HTML representation or trust the notebook. <br />On GitHub, the HTML representation is unable to render, please try loading this page with nbviewer.org.</b></div><div class=\"sk-container\" hidden><div class=\"sk-item\"><div class=\"sk-estimator sk-toggleable\"><input class=\"sk-toggleable__control sk-hidden--visually\" id=\"sk-estimator-id-1\" type=\"checkbox\" checked><label for=\"sk-estimator-id-1\" class=\"sk-toggleable__label sk-toggleable__label-arrow\">RandomForestClassifier</label><div class=\"sk-toggleable__content\"><pre>RandomForestClassifier()</pre></div></div></div></div></div>"
      ],
      "text/plain": [
       "RandomForestClassifier()"
      ]
     },
     "execution_count": 11,
     "metadata": {},
     "output_type": "execute_result"
    }
   ],
   "source": [
    "# The model we are using is a classification model, as we want to make predictions to put individuals into 1 of 2 categories. \n",
    "# This is one example of a classification model, called a random forest classifier.\n",
    "# Others are available, which you can look up if you would like to. \n",
    "\n",
    "classification_model.fit(breast_cancer_inputs_training,breast_cancer_outputs_training)"
   ]
  },
  {
   "cell_type": "markdown",
   "metadata": {},
   "source": [
    "And that is it, in just a few lines of code we have a machine learning model that can be used for predicting if someone has breast cancer!\n",
    "\n",
    "We can even try it out, using the actual use case of the model. In the future, doctors will likely use the model to put in information about 1 individual patient, and see whether they have a benign or cancerous tumour. "
   ]
  },
  {
   "cell_type": "code",
   "execution_count": 12,
   "metadata": {},
   "outputs": [
    {
     "data": {
      "text/html": [
       "<div>\n",
       "<style scoped>\n",
       "    .dataframe tbody tr th:only-of-type {\n",
       "        vertical-align: middle;\n",
       "    }\n",
       "\n",
       "    .dataframe tbody tr th {\n",
       "        vertical-align: top;\n",
       "    }\n",
       "\n",
       "    .dataframe thead th {\n",
       "        text-align: right;\n",
       "    }\n",
       "</style>\n",
       "<table border=\"1\" class=\"dataframe\">\n",
       "  <thead>\n",
       "    <tr style=\"text-align: right;\">\n",
       "      <th></th>\n",
       "      <th>mean radius</th>\n",
       "      <th>mean texture</th>\n",
       "      <th>mean perimeter</th>\n",
       "      <th>mean area</th>\n",
       "      <th>mean smoothness</th>\n",
       "      <th>mean compactness</th>\n",
       "      <th>mean concavity</th>\n",
       "      <th>mean concave points</th>\n",
       "      <th>mean symmetry</th>\n",
       "      <th>mean fractal dimension</th>\n",
       "      <th>...</th>\n",
       "      <th>worst radius</th>\n",
       "      <th>worst texture</th>\n",
       "      <th>worst perimeter</th>\n",
       "      <th>worst area</th>\n",
       "      <th>worst smoothness</th>\n",
       "      <th>worst compactness</th>\n",
       "      <th>worst concavity</th>\n",
       "      <th>worst concave points</th>\n",
       "      <th>worst symmetry</th>\n",
       "      <th>worst fractal dimension</th>\n",
       "    </tr>\n",
       "  </thead>\n",
       "  <tbody>\n",
       "    <tr>\n",
       "      <th>420</th>\n",
       "      <td>11.57</td>\n",
       "      <td>19.04</td>\n",
       "      <td>74.2</td>\n",
       "      <td>409.7</td>\n",
       "      <td>0.08546</td>\n",
       "      <td>0.07722</td>\n",
       "      <td>0.05485</td>\n",
       "      <td>0.01428</td>\n",
       "      <td>0.2031</td>\n",
       "      <td>0.06267</td>\n",
       "      <td>...</td>\n",
       "      <td>13.07</td>\n",
       "      <td>26.98</td>\n",
       "      <td>86.43</td>\n",
       "      <td>520.5</td>\n",
       "      <td>0.1249</td>\n",
       "      <td>0.1937</td>\n",
       "      <td>0.256</td>\n",
       "      <td>0.06664</td>\n",
       "      <td>0.3035</td>\n",
       "      <td>0.08284</td>\n",
       "    </tr>\n",
       "  </tbody>\n",
       "</table>\n",
       "<p>1 rows × 30 columns</p>\n",
       "</div>"
      ],
      "text/plain": [
       "     mean radius  mean texture  mean perimeter  mean area  mean smoothness  \\\n",
       "420        11.57         19.04            74.2      409.7          0.08546   \n",
       "\n",
       "     mean compactness  mean concavity  mean concave points  mean symmetry  \\\n",
       "420           0.07722         0.05485              0.01428         0.2031   \n",
       "\n",
       "     mean fractal dimension  ...  worst radius  worst texture  \\\n",
       "420                 0.06267  ...         13.07          26.98   \n",
       "\n",
       "     worst perimeter  worst area  worst smoothness  worst compactness  \\\n",
       "420            86.43       520.5            0.1249             0.1937   \n",
       "\n",
       "     worst concavity  worst concave points  worst symmetry  \\\n",
       "420            0.256               0.06664          0.3035   \n",
       "\n",
       "     worst fractal dimension  \n",
       "420                  0.08284  \n",
       "\n",
       "[1 rows x 30 columns]"
      ]
     },
     "metadata": {},
     "output_type": "display_data"
    },
    {
     "name": "stdout",
     "output_type": "stream",
     "text": [
      "Individual 1 has a diagnosis of: 1\n"
     ]
    }
   ],
   "source": [
    "# Create a Dataframe containing the information of one randomly sampled individual.\n",
    "individual_1_data = breast_cancer_inputs_testing.sample(n=1)\n",
    "display(individual_1_data)\n",
    "\n",
    "# Find out the individuals diagnosis\n",
    "individual_1_diagnosis = breast_cancer_outputs_testing[(individual_1_data.index)[0]]\n",
    "\n",
    "print(\"Individual 1 has a diagnosis of:\",individual_1_diagnosis)\n",
    "# A 0 is benign, a 1 is a cancerous."
   ]
  },
  {
   "cell_type": "markdown",
   "metadata": {},
   "source": [
    "So, we now have the information for one individual. We also know what the actual outcome of the prediction should be.\n",
    "\n",
    "Next, we can use `predict`. This uses the model we have just trained to predict the results of our test set. It really is that simple!"
   ]
  },
  {
   "cell_type": "code",
   "execution_count": 13,
   "metadata": {},
   "outputs": [
    {
     "name": "stdout",
     "output_type": "stream",
     "text": [
      "[1]\n"
     ]
    }
   ],
   "source": [
    "prediction = classification_model.predict(individual_1_data)\n",
    "print(prediction)\n",
    "# A 0 is a benign prediction, and a 1 is a cancerous prediction"
   ]
  },
  {
   "cell_type": "markdown",
   "metadata": {},
   "source": [
    "Did the model get it right? It might have? But how do we know whether it will be correct every time? "
   ]
  },
  {
   "cell_type": "markdown",
   "metadata": {},
   "source": [
    "\n",
    "\n",
    "##### It's time to switch on our testing brains and start evaluating just how good this model is!"
   ]
  },
  {
   "attachments": {},
   "cell_type": "markdown",
   "metadata": {},
   "source": [
    "Do you remember the testing data we separated from the training data earlier? This is about 20% of the total data we have access to, and we can use it to evaluate just how good our model is. We can use the same `predict` function as above, but this time we can pass it far more data. \n",
    "\n",
    "Typically, you want **about** 80% of your data to be used for training, although a bit of variation from this is fine!. This gives you lots of data to train your model on, but still leaves enough for accurate testing. \n",
    "\n",
    "**Importantly**, this data is **labelled**. The basic premise of testing with labelled data is as follows, make your predictions (as we have just done), and then compare them."
   ]
  },
  {
   "cell_type": "code",
   "execution_count": 14,
   "metadata": {},
   "outputs": [],
   "source": [
    "predictions = classification_model.predict(breast_cancer_inputs_testing)"
   ]
  },
  {
   "attachments": {},
   "cell_type": "markdown",
   "metadata": {},
   "source": [
    "What do the predictions actually look like? "
   ]
  },
  {
   "cell_type": "code",
   "execution_count": 15,
   "metadata": {},
   "outputs": [
    {
     "name": "stdout",
     "output_type": "stream",
     "text": [
      "[0 1 0 1 1 0 1 1 0 0 1 0 0 1 0 0 1 0 1 0 1 0 1 1 1 1 1 0 1 0 1 0 1 1 1 1 0\n",
      " 1 1 0 1 1 1 1 0 0 1 1 1 1 1 1 1 1 0 1 1 1 1 1 1 1 1 1 1 1 0 1 1 1 0 1 1 0\n",
      " 0 0 0 1 1 0 1 1 0 1 0 0 0 1 1 1 0 1 1 1 0 1 1 0 0 1 1 0 0 1 1 1 0 1 0 0 0\n",
      " 1 1 1]\n"
     ]
    }
   ],
   "source": [
    "print(predictions)"
   ]
  },
  {
   "cell_type": "markdown",
   "metadata": {},
   "source": [
    "Let's start with a really simple piece of analysis. How many of our predictions were correct? A super simple way to look at this is using a pie chart. "
   ]
  },
  {
   "cell_type": "code",
   "execution_count": 16,
   "metadata": {},
   "outputs": [],
   "source": [
    "# matplotlib is another plotting library similar to plotly.\n",
    "\n",
    "import matplotlib.pyplot as plt\n",
    "\n",
    "def plot_predictions(predictions, actual):\n",
    "    \"\"\"Creates a pie chart\n",
    "\n",
    "    Args:\n",
    "        predictions (Series): Predicted values by the model\n",
    "        actual (Series): Actual values\n",
    "    \"\"\"\n",
    "\n",
    "    correct_predictions = 0\n",
    "    incorrect_predictions = 0\n",
    "\n",
    "    for prediction, value in zip(predictions, actual):\n",
    "        if prediction == value:\n",
    "            correct_predictions += 1\n",
    "        else:\n",
    "            incorrect_predictions += 1\n",
    "\n",
    "    total_predictions = len(predictions)\n",
    "\n",
    "    # Remember our function we made earlier!\n",
    "    correct_percentage = round( calculate_percentage(correct_predictions,total_predictions) ,1)\n",
    "    incorrect_percentage = round( calculate_percentage(incorrect_predictions,total_predictions), 1)\n",
    "\n",
    "    # Plot the chart\n",
    "    plt.pie([correct_predictions,incorrect_predictions],\n",
    "            labels=[f\"Correct Predictions\\n{correct_percentage}\",f\"Incorrect Predictions\\n{incorrect_percentage}%\"])\n",
    "             \n",
    "    # Add a title\n",
    "    plt.title(\"Percentage of Correct and Incorrect Predictions\")\n",
    "    \n",
    "    return None\n",
    "    "
   ]
  },
  {
   "cell_type": "code",
   "execution_count": 17,
   "metadata": {},
   "outputs": [
    {
     "data": {
      "image/png": "[encoded data removed]",
      "text/plain": [
       "<Figure size 640x480 with 1 Axes>"
      ]
     },
     "metadata": {},
     "output_type": "display_data"
    }
   ],
   "source": [
    "plot_predictions(predictions, breast_cancer_outputs_testing)"
   ]
  },
  {
   "attachments": {},
   "cell_type": "markdown",
   "metadata": {},
   "source": [
    "There are other ways to analyse our results. For example using a confusion matrix. "
   ]
  },
  {
   "cell_type": "code",
   "execution_count": 18,
   "metadata": {},
   "outputs": [],
   "source": [
    "from sklearn import metrics\n",
    "\n",
    "def generate_confusion_matrix(predicted, actual):\n",
    "    \"\"\"Creates a confusion matrix chart\n",
    "\n",
    "    Args:\n",
    "        predictions (Series): Predicted values by the model\n",
    "        actual (Series): Actual values\n",
    "    \"\"\"\n",
    "    confusion_matrix = metrics.confusion_matrix(actual, predicted)\n",
    "\n",
    "    cm_display = metrics.ConfusionMatrixDisplay(confusion_matrix = confusion_matrix, display_labels = [\"Benign\", \"Malignant\"])\n",
    "\n",
    "    cm_display.plot()\n",
    "\n",
    "    plt.title(\"Confusion Matrix\")"
   ]
  },
  {
   "cell_type": "code",
   "execution_count": 19,
   "metadata": {},
   "outputs": [
    {
     "data": {
      "image/png": "[encoded data removed]",
      "text/plain": [
       "<Figure size 640x480 with 2 Axes>"
      ]
     },
     "metadata": {},
     "output_type": "display_data"
    }
   ],
   "source": [
    "generate_confusion_matrix(predictions, breast_cancer_outputs_testing)"
   ]
  },
  {
   "attachments": {},
   "cell_type": "markdown",
   "metadata": {},
   "source": [
    "### What does this actually show? \n",
    "\n",
    "The matrix has four squares, each representing a different combination of actual and predicted classifications. The squares are:\n",
    "\n",
    "- True Positive (TP): The model correctly predicted the positive diagnosis.\n",
    "- False Positive (FP): The model incorrectly predicted the positive diagnosis.\n",
    "- True Negative (TN): The model correctly predicted the negative diagnosis.\n",
    "- False Negative (FN): The model incorrectly predicted the negative diagnosis.\n"
   ]
  },
  {
   "cell_type": "markdown",
   "metadata": {},
   "source": [
    "In some scenarios, an algorithm may want to be intentionally biased.\n",
    "\n",
    "- **Fire Alarms**: You would like a fire alarm to catch all fires. You would much rather a fire alarm go off when there is not a fire, than not go off when there is one. For this, we would like **high sensitivity** and **low specificity**. i.e. low false negatives and high false positives.\n",
    "\n",
    "- **Spam Filters**: You do not want a spam filter to filter out important real emails! You care a lot about a **high specificity** and a **low sensitivity**. Therefore, you want higher false negatives and lower true positives.  \n",
    "\n",
    "![image](.//task.png)"
   ]
  },
  {
   "cell_type": "markdown",
   "metadata": {},
   "source": [
    "### Have a think - what bias would we prefer for this dataset and model?"
   ]
  },
  {
   "cell_type": "markdown",
   "metadata": {},
   "source": [
    "Lets go even further with our analysis and cover something called an AUC-ROC Curve. \n",
    "\n",
    "Firstly, what does AUC and ROC mean? \n",
    "\n",
    "- ROC: Receiver Operating Characteristics\n",
    "- AUC: Area Under Curve\n",
    "\n",
    "ROC essentially is a graphical representation of the effectiveness of a binary classification model.\n",
    "\n",
    "It plots the true positive rate (TPR) vs the false positive rate (FPR) at different classification thresholds.\n",
    "\n",
    "The AUC curve represents the area under the ROC curve. It measures the overall performance of the binary classification model. The\n",
    "\n",
    "The True Positive Rate (often called Recall or Sensitivity) is the ratio of positive examples that are correctly identified.\n",
    "\n",
    "`TPR = TP / TP + FN`\n",
    "\n",
    "FPR is the ratio of negative examples that are incorrectly classified.\n",
    "\n",
    "`FPR = FP / TN + FP`\n",
    "\n",
    "Lets make a plot to hopefully make more sense of all this!"
   ]
  },
  {
   "cell_type": "code",
   "execution_count": 70,
   "metadata": {},
   "outputs": [
    {
     "data": {
      "image/png": "[encoded data removed]",
      "text/plain": [
       "<Figure size 640x480 with 1 Axes>"
      ]
     },
     "metadata": {},
     "output_type": "display_data"
    }
   ],
   "source": [
    "x = metrics.RocCurveDisplay.from_estimator(classification_model, breast_cancer_inputs_testing, breast_cancer_outputs_testing)\n",
    "plt.plot([0,1],[0,1],\"--\",c=\"red\")\n",
    "plt.show()  "
   ]
  },
  {
   "cell_type": "markdown",
   "metadata": {},
   "source": [
    "The further to the top left corner the ROC curve is, the better the prediction.\n",
    "\n",
    "When the curve is perfectly in the top left corner, the area underneath it is 1. this means an AUC score of 1 is a perfect classifier, with 0 being the worse score."
   ]
  },
  {
   "attachments": {},
   "cell_type": "markdown",
   "metadata": {},
   "source": [
    "### **It doesn't always need to be so complicated! Sometimes we just want a single number to help our evaluation!**\n",
    "\n",
    "Another method of analysis is an **F1 Score**. This is a more general measurement for how good a classifier model is.\n",
    "\n",
    "This is given as:\n",
    "\n",
    "**F1 = 2 * (precision * recall) / (precision + recall)**\n",
    "\n",
    "Where:\n",
    "- **Precision** is a measure of how many predicted positive diagnosis' are actually positive. This is found by taking the number of true positives and dividing by the number of true and false positives.\n",
    "- **Recall** is the percentage of positive cases that are correctly predicted by the model.\n",
    "\n",
    "A perfect prediction would give an F1 score of 1, with the worst possible score being 0. \n",
    "\n",
    "The sklearn classification report is a very useful way of examining the precision, recall and f1 score of **each class** (i.e benign or malignant)."
   ]
  },
  {
   "cell_type": "code",
   "execution_count": 64,
   "metadata": {},
   "outputs": [
    {
     "name": "stdout",
     "output_type": "stream",
     "text": [
      "              precision    recall  f1-score   support\n",
      "\n",
      "           0       0.98      0.89      0.93        45\n",
      "           1       0.93      0.99      0.96        69\n",
      "\n",
      "    accuracy                           0.95       114\n",
      "   macro avg       0.95      0.94      0.94       114\n",
      "weighted avg       0.95      0.95      0.95       114\n",
      "\n"
     ]
    }
   ],
   "source": [
    "classification_report = metrics.classification_report(breast_cancer_outputs_testing, predictions)\n",
    "\n",
    "print(classification_report)"
   ]
  },
  {
   "attachments": {},
   "cell_type": "markdown",
   "metadata": {},
   "source": [
    "![image](.//task.png)\n",
    "\n",
    "**OPTIONAL**\n",
    "\n",
    "So you have made predictions using the random forest algorithm, but could you use something else instead?\n",
    "\n",
    "Head to https://scikit-learn.org/stable/supervised_learning.html and see what other models are available.\n",
    "\n",
    "Can you find any better classification models for our dataset?\n",
    "\n",
    "Feel free to go back and look at the previous code in this notebook."
   ]
  },
  {
   "cell_type": "code",
   "execution_count": null,
   "metadata": {},
   "outputs": [],
   "source": [
    "## OPTIONAL: Your code here!\n",
    "\n",
    "#classification_model = \n"
   ]
  },
  {
   "attachments": {},
   "cell_type": "markdown",
   "metadata": {},
   "source": [
    "# Interrogating Training Data"
   ]
  },
  {
   "attachments": {},
   "cell_type": "markdown",
   "metadata": {},
   "source": [
    "As a tester, it is very important to look at training data as well as the predictions of a model.\n",
    "\n",
    "##### Why should someone in solutions assurance care about checking training data?\n",
    "\n",
    "- Being able to check the training data of a model is a key way to spot any flaws in the data\n",
    "- Flaws in the training data will be reflected in the predictive model.\n",
    "- Models may make incorrect predictions based on bad quality training data. \n",
    "\n",
    "One particular method we can use to check the training data is to look at **correlation** between variables.\n",
    "\n",
    "#### Why do we care about correlation?\n",
    "\n",
    " - Highly correlated variables essentially contain the same information.\n",
    " - When this happens, it becomes difficult for the model to distinguish the individual effects of each variable during training. This can lead to unstable and unreliable predictions.\n",
    " - Highly correlated variables can dominate the machine learning model.\n",
    " - Data Scientists often remove highly correlated variables, this ensure that each  variable contributes unique and independent information to the model, allowing for more accurate and reliable predictions.\n",
    " - However, we can't assume data scientists always do this! So it is important to check for ourselves."
   ]
  },
  {
   "cell_type": "markdown",
   "metadata": {},
   "source": [
    "We have just been given the training data for a regression model that predicts the diabetic progression of an individual. The data scientist claims he checked the training data before making the model, but we want to be sure! "
   ]
  },
  {
   "cell_type": "code",
   "execution_count": 22,
   "metadata": {},
   "outputs": [],
   "source": [
    "from sklearn.datasets import load_diabetes\n",
    "\n",
    "# Here, we load the diabetes inputs and outputs using the load diabetes function. \n",
    "\n",
    "# Earlier we used clear variables named breast_cancer_inputs and breast_cancer_outputs.\n",
    "\n",
    "# Sadly, data scientists often like to be more concise (and confusing), and like to use X and y.\n",
    "# You will likely see this a lot online, so it is good to practice this notation. \n",
    "\n",
    "diabetes_X, diabetes_y = load_diabetes(return_X_y=True, as_frame=True)\n",
    "# Here diabetes_X represents inputs, and diabetes_y represents outputs."
   ]
  },
  {
   "attachments": {},
   "cell_type": "markdown",
   "metadata": {},
   "source": [
    "Let's have a look at the training data."
   ]
  },
  {
   "cell_type": "code",
   "execution_count": 23,
   "metadata": {},
   "outputs": [
    {
     "data": {
      "text/html": [
       "<div>\n",
       "<style scoped>\n",
       "    .dataframe tbody tr th:only-of-type {\n",
       "        vertical-align: middle;\n",
       "    }\n",
       "\n",
       "    .dataframe tbody tr th {\n",
       "        vertical-align: top;\n",
       "    }\n",
       "\n",
       "    .dataframe thead th {\n",
       "        text-align: right;\n",
       "    }\n",
       "</style>\n",
       "<table border=\"1\" class=\"dataframe\">\n",
       "  <thead>\n",
       "    <tr style=\"text-align: right;\">\n",
       "      <th></th>\n",
       "      <th>age</th>\n",
       "      <th>sex</th>\n",
       "      <th>bmi</th>\n",
       "      <th>bp</th>\n",
       "      <th>s1</th>\n",
       "      <th>s2</th>\n",
       "      <th>s3</th>\n",
       "      <th>s4</th>\n",
       "      <th>s5</th>\n",
       "      <th>s6</th>\n",
       "    </tr>\n",
       "  </thead>\n",
       "  <tbody>\n",
       "    <tr>\n",
       "      <th>0</th>\n",
       "      <td>0.038076</td>\n",
       "      <td>0.050680</td>\n",
       "      <td>0.061696</td>\n",
       "      <td>0.021872</td>\n",
       "      <td>-0.044223</td>\n",
       "      <td>-0.034821</td>\n",
       "      <td>-0.043401</td>\n",
       "      <td>-0.002592</td>\n",
       "      <td>0.019907</td>\n",
       "      <td>-0.017646</td>\n",
       "    </tr>\n",
       "    <tr>\n",
       "      <th>1</th>\n",
       "      <td>-0.001882</td>\n",
       "      <td>-0.044642</td>\n",
       "      <td>-0.051474</td>\n",
       "      <td>-0.026328</td>\n",
       "      <td>-0.008449</td>\n",
       "      <td>-0.019163</td>\n",
       "      <td>0.074412</td>\n",
       "      <td>-0.039493</td>\n",
       "      <td>-0.068332</td>\n",
       "      <td>-0.092204</td>\n",
       "    </tr>\n",
       "    <tr>\n",
       "      <th>2</th>\n",
       "      <td>0.085299</td>\n",
       "      <td>0.050680</td>\n",
       "      <td>0.044451</td>\n",
       "      <td>-0.005670</td>\n",
       "      <td>-0.045599</td>\n",
       "      <td>-0.034194</td>\n",
       "      <td>-0.032356</td>\n",
       "      <td>-0.002592</td>\n",
       "      <td>0.002861</td>\n",
       "      <td>-0.025930</td>\n",
       "    </tr>\n",
       "    <tr>\n",
       "      <th>3</th>\n",
       "      <td>-0.089063</td>\n",
       "      <td>-0.044642</td>\n",
       "      <td>-0.011595</td>\n",
       "      <td>-0.036656</td>\n",
       "      <td>0.012191</td>\n",
       "      <td>0.024991</td>\n",
       "      <td>-0.036038</td>\n",
       "      <td>0.034309</td>\n",
       "      <td>0.022688</td>\n",
       "      <td>-0.009362</td>\n",
       "    </tr>\n",
       "    <tr>\n",
       "      <th>4</th>\n",
       "      <td>0.005383</td>\n",
       "      <td>-0.044642</td>\n",
       "      <td>-0.036385</td>\n",
       "      <td>0.021872</td>\n",
       "      <td>0.003935</td>\n",
       "      <td>0.015596</td>\n",
       "      <td>0.008142</td>\n",
       "      <td>-0.002592</td>\n",
       "      <td>-0.031988</td>\n",
       "      <td>-0.046641</td>\n",
       "    </tr>\n",
       "    <tr>\n",
       "      <th>...</th>\n",
       "      <td>...</td>\n",
       "      <td>...</td>\n",
       "      <td>...</td>\n",
       "      <td>...</td>\n",
       "      <td>...</td>\n",
       "      <td>...</td>\n",
       "      <td>...</td>\n",
       "      <td>...</td>\n",
       "      <td>...</td>\n",
       "      <td>...</td>\n",
       "    </tr>\n",
       "    <tr>\n",
       "      <th>437</th>\n",
       "      <td>0.041708</td>\n",
       "      <td>0.050680</td>\n",
       "      <td>0.019662</td>\n",
       "      <td>0.059744</td>\n",
       "      <td>-0.005697</td>\n",
       "      <td>-0.002566</td>\n",
       "      <td>-0.028674</td>\n",
       "      <td>-0.002592</td>\n",
       "      <td>0.031193</td>\n",
       "      <td>0.007207</td>\n",
       "    </tr>\n",
       "    <tr>\n",
       "      <th>438</th>\n",
       "      <td>-0.005515</td>\n",
       "      <td>0.050680</td>\n",
       "      <td>-0.015906</td>\n",
       "      <td>-0.067642</td>\n",
       "      <td>0.049341</td>\n",
       "      <td>0.079165</td>\n",
       "      <td>-0.028674</td>\n",
       "      <td>0.034309</td>\n",
       "      <td>-0.018114</td>\n",
       "      <td>0.044485</td>\n",
       "    </tr>\n",
       "    <tr>\n",
       "      <th>439</th>\n",
       "      <td>0.041708</td>\n",
       "      <td>0.050680</td>\n",
       "      <td>-0.015906</td>\n",
       "      <td>0.017293</td>\n",
       "      <td>-0.037344</td>\n",
       "      <td>-0.013840</td>\n",
       "      <td>-0.024993</td>\n",
       "      <td>-0.011080</td>\n",
       "      <td>-0.046883</td>\n",
       "      <td>0.015491</td>\n",
       "    </tr>\n",
       "    <tr>\n",
       "      <th>440</th>\n",
       "      <td>-0.045472</td>\n",
       "      <td>-0.044642</td>\n",
       "      <td>0.039062</td>\n",
       "      <td>0.001215</td>\n",
       "      <td>0.016318</td>\n",
       "      <td>0.015283</td>\n",
       "      <td>-0.028674</td>\n",
       "      <td>0.026560</td>\n",
       "      <td>0.044529</td>\n",
       "      <td>-0.025930</td>\n",
       "    </tr>\n",
       "    <tr>\n",
       "      <th>441</th>\n",
       "      <td>-0.045472</td>\n",
       "      <td>-0.044642</td>\n",
       "      <td>-0.073030</td>\n",
       "      <td>-0.081413</td>\n",
       "      <td>0.083740</td>\n",
       "      <td>0.027809</td>\n",
       "      <td>0.173816</td>\n",
       "      <td>-0.039493</td>\n",
       "      <td>-0.004222</td>\n",
       "      <td>0.003064</td>\n",
       "    </tr>\n",
       "  </tbody>\n",
       "</table>\n",
       "<p>442 rows × 10 columns</p>\n",
       "</div>"
      ],
      "text/plain": [
       "          age       sex       bmi        bp        s1        s2        s3  \\\n",
       "0    0.038076  0.050680  0.061696  0.021872 -0.044223 -0.034821 -0.043401   \n",
       "1   -0.001882 -0.044642 -0.051474 -0.026328 -0.008449 -0.019163  0.074412   \n",
       "2    0.085299  0.050680  0.044451 -0.005670 -0.045599 -0.034194 -0.032356   \n",
       "3   -0.089063 -0.044642 -0.011595 -0.036656  0.012191  0.024991 -0.036038   \n",
       "4    0.005383 -0.044642 -0.036385  0.021872  0.003935  0.015596  0.008142   \n",
       "..        ...       ...       ...       ...       ...       ...       ...   \n",
       "437  0.041708  0.050680  0.019662  0.059744 -0.005697 -0.002566 -0.028674   \n",
       "438 -0.005515  0.050680 -0.015906 -0.067642  0.049341  0.079165 -0.028674   \n",
       "439  0.041708  0.050680 -0.015906  0.017293 -0.037344 -0.013840 -0.024993   \n",
       "440 -0.045472 -0.044642  0.039062  0.001215  0.016318  0.015283 -0.028674   \n",
       "441 -0.045472 -0.044642 -0.073030 -0.081413  0.083740  0.027809  0.173816   \n",
       "\n",
       "           s4        s5        s6  \n",
       "0   -0.002592  0.019907 -0.017646  \n",
       "1   -0.039493 -0.068332 -0.092204  \n",
       "2   -0.002592  0.002861 -0.025930  \n",
       "3    0.034309  0.022688 -0.009362  \n",
       "4   -0.002592 -0.031988 -0.046641  \n",
       "..        ...       ...       ...  \n",
       "437 -0.002592  0.031193  0.007207  \n",
       "438  0.034309 -0.018114  0.044485  \n",
       "439 -0.011080 -0.046883  0.015491  \n",
       "440  0.026560  0.044529 -0.025930  \n",
       "441 -0.039493 -0.004222  0.003064  \n",
       "\n",
       "[442 rows x 10 columns]"
      ]
     },
     "metadata": {},
     "output_type": "display_data"
    }
   ],
   "source": [
    "display(diabetes_X)"
   ]
  },
  {
   "attachments": {},
   "cell_type": "markdown",
   "metadata": {},
   "source": [
    "### Correlation Matrix"
   ]
  },
  {
   "cell_type": "code",
   "execution_count": 24,
   "metadata": {},
   "outputs": [
    {
     "data": {
      "text/html": [
       "<style type=\"text/css\">\n",
       "#T_40560_row0_col0, #T_40560_row1_col1, #T_40560_row2_col2, #T_40560_row3_col3, #T_40560_row4_col4, #T_40560_row5_col5, #T_40560_row6_col6, #T_40560_row7_col7, #T_40560_row8_col8, #T_40560_row9_col9 {\n",
       "  background-color: #b40426;\n",
       "  color: #f1f1f1;\n",
       "}\n",
       "#T_40560_row0_col1 {\n",
       "  background-color: #c0d4f5;\n",
       "  color: #000000;\n",
       "}\n",
       "#T_40560_row0_col2 {\n",
       "  background-color: #c1d4f4;\n",
       "  color: #000000;\n",
       "}\n",
       "#T_40560_row0_col3 {\n",
       "  background-color: #cbd8ee;\n",
       "  color: #000000;\n",
       "}\n",
       "#T_40560_row0_col4, #T_40560_row1_col0 {\n",
       "  background-color: #86a9fc;\n",
       "  color: #f1f1f1;\n",
       "}\n",
       "#T_40560_row0_col5 {\n",
       "  background-color: #aec9fc;\n",
       "  color: #000000;\n",
       "}\n",
       "#T_40560_row0_col6, #T_40560_row2_col5, #T_40560_row3_col0 {\n",
       "  background-color: #bad0f8;\n",
       "  color: #000000;\n",
       "}\n",
       "#T_40560_row0_col7, #T_40560_row7_col9 {\n",
       "  background-color: #e7d7ce;\n",
       "  color: #000000;\n",
       "}\n",
       "#T_40560_row0_col8 {\n",
       "  background-color: #d7dce3;\n",
       "  color: #000000;\n",
       "}\n",
       "#T_40560_row0_col9, #T_40560_row3_col1, #T_40560_row4_col2 {\n",
       "  background-color: #cfdaea;\n",
       "  color: #000000;\n",
       "}\n",
       "#T_40560_row1_col2 {\n",
       "  background-color: #aac7fd;\n",
       "  color: #000000;\n",
       "}\n",
       "#T_40560_row1_col3, #T_40560_row4_col3 {\n",
       "  background-color: #b2ccfb;\n",
       "  color: #000000;\n",
       "}\n",
       "#T_40560_row1_col4, #T_40560_row6_col0, #T_40560_row6_col1, #T_40560_row6_col2, #T_40560_row6_col3, #T_40560_row6_col5, #T_40560_row6_col7, #T_40560_row6_col8, #T_40560_row6_col9, #T_40560_row7_col6 {\n",
       "  background-color: #3b4cc0;\n",
       "  color: #f1f1f1;\n",
       "}\n",
       "#T_40560_row1_col5 {\n",
       "  background-color: #98b9ff;\n",
       "  color: #000000;\n",
       "}\n",
       "#T_40560_row1_col6 {\n",
       "  background-color: #7da0f9;\n",
       "  color: #f1f1f1;\n",
       "}\n",
       "#T_40560_row1_col7 {\n",
       "  background-color: #f3c7b1;\n",
       "  color: #000000;\n",
       "}\n",
       "#T_40560_row1_col8 {\n",
       "  background-color: #bed2f6;\n",
       "  color: #000000;\n",
       "}\n",
       "#T_40560_row1_col9, #T_40560_row5_col1 {\n",
       "  background-color: #b9d0f9;\n",
       "  color: #000000;\n",
       "}\n",
       "#T_40560_row2_col0 {\n",
       "  background-color: #89acfd;\n",
       "  color: #000000;\n",
       "}\n",
       "#T_40560_row2_col1 {\n",
       "  background-color: #abc8fd;\n",
       "  color: #000000;\n",
       "}\n",
       "#T_40560_row2_col3, #T_40560_row8_col3 {\n",
       "  background-color: #d9dce1;\n",
       "  color: #000000;\n",
       "}\n",
       "#T_40560_row2_col4 {\n",
       "  background-color: #82a6fb;\n",
       "  color: #f1f1f1;\n",
       "}\n",
       "#T_40560_row2_col6, #T_40560_row3_col4 {\n",
       "  background-color: #80a3fa;\n",
       "  color: #f1f1f1;\n",
       "}\n",
       "#T_40560_row2_col7 {\n",
       "  background-color: #f7b99e;\n",
       "  color: #000000;\n",
       "}\n",
       "#T_40560_row2_col8 {\n",
       "  background-color: #f2cab5;\n",
       "  color: #000000;\n",
       "}\n",
       "#T_40560_row2_col9, #T_40560_row3_col9 {\n",
       "  background-color: #e2dad5;\n",
       "  color: #000000;\n",
       "}\n",
       "#T_40560_row3_col2 {\n",
       "  background-color: #ead4c8;\n",
       "  color: #000000;\n",
       "}\n",
       "#T_40560_row3_col5 {\n",
       "  background-color: #a5c3fe;\n",
       "  color: #000000;\n",
       "}\n",
       "#T_40560_row3_col6, #T_40560_row8_col0 {\n",
       "  background-color: #a6c4fe;\n",
       "  color: #000000;\n",
       "}\n",
       "#T_40560_row3_col7, #T_40560_row7_col2 {\n",
       "  background-color: #edd1c2;\n",
       "  color: #000000;\n",
       "}\n",
       "#T_40560_row3_col8 {\n",
       "  background-color: #ecd3c5;\n",
       "  color: #000000;\n",
       "}\n",
       "#T_40560_row4_col0, #T_40560_row5_col3, #T_40560_row5_col6 {\n",
       "  background-color: #a2c1ff;\n",
       "  color: #000000;\n",
       "}\n",
       "#T_40560_row4_col1 {\n",
       "  background-color: #9ebeff;\n",
       "  color: #000000;\n",
       "}\n",
       "#T_40560_row4_col5 {\n",
       "  background-color: #d24b40;\n",
       "  color: #f1f1f1;\n",
       "}\n",
       "#T_40560_row4_col6 {\n",
       "  background-color: #d1dae9;\n",
       "  color: #000000;\n",
       "}\n",
       "#T_40560_row4_col7 {\n",
       "  background-color: #f59f80;\n",
       "  color: #000000;\n",
       "}\n",
       "#T_40560_row4_col8 {\n",
       "  background-color: #f7bca1;\n",
       "  color: #000000;\n",
       "}\n",
       "#T_40560_row4_col9 {\n",
       "  background-color: #d5dbe5;\n",
       "  color: #000000;\n",
       "}\n",
       "#T_40560_row5_col0 {\n",
       "  background-color: #96b7ff;\n",
       "  color: #000000;\n",
       "}\n",
       "#T_40560_row5_col2 {\n",
       "  background-color: #d2dbe8;\n",
       "  color: #000000;\n",
       "}\n",
       "#T_40560_row5_col4 {\n",
       "  background-color: #d85646;\n",
       "  color: #f1f1f1;\n",
       "}\n",
       "#T_40560_row5_col7 {\n",
       "  background-color: #ed8366;\n",
       "  color: #f1f1f1;\n",
       "}\n",
       "#T_40560_row5_col8 {\n",
       "  background-color: #e0dbd8;\n",
       "  color: #000000;\n",
       "}\n",
       "#T_40560_row5_col9 {\n",
       "  background-color: #cdd9ec;\n",
       "  color: #000000;\n",
       "}\n",
       "#T_40560_row6_col4 {\n",
       "  background-color: #3f53c6;\n",
       "  color: #f1f1f1;\n",
       "}\n",
       "#T_40560_row7_col0 {\n",
       "  background-color: #90b2fe;\n",
       "  color: #000000;\n",
       "}\n",
       "#T_40560_row7_col1 {\n",
       "  background-color: #e1dad6;\n",
       "  color: #000000;\n",
       "}\n",
       "#T_40560_row7_col3 {\n",
       "  background-color: #b6cefa;\n",
       "  color: #000000;\n",
       "}\n",
       "#T_40560_row7_col4 {\n",
       "  background-color: #e3d9d3;\n",
       "  color: #000000;\n",
       "}\n",
       "#T_40560_row7_col5 {\n",
       "  background-color: #f7a688;\n",
       "  color: #000000;\n",
       "}\n",
       "#T_40560_row7_col8 {\n",
       "  background-color: #f6a283;\n",
       "  color: #000000;\n",
       "}\n",
       "#T_40560_row8_col1 {\n",
       "  background-color: #bbd1f8;\n",
       "  color: #000000;\n",
       "}\n",
       "#T_40560_row8_col2 {\n",
       "  background-color: #f1ccb8;\n",
       "  color: #000000;\n",
       "}\n",
       "#T_40560_row8_col4 {\n",
       "  background-color: #dcdddd;\n",
       "  color: #000000;\n",
       "}\n",
       "#T_40560_row8_col5 {\n",
       "  background-color: #cad8ef;\n",
       "  color: #000000;\n",
       "}\n",
       "#T_40560_row8_col6 {\n",
       "  background-color: #7a9df8;\n",
       "  color: #f1f1f1;\n",
       "}\n",
       "#T_40560_row8_col7 {\n",
       "  background-color: #f18d6f;\n",
       "  color: #f1f1f1;\n",
       "}\n",
       "#T_40560_row8_col9 {\n",
       "  background-color: #efcfbf;\n",
       "  color: #000000;\n",
       "}\n",
       "#T_40560_row9_col0 {\n",
       "  background-color: #afcafc;\n",
       "  color: #000000;\n",
       "}\n",
       "#T_40560_row9_col1 {\n",
       "  background-color: #c9d7f0;\n",
       "  color: #000000;\n",
       "}\n",
       "#T_40560_row9_col2 {\n",
       "  background-color: #ead5c9;\n",
       "  color: #000000;\n",
       "}\n",
       "#T_40560_row9_col3 {\n",
       "  background-color: #d8dce2;\n",
       "  color: #000000;\n",
       "}\n",
       "#T_40560_row9_col4 {\n",
       "  background-color: #9fbfff;\n",
       "  color: #000000;\n",
       "}\n",
       "#T_40560_row9_col5 {\n",
       "  background-color: #c3d5f4;\n",
       "  color: #000000;\n",
       "}\n",
       "#T_40560_row9_col6 {\n",
       "  background-color: #93b5fe;\n",
       "  color: #000000;\n",
       "}\n",
       "#T_40560_row9_col7 {\n",
       "  background-color: #f7b89c;\n",
       "  color: #000000;\n",
       "}\n",
       "#T_40560_row9_col8 {\n",
       "  background-color: #f4c6af;\n",
       "  color: #000000;\n",
       "}\n",
       "</style>\n",
       "<table id=\"T_40560\">\n",
       "  <thead>\n",
       "    <tr>\n",
       "      <th class=\"blank level0\" >&nbsp;</th>\n",
       "      <th id=\"T_40560_level0_col0\" class=\"col_heading level0 col0\" >age</th>\n",
       "      <th id=\"T_40560_level0_col1\" class=\"col_heading level0 col1\" >sex</th>\n",
       "      <th id=\"T_40560_level0_col2\" class=\"col_heading level0 col2\" >bmi</th>\n",
       "      <th id=\"T_40560_level0_col3\" class=\"col_heading level0 col3\" >bp</th>\n",
       "      <th id=\"T_40560_level0_col4\" class=\"col_heading level0 col4\" >s1</th>\n",
       "      <th id=\"T_40560_level0_col5\" class=\"col_heading level0 col5\" >s2</th>\n",
       "      <th id=\"T_40560_level0_col6\" class=\"col_heading level0 col6\" >s3</th>\n",
       "      <th id=\"T_40560_level0_col7\" class=\"col_heading level0 col7\" >s4</th>\n",
       "      <th id=\"T_40560_level0_col8\" class=\"col_heading level0 col8\" >s5</th>\n",
       "      <th id=\"T_40560_level0_col9\" class=\"col_heading level0 col9\" >s6</th>\n",
       "    </tr>\n",
       "  </thead>\n",
       "  <tbody>\n",
       "    <tr>\n",
       "      <th id=\"T_40560_level0_row0\" class=\"row_heading level0 row0\" >age</th>\n",
       "      <td id=\"T_40560_row0_col0\" class=\"data row0 col0\" >1.000000</td>\n",
       "      <td id=\"T_40560_row0_col1\" class=\"data row0 col1\" >0.173737</td>\n",
       "      <td id=\"T_40560_row0_col2\" class=\"data row0 col2\" >0.185085</td>\n",
       "      <td id=\"T_40560_row0_col3\" class=\"data row0 col3\" >0.335428</td>\n",
       "      <td id=\"T_40560_row0_col4\" class=\"data row0 col4\" >0.260061</td>\n",
       "      <td id=\"T_40560_row0_col5\" class=\"data row0 col5\" >0.219243</td>\n",
       "      <td id=\"T_40560_row0_col6\" class=\"data row0 col6\" >-0.075181</td>\n",
       "      <td id=\"T_40560_row0_col7\" class=\"data row0 col7\" >0.203841</td>\n",
       "      <td id=\"T_40560_row0_col8\" class=\"data row0 col8\" >0.270774</td>\n",
       "      <td id=\"T_40560_row0_col9\" class=\"data row0 col9\" >0.301731</td>\n",
       "    </tr>\n",
       "    <tr>\n",
       "      <th id=\"T_40560_level0_row1\" class=\"row_heading level0 row1\" >sex</th>\n",
       "      <td id=\"T_40560_row1_col0\" class=\"data row1 col0\" >0.173737</td>\n",
       "      <td id=\"T_40560_row1_col1\" class=\"data row1 col1\" >1.000000</td>\n",
       "      <td id=\"T_40560_row1_col2\" class=\"data row1 col2\" >0.088161</td>\n",
       "      <td id=\"T_40560_row1_col3\" class=\"data row1 col3\" >0.241010</td>\n",
       "      <td id=\"T_40560_row1_col4\" class=\"data row1 col4\" >0.035277</td>\n",
       "      <td id=\"T_40560_row1_col5\" class=\"data row1 col5\" >0.142637</td>\n",
       "      <td id=\"T_40560_row1_col6\" class=\"data row1 col6\" >-0.379090</td>\n",
       "      <td id=\"T_40560_row1_col7\" class=\"data row1 col7\" >0.332115</td>\n",
       "      <td id=\"T_40560_row1_col8\" class=\"data row1 col8\" >0.149916</td>\n",
       "      <td id=\"T_40560_row1_col9\" class=\"data row1 col9\" >0.208133</td>\n",
       "    </tr>\n",
       "    <tr>\n",
       "      <th id=\"T_40560_level0_row2\" class=\"row_heading level0 row2\" >bmi</th>\n",
       "      <td id=\"T_40560_row2_col0\" class=\"data row2 col0\" >0.185085</td>\n",
       "      <td id=\"T_40560_row2_col1\" class=\"data row2 col1\" >0.088161</td>\n",
       "      <td id=\"T_40560_row2_col2\" class=\"data row2 col2\" >1.000000</td>\n",
       "      <td id=\"T_40560_row2_col3\" class=\"data row2 col3\" >0.395411</td>\n",
       "      <td id=\"T_40560_row2_col4\" class=\"data row2 col4\" >0.249777</td>\n",
       "      <td id=\"T_40560_row2_col5\" class=\"data row2 col5\" >0.261170</td>\n",
       "      <td id=\"T_40560_row2_col6\" class=\"data row2 col6\" >-0.366811</td>\n",
       "      <td id=\"T_40560_row2_col7\" class=\"data row2 col7\" >0.413807</td>\n",
       "      <td id=\"T_40560_row2_col8\" class=\"data row2 col8\" >0.446157</td>\n",
       "      <td id=\"T_40560_row2_col9\" class=\"data row2 col9\" >0.388680</td>\n",
       "    </tr>\n",
       "    <tr>\n",
       "      <th id=\"T_40560_level0_row3\" class=\"row_heading level0 row3\" >bp</th>\n",
       "      <td id=\"T_40560_row3_col0\" class=\"data row3 col0\" >0.335428</td>\n",
       "      <td id=\"T_40560_row3_col1\" class=\"data row3 col1\" >0.241010</td>\n",
       "      <td id=\"T_40560_row3_col2\" class=\"data row3 col2\" >0.395411</td>\n",
       "      <td id=\"T_40560_row3_col3\" class=\"data row3 col3\" >1.000000</td>\n",
       "      <td id=\"T_40560_row3_col4\" class=\"data row3 col4\" >0.242464</td>\n",
       "      <td id=\"T_40560_row3_col5\" class=\"data row3 col5\" >0.185548</td>\n",
       "      <td id=\"T_40560_row3_col6\" class=\"data row3 col6\" >-0.178762</td>\n",
       "      <td id=\"T_40560_row3_col7\" class=\"data row3 col7\" >0.257650</td>\n",
       "      <td id=\"T_40560_row3_col8\" class=\"data row3 col8\" >0.393480</td>\n",
       "      <td id=\"T_40560_row3_col9\" class=\"data row3 col9\" >0.390430</td>\n",
       "    </tr>\n",
       "    <tr>\n",
       "      <th id=\"T_40560_level0_row4\" class=\"row_heading level0 row4\" >s1</th>\n",
       "      <td id=\"T_40560_row4_col0\" class=\"data row4 col0\" >0.260061</td>\n",
       "      <td id=\"T_40560_row4_col1\" class=\"data row4 col1\" >0.035277</td>\n",
       "      <td id=\"T_40560_row4_col2\" class=\"data row4 col2\" >0.249777</td>\n",
       "      <td id=\"T_40560_row4_col3\" class=\"data row4 col3\" >0.242464</td>\n",
       "      <td id=\"T_40560_row4_col4\" class=\"data row4 col4\" >1.000000</td>\n",
       "      <td id=\"T_40560_row4_col5\" class=\"data row4 col5\" >0.896663</td>\n",
       "      <td id=\"T_40560_row4_col6\" class=\"data row4 col6\" >0.051519</td>\n",
       "      <td id=\"T_40560_row4_col7\" class=\"data row4 col7\" >0.542207</td>\n",
       "      <td id=\"T_40560_row4_col8\" class=\"data row4 col8\" >0.515503</td>\n",
       "      <td id=\"T_40560_row4_col9\" class=\"data row4 col9\" >0.325717</td>\n",
       "    </tr>\n",
       "    <tr>\n",
       "      <th id=\"T_40560_level0_row5\" class=\"row_heading level0 row5\" >s2</th>\n",
       "      <td id=\"T_40560_row5_col0\" class=\"data row5 col0\" >0.219243</td>\n",
       "      <td id=\"T_40560_row5_col1\" class=\"data row5 col1\" >0.142637</td>\n",
       "      <td id=\"T_40560_row5_col2\" class=\"data row5 col2\" >0.261170</td>\n",
       "      <td id=\"T_40560_row5_col3\" class=\"data row5 col3\" >0.185548</td>\n",
       "      <td id=\"T_40560_row5_col4\" class=\"data row5 col4\" >0.896663</td>\n",
       "      <td id=\"T_40560_row5_col5\" class=\"data row5 col5\" >1.000000</td>\n",
       "      <td id=\"T_40560_row5_col6\" class=\"data row5 col6\" >-0.196455</td>\n",
       "      <td id=\"T_40560_row5_col7\" class=\"data row5 col7\" >0.659817</td>\n",
       "      <td id=\"T_40560_row5_col8\" class=\"data row5 col8\" >0.318357</td>\n",
       "      <td id=\"T_40560_row5_col9\" class=\"data row5 col9\" >0.290600</td>\n",
       "    </tr>\n",
       "    <tr>\n",
       "      <th id=\"T_40560_level0_row6\" class=\"row_heading level0 row6\" >s3</th>\n",
       "      <td id=\"T_40560_row6_col0\" class=\"data row6 col0\" >-0.075181</td>\n",
       "      <td id=\"T_40560_row6_col1\" class=\"data row6 col1\" >-0.379090</td>\n",
       "      <td id=\"T_40560_row6_col2\" class=\"data row6 col2\" >-0.366811</td>\n",
       "      <td id=\"T_40560_row6_col3\" class=\"data row6 col3\" >-0.178762</td>\n",
       "      <td id=\"T_40560_row6_col4\" class=\"data row6 col4\" >0.051519</td>\n",
       "      <td id=\"T_40560_row6_col5\" class=\"data row6 col5\" >-0.196455</td>\n",
       "      <td id=\"T_40560_row6_col6\" class=\"data row6 col6\" >1.000000</td>\n",
       "      <td id=\"T_40560_row6_col7\" class=\"data row6 col7\" >-0.738493</td>\n",
       "      <td id=\"T_40560_row6_col8\" class=\"data row6 col8\" >-0.398577</td>\n",
       "      <td id=\"T_40560_row6_col9\" class=\"data row6 col9\" >-0.273697</td>\n",
       "    </tr>\n",
       "    <tr>\n",
       "      <th id=\"T_40560_level0_row7\" class=\"row_heading level0 row7\" >s4</th>\n",
       "      <td id=\"T_40560_row7_col0\" class=\"data row7 col0\" >0.203841</td>\n",
       "      <td id=\"T_40560_row7_col1\" class=\"data row7 col1\" >0.332115</td>\n",
       "      <td id=\"T_40560_row7_col2\" class=\"data row7 col2\" >0.413807</td>\n",
       "      <td id=\"T_40560_row7_col3\" class=\"data row7 col3\" >0.257650</td>\n",
       "      <td id=\"T_40560_row7_col4\" class=\"data row7 col4\" >0.542207</td>\n",
       "      <td id=\"T_40560_row7_col5\" class=\"data row7 col5\" >0.659817</td>\n",
       "      <td id=\"T_40560_row7_col6\" class=\"data row7 col6\" >-0.738493</td>\n",
       "      <td id=\"T_40560_row7_col7\" class=\"data row7 col7\" >1.000000</td>\n",
       "      <td id=\"T_40560_row7_col8\" class=\"data row7 col8\" >0.617859</td>\n",
       "      <td id=\"T_40560_row7_col9\" class=\"data row7 col9\" >0.417212</td>\n",
       "    </tr>\n",
       "    <tr>\n",
       "      <th id=\"T_40560_level0_row8\" class=\"row_heading level0 row8\" >s5</th>\n",
       "      <td id=\"T_40560_row8_col0\" class=\"data row8 col0\" >0.270774</td>\n",
       "      <td id=\"T_40560_row8_col1\" class=\"data row8 col1\" >0.149916</td>\n",
       "      <td id=\"T_40560_row8_col2\" class=\"data row8 col2\" >0.446157</td>\n",
       "      <td id=\"T_40560_row8_col3\" class=\"data row8 col3\" >0.393480</td>\n",
       "      <td id=\"T_40560_row8_col4\" class=\"data row8 col4\" >0.515503</td>\n",
       "      <td id=\"T_40560_row8_col5\" class=\"data row8 col5\" >0.318357</td>\n",
       "      <td id=\"T_40560_row8_col6\" class=\"data row8 col6\" >-0.398577</td>\n",
       "      <td id=\"T_40560_row8_col7\" class=\"data row8 col7\" >0.617859</td>\n",
       "      <td id=\"T_40560_row8_col8\" class=\"data row8 col8\" >1.000000</td>\n",
       "      <td id=\"T_40560_row8_col9\" class=\"data row8 col9\" >0.464669</td>\n",
       "    </tr>\n",
       "    <tr>\n",
       "      <th id=\"T_40560_level0_row9\" class=\"row_heading level0 row9\" >s6</th>\n",
       "      <td id=\"T_40560_row9_col0\" class=\"data row9 col0\" >0.301731</td>\n",
       "      <td id=\"T_40560_row9_col1\" class=\"data row9 col1\" >0.208133</td>\n",
       "      <td id=\"T_40560_row9_col2\" class=\"data row9 col2\" >0.388680</td>\n",
       "      <td id=\"T_40560_row9_col3\" class=\"data row9 col3\" >0.390430</td>\n",
       "      <td id=\"T_40560_row9_col4\" class=\"data row9 col4\" >0.325717</td>\n",
       "      <td id=\"T_40560_row9_col5\" class=\"data row9 col5\" >0.290600</td>\n",
       "      <td id=\"T_40560_row9_col6\" class=\"data row9 col6\" >-0.273697</td>\n",
       "      <td id=\"T_40560_row9_col7\" class=\"data row9 col7\" >0.417212</td>\n",
       "      <td id=\"T_40560_row9_col8\" class=\"data row9 col8\" >0.464669</td>\n",
       "      <td id=\"T_40560_row9_col9\" class=\"data row9 col9\" >1.000000</td>\n",
       "    </tr>\n",
       "  </tbody>\n",
       "</table>\n"
      ],
      "text/plain": [
       "<pandas.io.formats.style.Styler at 0x27827d53f50>"
      ]
     },
     "execution_count": 24,
     "metadata": {},
     "output_type": "execute_result"
    }
   ],
   "source": [
    "corr = diabetes_X.corr()\n",
    "corr.style.background_gradient(cmap='coolwarm')"
   ]
  },
  {
   "attachments": {},
   "cell_type": "markdown",
   "metadata": {},
   "source": [
    "![image](.//task.png)\n",
    "\n",
    "This correlation plot shows the correlation between each variable/column.\n",
    "- Values close to 1 show high positive correlation.\n",
    "- Values close to -1 show high negative correlation.\n",
    "\n",
    "\n",
    "**Looking at this plot, which 2 columns show the highest correlation?**"
   ]
  },
  {
   "attachments": {},
   "cell_type": "markdown",
   "metadata": {},
   "source": [
    "As a tester, you may want to report this finding back to the developers.\n",
    "\n",
    "A data scientist would often remove columns that are highly correlated.\n",
    "\n",
    "In the code below, remove one of the columns to reduce highly correlated features. "
   ]
  },
  {
   "cell_type": "code",
   "execution_count": 25,
   "metadata": {},
   "outputs": [
    {
     "data": {
      "text/html": [
       "<div>\n",
       "<style scoped>\n",
       "    .dataframe tbody tr th:only-of-type {\n",
       "        vertical-align: middle;\n",
       "    }\n",
       "\n",
       "    .dataframe tbody tr th {\n",
       "        vertical-align: top;\n",
       "    }\n",
       "\n",
       "    .dataframe thead th {\n",
       "        text-align: right;\n",
       "    }\n",
       "</style>\n",
       "<table border=\"1\" class=\"dataframe\">\n",
       "  <thead>\n",
       "    <tr style=\"text-align: right;\">\n",
       "      <th></th>\n",
       "      <th>age</th>\n",
       "      <th>sex</th>\n",
       "      <th>bmi</th>\n",
       "      <th>bp</th>\n",
       "      <th>s1</th>\n",
       "      <th>s2</th>\n",
       "      <th>s3</th>\n",
       "      <th>s4</th>\n",
       "      <th>s5</th>\n",
       "      <th>s6</th>\n",
       "    </tr>\n",
       "  </thead>\n",
       "  <tbody>\n",
       "    <tr>\n",
       "      <th>0</th>\n",
       "      <td>0.038076</td>\n",
       "      <td>0.050680</td>\n",
       "      <td>0.061696</td>\n",
       "      <td>0.021872</td>\n",
       "      <td>-0.044223</td>\n",
       "      <td>-0.034821</td>\n",
       "      <td>-0.043401</td>\n",
       "      <td>-0.002592</td>\n",
       "      <td>0.019907</td>\n",
       "      <td>-0.017646</td>\n",
       "    </tr>\n",
       "    <tr>\n",
       "      <th>1</th>\n",
       "      <td>-0.001882</td>\n",
       "      <td>-0.044642</td>\n",
       "      <td>-0.051474</td>\n",
       "      <td>-0.026328</td>\n",
       "      <td>-0.008449</td>\n",
       "      <td>-0.019163</td>\n",
       "      <td>0.074412</td>\n",
       "      <td>-0.039493</td>\n",
       "      <td>-0.068332</td>\n",
       "      <td>-0.092204</td>\n",
       "    </tr>\n",
       "    <tr>\n",
       "      <th>2</th>\n",
       "      <td>0.085299</td>\n",
       "      <td>0.050680</td>\n",
       "      <td>0.044451</td>\n",
       "      <td>-0.005670</td>\n",
       "      <td>-0.045599</td>\n",
       "      <td>-0.034194</td>\n",
       "      <td>-0.032356</td>\n",
       "      <td>-0.002592</td>\n",
       "      <td>0.002861</td>\n",
       "      <td>-0.025930</td>\n",
       "    </tr>\n",
       "    <tr>\n",
       "      <th>3</th>\n",
       "      <td>-0.089063</td>\n",
       "      <td>-0.044642</td>\n",
       "      <td>-0.011595</td>\n",
       "      <td>-0.036656</td>\n",
       "      <td>0.012191</td>\n",
       "      <td>0.024991</td>\n",
       "      <td>-0.036038</td>\n",
       "      <td>0.034309</td>\n",
       "      <td>0.022688</td>\n",
       "      <td>-0.009362</td>\n",
       "    </tr>\n",
       "    <tr>\n",
       "      <th>4</th>\n",
       "      <td>0.005383</td>\n",
       "      <td>-0.044642</td>\n",
       "      <td>-0.036385</td>\n",
       "      <td>0.021872</td>\n",
       "      <td>0.003935</td>\n",
       "      <td>0.015596</td>\n",
       "      <td>0.008142</td>\n",
       "      <td>-0.002592</td>\n",
       "      <td>-0.031988</td>\n",
       "      <td>-0.046641</td>\n",
       "    </tr>\n",
       "    <tr>\n",
       "      <th>...</th>\n",
       "      <td>...</td>\n",
       "      <td>...</td>\n",
       "      <td>...</td>\n",
       "      <td>...</td>\n",
       "      <td>...</td>\n",
       "      <td>...</td>\n",
       "      <td>...</td>\n",
       "      <td>...</td>\n",
       "      <td>...</td>\n",
       "      <td>...</td>\n",
       "    </tr>\n",
       "    <tr>\n",
       "      <th>437</th>\n",
       "      <td>0.041708</td>\n",
       "      <td>0.050680</td>\n",
       "      <td>0.019662</td>\n",
       "      <td>0.059744</td>\n",
       "      <td>-0.005697</td>\n",
       "      <td>-0.002566</td>\n",
       "      <td>-0.028674</td>\n",
       "      <td>-0.002592</td>\n",
       "      <td>0.031193</td>\n",
       "      <td>0.007207</td>\n",
       "    </tr>\n",
       "    <tr>\n",
       "      <th>438</th>\n",
       "      <td>-0.005515</td>\n",
       "      <td>0.050680</td>\n",
       "      <td>-0.015906</td>\n",
       "      <td>-0.067642</td>\n",
       "      <td>0.049341</td>\n",
       "      <td>0.079165</td>\n",
       "      <td>-0.028674</td>\n",
       "      <td>0.034309</td>\n",
       "      <td>-0.018114</td>\n",
       "      <td>0.044485</td>\n",
       "    </tr>\n",
       "    <tr>\n",
       "      <th>439</th>\n",
       "      <td>0.041708</td>\n",
       "      <td>0.050680</td>\n",
       "      <td>-0.015906</td>\n",
       "      <td>0.017293</td>\n",
       "      <td>-0.037344</td>\n",
       "      <td>-0.013840</td>\n",
       "      <td>-0.024993</td>\n",
       "      <td>-0.011080</td>\n",
       "      <td>-0.046883</td>\n",
       "      <td>0.015491</td>\n",
       "    </tr>\n",
       "    <tr>\n",
       "      <th>440</th>\n",
       "      <td>-0.045472</td>\n",
       "      <td>-0.044642</td>\n",
       "      <td>0.039062</td>\n",
       "      <td>0.001215</td>\n",
       "      <td>0.016318</td>\n",
       "      <td>0.015283</td>\n",
       "      <td>-0.028674</td>\n",
       "      <td>0.026560</td>\n",
       "      <td>0.044529</td>\n",
       "      <td>-0.025930</td>\n",
       "    </tr>\n",
       "    <tr>\n",
       "      <th>441</th>\n",
       "      <td>-0.045472</td>\n",
       "      <td>-0.044642</td>\n",
       "      <td>-0.073030</td>\n",
       "      <td>-0.081413</td>\n",
       "      <td>0.083740</td>\n",
       "      <td>0.027809</td>\n",
       "      <td>0.173816</td>\n",
       "      <td>-0.039493</td>\n",
       "      <td>-0.004222</td>\n",
       "      <td>0.003064</td>\n",
       "    </tr>\n",
       "  </tbody>\n",
       "</table>\n",
       "<p>442 rows × 10 columns</p>\n",
       "</div>"
      ],
      "text/plain": [
       "          age       sex       bmi        bp        s1        s2        s3  \\\n",
       "0    0.038076  0.050680  0.061696  0.021872 -0.044223 -0.034821 -0.043401   \n",
       "1   -0.001882 -0.044642 -0.051474 -0.026328 -0.008449 -0.019163  0.074412   \n",
       "2    0.085299  0.050680  0.044451 -0.005670 -0.045599 -0.034194 -0.032356   \n",
       "3   -0.089063 -0.044642 -0.011595 -0.036656  0.012191  0.024991 -0.036038   \n",
       "4    0.005383 -0.044642 -0.036385  0.021872  0.003935  0.015596  0.008142   \n",
       "..        ...       ...       ...       ...       ...       ...       ...   \n",
       "437  0.041708  0.050680  0.019662  0.059744 -0.005697 -0.002566 -0.028674   \n",
       "438 -0.005515  0.050680 -0.015906 -0.067642  0.049341  0.079165 -0.028674   \n",
       "439  0.041708  0.050680 -0.015906  0.017293 -0.037344 -0.013840 -0.024993   \n",
       "440 -0.045472 -0.044642  0.039062  0.001215  0.016318  0.015283 -0.028674   \n",
       "441 -0.045472 -0.044642 -0.073030 -0.081413  0.083740  0.027809  0.173816   \n",
       "\n",
       "           s4        s5        s6  \n",
       "0   -0.002592  0.019907 -0.017646  \n",
       "1   -0.039493 -0.068332 -0.092204  \n",
       "2   -0.002592  0.002861 -0.025930  \n",
       "3    0.034309  0.022688 -0.009362  \n",
       "4   -0.002592 -0.031988 -0.046641  \n",
       "..        ...       ...       ...  \n",
       "437 -0.002592  0.031193  0.007207  \n",
       "438  0.034309 -0.018114  0.044485  \n",
       "439 -0.011080 -0.046883  0.015491  \n",
       "440  0.026560  0.044529 -0.025930  \n",
       "441 -0.039493 -0.004222  0.003064  \n",
       "\n",
       "[442 rows x 10 columns]"
      ]
     },
     "metadata": {},
     "output_type": "display_data"
    }
   ],
   "source": [
    "#remove a column\n",
    "#diabetes_X = diabetes_X.drop(\"put_the_name_of_a_column_here\", axis=1)\n",
    "#check the column is removed\n",
    "display(diabetes_X)"
   ]
  },
  {
   "attachments": {},
   "cell_type": "markdown",
   "metadata": {},
   "source": [
    "Is there anything else looking a bit odd with this data? Maybe you have noticed that the `sex` values are either 0.050680 or -0.044642?\n",
    "\n",
    "That could be a bit odd, let's do some exploring."
   ]
  },
  {
   "cell_type": "code",
   "execution_count": 26,
   "metadata": {},
   "outputs": [
    {
     "name": "stdout",
     "output_type": "stream",
     "text": [
      "-0.044642    235\n",
      " 0.050680    207\n",
      "Name: sex, dtype: int64\n"
     ]
    }
   ],
   "source": [
    "sex_value_counts = diabetes_X[\"sex\"].value_counts()\n",
    "print(sex_value_counts)"
   ]
  },
  {
   "cell_type": "markdown",
   "metadata": {},
   "source": [
    "In this case, it all looks pretty normal. Firstly, there are only 2 values, which is a good sign! Secondly, it is normal for data scientists to apply transformations to training data to make it all a similar size, i.e. between 1 and -1. In this case, there doesn't seem to be a problem with the data, but it is always a good idea to keep your eyes peeled on training data!"
   ]
  },
  {
   "cell_type": "markdown",
   "metadata": {},
   "source": [
    "### Regression Models\n",
    "\n",
    "A Data Scientist has used the above dataset to train a regression model. They have sent you the following code that they used to create a model to predict the progression of diabetes. "
   ]
  },
  {
   "cell_type": "code",
   "execution_count": 122,
   "metadata": {},
   "outputs": [
    {
     "name": "stdout",
     "output_type": "stream",
     "text": [
      "Mean Absolute Percentage Error for model 1: 50.0%\n",
      "See, my model is amazing!\n"
     ]
    }
   ],
   "source": [
    "from sklearn.linear_model import LinearRegression\n",
    "\n",
    "X_training, X_testing, y_training, y_testing = train_test_split(diabetes_X, diabetes_y, train_size=0.03)\n",
    "\n",
    "regression_model = LinearRegression()\n",
    "regression_model.fit(X_training,y_training)\n",
    "\n",
    "y_predictions = regression_model.predict(X_testing)\n",
    "\n",
    "from sklearn.metrics import mean_absolute_percentage_error\n",
    "\n",
    "mape = mean_absolute_percentage_error(y_testing, y_predictions)\n",
    "\n",
    "print(f\"Mean Absolute Percentage Error for model 1: {round(mape,2) * 100}%\")\n",
    "print(\"See, my model is amazing!\")"
   ]
  },
  {
   "cell_type": "markdown",
   "metadata": {},
   "source": [
    "First up, what is the mean absolute percentage error (MAPE)? It represents the average of the absolute percentage errors of each entry in a dataset. \n",
    "\n",
    "This means that, for each data point in the testing data, the absolute percentage error is calculated. These are then all added up together and averaged to come up with the MAPE number. The closer to 0 the MAPE, the better the model."
   ]
  },
  {
   "cell_type": "markdown",
   "metadata": {},
   "source": [
    "![image](.//task.png)\n",
    "\n",
    "Look again at the above code form the data scientist. There is **1** mistake / piece of bad practice that will reduce the accuracy of their code. Can you spot it? 👀\n",
    "\n",
    "Fix the mistake and rerun the code, does the MAPE decrease?"
   ]
  },
  {
   "cell_type": "markdown",
   "metadata": {},
   "source": [
    "#### Feature Importance\n",
    "\n",
    "Something else that is very important to consider is feature importance. This can be considered for both regression and classification models, so we could **(and in future should!)** have done this for our previous example.\n",
    "\n",
    "This is an exploration into which features of the model (these are your column names or variables), have the greatest impact on the outcome of the model. \n",
    "\n",
    "There are many reason why this is an important step for testers. 2 important ones are:\n",
    "- By understanding which columns are the most important, you can narrow down your search for bugs or bad input data.\n",
    "- Certain columns may be dominating the predictions, for example, a model could be making predictions almost entirely based off the value of one column. In this case we can ask - do we need a machine learning model at all?\n",
    " "
   ]
  },
  {
   "cell_type": "code",
   "execution_count": 123,
   "metadata": {},
   "outputs": [
    {
     "name": "stderr",
     "output_type": "stream",
     "text": [
      "Estimating transforms: 100%|██████████| 1000/1000 [00:00<00:00, 3073.18it/s]\n"
     ]
    },
    {
     "ename": "IndexError",
     "evalue": "index 311 is out of bounds for axis 0 with size 89",
     "output_type": "error",
     "traceback": [
      "\u001b[1;31m---------------------------------------------------------------------------\u001b[0m",
      "\u001b[1;31mIndexError\u001b[0m                                Traceback (most recent call last)",
      "Cell \u001b[1;32mIn[123], line 9\u001b[0m\n\u001b[0;32m      7\u001b[0m shap_values \u001b[39m=\u001b[39m explainer\u001b[39m.\u001b[39mshap_values(X_testing)\n\u001b[0;32m      8\u001b[0m \u001b[39m# shap then creates a plot for us showing which features are the most important\u001b[39;00m\n\u001b[1;32m----> 9\u001b[0m shap\u001b[39m.\u001b[39;49msummary_plot(shap_values, X_test_array, plot_type\u001b[39m=\u001b[39;49m\u001b[39m\"\u001b[39;49m\u001b[39mviolin\u001b[39;49m\u001b[39m\"\u001b[39;49m)\n\u001b[0;32m     11\u001b[0m \u001b[39m# In the plot_type parameter, you may wish to try out \"violin\", \"dot\" or \"bar\"\u001b[39;00m\n",
      "File \u001b[1;32mc:\\Users\\Will Poulett\\AppData\\Local\\Programs\\Python\\Python311\\Lib\\site-packages\\shap\\plots\\_beeswarm.py:747\u001b[0m, in \u001b[0;36msummary_legacy\u001b[1;34m(shap_values, features, feature_names, max_display, plot_type, color, axis_color, title, alpha, show, sort, color_bar, plot_size, layered_violin_max_num_bins, class_names, class_inds, color_bar_label, cmap, auto_size_plot, use_log_scale)\u001b[0m\n\u001b[0;32m    744\u001b[0m \u001b[39mfor\u001b[39;00m j \u001b[39min\u001b[39;00m \u001b[39mrange\u001b[39m(\u001b[39mlen\u001b[39m(xs) \u001b[39m-\u001b[39m \u001b[39m1\u001b[39m):\n\u001b[0;32m    746\u001b[0m     \u001b[39mwhile\u001b[39;00m leading_pos \u001b[39m<\u001b[39m \u001b[39mlen\u001b[39m(shaps) \u001b[39mand\u001b[39;00m xs[j] \u001b[39m>\u001b[39m\u001b[39m=\u001b[39m shaps[sort_inds[leading_pos]]:\n\u001b[1;32m--> 747\u001b[0m         running_sum \u001b[39m+\u001b[39m\u001b[39m=\u001b[39m values[sort_inds[leading_pos]]\n\u001b[0;32m    748\u001b[0m         leading_pos \u001b[39m+\u001b[39m\u001b[39m=\u001b[39m \u001b[39m1\u001b[39m\n\u001b[0;32m    749\u001b[0m         \u001b[39mif\u001b[39;00m leading_pos \u001b[39m-\u001b[39m trailing_pos \u001b[39m>\u001b[39m \u001b[39m20\u001b[39m:\n",
      "\u001b[1;31mIndexError\u001b[0m: index 311 is out of bounds for axis 0 with size 89"
     ]
    },
    {
     "data": {
      "image/png": "[encoded data removed]",
      "text/plain": [
       "<Figure size 800x550 with 1 Axes>"
      ]
     },
     "metadata": {},
     "output_type": "display_data"
    }
   ],
   "source": [
    "# shap is the module we wll use to run feature importance\n",
    "import shap \n",
    "\n",
    "# we pass shap our classification model, alongside the training data\n",
    "explainer = shap.LinearExplainer(regression_model,masker=shap.maskers.Impute(data=X_training))\n",
    "# we then pass shap our testing inputs.\n",
    "shap_values = explainer.shap_values(X_testing)\n",
    "# shap then creates a plot for us showing which features are the most important\n",
    "shap.summary_plot(shap_values, X_test_array, plot_type=\"violin\")\n",
    "\n",
    "# In the plot_type parameter, you may wish to try out \"violin\", \"dot\" or \"bar\""
   ]
  },
  {
   "cell_type": "markdown",
   "metadata": {},
   "source": [
    "![image](.//task.png)\n",
    "\n",
    "Before we move onto something new, see if you can answer these questions. From this plot, can you tell:\n",
    "\n",
    "- Which feature has the greatest impact on the model?\n",
    "\n",
    "- Which feature has the smallest impact on the model?\n",
    "\n",
    "- Is this what we expect to see? "
   ]
  },
  {
   "cell_type": "markdown",
   "metadata": {},
   "source": [
    "## Deep Learning and Neural Networks!"
   ]
  },
  {
   "cell_type": "markdown",
   "metadata": {},
   "source": [
    "What on earth is deep learning and neural networks?"
   ]
  }
 ],
 "metadata": {
  "kernelspec": {
   "display_name": "Python 3",
   "language": "python",
   "name": "python3"
  },
  "language_info": {
   "codemirror_mode": {
    "name": "ipython",
    "version": 3
   },
   "file_extension": ".py",
   "mimetype": "text/x-python",
   "name": "python",
   "nbconvert_exporter": "python",
   "pygments_lexer": "ipython3",
   "version": "3.11.3"
  },
  "orig_nbformat": 4
 },
 "nbformat": 4,
 "nbformat_minor": 2
}
