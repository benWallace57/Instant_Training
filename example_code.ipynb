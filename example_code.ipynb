{
 "cells": [
  {
   "cell_type": "markdown",
   "metadata": {},
   "source": [
    "Part 3 optional Extension"
   ]
  },
  {
   "cell_type": "code",
   "execution_count": null,
   "metadata": {},
   "outputs": [],
   "source": [
    "from sklearn.naive_bayes import GaussianNB\n",
    "\n",
    "model = GaussianNB()\n",
    "\n",
    "model.fit(breast_cancer_inputs_training,breast_cancer_outputs_training)\n",
    "\n",
    "predictions = model.predict(breast_cancer_inputs_testing)\n",
    "\n",
    "plot_predictions(predictions, breast_cancer_outputs_testing)\n",
    "\n",
    "generate_confusion_matrix(predictions, breast_cancer_outputs_testing)\n",
    "\n",
    "x = metrics.RocCurveDisplay.from_estimator(classification_model, breast_cancer_inputs_testing, breast_cancer_outputs_testing)\n",
    "plt.plot([0,1],[0,1],\"--\",c=\"red\")\n",
    "plt.show()\n",
    "\n",
    "classification_report = metrics.classification_report(breast_cancer_outputs_testing, predictions)\n",
    "\n",
    "print(classification_report)"
   ]
  }
 ],
 "metadata": {
  "language_info": {
   "name": "python"
  },
  "orig_nbformat": 4
 },
 "nbformat": 4,
 "nbformat_minor": 2
}
